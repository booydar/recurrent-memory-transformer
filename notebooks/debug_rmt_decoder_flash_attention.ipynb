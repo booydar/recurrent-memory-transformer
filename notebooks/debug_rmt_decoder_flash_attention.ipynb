{
 "cells": [
  {
   "cell_type": "code",
   "execution_count": 42,
   "metadata": {},
   "outputs": [],
   "source": [
    "from base_models.modeling_gpt_neox import GPTNeoXForCausalLM\n",
    "from flash_attn.models.gpt import GPTLMHeadModel\n",
    "\n",
    "from flash_attn.models.gpt_neox import gpt_neox_config_to_gpt2_config, remap_state_dict_hf_gpt_neox"
   ]
  },
  {
   "cell_type": "code",
   "execution_count": 15,
   "metadata": {},
   "outputs": [],
   "source": [
    "import sys\n",
    "sys.path.append('..')"
   ]
  },
  {
   "cell_type": "code",
   "execution_count": 16,
   "metadata": {},
   "outputs": [],
   "source": [
    "model_name = \"EleutherAI/pythia-70m-deduped\"\n",
    "model = GPTNeoXForCausalLM.from_pretrained(model_name)"
   ]
  },
  {
   "cell_type": "code",
   "execution_count": 34,
   "metadata": {},
   "outputs": [],
   "source": [
    "# NotImplementedError\n",
    "# flash_model = GPTLMHeadModel.from_pretrained(config=config, model_name=model_name)"
   ]
  },
  {
   "cell_type": "code",
   "execution_count": 35,
   "metadata": {},
   "outputs": [],
   "source": [
    "config = gpt_neox_config_to_gpt2_config(model.config)\n",
    "flash_model = GPTLMHeadModel(config=config)"
   ]
  },
  {
   "cell_type": "code",
   "execution_count": 36,
   "metadata": {},
   "outputs": [],
   "source": [
    "# # keys mismatch\n",
    "# flash_model.load_state_dict(model.state_dict())"
   ]
  },
  {
   "cell_type": "code",
   "execution_count": 40,
   "metadata": {},
   "outputs": [],
   "source": [
    "state_dict = model.state_dict()"
   ]
  },
  {
   "cell_type": "code",
   "execution_count": null,
   "metadata": {},
   "outputs": [],
   "source": []
  },
  {
   "cell_type": "code",
   "execution_count": 50,
   "metadata": {},
   "outputs": [
    {
     "ename": "KeyError",
     "evalue": "'transformer.layers.0.attention.bias'",
     "output_type": "error",
     "traceback": [
      "\u001b[0;31m---------------------------------------------------------------------------\u001b[0m",
      "\u001b[0;31mKeyError\u001b[0m                                  Traceback (most recent call last)",
      "Cell \u001b[0;32mIn[50], line 1\u001b[0m\n\u001b[0;32m----> 1\u001b[0m new_state_dict \u001b[39m=\u001b[39m remap_state_dict_hf_gpt_neox(state_dict, config\u001b[39m=\u001b[39;49mconfig)\n",
      "File \u001b[0;32m~/envs/accel_rmt/lib/python3.9/site-packages/flash_attn/models/gpt_neox.py:69\u001b[0m, in \u001b[0;36mremap_state_dict_hf_gpt_neox\u001b[0;34m(state_dict, config)\u001b[0m\n\u001b[1;32m     66\u001b[0m \u001b[39m# Attention\u001b[39;00m\n\u001b[1;32m     67\u001b[0m \u001b[39mfor\u001b[39;00m l \u001b[39min\u001b[39;00m \u001b[39mrange\u001b[39m(config\u001b[39m.\u001b[39mn_layer):\n\u001b[1;32m     68\u001b[0m     \u001b[39m# We don't store these biases\u001b[39;00m\n\u001b[0;32m---> 69\u001b[0m     state_dict\u001b[39m.\u001b[39;49mpop(\u001b[39mf\u001b[39;49m\u001b[39m\"\u001b[39;49m\u001b[39mtransformer.layers.\u001b[39;49m\u001b[39m{\u001b[39;49;00ml\u001b[39m}\u001b[39;49;00m\u001b[39m.attention.bias\u001b[39;49m\u001b[39m\"\u001b[39;49m)\n\u001b[1;32m     70\u001b[0m     state_dict\u001b[39m.\u001b[39mpop(\u001b[39mf\u001b[39m\u001b[39m\"\u001b[39m\u001b[39mtransformer.layers.\u001b[39m\u001b[39m{\u001b[39;00ml\u001b[39m}\u001b[39;00m\u001b[39m.attention.masked_bias\u001b[39m\u001b[39m\"\u001b[39m)\n\u001b[1;32m     71\u001b[0m     \u001b[39m# We don't store these\u001b[39;00m\n",
      "\u001b[0;31mKeyError\u001b[0m: 'transformer.layers.0.attention.bias'"
     ]
    }
   ],
   "source": [
    "new_state_dict = remap_state_dict_hf_gpt_neox(state_dict, config=config)"
   ]
  },
  {
   "cell_type": "code",
   "execution_count": 48,
   "metadata": {},
   "outputs": [],
   "source": [
    "# for n, p in flash_model.named_parameters():\n",
    "#     print(n, p.shape)"
   ]
  },
  {
   "cell_type": "code",
   "execution_count": null,
   "metadata": {},
   "outputs": [
    {
     "name": "stdout",
     "output_type": "stream",
     "text": [
      "gpt_neox.embed_in.weight torch.Size([50304, 512])\n",
      "gpt_neox.layers.0.input_layernorm.weight torch.Size([512])\n",
      "gpt_neox.layers.0.input_layernorm.bias torch.Size([512])\n",
      "gpt_neox.layers.0.post_attention_layernorm.weight torch.Size([512])\n",
      "gpt_neox.layers.0.post_attention_layernorm.bias torch.Size([512])\n",
      "gpt_neox.layers.0.attention.query_key_value.weight torch.Size([1536, 512])\n",
      "gpt_neox.layers.0.attention.query_key_value.bias torch.Size([1536])\n",
      "gpt_neox.layers.0.attention.dense.weight torch.Size([512, 512])\n",
      "gpt_neox.layers.0.attention.dense.bias torch.Size([512])\n",
      "gpt_neox.layers.0.mlp.dense_h_to_4h.weight torch.Size([2048, 512])\n",
      "gpt_neox.layers.0.mlp.dense_h_to_4h.bias torch.Size([2048])\n",
      "gpt_neox.layers.0.mlp.dense_4h_to_h.weight torch.Size([512, 2048])\n",
      "gpt_neox.layers.0.mlp.dense_4h_to_h.bias torch.Size([512])\n",
      "gpt_neox.layers.1.input_layernorm.weight torch.Size([512])\n",
      "gpt_neox.layers.1.input_layernorm.bias torch.Size([512])\n",
      "gpt_neox.layers.1.post_attention_layernorm.weight torch.Size([512])\n",
      "gpt_neox.layers.1.post_attention_layernorm.bias torch.Size([512])\n",
      "gpt_neox.layers.1.attention.query_key_value.weight torch.Size([1536, 512])\n",
      "gpt_neox.layers.1.attention.query_key_value.bias torch.Size([1536])\n",
      "gpt_neox.layers.1.attention.dense.weight torch.Size([512, 512])\n",
      "gpt_neox.layers.1.attention.dense.bias torch.Size([512])\n",
      "gpt_neox.layers.1.mlp.dense_h_to_4h.weight torch.Size([2048, 512])\n",
      "gpt_neox.layers.1.mlp.dense_h_to_4h.bias torch.Size([2048])\n",
      "gpt_neox.layers.1.mlp.dense_4h_to_h.weight torch.Size([512, 2048])\n",
      "gpt_neox.layers.1.mlp.dense_4h_to_h.bias torch.Size([512])\n",
      "gpt_neox.layers.2.input_layernorm.weight torch.Size([512])\n",
      "gpt_neox.layers.2.input_layernorm.bias torch.Size([512])\n",
      "gpt_neox.layers.2.post_attention_layernorm.weight torch.Size([512])\n",
      "gpt_neox.layers.2.post_attention_layernorm.bias torch.Size([512])\n",
      "gpt_neox.layers.2.attention.query_key_value.weight torch.Size([1536, 512])\n",
      "gpt_neox.layers.2.attention.query_key_value.bias torch.Size([1536])\n",
      "gpt_neox.layers.2.attention.dense.weight torch.Size([512, 512])\n",
      "gpt_neox.layers.2.attention.dense.bias torch.Size([512])\n",
      "gpt_neox.layers.2.mlp.dense_h_to_4h.weight torch.Size([2048, 512])\n",
      "gpt_neox.layers.2.mlp.dense_h_to_4h.bias torch.Size([2048])\n",
      "gpt_neox.layers.2.mlp.dense_4h_to_h.weight torch.Size([512, 2048])\n",
      "gpt_neox.layers.2.mlp.dense_4h_to_h.bias torch.Size([512])\n",
      "gpt_neox.layers.3.input_layernorm.weight torch.Size([512])\n",
      "gpt_neox.layers.3.input_layernorm.bias torch.Size([512])\n",
      "gpt_neox.layers.3.post_attention_layernorm.weight torch.Size([512])\n",
      "gpt_neox.layers.3.post_attention_layernorm.bias torch.Size([512])\n",
      "gpt_neox.layers.3.attention.query_key_value.weight torch.Size([1536, 512])\n",
      "gpt_neox.layers.3.attention.query_key_value.bias torch.Size([1536])\n",
      "gpt_neox.layers.3.attention.dense.weight torch.Size([512, 512])\n",
      "gpt_neox.layers.3.attention.dense.bias torch.Size([512])\n",
      "gpt_neox.layers.3.mlp.dense_h_to_4h.weight torch.Size([2048, 512])\n",
      "gpt_neox.layers.3.mlp.dense_h_to_4h.bias torch.Size([2048])\n",
      "gpt_neox.layers.3.mlp.dense_4h_to_h.weight torch.Size([512, 2048])\n",
      "gpt_neox.layers.3.mlp.dense_4h_to_h.bias torch.Size([512])\n",
      "gpt_neox.layers.4.input_layernorm.weight torch.Size([512])\n",
      "gpt_neox.layers.4.input_layernorm.bias torch.Size([512])\n",
      "gpt_neox.layers.4.post_attention_layernorm.weight torch.Size([512])\n",
      "gpt_neox.layers.4.post_attention_layernorm.bias torch.Size([512])\n",
      "gpt_neox.layers.4.attention.query_key_value.weight torch.Size([1536, 512])\n",
      "gpt_neox.layers.4.attention.query_key_value.bias torch.Size([1536])\n",
      "gpt_neox.layers.4.attention.dense.weight torch.Size([512, 512])\n",
      "gpt_neox.layers.4.attention.dense.bias torch.Size([512])\n",
      "gpt_neox.layers.4.mlp.dense_h_to_4h.weight torch.Size([2048, 512])\n",
      "gpt_neox.layers.4.mlp.dense_h_to_4h.bias torch.Size([2048])\n",
      "gpt_neox.layers.4.mlp.dense_4h_to_h.weight torch.Size([512, 2048])\n",
      "gpt_neox.layers.4.mlp.dense_4h_to_h.bias torch.Size([512])\n",
      "gpt_neox.layers.5.input_layernorm.weight torch.Size([512])\n",
      "gpt_neox.layers.5.input_layernorm.bias torch.Size([512])\n",
      "gpt_neox.layers.5.post_attention_layernorm.weight torch.Size([512])\n",
      "gpt_neox.layers.5.post_attention_layernorm.bias torch.Size([512])\n",
      "gpt_neox.layers.5.attention.query_key_value.weight torch.Size([1536, 512])\n",
      "gpt_neox.layers.5.attention.query_key_value.bias torch.Size([1536])\n",
      "gpt_neox.layers.5.attention.dense.weight torch.Size([512, 512])\n",
      "gpt_neox.layers.5.attention.dense.bias torch.Size([512])\n",
      "gpt_neox.layers.5.mlp.dense_h_to_4h.weight torch.Size([2048, 512])\n",
      "gpt_neox.layers.5.mlp.dense_h_to_4h.bias torch.Size([2048])\n",
      "gpt_neox.layers.5.mlp.dense_4h_to_h.weight torch.Size([512, 2048])\n",
      "gpt_neox.layers.5.mlp.dense_4h_to_h.bias torch.Size([512])\n",
      "gpt_neox.final_layer_norm.weight torch.Size([512])\n",
      "gpt_neox.final_layer_norm.bias torch.Size([512])\n",
      "embed_out.weight torch.Size([50304, 512])\n"
     ]
    }
   ],
   "source": [
    "for n, p in model.named_parameters():\n",
    "    print(n, p.shape)"
   ]
  },
  {
   "cell_type": "code",
   "execution_count": 1,
   "metadata": {},
   "outputs": [
    {
     "name": "stderr",
     "output_type": "stream",
     "text": [
      "/home/jovyan/rmt/env_cuda/lib/python3.8/site-packages/tqdm/auto.py:21: TqdmWarning: IProgress not found. Please update jupyter and ipywidgets. See https://ipywidgets.readthedocs.io/en/stable/user_install.html\n",
      "  from .autonotebook import tqdm as notebook_tqdm\n"
     ]
    }
   ],
   "source": [
    "from transformers import AutoModelForCausalLM\n",
    "from peft import get_peft_config, get_peft_model, LoraConfig, TaskType"
   ]
  },
  {
   "cell_type": "code",
   "execution_count": 2,
   "metadata": {},
   "outputs": [],
   "source": [
    "model_name_or_path = \"gpt2\"\n",
    "tokenizer_name_or_path = \"gpt2\""
   ]
  },
  {
   "cell_type": "code",
   "execution_count": 3,
   "metadata": {},
   "outputs": [],
   "source": [
    "peft_config = LoraConfig(\n",
    "    task_type=TaskType.CAUSAL_LM, \n",
    "    inference_mode=False, \n",
    "    r=8, \n",
    "    lora_alpha=32, \n",
    "    lora_dropout=0.1\n",
    ")"
   ]
  },
  {
   "cell_type": "code",
   "execution_count": 4,
   "metadata": {},
   "outputs": [
    {
     "name": "stderr",
     "output_type": "stream",
     "text": [
      "/home/jovyan/rmt/env_cuda/lib/python3.8/site-packages/peft/tuners/lora.py:299: UserWarning: fan_in_fan_out is set to False but the target module is `Conv1D`. Setting fan_in_fan_out to True.\n",
      "  warnings.warn(\n"
     ]
    },
    {
     "name": "stdout",
     "output_type": "stream",
     "text": [
      "trainable params: 294,912 || all params: 124,734,720 || trainable%: 0.23643136409814364\n"
     ]
    }
   ],
   "source": [
    "\n",
    "model = AutoModelForCausalLM.from_pretrained(model_name_or_path)\n",
    "model = get_peft_model(model, peft_config)\n",
    "model.print_trainable_parameters()\n",
    "# output: trainable params: 2359296 || all params: 1231940608 || trainable%: 0.19151053100118282"
   ]
  },
  {
   "cell_type": "code",
   "execution_count": null,
   "metadata": {},
   "outputs": [],
   "source": [
    "peft_lora = get_peft_model(base_model, peft_config_lora)\n",
    "peft_prompt_tuning = get_peft_model(peft_lora, peft_config_prompt_tuning)"
   ]
  }
 ],
 "metadata": {
  "kernelspec": {
   "display_name": "Python 3",
   "language": "python",
   "name": "python3"
  },
  "language_info": {
   "codemirror_mode": {
    "name": "ipython",
    "version": 3
   },
   "file_extension": ".py",
   "mimetype": "text/x-python",
   "name": "python",
   "nbconvert_exporter": "python",
   "pygments_lexer": "ipython3",
   "version": "3.9.17"
  },
  "orig_nbformat": 4
 },
 "nbformat": 4,
 "nbformat_minor": 2
}
