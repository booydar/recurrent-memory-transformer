{
 "cells": [
  {
   "cell_type": "code",
   "execution_count": 1,
   "metadata": {},
   "outputs": [
    {
     "name": "stderr",
     "output_type": "stream",
     "text": [
      "\n",
      "libgomp: Invalid value for environment variable OMP_NUM_THREADS\n",
      "\n",
      "libgomp: Invalid value for environment variable OMP_NUM_THREADS\n"
     ]
    }
   ],
   "source": [
    "import sys\n",
    "import datasets\n",
    "from transformers import AutoTokenizer\n",
    "sys.path.append(\"..\")\n",
    "from babilong_utils import TaskDataset, SentenceSampler, NoiseInjectionDataset"
   ]
  },
  {
   "cell_type": "code",
   "execution_count": 2,
   "metadata": {},
   "outputs": [],
   "source": [
    "# !unzip ../data/tasks_1-20_v1-2.zip -d ../data/"
   ]
  },
  {
   "cell_type": "code",
   "execution_count": 3,
   "metadata": {},
   "outputs": [],
   "source": [
    "train_path = \"/home/jovyan/rmt/datasets/babi/data/tasks_1-20_v1-2/en-10k/qa1_single-supporting-fact_train.txt\"\n",
    "test_path = \"/home/jovyan/rmt/datasets/babi/data/tasks_1-20_v1-2/en-10k/qa1_single-supporting-fact_test.txt\"\n",
    "\n",
    "noise_dataset = datasets.load_dataset(\"wikitext\", \"wikitext-2-raw-v1\")"
   ]
  },
  {
   "cell_type": "markdown",
   "metadata": {},
   "source": [
    "### Load task datasets"
   ]
  },
  {
   "cell_type": "code",
   "execution_count": 4,
   "metadata": {},
   "outputs": [],
   "source": [
    "# task \n",
    "task_dataset_train = TaskDataset(train_path)\n",
    "task_dataset_test = TaskDataset(test_path)"
   ]
  },
  {
   "cell_type": "code",
   "execution_count": 7,
   "metadata": {},
   "outputs": [],
   "source": [
    "# background text\n",
    "tokenizer = AutoTokenizer.from_pretrained('gpt2')\n",
    "\n",
    "noise_sampler_train = SentenceSampler(noise_dataset['train'], tokenizer=tokenizer)\n",
    "noise_sampler_test = SentenceSampler(noise_dataset['test'], tokenizer=tokenizer)"
   ]
  },
  {
   "cell_type": "code",
   "execution_count": 8,
   "metadata": {},
   "outputs": [],
   "source": [
    "sample_size = 512               # max number of tokens in sample\n",
    "dataset_train = NoiseInjectionDataset(task_dataset=task_dataset_train,\n",
    "                                        noise_sampler=noise_sampler_train,\n",
    "                                        tokenizer=tokenizer,\n",
    "                                        sample_size=sample_size)\n",
    "\n",
    "dataset_test = NoiseInjectionDataset(task_dataset=task_dataset_test,\n",
    "                                        noise_sampler=noise_sampler_test,\n",
    "                                        tokenizer=tokenizer,\n",
    "                                        sample_size=sample_size)"
   ]
  },
  {
   "cell_type": "code",
   "execution_count": 9,
   "metadata": {},
   "outputs": [
    {
     "data": {
      "text/plain": [
       "dict_keys(['facts', 'question', 'answer', 'references', 'background_text', 'fact_positions', 'input_tokens', 'target_tokens'])"
      ]
     },
     "execution_count": 9,
     "metadata": {},
     "output_type": "execute_result"
    }
   ],
   "source": [
    "sample = dataset_train[0]\n",
    "sample.keys()"
   ]
  },
  {
   "cell_type": "markdown",
   "metadata": {},
   "source": [
    "### Visualize one sample"
   ]
  },
  {
   "cell_type": "code",
   "execution_count": 33,
   "metadata": {},
   "outputs": [
    {
     "name": "stdout",
     "output_type": "stream",
     "text": [
      "Facts: Mary moved to the bathroom. John went to the hallway.\n",
      "Question: Where is Mary? \n",
      "Answer: bathroom\n",
      "References: Mary moved to the bathroom.\n",
      "\n",
      "Background text:   = Valkyria Chronicles III =  Senjō no Valkyria 3 : Unrecorded Chronicles ( Japanese : 戦場のヴァルキュリア3, lit. Valkyria of the Battlefield 3 ), commonly referred to as Valkyria Chronicles III outside Japan, is a tactical role @-@ playing video game developed by Sega and Media.Vision for the PlayStation Portable. Released in January 2011 in Japan, it is the third game in the Valkyria series. Employing the same fusion of tactical and real @-@ time gameplay as its predecessors, the story runs parallel to the first game and follows the \" Nameless \", a penal military unit serving the nation of Gallia during the Second Europan War who perform secret black operations and are pitted against the Imperial unit \" Calamaty Raven \".  The game began development in 2010, carrying over a large portion of the work done on Valkyria Chronicles II. While it retained the standard features of the series, it also underwent multiple adjustments, such as making the game more forgiving for series newcomers. Character designer Raita Honjou and composer Hitoshi Sakimoto both returned from previous entries, along with Valkyria Chronicles II director Takeshi Ozawa. A large team of writers handled the script. The game's opening theme was sung by May 'n.  It met with positive sales in Japan, and was praised by both Japanese and western critics. After release, it received downloadable content, along with an expanded edition in November of that year. It was also adapted into manga and an original video animation series. Due to low sales of Valkyria Chronicles II, Valkyria Chronicles III was not localized, but a fan translation compatible with the game's expanded edition was released in 2014. Media.Vision would return to the franchise with the development of Valkyria : Azure Revolution for the PlayStation 4.  = = Gameplay = =  As with previous Valkyira Chronicles games, Valkyria Chronicles III is a tactical role @-@ playing game where players take control of a military unit and take part in missions against enemy forces. Stories are told through comic book @-@ like panels with animated character portraits, with characters speaking partially through voiced speech bubbles and partially through unvoiced text.\n",
      "Fact positions:  [11 15]\n",
      "Combined input:   = Valkyria Chronicles III = Senjō no Valkyria 3 : Unrecorded Chronicles ( Japanese : 戦場のヴァルキュリア3, lit.Valkyria of the Battlefield 3 ), commonly referred to as Valkyria Chronicles III outside Japan, is a tactical role @-@ playing video game developed by Sega and Media.Vision for the PlayStation Portable.Released in January 2011 in Japan, it is the third game in the Valkyria series.Employing the same fusion of tactical and real @-@ time gameplay as its predecessors, the story runs parallel to the first game and follows the \" Nameless \", a penal military unit serving the nation of Gallia during the Second Europan War who perform secret black operations and are pitted against the Imperial unit \" Calamaty Raven \". The game began development in 2010, carrying over a large portion of the work done on Valkyria Chronicles II.While it retained the standard features of the series, it also underwent multiple adjustments, such as making the game more forgiving for series newcomers.Character designer Raita Honjou and composer Hitoshi Sakimoto both returned from previous entries, along with Valkyria Chronicles II director Takeshi Ozawa.A large team of writers handled the script.The game's opening theme was sung by May 'n. It met with positive sales in Japan, and was praised by both Japanese and western critics.Mary moved to the bathroom.After release, it received downloadable content, along with an expanded edition in November of that year.It was also adapted into manga and an original video animation series.Due to low sales of Valkyria Chronicles II, Valkyria Chronicles III was not localized, but a fan translation compatible with the game's expanded edition was released in 2014.Media.Vision would return to the franchise with the development of Valkyria : Azure Revolution for the PlayStation 4.John went to the hallway. = = Gameplay = = As with previous Valkyira Chronicles games, Valkyria Chronicles III is a tactical role @-@ playing game where players take control of a military unit and take part in missions against enemy forces.Stories are told through comic book @-@ like panels with animated character portraits, with characters speaking partially through voiced speech bubbles and partially through unvoiced text.Where is Mary? \n",
      "Target: bathroom\n"
     ]
    }
   ],
   "source": [
    "facts = sample['facts']\n",
    "question = sample['question']\n",
    "answer = tokenizer.decode(sample['target_tokens'])\n",
    "\n",
    "background_text = tokenizer.batch_decode(sample['background_text'])\n",
    "\n",
    "input_tokens = tokenizer.decode(sample['input_tokens'])\n",
    "\n",
    "print(f\"Facts: {' '.join(facts)}\")\n",
    "print(f\"Question: {question}\")\n",
    "print(f\"Answer: {answer}\")\n",
    "print(f\"References: {' '.join(sample['references'])}\")\n",
    "print()\n",
    "print('Background text: ', ' '.join(background_text))\n",
    "print('Fact positions: ', sample['fact_positions'])\n",
    "print('Combined input: ', input_tokens)\n",
    "\n",
    "print(f\"Target: {answer}\")\n"
   ]
  },
  {
   "cell_type": "markdown",
   "metadata": {},
   "source": [
    "### collate function"
   ]
  },
  {
   "cell_type": "code",
   "execution_count": 11,
   "metadata": {},
   "outputs": [],
   "source": [
    "import torch\n",
    "from torch.nn.utils.rnn import pad_sequence\n",
    "\n",
    "id_pad_value = tokenizer.pad_token_id if tokenizer.pad_token_id is not None else tokenizer.eos_token_id\n",
    "gen_token = tokenizer.encode('GEN')[0]\n",
    "eos_token = tokenizer.eos_token_id\n",
    "\n",
    "def collate_fn(batch):\n",
    "    targets = [torch.tensor(b['target_tokens']) for b in batch]\n",
    "    input_ids = [torch.tensor(b['input_tokens'] + [gen_token] + b['target_tokens'] + [eos_token]) for b in batch]\n",
    "    gen_inputs = [torch.tensor(b['input_tokens'] + [gen_token]) for b in batch]\n",
    "\n",
    "    attention_mask = [torch.ones_like(b, dtype=int) for b in input_ids]\n",
    "    labels_mask = [torch.zeros_like(b, dtype=bool) for b in input_ids]\n",
    "    for m, t in zip(labels_mask, targets):\n",
    "        m[-len(t) - 2:] = True\n",
    "\n",
    "    input_ids = pad_sequence(input_ids, padding_value=id_pad_value, batch_first=True)\n",
    "    gen_inputs = pad_sequence(gen_inputs, padding_value=id_pad_value, batch_first=True)\n",
    "    # labels = pad_sequence(input_ids, padding_value=-100, batch_first=True)\n",
    "    attention_mask = pad_sequence(attention_mask, padding_value=0, batch_first=True)\n",
    "    labels_mask = pad_sequence(labels_mask, padding_value=0, batch_first=True)\n",
    "\n",
    "    collated = {}\n",
    "    collated['input_ids'] = collated['labels'] = input_ids\n",
    "    collated['input_ids_generate'] = gen_inputs\n",
    "    collated['labels_mask'] = labels_mask\n",
    "    collated['attention_mask'] = attention_mask.bool()\n",
    "    collated['attention_mask_generate'] = (gen_inputs != id_pad_value).bool()\n",
    "\n",
    "    collated['target_text'] = [b['answer'] for b in batch]\n",
    "    return collated"
   ]
  },
  {
   "cell_type": "code",
   "execution_count": 13,
   "metadata": {},
   "outputs": [
    {
     "data": {
      "text/plain": [
       "dict_keys(['input_ids', 'labels', 'input_ids_generate', 'labels_mask', 'attention_mask', 'attention_mask_generate', 'target_text'])"
      ]
     },
     "execution_count": 13,
     "metadata": {},
     "output_type": "execute_result"
    }
   ],
   "source": [
    "batch = [dataset_train[i] for i in range(10)]\n",
    "collated = collate_fn(batch)\n",
    "collated.keys()"
   ]
  },
  {
   "cell_type": "code",
   "execution_count": 30,
   "metadata": {},
   "outputs": [
    {
     "data": {
      "text/plain": [
       "['GENbathroom<|endoftext|>',\n",
       " 'GENhallway<|endoftext|>',\n",
       " 'GENhallway<|endoftext|>',\n",
       " 'GENoffice<|endoftext|>',\n",
       " 'GENbathroom<|endoftext|>',\n",
       " 'GENbathroom<|endoftext|>',\n",
       " 'GENbathroom<|endoftext|>',\n",
       " 'GENbathroom<|endoftext|>',\n",
       " 'GENoffice<|endoftext|>',\n",
       " 'GENhallway<|endoftext|>']"
      ]
     },
     "execution_count": 30,
     "metadata": {},
     "output_type": "execute_result"
    }
   ],
   "source": [
    "# labels are marked with labels_mask\n",
    "tokenizer.batch_decode([c[m] for c, m in zip(collated['input_ids'], collated['labels_mask'])])"
   ]
  },
  {
   "cell_type": "code",
   "execution_count": 31,
   "metadata": {},
   "outputs": [
    {
     "data": {
      "text/plain": [
       "['It was planned for February 18 ; however, events at the arsenal, would not wait.On January 28, then Governor Henry Massey Rector informed Captain Totten that he and his soldiers would be \" permitted to remain in the possession of the Federal officers until the State, by authority of the people, shall have determined to sever their connection with the General Government, \" Totten responded to this by telling the Governor that his orders came from the United States Government and began a desperate but ultimately futile dispatch of letters and telegrams asking for reinforcements, although rumors were widely spread that they were already coming.The first telegraph wire to span between Little Rock and Memphis had recently been completed.Local attorney John M Harrel was asked to compose the first telegraph dispatched from Arkansas\\'s capital.Mary moved to the bathroom.In his message, Harrel reported unconfirmed rumors that more federal troops had been sent to reinforce the Little Rock Arsenal. The United States troops at the outposts of the western frontier of the state and in the Indian nation have all been recalled from winter quarters to reinforce the garrison at Fort Smith.The garrison at Fort Smith had been previously transferred to the United States Arsenal in this city ( Little Rock ).The arsenal is one of the richest depositories of military stores in the United States and is supposed to be the ultimate destination of the tropps [ sic ] ordered from the frontier. -John M Harrel Telegram, January 31, 1861 The item was intended simply as a piece of news, but telegraph lines quickly spread the news throughout the state, fueling procession sentiment.The rumor was interpreted by some Arkansans as a call from the governor to assemble to help expel the federal troops from the arsenal.By February 5, six militia units, consisting of 1 @,@ 000 men, with a guarantee that the numbers could be increased to 5 @,@ 000 if the situations deemed it necessary, had assembled in Little Rock.Governor Rector vehemently denied ordering the troops to assemble or giving any order at all in connection with the troops.Faced with the fact that the military had assembled believing they were following his orders and the consensus of the citizens of Little Rock against any armed conflict between the civilian army and federal troops, Governor Rector was forced to take control of the situation.John went to the hallway.On February 6, he sent a formal demand for surrender of the arsenal to Captain Totten,Where is Mary? GENbathroom<|endoftext|>',\n",
       " ' This movement is prompted by the feeling that pervades the citizens of this State that in the present emergency the arms and munitions of war in the Arsenal should be under the control of the State authorities, in order to their security.This movement, although not authorized by me, has assumed such an aspect that it becomes my duty, as the executive of this Sate, to interpose my official authority to prevent a collision between the people of the State and the Federal troops under your command.I therefore demand in the name of the State the delivery of the possession of the Arsenal and munitions of war under your charge to the State authorities, to be held subject to the action of the convention to be held on the 4th of March next.Mary moved to the bathroom. Perhaps because Abraham Lincoln had not yet been inaugurated as President, Captain Totten received no instructions from his superiors and was forced to withdraw his troops.He agreed to surrender the arsenal as long as the governor agreed to three provisions :John went to the hallway. The governor would take possession of the arsenal in the name of the United States. The soldiers would be allowed safe passage in any direction carrying any personal and public property besides munitions of war. The soldiers would be allowed to march away as men leaving under orders, not as conquered and surrendering soldiers. On the morning of February 8, 1861, Rector and Totten signed an agreement placing the arsenal in the hands of state officials.That afternoon, the citizen militia marched to the arsenal with Governor Rector at its head.Daniel went back to the hallway.All of the federal troops had left at this point, except Totten who had stayed behind to listen to the Governor\\'s speech and to hand the arsenal over in person. The Little Rock Arsenal was classified in 1860 as an \" arsenal of deposit, \" meaning that it was simply a warehouse for the storage of weapons intended for the use of the state militia in times of crisis.Thus there were no substantial operations for ordnance fabrication or repairs, nor for the manufacture of cartridges at the time the Arsenal fell into State hands.Most of these operations were started from scratch through the efforts of the Arkansas Military Board.Sandra moved to the garden. Inside the Little Rock Arsenal after its seizure in February, 1861, the Confederates inventoried some 10 @,@ 247 weapons, 250 @,@ 000 musket cartridges, and 520 @,@ 000 percussion caps, as well as the four bronze cannon of Totten\\'s battery.Where is Daniel? GENhallway<|endoftext|>',\n",
       " 'Long arms in the Arsenal\\'s inventory consisted of : M1822.69 cal ( flintlock ) 5 @,@ 625Mary moved to the bathroom. M1822.69 cal ( percussion @-@ converted ) 53 M1842.69 cal smoothbore ( percussion ) 357 M1855.58 cal rifle @-@ muskets 900 M1817 common rifles 125 M1841 rifle ( \" Mississippi Rifle \" ) 54 M1847 musketoon 2John went to the hallway. Hall\\'s carbines 267 Hall\\'s rifles ( flintlock ) 2 @,@ 864Daniel went back to the hallway. Total 10 @,@ 247 Of this number, approximately 9600 weapons were serviceable, or ready @-@ for @-@ issue.Sandra moved to the garden.Note there were only 1 @,@ 364 percussion weapons available.John moved to the office.Disposition of the weapons found in the Arsenal is somewhat sketchy, but from various records it can be surmised that the 5th, 6th, 7th, and 8th Arkansas Infantry Regiments, mustered in June, 1861, were issued M1816 / M1822.69 caliber flintlocks.The 9th and 10th Arkansas, four companies of Kelly\\'s 9th Arkansas Battalion, and the 3rd Arkansas Cavalry Regiment were issued flintlock Hall\\'s Rifles.The units comprising the infantry force of Van Dorn\\'s Army of the West were the 1st and 2nd Arkansas Mounted Rifles were also armed with M1822 flintlocks from the Little Rock Arsenal.Sandra journeyed to the bathroom.By the time the 11th and 12th Arkansas Infantry Regiments mustered in at Little Rock, the supply of arms had been almost completely exhausted, and only old \" junker \" weapons were left. Most of the equipment, arms, and machinery at the Little Rock Arsenal was removed to east of the Mississippi River by order of Maj.Gen.Earl Van Dorn in April and May 1862, and accountability for it is lost at that point.By all appearances, the equipment was sent down the river to Napoleon, Arkansas, and from there to Jackson Mississippi, where it was probably destroyed during the Vicksburg campaign in the early summer of 1863.Where is Daniel? GENhallway<|endoftext|>',\n",
       " ' Major General Thomas C. Hindman, sent to command the district of Arkansas in May, 1862, found the state nearly destitute of military material.Hindman established another armory at Arkadelphia, and revived the Little Rock Arsenal as a collection point and depot for armaments and ammunition manufacture for small arms.Mary moved to the bathroom.John went to the hallway.Daniel went back to the hallway.Hindman recorded :Sandra moved to the garden. \" Machinery was made for manufacturing percussion caps and small arms, and both were turned out in small quantity, but of excellent quality.John moved to the office.Lead mines were opened and worked, and a chemical laboratory was established and successfully operated in aid of the Ordnance Department and in the manufacture of calomel, castor oil, spirits of nitre, the various tinctures of iron, and other valuable medicines.Most of these works were located at or near Arkadelphia on the Ouachita River, 75 miles south from Little Rock.Sandra journeyed to the bathroom.Mary moved to the hallway.The tools, machinery, and the material were gathered piecemeal or else made by hand labor.Nothing of this sort had been before attempted on Government account in Arkansas to my knowledge, except for the manufacture of small arms, the machinery for which was taken away by General Van Dorn and there was neither capital nor sufficient enterprise among the citizens to engage in such undertakings � A further supply, along with lead and caps, was procured from the citizens of Little Rock and vicinity by donation, purchases, and impressments. This ammunition, and that which I brought with me, was rapidly prepared for use at the Laboratory established at the Little Rock Arsenal for that purpose.As illustrating as the pitiful scarcity of material in the country, the fact may be stated that it was found necessary to use public documents of the State Library for cartridge paper.Gunsmiths were employed or conscripted, tools purchased or impressed, and the repair of the damaged guns I brought with me and about an equal number found at Little Rock commenced at once.Daniel travelled to the office.But, after inspecting the work and observing the spirit of the men I decided that a garrison 500 strong could hold out against Fitch and that I would lead the remainder - about 1500 - to Gen \\'l Rust as soon as shotguns and rifles could be obtained from Little Rock instead of pikes and lances, with which most of them were armed.Where is Daniel? GENoffice<|endoftext|>',\n",
       " 'Mary moved to the bathroom.Two days elapsed before the change could be effected. \" The Confederate ordnance establishment at Little Rock was reactivated in August, 1862.Looking around for a suitable person to head this activity, General Hindman turned to the Confederate Navy and borrowed Lieutenant John W. Dunnington.Lt.Dunnington was the commander of the gunboat C.S.S.John went to the hallway.Ponchartrain, which had been brought to Little Rock in hopes of converting it to an ironclad.Daniel went back to the hallway.Dunnington was selected to head the ordnance works at Little Rock, and although he continued to draw his pay from the Confederate Navy Department, he was placed in charge of all Confederate ordnance activities ( which included artillery functions ) there with the rank of lieutenant colonel.Sandra moved to the garden. Lt.Col.Dunnington\\'s \" Returns for the month of August, 1862, at Little Rock Arsenal, C.S.A., \" are found in Vol.John moved to the office.149, Chapter IV of the \" Captured Rebel Ordnance Records, \" and are most enlightening as to the scope of Confederate ordnance activities at Little Rock during this crucial time.According to Dunnington, \" When I assumed command at this Post, all material had been removed to Arkadelphia.There were no persons employed.Sandra journeyed to the bathroom.No shops were open for repair of arms or for fabricating ammunition.Material, tools, etc.Mary moved to the hallway., had to be procured as well as the employment of laborers.Daniel travelled to the office.John went back to the garden.Work commenced the last part of the month. \" The military force at Little Rock under Dunnington\\'s command consisted of four officers : himself, Major John B. Lockman, Captain C.C.Green, and 2nd Lt.John moved to the bedroom.W.W.Murphy.In addition to these, he had 20 enlisted men and a civilian force composed of a foreman, 2 clerks, 3 gunsmiths for repairing small arms, a laboratorian, 26 laborers in the ammunition laboratory, and a carpenter for making packing boxes.Where is Sandra? GENbathroom<|endoftext|>',\n",
       " ' During the month of August, 1862, the following work was performed : \" Fabricated : one pair of musket bullet moulds ; 10 @,@ 000 buck & ball shot cartridges ; repaired : 750 muskets, shotguns, and rifles ; received and repaired : ordnance stores and ordnances ; performed : guard, office, and police duties ; inspected : Posts at Camden and Arkadelphia. \" Lt.Col.Sandra travelled to the office.Dunnington continued to build up his works at Little Rock until November 1862, when Captain Sanford C. Faulkner ( composer of The Arkansas Traveler ) was placed in charge of the Arsenal.Sandra went to the bathroom.Dunnington presumably returned to his naval duties and the Ponchartrain. A \" Summary of the Work Done for November, 1862, Little Rock Arsenal \" shows : Fabrication : 75 @,@ 000 buck & ball cartridges - percussion 14 @,@ 000 buck & ball cartridges - flint 275 paper fuzes 117 rounds, 6 @-@ pounder canister shot 130 rounds, 6 @-@ pounder ball shot 96 ammunition packing boxes Repaired : 2 @,@ 236 shotguns and rifles ( repaired mostly for troops in service ) 23 pistols ( repaired mostly for troops in service ) Received & Issued : 752 packages of ordnance and ordnance stores received and mostly issued to troops in service. Repaired and painted : 4 gun carriages Performed : Guard, office, and police duties. Perhaps the most illuminating points of the above \" Summary of Work \" and those for following months are that the standard ammunition made was. \"buck & ball \", indicating that the.69 caliber smoothbores and shotguns remained the predominant caliber weapon in use, and of this, nearly one sixth or more of all small arms ammunition was still for flintlock weapons, indicating that no less than a sixth of the Confederate troops in this vicinity were still armed with obsolete flintlock weapons. The \" Summaries of Work done at Little Rock Arsenal, C.S.A. \"continue at about the same pace and scale from August 1862 until August 1863.Appended to the \" Summary \" for August, 1863 is the ominous notation, \" During the last week in the month, nearly all stores at the Arsenal have been packed and sent to Arkadelphia, in obedience to orders from Chief of Ordnance, District of Arkansas. \"Where is Sandra? GENbathroom<|endoftext|>',\n",
       " 'This then marks the beginning of the evacuation of ordnance activities from Little Rock, with the city being surrendered to the advancing Federal troops of Frederick Steele\\'s Arkansas Expedition on September 11, 1863. In 1864, after Little Rock fell to the Union Army and the arsenal had been recaptured, General Fredrick Steele marched 8 @,@ 500 troops from the arsenal beginning the Camden Expedition.Sandra travelled to the office. The arsenal was briefly seized once more by Joseph Brooks loyalists during the Brooks @-@ Baxter War of 1874. = = Decommissioning = = In 1873, the building was renamed Little Rock Barracks and used as a barracks for married officers and their families.The building was drastically altered the inside and outside.Prior to renovation, a rear basement door provided the only entrance to the building, while the tower served as a hoist to move munitions between floors.By 1868, front and rear porches had been added to the building, as well as interior walls and stairs, some of which remain today, including the central staircase.In 1880, Douglas MacArthur was born on the northwest upper floor of this building while his father, Captain Arthur MacArthur, was stationed there. In the 1880s, the federal government began closing many small arsenals around the country in favor of smaller ones built near railroads for quick deployment.The arsenal commander received word from Washington that the Little Rock site must be abandoned \" not later than October 1, 1890. \"On April 12, 1893 the tower building and the surrounding buildings were traded to the city of Little Rock for 1 @,@ 000 acres ( 4 km ² ) in North Little Rock under the condition that the building and land be \" forever exclusively devoted to the uses and purposes of a public park \" for 1 @,@ 000 acres ( 4 km ² ) in Big Rock Mountain on the north side of the Arkansas River, present day North Little Rock.Sandra went to the bathroom.That site later became Fort Logan H. Roots.All of the original buildings surrounding the Tower Building were demolished.Mary went to the bedroom.Daniel moved to the hallway. = = Æsthetic Club = = In 1894 the Little Rock Æsthetic Club, one of the oldest women\\'s societies west of the Mississippi River, moved into the Tower Building.This was prompted due to increased membership and a need for larger, more permanent quarters.Where is Sandra? GENbathroom<|endoftext|>',\n",
       " 'Sandra travelled to the office.The previous year, club members working with women\\'s organizations throughout the state, raised money to furnish the Arkansas Building of the Columbian Exposition at The Chicago World\\'s Fair.At the fair\\'s conclusion, artifacts from the exhibit were displayed in the Tower Building, with the Æsthetic Club invited to meet in the \" Columbian Room. \" Except for Æsthetic Club meetings, the Tower Building remained largely unoccupied for almost fifty years and suffered significant deterioration.Sandra went to the bathroom.The Æsthetic Club provided much @-@ needed financial support during the period and even paid the electric bill during the Great Depression.The Æsthetic Club is still headquartered in the Tower Building.Mary went to the bedroom. = = Public use = =Daniel moved to the hallway. The building and the surrounding park were used for many public purposes throughout the early 20th century.The Tower Building served as headquarters for the United Confederate Veterans Reunion, May 15 – 18, 1911.John went to the garden.Over 106 @,@ 000 Civil War veterans, the largest popular gathering in the history of the city up to that time, attended and were housed in the building or camped in the park, which had also become a popular camping area.Later the building served as an armory for the Arkansas National Guard.In 1912, the second floor of the Tower Building became Little Rock\\'s first public library.In 1917, Little Rock built a fire station in the park, that building is now gone.A band shell named for H. H. Foster also was built in the park during this time, but also no longer exists.In 1936, Works Progress Administration built the Museum of Fine Arts, now called the Arkansas Arts Center, just south of the Tower Building. The arsenal was listed in the National Register of Historic Places in 1970.Due to its association with the Camden Expedition of 1864, the arsenal may be included in the Camden Expedition Sites National Historic Landmark designated in 1994.John travelled to the office. In 1942, the Tower Building was renovated due to the efforts of the Æsthetic Club, Little Rock philanthropist Frederick W. Allsop, and the Works Progress Administration.It became the new home of The Arkansas Museum of Natural History and Antiquities, which had been located in Little Rock City Hall.The museum remained in the tower building for approximately fifty @-@ five years.Where is Sandra? GENbathroom<|endoftext|>',\n",
       " \"The area surrounding the Tower Building had been known as Arsenal Park when the first decommissioned and then later renamed City Park.Sandra travelled to the office.Due to the efforts of Bernie Babcock, however, the city finally named it MacArthur Park in 1942 in honor of Douglas MacArthur. In 1997, the Museum of Science and Natural History merged with the Little Rock Children's Museum, which had been located in Union Station, to form the Arkansas Museum of Discovery.The new museum was relocated to a historic building in the Little Rock River Market District.The MacArthur Museum of Arkansas Military History opened on May 19, 2001 in the Tower Building.The new museum's goal is to educate and inform visitors about the military history of Arkansas, preserve the Tower Building, honor servicemen and servicewomen of the United States and commemorate the birthplace of Douglas MacArthur. = Cicely Mary Barker = Cicely Mary Barker ( 28 June 1895 – 16 February 1973 ) was an English illustrator best known for a series of fantasy illustrations depicting fairies and flowers.Sandra went to the bathroom.Barker's art education began in girlhood with correspondence courses and instruction at the Croydon School of Art.Her earliest professional work included greeting cards and juvenile magazine illustrations, and her first book, Flower Fairies of the Spring, was published in 1923.Similar books were published in the following decades. Barker was a devout Anglican, and donated her artworks to Christian fundraisers and missionary organizations.Mary went to the bedroom.She produced a few Christian @-@ themed books such as The Children ’ s Book of Hymns and, in collaboration with her sister Dorothy, He Leadeth Me.She designed a stained glass window for St.Edmund's Church, Pitlake, and her painting of the Christ Child, The Darling of the World Has Come, was purchased by Queen Mary.Daniel moved to the hallway.John went to the garden. Barker was equally proficient in watercolour, pen and ink, oils, and pastels.John travelled to the office.Kate Greenaway and the Pre @-@ Raphaelites were the principal influences on her work.She claimed to paint instinctively and rejected artistic theories.Daniel journeyed to the bedroom.Barker died in 1973.Daniel travelled to the hallway.Where is John? GENoffice<|endoftext|>\",\n",
       " 'Sandra travelled to the office.Though she published Flower Fairy books with spring, summer, and autumn themes, it wasn \\'t until 1985 that a winter collection was assembled from her remaining work and published posthumously.Sandra went to the bathroom. = = Biography = = = = = Early life = = =Mary went to the bedroom. Barker was born the second daughter and youngest child of Walter Barker, a partner in a seed supply company and an amateur artist, and his wife Mary Eleanor ( Oswald ) Barker on 28 June 1895 at home at 66 Waddon Road in Croydon, Surrey, England.Barker was an epileptic as a child, and cared for at home by her parents.Later, her sister and elder by two years, Dorothy Oswald Barker, continued the care.Daniel moved to the hallway. The family of four was moderately well off, and belonged to the lower end of the upper middle class.A nanny, a governess, and a cook to prepare special meals for Barker were hired.John went to the garden.She spent much time in bed at home amusing herself with painting books and a nursery library that included the works of Kate Greenaway and Randolph Caldecott – two artists who exerted strong influences on her later art. = = = Art education and first professional work = = = Barker took correspondence courses in art, probably until about 1919.John travelled to the office.In 1908 at 13 years, she entered an evening class at the Croydon School of Art, and attended the school into the 1940s.In time, she received a teaching position.Daniel journeyed to the bedroom. In 1911, Raphael Tuck & Sons bought four of Barker\\'s \" little drawings \" for half a sovereign, and published them as postcards.Daniel travelled to the hallway.In October 1911, she won second prize in the Croydon Art Society\\'s poster competition, and shortly afterward was elected the youngest member of the Society.John went to the bedroom.The art critic for the Croydon Advertiser remarked, \" Her drawings show a remarkable freedom of spirit.She has distinct promise. \"John travelled to the office. Following her father ’ s death in June 1912, the seventeen @-@ year @-@ old Barker submitted art and poetry to My Magazine, Child ’ s Own, Leading Strings, and Raphael Tuck annuals in an effort to support both her mother and sister.Where is Daniel? GENhallway<|endoftext|>']"
      ]
     },
     "execution_count": 31,
     "metadata": {},
     "output_type": "execute_result"
    }
   ],
   "source": [
    "# different input_ids for .forward() and .generate()\n",
    "tokenizer.batch_decode([c[m] for c, m in zip(collated['input_ids'], collated['attention_mask'])])"
   ]
  },
  {
   "cell_type": "code",
   "execution_count": 32,
   "metadata": {},
   "outputs": [
    {
     "data": {
      "text/plain": [
       "['It was planned for February 18 ; however, events at the arsenal, would not wait.On January 28, then Governor Henry Massey Rector informed Captain Totten that he and his soldiers would be \" permitted to remain in the possession of the Federal officers until the State, by authority of the people, shall have determined to sever their connection with the General Government, \" Totten responded to this by telling the Governor that his orders came from the United States Government and began a desperate but ultimately futile dispatch of letters and telegrams asking for reinforcements, although rumors were widely spread that they were already coming.The first telegraph wire to span between Little Rock and Memphis had recently been completed.Local attorney John M Harrel was asked to compose the first telegraph dispatched from Arkansas\\'s capital.Mary moved to the bathroom.In his message, Harrel reported unconfirmed rumors that more federal troops had been sent to reinforce the Little Rock Arsenal. The United States troops at the outposts of the western frontier of the state and in the Indian nation have all been recalled from winter quarters to reinforce the garrison at Fort Smith.The garrison at Fort Smith had been previously transferred to the United States Arsenal in this city ( Little Rock ).The arsenal is one of the richest depositories of military stores in the United States and is supposed to be the ultimate destination of the tropps [ sic ] ordered from the frontier. -John M Harrel Telegram, January 31, 1861 The item was intended simply as a piece of news, but telegraph lines quickly spread the news throughout the state, fueling procession sentiment.The rumor was interpreted by some Arkansans as a call from the governor to assemble to help expel the federal troops from the arsenal.By February 5, six militia units, consisting of 1 @,@ 000 men, with a guarantee that the numbers could be increased to 5 @,@ 000 if the situations deemed it necessary, had assembled in Little Rock.Governor Rector vehemently denied ordering the troops to assemble or giving any order at all in connection with the troops.Faced with the fact that the military had assembled believing they were following his orders and the consensus of the citizens of Little Rock against any armed conflict between the civilian army and federal troops, Governor Rector was forced to take control of the situation.John went to the hallway.On February 6, he sent a formal demand for surrender of the arsenal to Captain Totten,Where is Mary? GEN',\n",
       " ' This movement is prompted by the feeling that pervades the citizens of this State that in the present emergency the arms and munitions of war in the Arsenal should be under the control of the State authorities, in order to their security.This movement, although not authorized by me, has assumed such an aspect that it becomes my duty, as the executive of this Sate, to interpose my official authority to prevent a collision between the people of the State and the Federal troops under your command.I therefore demand in the name of the State the delivery of the possession of the Arsenal and munitions of war under your charge to the State authorities, to be held subject to the action of the convention to be held on the 4th of March next.Mary moved to the bathroom. Perhaps because Abraham Lincoln had not yet been inaugurated as President, Captain Totten received no instructions from his superiors and was forced to withdraw his troops.He agreed to surrender the arsenal as long as the governor agreed to three provisions :John went to the hallway. The governor would take possession of the arsenal in the name of the United States. The soldiers would be allowed safe passage in any direction carrying any personal and public property besides munitions of war. The soldiers would be allowed to march away as men leaving under orders, not as conquered and surrendering soldiers. On the morning of February 8, 1861, Rector and Totten signed an agreement placing the arsenal in the hands of state officials.That afternoon, the citizen militia marched to the arsenal with Governor Rector at its head.Daniel went back to the hallway.All of the federal troops had left at this point, except Totten who had stayed behind to listen to the Governor\\'s speech and to hand the arsenal over in person. The Little Rock Arsenal was classified in 1860 as an \" arsenal of deposit, \" meaning that it was simply a warehouse for the storage of weapons intended for the use of the state militia in times of crisis.Thus there were no substantial operations for ordnance fabrication or repairs, nor for the manufacture of cartridges at the time the Arsenal fell into State hands.Most of these operations were started from scratch through the efforts of the Arkansas Military Board.Sandra moved to the garden. Inside the Little Rock Arsenal after its seizure in February, 1861, the Confederates inventoried some 10 @,@ 247 weapons, 250 @,@ 000 musket cartridges, and 520 @,@ 000 percussion caps, as well as the four bronze cannon of Totten\\'s battery.Where is Daniel? GEN',\n",
       " 'Long arms in the Arsenal\\'s inventory consisted of : M1822.69 cal ( flintlock ) 5 @,@ 625Mary moved to the bathroom. M1822.69 cal ( percussion @-@ converted ) 53 M1842.69 cal smoothbore ( percussion ) 357 M1855.58 cal rifle @-@ muskets 900 M1817 common rifles 125 M1841 rifle ( \" Mississippi Rifle \" ) 54 M1847 musketoon 2John went to the hallway. Hall\\'s carbines 267 Hall\\'s rifles ( flintlock ) 2 @,@ 864Daniel went back to the hallway. Total 10 @,@ 247 Of this number, approximately 9600 weapons were serviceable, or ready @-@ for @-@ issue.Sandra moved to the garden.Note there were only 1 @,@ 364 percussion weapons available.John moved to the office.Disposition of the weapons found in the Arsenal is somewhat sketchy, but from various records it can be surmised that the 5th, 6th, 7th, and 8th Arkansas Infantry Regiments, mustered in June, 1861, were issued M1816 / M1822.69 caliber flintlocks.The 9th and 10th Arkansas, four companies of Kelly\\'s 9th Arkansas Battalion, and the 3rd Arkansas Cavalry Regiment were issued flintlock Hall\\'s Rifles.The units comprising the infantry force of Van Dorn\\'s Army of the West were the 1st and 2nd Arkansas Mounted Rifles were also armed with M1822 flintlocks from the Little Rock Arsenal.Sandra journeyed to the bathroom.By the time the 11th and 12th Arkansas Infantry Regiments mustered in at Little Rock, the supply of arms had been almost completely exhausted, and only old \" junker \" weapons were left. Most of the equipment, arms, and machinery at the Little Rock Arsenal was removed to east of the Mississippi River by order of Maj.Gen.Earl Van Dorn in April and May 1862, and accountability for it is lost at that point.By all appearances, the equipment was sent down the river to Napoleon, Arkansas, and from there to Jackson Mississippi, where it was probably destroyed during the Vicksburg campaign in the early summer of 1863.Where is Daniel? GEN',\n",
       " ' Major General Thomas C. Hindman, sent to command the district of Arkansas in May, 1862, found the state nearly destitute of military material.Hindman established another armory at Arkadelphia, and revived the Little Rock Arsenal as a collection point and depot for armaments and ammunition manufacture for small arms.Mary moved to the bathroom.John went to the hallway.Daniel went back to the hallway.Hindman recorded :Sandra moved to the garden. \" Machinery was made for manufacturing percussion caps and small arms, and both were turned out in small quantity, but of excellent quality.John moved to the office.Lead mines were opened and worked, and a chemical laboratory was established and successfully operated in aid of the Ordnance Department and in the manufacture of calomel, castor oil, spirits of nitre, the various tinctures of iron, and other valuable medicines.Most of these works were located at or near Arkadelphia on the Ouachita River, 75 miles south from Little Rock.Sandra journeyed to the bathroom.Mary moved to the hallway.The tools, machinery, and the material were gathered piecemeal or else made by hand labor.Nothing of this sort had been before attempted on Government account in Arkansas to my knowledge, except for the manufacture of small arms, the machinery for which was taken away by General Van Dorn and there was neither capital nor sufficient enterprise among the citizens to engage in such undertakings � A further supply, along with lead and caps, was procured from the citizens of Little Rock and vicinity by donation, purchases, and impressments. This ammunition, and that which I brought with me, was rapidly prepared for use at the Laboratory established at the Little Rock Arsenal for that purpose.As illustrating as the pitiful scarcity of material in the country, the fact may be stated that it was found necessary to use public documents of the State Library for cartridge paper.Gunsmiths were employed or conscripted, tools purchased or impressed, and the repair of the damaged guns I brought with me and about an equal number found at Little Rock commenced at once.Daniel travelled to the office.But, after inspecting the work and observing the spirit of the men I decided that a garrison 500 strong could hold out against Fitch and that I would lead the remainder - about 1500 - to Gen \\'l Rust as soon as shotguns and rifles could be obtained from Little Rock instead of pikes and lances, with which most of them were armed.Where is Daniel? GEN',\n",
       " 'Mary moved to the bathroom.Two days elapsed before the change could be effected. \" The Confederate ordnance establishment at Little Rock was reactivated in August, 1862.Looking around for a suitable person to head this activity, General Hindman turned to the Confederate Navy and borrowed Lieutenant John W. Dunnington.Lt.Dunnington was the commander of the gunboat C.S.S.John went to the hallway.Ponchartrain, which had been brought to Little Rock in hopes of converting it to an ironclad.Daniel went back to the hallway.Dunnington was selected to head the ordnance works at Little Rock, and although he continued to draw his pay from the Confederate Navy Department, he was placed in charge of all Confederate ordnance activities ( which included artillery functions ) there with the rank of lieutenant colonel.Sandra moved to the garden. Lt.Col.Dunnington\\'s \" Returns for the month of August, 1862, at Little Rock Arsenal, C.S.A., \" are found in Vol.John moved to the office.149, Chapter IV of the \" Captured Rebel Ordnance Records, \" and are most enlightening as to the scope of Confederate ordnance activities at Little Rock during this crucial time.According to Dunnington, \" When I assumed command at this Post, all material had been removed to Arkadelphia.There were no persons employed.Sandra journeyed to the bathroom.No shops were open for repair of arms or for fabricating ammunition.Material, tools, etc.Mary moved to the hallway., had to be procured as well as the employment of laborers.Daniel travelled to the office.John went back to the garden.Work commenced the last part of the month. \" The military force at Little Rock under Dunnington\\'s command consisted of four officers : himself, Major John B. Lockman, Captain C.C.Green, and 2nd Lt.John moved to the bedroom.W.W.Murphy.In addition to these, he had 20 enlisted men and a civilian force composed of a foreman, 2 clerks, 3 gunsmiths for repairing small arms, a laboratorian, 26 laborers in the ammunition laboratory, and a carpenter for making packing boxes.Where is Sandra? GEN',\n",
       " ' During the month of August, 1862, the following work was performed : \" Fabricated : one pair of musket bullet moulds ; 10 @,@ 000 buck & ball shot cartridges ; repaired : 750 muskets, shotguns, and rifles ; received and repaired : ordnance stores and ordnances ; performed : guard, office, and police duties ; inspected : Posts at Camden and Arkadelphia. \" Lt.Col.Sandra travelled to the office.Dunnington continued to build up his works at Little Rock until November 1862, when Captain Sanford C. Faulkner ( composer of The Arkansas Traveler ) was placed in charge of the Arsenal.Sandra went to the bathroom.Dunnington presumably returned to his naval duties and the Ponchartrain. A \" Summary of the Work Done for November, 1862, Little Rock Arsenal \" shows : Fabrication : 75 @,@ 000 buck & ball cartridges - percussion 14 @,@ 000 buck & ball cartridges - flint 275 paper fuzes 117 rounds, 6 @-@ pounder canister shot 130 rounds, 6 @-@ pounder ball shot 96 ammunition packing boxes Repaired : 2 @,@ 236 shotguns and rifles ( repaired mostly for troops in service ) 23 pistols ( repaired mostly for troops in service ) Received & Issued : 752 packages of ordnance and ordnance stores received and mostly issued to troops in service. Repaired and painted : 4 gun carriages Performed : Guard, office, and police duties. Perhaps the most illuminating points of the above \" Summary of Work \" and those for following months are that the standard ammunition made was. \"buck & ball \", indicating that the.69 caliber smoothbores and shotguns remained the predominant caliber weapon in use, and of this, nearly one sixth or more of all small arms ammunition was still for flintlock weapons, indicating that no less than a sixth of the Confederate troops in this vicinity were still armed with obsolete flintlock weapons. The \" Summaries of Work done at Little Rock Arsenal, C.S.A. \"continue at about the same pace and scale from August 1862 until August 1863.Appended to the \" Summary \" for August, 1863 is the ominous notation, \" During the last week in the month, nearly all stores at the Arsenal have been packed and sent to Arkadelphia, in obedience to orders from Chief of Ordnance, District of Arkansas. \"Where is Sandra? GEN',\n",
       " 'This then marks the beginning of the evacuation of ordnance activities from Little Rock, with the city being surrendered to the advancing Federal troops of Frederick Steele\\'s Arkansas Expedition on September 11, 1863. In 1864, after Little Rock fell to the Union Army and the arsenal had been recaptured, General Fredrick Steele marched 8 @,@ 500 troops from the arsenal beginning the Camden Expedition.Sandra travelled to the office. The arsenal was briefly seized once more by Joseph Brooks loyalists during the Brooks @-@ Baxter War of 1874. = = Decommissioning = = In 1873, the building was renamed Little Rock Barracks and used as a barracks for married officers and their families.The building was drastically altered the inside and outside.Prior to renovation, a rear basement door provided the only entrance to the building, while the tower served as a hoist to move munitions between floors.By 1868, front and rear porches had been added to the building, as well as interior walls and stairs, some of which remain today, including the central staircase.In 1880, Douglas MacArthur was born on the northwest upper floor of this building while his father, Captain Arthur MacArthur, was stationed there. In the 1880s, the federal government began closing many small arsenals around the country in favor of smaller ones built near railroads for quick deployment.The arsenal commander received word from Washington that the Little Rock site must be abandoned \" not later than October 1, 1890. \"On April 12, 1893 the tower building and the surrounding buildings were traded to the city of Little Rock for 1 @,@ 000 acres ( 4 km ² ) in North Little Rock under the condition that the building and land be \" forever exclusively devoted to the uses and purposes of a public park \" for 1 @,@ 000 acres ( 4 km ² ) in Big Rock Mountain on the north side of the Arkansas River, present day North Little Rock.Sandra went to the bathroom.That site later became Fort Logan H. Roots.All of the original buildings surrounding the Tower Building were demolished.Mary went to the bedroom.Daniel moved to the hallway. = = Æsthetic Club = = In 1894 the Little Rock Æsthetic Club, one of the oldest women\\'s societies west of the Mississippi River, moved into the Tower Building.This was prompted due to increased membership and a need for larger, more permanent quarters.Where is Sandra? GEN',\n",
       " 'Sandra travelled to the office.The previous year, club members working with women\\'s organizations throughout the state, raised money to furnish the Arkansas Building of the Columbian Exposition at The Chicago World\\'s Fair.At the fair\\'s conclusion, artifacts from the exhibit were displayed in the Tower Building, with the Æsthetic Club invited to meet in the \" Columbian Room. \" Except for Æsthetic Club meetings, the Tower Building remained largely unoccupied for almost fifty years and suffered significant deterioration.Sandra went to the bathroom.The Æsthetic Club provided much @-@ needed financial support during the period and even paid the electric bill during the Great Depression.The Æsthetic Club is still headquartered in the Tower Building.Mary went to the bedroom. = = Public use = =Daniel moved to the hallway. The building and the surrounding park were used for many public purposes throughout the early 20th century.The Tower Building served as headquarters for the United Confederate Veterans Reunion, May 15 – 18, 1911.John went to the garden.Over 106 @,@ 000 Civil War veterans, the largest popular gathering in the history of the city up to that time, attended and were housed in the building or camped in the park, which had also become a popular camping area.Later the building served as an armory for the Arkansas National Guard.In 1912, the second floor of the Tower Building became Little Rock\\'s first public library.In 1917, Little Rock built a fire station in the park, that building is now gone.A band shell named for H. H. Foster also was built in the park during this time, but also no longer exists.In 1936, Works Progress Administration built the Museum of Fine Arts, now called the Arkansas Arts Center, just south of the Tower Building. The arsenal was listed in the National Register of Historic Places in 1970.Due to its association with the Camden Expedition of 1864, the arsenal may be included in the Camden Expedition Sites National Historic Landmark designated in 1994.John travelled to the office. In 1942, the Tower Building was renovated due to the efforts of the Æsthetic Club, Little Rock philanthropist Frederick W. Allsop, and the Works Progress Administration.It became the new home of The Arkansas Museum of Natural History and Antiquities, which had been located in Little Rock City Hall.The museum remained in the tower building for approximately fifty @-@ five years.Where is Sandra? GEN',\n",
       " \"The area surrounding the Tower Building had been known as Arsenal Park when the first decommissioned and then later renamed City Park.Sandra travelled to the office.Due to the efforts of Bernie Babcock, however, the city finally named it MacArthur Park in 1942 in honor of Douglas MacArthur. In 1997, the Museum of Science and Natural History merged with the Little Rock Children's Museum, which had been located in Union Station, to form the Arkansas Museum of Discovery.The new museum was relocated to a historic building in the Little Rock River Market District.The MacArthur Museum of Arkansas Military History opened on May 19, 2001 in the Tower Building.The new museum's goal is to educate and inform visitors about the military history of Arkansas, preserve the Tower Building, honor servicemen and servicewomen of the United States and commemorate the birthplace of Douglas MacArthur. = Cicely Mary Barker = Cicely Mary Barker ( 28 June 1895 – 16 February 1973 ) was an English illustrator best known for a series of fantasy illustrations depicting fairies and flowers.Sandra went to the bathroom.Barker's art education began in girlhood with correspondence courses and instruction at the Croydon School of Art.Her earliest professional work included greeting cards and juvenile magazine illustrations, and her first book, Flower Fairies of the Spring, was published in 1923.Similar books were published in the following decades. Barker was a devout Anglican, and donated her artworks to Christian fundraisers and missionary organizations.Mary went to the bedroom.She produced a few Christian @-@ themed books such as The Children ’ s Book of Hymns and, in collaboration with her sister Dorothy, He Leadeth Me.She designed a stained glass window for St.Edmund's Church, Pitlake, and her painting of the Christ Child, The Darling of the World Has Come, was purchased by Queen Mary.Daniel moved to the hallway.John went to the garden. Barker was equally proficient in watercolour, pen and ink, oils, and pastels.John travelled to the office.Kate Greenaway and the Pre @-@ Raphaelites were the principal influences on her work.She claimed to paint instinctively and rejected artistic theories.Daniel journeyed to the bedroom.Barker died in 1973.Daniel travelled to the hallway.Where is John? GEN\",\n",
       " 'Sandra travelled to the office.Though she published Flower Fairy books with spring, summer, and autumn themes, it wasn \\'t until 1985 that a winter collection was assembled from her remaining work and published posthumously.Sandra went to the bathroom. = = Biography = = = = = Early life = = =Mary went to the bedroom. Barker was born the second daughter and youngest child of Walter Barker, a partner in a seed supply company and an amateur artist, and his wife Mary Eleanor ( Oswald ) Barker on 28 June 1895 at home at 66 Waddon Road in Croydon, Surrey, England.Barker was an epileptic as a child, and cared for at home by her parents.Later, her sister and elder by two years, Dorothy Oswald Barker, continued the care.Daniel moved to the hallway. The family of four was moderately well off, and belonged to the lower end of the upper middle class.A nanny, a governess, and a cook to prepare special meals for Barker were hired.John went to the garden.She spent much time in bed at home amusing herself with painting books and a nursery library that included the works of Kate Greenaway and Randolph Caldecott – two artists who exerted strong influences on her later art. = = = Art education and first professional work = = = Barker took correspondence courses in art, probably until about 1919.John travelled to the office.In 1908 at 13 years, she entered an evening class at the Croydon School of Art, and attended the school into the 1940s.In time, she received a teaching position.Daniel journeyed to the bedroom. In 1911, Raphael Tuck & Sons bought four of Barker\\'s \" little drawings \" for half a sovereign, and published them as postcards.Daniel travelled to the hallway.In October 1911, she won second prize in the Croydon Art Society\\'s poster competition, and shortly afterward was elected the youngest member of the Society.John went to the bedroom.The art critic for the Croydon Advertiser remarked, \" Her drawings show a remarkable freedom of spirit.She has distinct promise. \"John travelled to the office. Following her father ’ s death in June 1912, the seventeen @-@ year @-@ old Barker submitted art and poetry to My Magazine, Child ’ s Own, Leading Strings, and Raphael Tuck annuals in an effort to support both her mother and sister.Where is Daniel? GEN']"
      ]
     },
     "execution_count": 32,
     "metadata": {},
     "output_type": "execute_result"
    }
   ],
   "source": [
    "tokenizer.batch_decode([c[m] for c, m in zip(collated['input_ids_generate'], collated['attention_mask_generate'])])"
   ]
  },
  {
   "cell_type": "markdown",
   "metadata": {},
   "source": [
    "### Create a dataloader"
   ]
  },
  {
   "cell_type": "code",
   "execution_count": 26,
   "metadata": {},
   "outputs": [
    {
     "data": {
      "text/plain": [
       "dict_keys(['input_ids', 'labels', 'input_ids_generate', 'labels_mask', 'attention_mask', 'attention_mask_generate', 'target_text'])"
      ]
     },
     "execution_count": 26,
     "metadata": {},
     "output_type": "execute_result"
    }
   ],
   "source": [
    "from torch.utils.data import DataLoader\n",
    "\n",
    "dl = DataLoader(batch_size=2, dataset=dataset_train, collate_fn=collate_fn)\n",
    "gen = iter(dl)\n",
    "batch = next(gen)\n",
    "batch.keys()"
   ]
  }
 ],
 "metadata": {
  "kernelspec": {
   "display_name": "Python 3",
   "language": "python",
   "name": "python3"
  },
  "language_info": {
   "codemirror_mode": {
    "name": "ipython",
    "version": 3
   },
   "file_extension": ".py",
   "mimetype": "text/x-python",
   "name": "python",
   "nbconvert_exporter": "python",
   "pygments_lexer": "ipython3",
   "version": "3.9.17"
  }
 },
 "nbformat": 4,
 "nbformat_minor": 2
}
