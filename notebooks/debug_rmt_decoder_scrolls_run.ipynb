{
 "cells": [
  {
   "cell_type": "code",
   "execution_count": 1,
   "metadata": {},
   "outputs": [
    {
     "name": "stderr",
     "output_type": "stream",
     "text": [
      "\n",
      "libgomp: Invalid value for environment variable OMP_NUM_THREADS\n",
      "\n",
      "libgomp: Invalid value for environment variable OMP_NUM_THREADS\n"
     ]
    }
   ],
   "source": [
    "import json\n",
    "import logging\n",
    "import sys\n",
    "import os\n",
    "import math\n",
    "import shutil\n",
    "from pathlib import Path\n",
    "from itertools import chain\n",
    "# from megatron.data.dataset_utils import get_indexed_dataset_\n",
    "\n",
    "# import horovod.torch as hvd\n",
    "# from dotenv import load_dotenv\n",
    "import torch\n",
    "import numpy as np\n",
    "import datasets\n",
    "from torch.utils.data import DataLoader, DistributedSampler\n",
    "from datasets import Dataset, load_dataset\n",
    "from huggingface_hub import hf_hub_download\n",
    "from sklearn.metrics import f1_score, accuracy_score\n",
    "\n",
    "sys.path.append('../')\n",
    "# from lm_experiments_tools import TrainerArgs\n",
    "from lm_experiments_tools.trainer import Trainer\n",
    "\n",
    "from torch.nn.utils.rnn import pad_sequence\n",
    "# from lm_experiments_tools.lm_datasets import get_lm_datasets\n",
    "from task_utils.contract_nli import process_file\n",
    "import transformers  # noqa: E402\n",
    "from transformers import AutoConfig, AutoTokenizer, HfArgumentParser  # noqa: E402\n",
    "\n",
    "from lm_experiments_tools.utils import collect_run_configuration, get_cls_by_name, get_optimizer  # noqa: E402\n",
    "import lm_experiments_tools.optimizers as optimizers  # noqa: E402\n"
   ]
  },
  {
   "cell_type": "code",
   "execution_count": 2,
   "metadata": {},
   "outputs": [],
   "source": [
    "\n",
    "# load_dotenv()\n",
    "\n",
    "# logging.basicConfig(format='%(asctime)s - %(name)s - %(levelname)s - %(message)s',\n",
    "#                     level=logging.INFO)\n",
    "# logger = logging.getLogger(__name__)\n",
    "\n",
    "# os.environ[\"CUDA_LAUNCH_BLOCKING\"] = \"1\"\n",
    "# # if CUDA_VISIBLE_DEVICES is not set make all gpus visible\n",
    "# if os.environ.get('CUDA_VISIBLE_DEVICES', None) is None:\n",
    "#     os.environ['CUDA_VISIBLE_DEVICES'] = ','.join([str(i) for i in range(torch.cuda.device_count())])\n",
    "\n",
    "# logger.info(f\"CUDA_VISIBLE_DEVICES: {os.environ['CUDA_VISIBLE_DEVICES']}\")\n",
    "# # first call to torch.cuda.device_count() sets visible gpus, following calls will not change the result\n",
    "# logger.info(f\"CUDA DEVICE COUNT: {torch.cuda.device_count()}\")\n",
    "\n",
    "# hvd.init()\n",
    "\n",
    "\n",
    "# # limit # of CPU threads to be used per pytorch worker, otherwise it might use all cpus and throttle gpus\n",
    "# # > 2 fails cause of https://github.com/pytorch/pytorch/issues/56615\n",
    "# # need to upgrade to torch>1.8.1\n",
    "# torch.set_num_threads(4)\n",
    "# # all gpus set with CUDA_VISIBLE_DEVICES are visible to process, indexing from 0 to ...\n",
    "# torch.cuda.set_device(hvd.local_rank())\n",
    "\n",
    "# parser = HfArgumentParser(TrainerArgs)\n",
    "# parser.add_argument('--task_name', type=str, help=\"Task name, wikitext, ...\")\n",
    "# parser.add_argument('--validate_only', action='store_true', default=False,\n",
    "#                     help='Skip training and run only validation. (default: False)')\n",
    "# parser.add_argument('--working_dir', type=str, default='.',\n",
    "#                     help='working dir, should be a dir with t5-experiments repo (default: .)')\n",
    "# parser.add_argument('--seed', type=int, default=42, help='random seed')\n",
    "# parser.add_argument('--show_valid_examples', type=int, default=0,\n",
    "#                     help='how many valid examples to show during training (default: 0)')\n",
    "# parser.add_argument('--input_seq_len', type=int, default=128, help='input sequnce length (default: 128).')\n",
    "# parser.add_argument('--target_seq_len', type=int, default=16, help='target sequnce length, should be set to '\n",
    "#                                                                    'max(len(target))+1 for EOS (default: 16).')\n",
    "# parser.add_argument('--data_n_workers', type=int, default=2, help='number of dataloader workers (default: 2)')\n",
    "\n",
    "# parser.add_argument('--input_prefix', type=str, default='', help='add task prefix to an input string (default: \"\")')\n",
    "# parser.add_argument('--sliding_window', action='store_true', help='use slinding window attentinon mask, '\n",
    "#                     'eval on last segment only', default=False)\n",
    "\n",
    "# # model args\n",
    "# parser.add_argument('--from_pretrained', type=str, help='model name in HF Model Hub (default: \"\")')\n",
    "# parser.add_argument('--model_cfg', type=str, help='path to model configuration file (default: \"\")')\n",
    "# parser.add_argument('--model_cls', type=str, default='transformers:BertForPreTraining',\n",
    "#                     help='model class name to use (default: transformers:BertForPreTraining)')\n",
    "# parser.add_argument('--memory_cell_cls', type=str, default=None, help='cell class for RMT')\n",
    "# parser.add_argument('--recurrent_wrapper_cls', type=str, default=None, help='recurrent wrapper class for RMT')\n",
    "# parser.add_argument('--model_cpt', type=str, default=None, help='pretrained model checkpoint path')\n",
    "# parser.add_argument('--backbone_cls', type=str, default=None,\n",
    "#                     help='backbone class name to use for RMT')\n",
    "# parser.add_argument('--model_type', type=str, default='encoder-decoder',\n",
    "#                     help='model type, encoder, encoder-decoder, decoder, affects preprocessing '\n",
    "#                          '(default: encoder-decoder)')\n",
    "\n",
    "\n",
    "# # Aydar # RMT args \n",
    "# parser.add_argument('--input_size', type=int, default=None, help='maximal input size of the backbone model')\n",
    "# parser.add_argument('--num_mem_tokens', type=int, default=None, help='number of memory tokens.')\n",
    "# parser.add_argument('--max_n_segments', type=int, default=1, help='maximal segment number')\n",
    "# # parser.add_argument('--sum_loss', action='store_true', default=False,\n",
    "# #                     help='with this flag task loss from all segments is summed')\n",
    "# # parser.add_argument('--bptt_depth', type=int, default=-1, help='max number of previous segments in gradient computation.')\n",
    "# # parser.add_argument('--segment_ordering', type=str, help='segment order', default='regular',\n",
    "# #                     choices=['regular', 'reversed', 'bidirectional', 'repeat_first', 'last_memory_only'])\n",
    "# # parser.add_argument('--memory_forward_func', type=str, help='path to memory forward funсtion script', default=None)\n",
    "# # parser.add_argument('--memory_layers', type=str, help='memory-augmented layer inds or \"all\" for all layers', default=None)\n",
    "# # parser.add_argument('--share_memory_layers', action='store_true', help='share weights of memory layers', default=False)\n",
    "# # parser.add_argument('--reconstruction_loss_coef', type=float, default=None,\n",
    "# #                     help='reconstuction loss ratio in total loss')\n",
    "# # # parser.add_argument('--segment_ordering', type=str,help='????', default='regular',\n",
    "# # #                     choices=['regular', 'reversed', 'bidirectional', 'repeat_first', 'last_memory_only'])\n",
    "# # parser.add_argument('--retain_graph', action='store_true', help='Retain computation graph during backward pass', default=False)\n",
    "# # parser.add_argument('--use_truncated_backward', action='store_true', default=False,\n",
    "# #                     help='whether to use RMT truncated bptt method in backward')\n",
    "# # parser.add_argument('--k1', type=int, default=-1, help='(not implemented) If not -1, gradient update is done each k1 segments')\n",
    "# parser.add_argument('--k2', type=int, default=-1, help='number of last segments used by backward')\n",
    "# parser.add_argument('--freeze_model_weights', action='store_true', default=False,\n",
    "#                     help='Stop training all model weights except memory layers')\n",
    "# parser.add_argument('--backbone_cpt', type=str, default=None, help='backbone model checkpoint path')\n",
    "\n",
    "\n",
    "# # tokenizer\n",
    "# # todo: add wordpiece tokenizers support?\n",
    "# parser.add_argument('--tokenizer', type=str, default=None, help='path or name of pre-trained HF Tokenizer')\n",
    "\n",
    "# # optimizer args\n",
    "# parser.add_argument('--optimizer', type=str, default='AdamW', help='optimizer name: AdamW, Adafactor. (default: AdamW)')\n",
    "# parser.add_argument('--weight_decay', type=float, default=0.0, help='optimizer weight decay (default: 0.0)')\n",
    "# parser.add_argument('--scale_parameter', action='store_true', default=False,\n",
    "#                     help='Adafactor scale_parameter (default: False)')\n",
    "# parser.add_argument('--relative_step', action='store_true', default=False,\n",
    "#                     help='Adafactor relative_step (default: False)')\n",
    "# parser.add_argument('--warmup_init', action='store_true', default=False,\n",
    "#                     help='Adafactor warmup_init (default: False)')"
   ]
  },
  {
   "cell_type": "code",
   "execution_count": 3,
   "metadata": {},
   "outputs": [],
   "source": [
    "\n",
    "def download_metric():\n",
    "    scrolls_metric_path = hf_hub_download(repo_id=\"tau/scrolls\", filename=\"metrics/scrolls.py\", repo_type=\"dataset\")\n",
    "    updated_scrolls_metric_path = (\n",
    "        os.path.dirname(scrolls_metric_path) + os.path.basename(scrolls_metric_path).replace(\".\", \"_\") + \".py\"\n",
    "    )\n",
    "    shutil.copy(scrolls_metric_path, updated_scrolls_metric_path)\n",
    "    return updated_scrolls_metric_path\n",
    "\n",
    "\n",
    "scrolls_metric_path = download_metric()\n",
    "\n",
    "task_to_metric = {\n",
    "    'gov_report': ['rouge/rouge1', 'rouge/rouge2', 'rouge/rougeL', 'rouge/rougeLsum', 'rouge/geometric_mean'],\n",
    "    'summ_screen_fd': ['rouge/rouge1', 'rouge/rouge2', 'rouge/rougeL', 'rouge/rougeLsum', 'rouge/geometric_mean'],\n",
    "    'qmsum': ['rouge/rouge1', 'rouge/rouge2', 'rouge/rougeL', 'rouge/rougeLsum', 'rouge/geometric_mean'],\n",
    "    'narrative_qa': ['f1'],\n",
    "    'qasper': ['f1'],\n",
    "    'quality': ['exact_match'],\n",
    "    'contract_nli': ['exact_match']\n",
    "}\n",
    "\n",
    "tasks_with_duplicates = {'narrative_qa', 'qasper'}\n",
    "\n",
    "\n",
    "# https://github.com/tau-nlp/scrolls/blob/5bfb8dbaf3a0128ac8c65922096fd95a645f6ba2/baselines/src/utils/duplicates.py#L1\n",
    "# some tasks have multiple possible labels for single input, drop_duplicates_in_input will collect such labels\n",
    "def drop_duplicates_in_input(untokenized_dataset):\n",
    "    indices_to_keep = []\n",
    "    id_to_idx = {}\n",
    "    outputs = []\n",
    "    for i, (id_, output) in enumerate(zip(untokenized_dataset[\"id\"], untokenized_dataset[\"output\"])):\n",
    "        if id_ in id_to_idx:\n",
    "            outputs[id_to_idx[id_]].append(output)\n",
    "            continue\n",
    "        indices_to_keep.append(i)\n",
    "        id_to_idx[id_] = len(outputs)\n",
    "        outputs.append([output])\n",
    "    untokenized_dataset = untokenized_dataset.select(indices_to_keep).flatten_indices()\n",
    "    untokenized_dataset = untokenized_dataset.remove_columns(\"output\")\n",
    "    untokenized_dataset = untokenized_dataset.add_column(\"outputs\", outputs)\n",
    "    return untokenized_dataset"
   ]
  },
  {
   "cell_type": "code",
   "execution_count": 4,
   "metadata": {},
   "outputs": [],
   "source": [
    "class Holder:\n",
    "    def __init__(self):\n",
    "        pass\n",
    "    def __getattr__(self, name):\n",
    "        try:\n",
    "            return super().__getattr__(name)\n",
    "        except AttributeError:\n",
    "            return None\n",
    "\n",
    "args = Holder()"
   ]
  },
  {
   "cell_type": "code",
   "execution_count": 5,
   "metadata": {},
   "outputs": [],
   "source": [
    "# model_cpt = '/cephfs/home/bulatov/bulatov/RMT_light/runs/contract_nli/gpt2/linear_adamw_wd1e-03_124-128-1x128_mem2_bs128_regular_bptt-1_from_cpt_0-1/run_1/'\n",
    "# model_cpt = \"/cephfs/home/bulatov/bulatov/RMT_light/runs/contract_nli/gpt2/linear_adamw_wd1e-03_118-128-1x128_mem5_bs128_regular_bptt-1_from_cpt_0-1/run_1\"\n",
    "# model_cpt = '/cephfs/home/bulatov/bulatov/RMT_light/runs/contract_nli/gpt2/lr5e-05_linear_adamw_wd1e-03_236-128-2x128_mem5_bs128_iters1500_regular_bptt-2/run_1'"
   ]
  },
  {
   "cell_type": "code",
   "execution_count": 6,
   "metadata": {},
   "outputs": [],
   "source": [
    "# import json\n",
    "# with open(model_cpt + '/config.json', 'r') as f:\n",
    "#     config = json.load(f)\n",
    "\n",
    "# config"
   ]
  },
  {
   "cell_type": "code",
   "execution_count": 7,
   "metadata": {},
   "outputs": [],
   "source": [
    "attrs = (\"--model_path\", \"/home/jovyan/rmt/runs/test/scrolls\",\n",
    "\"--from_pretrained\", \"gpt2\",\n",
    "\"--task_name\", \"qasper\",\n",
    "\"--model_type\", \"decoder\",\n",
    "\"--memory_cell_cls\", \"modeling_rmt.language_modeling:MemoryCell\",\n",
    "\"--recurrent_wrapper_cls\", \"modeling_rmt.language_modeling:RecurrentWrapper\",\n",
    "\"--model_cls\",  \"transformers:AutoModelForCausalLM\",\n",
    "\"--segment_alignment\", \"right\",\n",
    "# \"--model_cpt\", model_cpt,\n",
    "\"--optimizer\", \"AdamW\",\n",
    "\"--weight_decay\", \"0.001\",\n",
    "\"--lr\", \"1e-03\", \n",
    "\"--lr_scheduler\", \"constant_with_warmup\",\n",
    "\"--clip_grad_value\", \"5.0\")\n",
    "\n",
    "int_attrs = (\n",
    "    \n",
    "# \"--input_seq_len\", \"118\",\n",
    "\"--input_seq_len\", \"248\",\n",
    "\"--input_size\", \"128\",\n",
    "\"--target_seq_len\", \"128\",\n",
    "\"--num_mem_tokens\", \"2\",\n",
    "\"--max_n_segments\" ,\"2\", \n",
    "\"--batch_size\", \"2\", \n",
    "\"--gradient_accumulation_steps\", \"1\",\n",
    "\"--iters\", \"100\",\n",
    "\"--num_warmup_steps\", \"100\",\n",
    "\"--data_n_workers\", \"2\",\n",
    "\"--log_interval\", \"10\",\n",
    "\"--show_valid_examples\", \"5\",\n",
    "\"--early_stopping_patience\", \"15\",\n",
    "\"--seed\", \"42\",\n",
    "\"--k2\", \"-1\",)"
   ]
  },
  {
   "cell_type": "code",
   "execution_count": 8,
   "metadata": {},
   "outputs": [],
   "source": [
    "for a, v in zip(int_attrs[::2], int_attrs[1::2]):\n",
    "    setattr(args, a.split('--')[1], int(v))\n",
    "\n",
    "for a, v in zip(attrs[::2], attrs[1::2]):\n",
    "    try:\n",
    "        setattr(args, a.split('--')[1], float(v))\n",
    "    except ValueError:\n",
    "        setattr(args, a.split('--')[1], v)"
   ]
  },
  {
   "cell_type": "code",
   "execution_count": 9,
   "metadata": {},
   "outputs": [],
   "source": [
    "\n",
    "# args = parser.parse_args()\n",
    "# set current working dir\n",
    "# args.working_dir = str(Path(args.working_dir).expanduser().absolute())\n",
    "# os.chdir(args.working_dir)\n",
    "# if hvd.rank() == 0:\n",
    "#     logger.info(f'hvd size: {hvd.size()}')\n",
    "#     logger.info(f'FP16: {args.fp16}')\n",
    "\n",
    "# if hvd.rank() == 0 and args.model_path is None:\n",
    "#     logger.warning('model_path is not set: config, logs and checkpoints will not be saved.')\n",
    "\n",
    "# # create model path and save configuration\n",
    "# if hvd.rank() == 0 and args.model_path is not None:\n",
    "#     model_path = Path(args.model_path)\n",
    "#     if not model_path.exists():\n",
    "#         Path(model_path).mkdir(parents=True)\n",
    "#     args_dict = collect_run_configuration(args)\n",
    "#     # todo: if model path exists and there is config file, write new config file aside\n",
    "#     json.dump(args_dict, open(model_path/'config.json', 'w'), indent=4)\n",
    "\n",
    "if not args.from_pretrained:\n",
    "    tokenizer = AutoTokenizer.from_pretrained(args.tokenizer)\n",
    "else:\n",
    "    tokenizer = AutoTokenizer.from_pretrained(args.from_pretrained)\n"
   ]
  },
  {
   "cell_type": "code",
   "execution_count": 10,
   "metadata": {},
   "outputs": [],
   "source": [
    "import os\n",
    "os.environ[\"TOKENIZERS_PARALLELISM\"] = \"false\"\n",
    "if args.model_type == 'decoder':\n",
    "    from torch.nn.utils.rnn import pad_sequence\n",
    "    # tokenizer.pad_token = tokenizer.eos_token\n",
    "    # tokenizer.pad_token_id = tokenizer.eos_token\n",
    "    tokenizer.add_special_tokens({'additional_special_tokens': ['[GEN]', '[PAD]']})\n",
    "    gen_token = tokenizer.encode('[GEN]')[0]\n",
    "    tokenizer.pad_token_id = tokenizer.encode('[PAD]')[0]\n",
    "    id_pad_value = tokenizer.pad_token_id\n",
    "\n",
    "    block_size = args.input_size\n",
    "    if args.num_mem_tokens not in {0, None}:\n",
    "        block_size -= 2 * args.num_mem_tokens\n",
    "\n",
    "    def collate_fn(batch):\n",
    "        inputs = [b['input'][:args.input_seq_len * 10] for b in batch]\n",
    "        if 'outputs' in batch[0]:\n",
    "            # if we have more than 1 label per example (only in valid) take only one of them\n",
    "            # to compute loss on valid\n",
    "            target_text = [b['outputs'][0][:args.input_seq_len * 10] for b in batch]\n",
    "        else:\n",
    "            target_text = [b['output'][:args.input_seq_len * 10] for b in batch]\n",
    "\n",
    "        collated = {}\n",
    "        inputs = tokenizer.batch_encode_plus(list(inputs), max_length=args.input_seq_len, truncation=True, padding=False)\n",
    "        labels = tokenizer.batch_encode_plus(list(target_text), padding=False)\n",
    "\n",
    "        full_inputs = [torch.tensor(i[:args.input_seq_len - len(l) - 2] + [gen_token] + l + [eos_token]) for i, l in zip(inputs['input_ids'], labels['input_ids'])]\n",
    "        labels_mask = [torch.zeros_like(i).bool() for i in full_inputs]\n",
    "        for i, l in enumerate(labels['input_ids']):\n",
    "            labels_mask[i][-len(l) - 2:] = True\n",
    "\n",
    "        full_inputs = pad_sequence(full_inputs, padding_value=tokenizer.pad_token_id).T\n",
    "        labels_mask = pad_sequence(labels_mask, padding_value=False).T\n",
    "\n",
    "        gen_inputs = [torch.tensor(i[:args.input_seq_len - len(l) - 2] + [gen_token]) for i, l in zip(inputs['input_ids'], labels['input_ids'])]\n",
    "        gen_inputs = pad_sequence(gen_inputs, padding_value=tokenizer.pad_token_id).T\n",
    "        \n",
    "        # labels_mask = torch.zeros_like(full_inputs).bool()\n",
    "        \n",
    "\n",
    "        collated['input_ids'] = collated['labels'] = full_inputs\n",
    "        collated['input_ids_generate'] = gen_inputs\n",
    "        collated['labels_mask'] = labels_mask\n",
    "        collated['attention_mask'] = (full_inputs != id_pad_value).bool()\n",
    "        collated['attention_mask_generate'] = (gen_inputs != id_pad_value).bool()\n",
    "\n",
    "        collated['id'] = [b['id'] for b in batch]\n",
    "        collated['target_text'] = target_text\n",
    "        # for k, v in collated.items():\n",
    "        #     if hasattr(v, 'shape'):\n",
    "        #             print(k, v.shape)\n",
    "        return collated"
   ]
  },
  {
   "cell_type": "code",
   "execution_count": 11,
   "metadata": {},
   "outputs": [],
   "source": [
    "\n",
    "# get train dataset\n",
    "# if hvd.rank() == 0:\n",
    "#     logger.info(f'preparing dataset for: {args.task_name}')\n",
    "dataset = datasets.load_dataset('tau/scrolls', args.task_name)\n",
    "train_dataset = dataset['train']\n",
    "valid_dataset = dataset['validation']\n",
    "# shuffle train data each epoch (one loop over train_dataset)\n",
    "# train_sampler = DistributedSampler(train_dataset, rank=hvd.rank(), num_replicas=hvd.size(), shuffle=True,\n",
    "#                                     drop_last=False, seed=args.seed)\n",
    "per_worker_batch_size = int(args.batch_size * args.gradient_accumulation_steps)\n",
    "global_batch_size = int(args.batch_size)\n",
    "kwargs = {'pin_memory': True, 'num_workers': args.data_n_workers}\n",
    "train_dataloader = DataLoader(train_dataset, batch_size=per_worker_batch_size, \n",
    "# sampler=train_sampler,\n",
    "                                collate_fn=collate_fn, **kwargs)\n",
    "                                # collate_fn=collate_train, **kwargs)\n",
    "# get validation dataset\n",
    "valid_dataloader = None\n",
    "# if hvd.rank() == 0:\n",
    "#     logger.info(f'preparing validation data from: {args.task_name}')\n",
    "# valid_sampler = DistributedSampler(valid_dataset, rank=hvd.rank(), num_replicas=hvd.size(), shuffle=False)\n",
    "valid_dataloader = DataLoader(valid_dataset, batch_size=per_worker_batch_size, \n",
    "# sampler=valid_sampler,\n",
    "                                collate_fn=collate_fn, **kwargs)\n",
    "                                # collate_fn=collate_valid, **kwargs)\n",
    "\n",
    "# test_sampler = DistributedSampler(test_dataset, rank=hvd.rank(), num_replicas=hvd.size(), shuffle=False)\n",
    "# test_dataloader = DataLoader(test_dataset, batch_size=per_worker_batch_size, \n",
    "# sampler=test_sampler,\n",
    "                                # collate_fn=collate_fn, **kwargs)\n",
    "# if args.valid_interval is None:\n",
    "#     args.valid_interval = args.log_interval\n"
   ]
  },
  {
   "cell_type": "code",
   "execution_count": 55,
   "metadata": {},
   "outputs": [],
   "source": [
    "bs = 24\n",
    "batch = [train_dataset[i] for i in range(bs)]\n",
    "\n",
    "eos_token = tokenizer.eos_token_id\n",
    "q_tok = tokenizer.encode('Question: ')\n",
    "c_tok = tokenizer.encode('\\nContext: ')\n",
    "a_tok = tokenizer.encode('\\nAnswer: ')\n",
    "n_new_tokens = len(q_tok) + len(c_tok) + len(q_tok) + len(a_tok) + 1\n",
    "\n",
    "inputs = [b['input'][:args.input_seq_len * 10] for b in batch]\n",
    "questions = [i[:i.index('\\n\\n')] for i in inputs]\n",
    "contexts = [i[i.index('\\n\\n') + 2:] for i in inputs]\n",
    "\n",
    "if 'outputs' in batch[0]:\n",
    "    # if we have more than 1 label per example (only in valid) take only one of them\n",
    "    # to compute loss on valid\n",
    "    target_text = [b['outputs'][0][:args.input_seq_len * 10] for b in batch]\n",
    "else:\n",
    "    target_text = [b['output'][:args.input_seq_len * 10] for b in batch]\n",
    "\n",
    "collated = {}\n",
    "questions = tokenizer.batch_encode_plus(questions, max_length=args.input_seq_len, truncation=True, padding=False)['input_ids']\n",
    "contexts = tokenizer.batch_encode_plus(contexts, max_length=args.input_seq_len, truncation=True, padding=False)['input_ids']\n",
    "labels = tokenizer.batch_encode_plus(target_text, max_length=args.target_seq_len, truncation=True, padding=False)['input_ids']\n",
    "\n",
    "full_inputs = [q_tok + q + c_tok + c[:args.input_seq_len - 2*len(q) - len(a) - n_new_tokens] + \\\n",
    "                q_tok + q + a_tok + a + [eos_token] for q, c, a in zip(questions, contexts, labels)]\n",
    "full_inputs = [torch.tensor(i) for i in full_inputs]\n",
    "labels_mask = [torch.zeros_like(i).bool() for i in full_inputs]\n",
    "\n",
    "for i, l in enumerate(labels):\n",
    "    labels_mask[i][-len(l) - 2:] = True\n",
    "\n",
    "full_inputs = pad_sequence(full_inputs, padding_value=tokenizer.pad_token_id).T\n",
    "labels_mask = pad_sequence(labels_mask, padding_value=False).T\n",
    "\n",
    "gen_inputs = [q_tok + q + c_tok + c[:args.input_seq_len - 2*len(q) - len(a) - n_new_tokens] + \\\n",
    "                    q_tok + q + a_tok for q, c, a in zip(questions, contexts, labels)]\n",
    "gen_inputs = [torch.tensor(i) for i in gen_inputs]\n",
    "gen_inputs = pad_sequence(gen_inputs, padding_value=tokenizer.pad_token_id).T\n",
    "\n",
    "collated['input_ids'] = collated['labels'] = full_inputs\n",
    "collated['input_ids_generate'] = gen_inputs\n",
    "collated['labels_mask'] = labels_mask\n",
    "collated['attention_mask'] = (full_inputs != id_pad_value).bool()\n",
    "collated['attention_mask_generate'] = (gen_inputs != id_pad_value).bool()\n",
    "\n",
    "collated['id'] = [b['id'] for b in batch]\n",
    "collated['target_text'] = target_text\n"
   ]
  },
  {
   "cell_type": "code",
   "execution_count": 56,
   "metadata": {},
   "outputs": [
    {
     "data": {
      "text/plain": [
       "(128, 248, 2)"
      ]
     },
     "execution_count": 56,
     "metadata": {},
     "output_type": "execute_result"
    }
   ],
   "source": [
    "args.input_size, args.input_seq_len, args.max_n_segments"
   ]
  },
  {
   "cell_type": "code",
   "execution_count": 57,
   "metadata": {},
   "outputs": [],
   "source": [
    "block_size = args.input_seq_len // args.max_n_segments\n",
    "context_size = block_size - len(q_tok + q + c_tok)"
   ]
  },
  {
   "cell_type": "code",
   "execution_count": 8,
   "metadata": {},
   "outputs": [
    {
     "data": {
      "text/plain": [
       "[[1], [2], [1]]"
      ]
     },
     "execution_count": 8,
     "metadata": {},
     "output_type": "execute_result"
    }
   ],
   "source": [
    "x, y = [1], [2]\n",
    "ll = [x, y]\n",
    "ll.append(ll[0])\n",
    "ll"
   ]
  },
  {
   "cell_type": "code",
   "execution_count": 10,
   "metadata": {},
   "outputs": [
    {
     "data": {
      "text/plain": [
       "[[1], [2], [3, 2]]"
      ]
     },
     "execution_count": 10,
     "metadata": {},
     "output_type": "execute_result"
    }
   ],
   "source": [
    "ll[-1].append(2)\n",
    "ll"
   ]
  },
  {
   "cell_type": "code",
   "execution_count": 58,
   "metadata": {},
   "outputs": [],
   "source": [
    "q = questions[0]\n",
    "c = contexts[0]\n",
    "a = labels[0]"
   ]
  },
  {
   "cell_type": "code",
   "execution_count": 61,
   "metadata": {},
   "outputs": [
    {
     "data": {
      "text/plain": [
       "110"
      ]
     },
     "execution_count": 61,
     "metadata": {},
     "output_type": "execute_result"
    }
   ],
   "source": [
    "block_size - len(q_tok + q + c_tok)"
   ]
  },
  {
   "cell_type": "code",
   "execution_count": 62,
   "metadata": {},
   "outputs": [
    {
     "data": {
      "text/plain": [
       "[0, 110, 220, 248]"
      ]
     },
     "execution_count": 62,
     "metadata": {},
     "output_type": "execute_result"
    }
   ],
   "source": [
    "# def get_sample(q, c, a):\n",
    "context_size = block_size - len(q_tok + q + c_tok)\n",
    "split_inds = list(range(0, len(c), context_size)) + [len(c)]\n",
    "split_inds"
   ]
  },
  {
   "cell_type": "code",
   "execution_count": 63,
   "metadata": {},
   "outputs": [],
   "source": [
    "q = questions[0]\n",
    "c = contexts[0]\n",
    "a = labels[0]"
   ]
  },
  {
   "cell_type": "code",
   "execution_count": 91,
   "metadata": {},
   "outputs": [],
   "source": [
    "args.segment_ordering = 'bidirectional'\n",
    "args.segment_ordering = 'regular'"
   ]
  },
  {
   "cell_type": "code",
   "execution_count": 97,
   "metadata": {},
   "outputs": [
    {
     "data": {
      "text/plain": [
       "[1, 2, 1]"
      ]
     },
     "execution_count": 97,
     "metadata": {},
     "output_type": "execute_result"
    }
   ],
   "source": [
    "segments = [1, 2]\n",
    "segments + segments[::-1][1:]"
   ]
  },
  {
   "cell_type": "code",
   "execution_count": 106,
   "metadata": {},
   "outputs": [],
   "source": [
    "def get_sample(q, c, a):\n",
    "    segments = [q_tok + q + c_tok + c[context_size * seg_num:context_size * (seg_num + 1)] for seg_num in range(args.max_n_segments)]\n",
    "\n",
    "    if args.segment_ordering in {None, 'regular'}:\n",
    "        pass\n",
    "    elif args.segment_ordering == 'reverse':\n",
    "        segments = segments[::-1]\n",
    "    elif args.segment_ordering == 'repeat_first':\n",
    "        segments = segments + segments[-1:]\n",
    "    elif args.segment_ordering == 'bidirectional':\n",
    "        segments = segments + segments[::-1][1:]\n",
    "    else:\n",
    "        raise NotImplementedError\n",
    "\n",
    "    answer = a_tok + a\n",
    "    segments[-1][-len(answer):] = answer\n",
    "\n",
    "    full_input = [t for s in segments for t in s]\n",
    "    gen_input = full_input[:-len(a)]\n",
    "\n",
    "    return full_input, gen_input"
   ]
  },
  {
   "cell_type": "code",
   "execution_count": null,
   "metadata": {},
   "outputs": [],
   "source": [
    "\n"
   ]
  },
  {
   "cell_type": "code",
   "execution_count": 111,
   "metadata": {},
   "outputs": [],
   "source": [
    "bs = 24\n",
    "batch = [train_dataset[i] for i in range(bs)]\n",
    "\n",
    "eos_token = tokenizer.eos_token_id\n",
    "q_tok = tokenizer.encode('Question: ')\n",
    "c_tok = tokenizer.encode('\\nContext: ')\n",
    "a_tok = tokenizer.encode('\\nAnswer: ')\n",
    "n_new_tokens = len(q_tok) + len(c_tok) + len(q_tok) + len(a_tok) + 1\n",
    "\n",
    "inputs = [b['input'][:args.input_seq_len * 10] for b in batch]\n",
    "questions = [i[:i.index('\\n\\n')] for i in inputs]\n",
    "contexts = [i[i.index('\\n\\n') + 2:] for i in inputs]\n",
    "\n",
    "if 'outputs' in batch[0]:\n",
    "    # if we have more than 1 label per example (only in valid) take only one of them\n",
    "    # to compute loss on valid\n",
    "    target_text = [b['outputs'][0][:args.input_seq_len * 10] for b in batch]\n",
    "else:\n",
    "    target_text = [b['output'][:args.input_seq_len * 10] for b in batch]\n",
    "\n",
    "collated = {}\n",
    "questions = tokenizer.batch_encode_plus(questions, max_length=args.input_seq_len, truncation=True, padding=False)['input_ids']\n",
    "contexts = tokenizer.batch_encode_plus(contexts, max_length=args.input_seq_len, truncation=True, padding=False)['input_ids']\n",
    "labels = tokenizer.batch_encode_plus(target_text, max_length=args.target_seq_len, truncation=True, padding=False)['input_ids']\n",
    "\n",
    "full_inputs, gen_inputs = [], []\n",
    "for q, c, a in zip(questions, contexts, labels):\n",
    "    full_input, gen_input = get_sample(q, c, a)\n",
    "    full_inputs.append(full_input)\n",
    "    gen_inputs.append(gen_input)\n",
    "\n",
    "full_inputs = [torch.tensor(i) for i in full_inputs]\n",
    "labels_mask = [torch.zeros_like(i).bool() for i in full_inputs]\n",
    "\n",
    "for i, l in enumerate(labels):\n",
    "    labels_mask[i][-len(l) - 2:] = True\n",
    "\n",
    "full_inputs = pad_sequence(full_inputs, padding_value=tokenizer.pad_token_id).T\n",
    "labels_mask = pad_sequence(labels_mask, padding_value=False).T\n",
    "\n",
    "gen_inputs = [torch.tensor(i) for i in gen_inputs]\n",
    "gen_inputs = pad_sequence(gen_inputs, padding_value=tokenizer.pad_token_id).T\n",
    "\n",
    "collated['input_ids'] = collated['labels'] = full_inputs\n",
    "collated['input_ids_generate'] = gen_inputs\n",
    "collated['labels_mask'] = labels_mask\n",
    "collated['attention_mask'] = (full_inputs != id_pad_value).bool()\n",
    "collated['attention_mask_generate'] = (gen_inputs != id_pad_value).bool()\n",
    "\n",
    "collated['id'] = [b['id'] for b in batch]\n",
    "collated['target_text'] = target_text\n"
   ]
  },
  {
   "cell_type": "code",
   "execution_count": null,
   "metadata": {},
   "outputs": [],
   "source": [
    "get_sample(q, c, a) for q, c, "
   ]
  },
  {
   "cell_type": "code",
   "execution_count": null,
   "metadata": {},
   "outputs": [],
   "source": []
  },
  {
   "cell_type": "code",
   "execution_count": null,
   "metadata": {},
   "outputs": [],
   "source": []
  },
  {
   "cell_type": "code",
   "execution_count": 104,
   "metadata": {},
   "outputs": [
    {
     "name": "stdout",
     "output_type": "stream",
     "text": [
      "Question: What is the seed lexicon?\n",
      "Context: Introduction\n",
      "Affective events BIBREF0 are events that typically affect people in positive or negative ways. For example, getting money and playing sports are usually positive to the experiencers; catching cold and losing one's wallet are negative. Understanding affective events is important to various natural language processing (NLP) applications such as dialogue systems BIBREF1, question-answering systems BIBREF2, and humor recognition BIBREF3. In this paper, we work on recognizing the polarity of an affective event that isQuestion: What is the seed lexicon?\n",
      "Context:  represented by a score ranging from $-1$ (negative) to 1 (positive).\n",
      "Learning affective events is challenging because, as the examples above suggest, the polarity of an event is not necessarily predictable from its constituent words. Combined with the unbounded combinatorial nature of language, the non-compositionality of affective polarity entails the need for large amounts of world knowledge, which can hardly be learned from small\n",
      "Answer: a vocabulary of positive and negative predicates that helps determine the polarity score of an event\n"
     ]
    }
   ],
   "source": [
    "print(tokenizer.decode(full_input))"
   ]
  },
  {
   "cell_type": "code",
   "execution_count": 105,
   "metadata": {},
   "outputs": [
    {
     "name": "stdout",
     "output_type": "stream",
     "text": [
      "Question: What is the seed lexicon?\n",
      "Context: Introduction\n",
      "Affective events BIBREF0 are events that typically affect people in positive or negative ways. For example, getting money and playing sports are usually positive to the experiencers; catching cold and losing one's wallet are negative. Understanding affective events is important to various natural language processing (NLP) applications such as dialogue systems BIBREF1, question-answering systems BIBREF2, and humor recognition BIBREF3. In this paper, we work on recognizing the polarity of an affective event that isQuestion: What is the seed lexicon?\n",
      "Context:  represented by a score ranging from $-1$ (negative) to 1 (positive).\n",
      "Learning affective events is challenging because, as the examples above suggest, the polarity of an event is not necessarily predictable from its constituent words. Combined with the unbounded combinatorial nature of language, the non-compositionality of affective polarity entails the need for large amounts of world knowledge, which can hardly be learned from small\n",
      "Answer: \n"
     ]
    }
   ],
   "source": [
    "print(tokenizer.decode(gen_input))"
   ]
  },
  {
   "cell_type": "code",
   "execution_count": 66,
   "metadata": {},
   "outputs": [
    {
     "data": {
      "text/plain": [
       "[124, 124]"
      ]
     },
     "execution_count": 66,
     "metadata": {},
     "output_type": "execute_result"
    }
   ],
   "source": [
    "[len(s) for s in segments]"
   ]
  },
  {
   "cell_type": "code",
   "execution_count": 70,
   "metadata": {},
   "outputs": [],
   "source": []
  },
  {
   "cell_type": "code",
   "execution_count": 69,
   "metadata": {},
   "outputs": [
    {
     "name": "stdout",
     "output_type": "stream",
     "text": [
      "Question: What is the seed lexicon?\n",
      "Context: Introduction\n",
      "Affective events BIBREF0 are events that typically affect people in positive or negative ways. For example, getting money and playing sports are usually positive to the experiencers; catching cold and losing one's wallet are negative. Understanding affective events is important to various natural language processing (NLP) applications such as dialogue systems BIBREF1, question-answering systems BIBREF2, and humor recognition BIBREF3. In this paper, we work on recognizing the polarity of an affective event that is\n",
      "\n",
      "Question: What is the seed lexicon?\n",
      "Context:  represented by a score ranging from $-1$ (negative) to 1 (positive).\n",
      "Learning affective events is challenging because, as the examples above suggest, the polarity of an event is not necessarily predictable from its constituent words. Combined with the unbounded combinatorial nature of language, the non-compositionality of affective polarity entails the need for large amounts of world knowledge, which can hardly be learned from small\n",
      "Answer: a vocabulary of positive and negative predicates that helps determine the polarity score of an event\n",
      "\n"
     ]
    }
   ],
   "source": [
    "for s in segments:\n",
    "    print(tokenizer.decode(s))\n",
    "    print()"
   ]
  },
  {
   "cell_type": "code",
   "execution_count": 45,
   "metadata": {},
   "outputs": [
    {
     "data": {
      "text/plain": [
       "[124, 124]"
      ]
     },
     "execution_count": 45,
     "metadata": {},
     "output_type": "execute_result"
    }
   ],
   "source": [
    "[len(q_tok + q + c_tok + c[start:end]) for start, end in zip(split_inds, split_inds[1:-1])]"
   ]
  },
  {
   "cell_type": "code",
   "execution_count": 21,
   "metadata": {},
   "outputs": [
    {
     "data": {
      "text/plain": [
       "124"
      ]
     },
     "execution_count": 21,
     "metadata": {},
     "output_type": "execute_result"
    }
   ],
   "source": [
    "len(q_tok + q + c_tok + c[:block_size - len(q_tok + q + c_tok)])"
   ]
  },
  {
   "cell_type": "code",
   "execution_count": null,
   "metadata": {},
   "outputs": [],
   "source": [
    "block_size"
   ]
  },
  {
   "cell_type": "code",
   "execution_count": 12,
   "metadata": {},
   "outputs": [],
   "source": [
    "bs = 24\n",
    "batch = [train_dataset[i] for i in range(bs)]\n",
    "\n",
    "eos_token = tokenizer.eos_token_id\n",
    "q_tok = tokenizer.encode('Question: ')\n",
    "c_tok = tokenizer.encode('Context: ')\n",
    "a_tok = tokenizer.encode('Answer: ')\n",
    "n_new_tokens = len(q_tok) + len(c_tok) + len(q_tok) + len(a_tok) + 1\n",
    "\n",
    "def collate_fn(batch):\n",
    "    inputs = [b['input'][:args.input_seq_len * 10] for b in batch]\n",
    "    questions = [i[:i.index('\\n\\n')] for i in inputs]\n",
    "    contexts = [i[i.index('\\n\\n') + 2:] for i in inputs]\n",
    "\n",
    "    if 'outputs' in batch[0]:\n",
    "        # if we have more than 1 label per example (only in valid) take only one of them\n",
    "        # to compute loss on valid\n",
    "        target_text = [b['outputs'][0][:args.input_seq_len * 10] for b in batch]\n",
    "    else:\n",
    "        target_text = [b['output'][:args.input_seq_len * 10] for b in batch]\n",
    "\n",
    "    collated = {}\n",
    "    questions = tokenizer.batch_encode_plus(questions, max_length=args.input_seq_len, truncation=True, padding=False)['input_ids']\n",
    "    contexts = tokenizer.batch_encode_plus(contexts, max_length=args.input_seq_len, truncation=True, padding=False)['input_ids']\n",
    "    labels = tokenizer.batch_encode_plus(target_text, max_length=args.target_seq_len, truncation=True, padding=False)['input_ids']\n",
    "\n",
    "    full_inputs = [q_tok + q + c_tok + c[:args.input_seq_len - 2*len(q) - len(a) - n_new_tokens] + \\\n",
    "                   q_tok + q + a_tok + a + [eos_token] for q, c, a in zip(questions, contexts, labels)]\n",
    "    full_inputs = [torch.tensor(i) for i in full_inputs]\n",
    "    labels_mask = [torch.zeros_like(i).bool() for i in full_inputs]\n",
    "\n",
    "    for i, l in enumerate(labels):\n",
    "        labels_mask[i][-len(l) - 2:] = True\n",
    "\n",
    "    full_inputs = pad_sequence(full_inputs, padding_value=tokenizer.pad_token_id).T\n",
    "    labels_mask = pad_sequence(labels_mask, padding_value=False).T\n",
    "\n",
    "    gen_inputs = [q_tok + q + c_tok + c[:args.input_seq_len - 2*len(q) - len(a) - n_new_tokens] + \\\n",
    "                        q_tok + q + a_tok for q, c, a in zip(questions, contexts, labels)]\n",
    "    gen_inputs = [torch.tensor(i) for i in gen_inputs]\n",
    "    gen_inputs = pad_sequence(gen_inputs, padding_value=tokenizer.pad_token_id).T\n",
    "\n",
    "    collated['input_ids'] = collated['labels'] = full_inputs\n",
    "    collated['input_ids_generate'] = gen_inputs\n",
    "    collated['labels_mask'] = labels_mask\n",
    "    collated['attention_mask'] = (full_inputs != id_pad_value).bool()\n",
    "    collated['attention_mask_generate'] = (gen_inputs != id_pad_value).bool()\n",
    "\n",
    "    collated['id'] = [b['id'] for b in batch]\n",
    "    collated['target_text'] = target_text\n",
    "\n",
    "    return collated\n"
   ]
  },
  {
   "cell_type": "code",
   "execution_count": 13,
   "metadata": {},
   "outputs": [],
   "source": [
    "collated = collate_fn(batch)"
   ]
  },
  {
   "cell_type": "code",
   "execution_count": 14,
   "metadata": {},
   "outputs": [
    {
     "data": {
      "text/plain": [
       "torch.Size([24, 256])"
      ]
     },
     "execution_count": 14,
     "metadata": {},
     "output_type": "execute_result"
    }
   ],
   "source": [
    "collated['input_ids'].shape"
   ]
  },
  {
   "cell_type": "code",
   "execution_count": 140,
   "metadata": {},
   "outputs": [
    {
     "data": {
      "text/plain": [
       "torch.Size([24, 254])"
      ]
     },
     "execution_count": 140,
     "metadata": {},
     "output_type": "execute_result"
    }
   ],
   "source": [
    "collated['input_ids_generate'].shape"
   ]
  },
  {
   "cell_type": "code",
   "execution_count": 142,
   "metadata": {},
   "outputs": [
    {
     "data": {
      "text/plain": [
       "tensor([50258, 50258, 50258, 50258, 50258, 50258, 50258, 50258, 50258, 50258,\n",
       "        50258, 50258,   220,   220, 50258, 50258,   220, 50258, 50258, 50258,\n",
       "        50258, 50258, 50258, 50258])"
      ]
     },
     "execution_count": 142,
     "metadata": {},
     "output_type": "execute_result"
    }
   ],
   "source": [
    "collated['input_ids_generate'][:, -1]"
   ]
  },
  {
   "cell_type": "code",
   "execution_count": 134,
   "metadata": {},
   "outputs": [
    {
     "name": "stdout",
     "output_type": "stream",
     "text": [
      "Question: What is the seed lexicon?Context: Introduction\n",
      "Affective events BIBREF0 are events that typically affect people in positive or negative ways. For example, getting money and playing sports are usually positive to the experiencers; catching cold and losing one's wallet are negative. Understanding affective events is important to various natural language processing (NLP) applications such as dialogue systems BIBREF1, question-answering systems BIBREF2, and humor recognition BIBREF3. In this paper, we work on recognizing the polarity of an affective event that is represented by a score ranging from $-1$ (negative) to 1 (positive).\n",
      "Learning affective events is challenging because, as the examples above suggest, the polarity of an event is not necessarily predictable from its constituent words. Combined with the unbounded combinatorial nature of language, the non-compositionality of affective polarity entails the need for large amounts of world knowledge, which can hardly be learned from small annotated data.\n",
      "In this paper, we propose a simpleQuestion: What is the seed lexicon?Answer: a vocabulary of positive and negative predicates that helps determine the polarity score of an event<|endoftext|>\n"
     ]
    }
   ],
   "source": [
    "print(tokenizer.decode(collated['input_ids'][0]))"
   ]
  },
  {
   "cell_type": "code",
   "execution_count": 135,
   "metadata": {},
   "outputs": [
    {
     "data": {
      "text/plain": [
       "' seed lexicon consists of positive and negative predicates<|endoftext|>'"
      ]
     },
     "execution_count": 135,
     "metadata": {},
     "output_type": "execute_result"
    }
   ],
   "source": [
    "lab = [l[m] for l, m in zip(collated['input_ids'], collated['labels_mask'])]\n",
    "\n",
    "tokenizer.decode(lab[1])"
   ]
  },
  {
   "cell_type": "code",
   "execution_count": 136,
   "metadata": {},
   "outputs": [
    {
     "data": {
      "text/plain": [
       "torch.Size([24, 256])"
      ]
     },
     "execution_count": 136,
     "metadata": {},
     "output_type": "execute_result"
    }
   ],
   "source": [
    "collated['labels'].shape"
   ]
  },
  {
   "cell_type": "code",
   "execution_count": null,
   "metadata": {},
   "outputs": [],
   "source": []
  },
  {
   "cell_type": "code",
   "execution_count": null,
   "metadata": {},
   "outputs": [],
   "source": []
  },
  {
   "cell_type": "code",
   "execution_count": null,
   "metadata": {},
   "outputs": [],
   "source": []
  },
  {
   "cell_type": "code",
   "execution_count": 12,
   "metadata": {},
   "outputs": [
    {
     "name": "stdout",
     "output_type": "stream",
     "text": [
      "[2023-10-09 12:53:32,191] [INFO] [real_accelerator.py:133:get_accelerator] Setting ds_accelerator to cuda (auto detect)\n"
     ]
    },
    {
     "name": "stderr",
     "output_type": "stream",
     "text": [
      "You are resizing the embedding layer without providing a `pad_to_multiple_of` parameter. This means that the new embedding dimension will be 50259. This might induce some performance reduction as *Tensor Cores* will not be available. For more details about this, or help on choosing the correct value for resizing, refer to this guide: https://docs.nvidia.com/deeplearning/performance/dl-performance-matrix-multiplication/index.html#requirements-tc\n"
     ]
    }
   ],
   "source": [
    "block_size=args.input_size-2*args.num_mem_tokens\n",
    "# define model\n",
    "model_cls = get_cls_by_name(args.model_cls)\n",
    "# if hvd.rank() == 0:\n",
    "#     logger.info(f'Using model class: {model_cls}')\n",
    "if not args.from_pretrained:\n",
    "    model_cfg = AutoConfig.from_pretrained(args.model_cfg)\n",
    "    model = model_cls(config=model_cfg)\n",
    "else:\n",
    "    # if hvd.rank() == 0:\n",
    "    #     logger.info(f'Loading pretrained model: {args.from_pretrained}')\n",
    "    model = model_cls.from_pretrained(args.from_pretrained)\n",
    "\n",
    "model.resize_token_embeddings(len(tokenizer))\n",
    "\n",
    "## load cpt of backbone model\n",
    "if args.backbone_cpt:\n",
    "    backbone_cpt = os.path.join(args.backbone_cpt, \"model_best.pth\")\n",
    "    cpt = torch.load(backbone_cpt, map_location='cpu')\n",
    "    model.load_state_dict(cpt['model_state_dict'], strict=False)\n",
    "    # if hvd.rank() == 0:\n",
    "    #     logger.info(f'Loaded baseline state dict from: {args.backbone_cpt}')\n",
    "\n",
    "# Pass memory settings to pretrained model\n",
    "if args.num_mem_tokens is not None:\n",
    "    memory_cell_cls = get_cls_by_name(args.memory_cell_cls)\n",
    "    recurrent_wrapper_cls = get_cls_by_name(args.recurrent_wrapper_cls)\n",
    "    # memory_cell_cls = MemoryCell\n",
    "    # recurrent_wrapper_cls = RecurrentWrapper\n",
    "    # if hvd.rank() == 0:\n",
    "    #     logger.info(f'Wrapping in: {memory_cell_cls} and {recurrent_wrapper_cls}')\n",
    "    \n",
    "    \n",
    "    cell = memory_cell_cls(model, args.num_mem_tokens)\n",
    "    model = recurrent_wrapper_cls(cell, \n",
    "                                    segment_size=block_size,\n",
    "                                    max_n_segments=args.max_n_segments, \n",
    "                                    k2=args.k2,\n",
    "                                    segment_alignment=args.segment_alignment\n",
    "    )\n",
    "                                \n",
    "\n",
    "    ## load cpt of rmt\n",
    "    if args.model_cpt:\n",
    "        model_cpt = os.path.join(args.model_cpt, \"model_best.pth\")\n",
    "        cpt = torch.load(model_cpt, map_location='cpu')\n",
    "        model.load_state_dict(cpt['model_state_dict'], strict=False)\n",
    "        # if hvd.rank() == 0:\n",
    "            # logger.info(f'Loaded RMT state dict from: {args.model_cpt}')\n",
    "        print(f'Loaded RMT state dict from: {args.model_cpt}')\n",
    "\n",
    "if args.freeze_model_weights:\n",
    "    for n, p in model.named_parameters():\n",
    "        # if 'memory' not in n and 'wte' not in n:\n",
    "        if 'memory' not in n and 'lora' not in n:\n",
    "            p.requires_grad = False\n",
    "    # if hvd.rank() == 0:\n",
    "    #     logger.info(f'Frozen moodel weights')\n",
    "    #     logger.info(f'Remaining parameters: {[n for n, p in model.named_parameters() if p.requires_grad]}')\n",
    "\n",
    "# # fix the not-contiguous error with loralib and horovod\n",
    "# def make_contiguous(module):\n",
    "#     with torch.no_grad():\n",
    "#         for param in module.parameters():\n",
    "#             param.set_(param.contiguous())\n",
    "# make_contiguous(model)\n"
   ]
  },
  {
   "cell_type": "code",
   "execution_count": 13,
   "metadata": {},
   "outputs": [],
   "source": [
    "\n",
    "# define optimizer\n",
    "optimizer_cls = get_optimizer(args.optimizer)\n",
    "if optimizer_cls is None:\n",
    "    raise RuntimeError(f'{args.optimizer} was not found in optimizers, torch.optim, transformers.optimization')\n",
    "\n",
    "# if hvd.rank() == 0:\n",
    "#     logger.info(f'Using optimizer class: {optimizer_cls}')\n",
    "\n",
    "# todo: group optimizer params\n",
    "if optimizer_cls in [transformers.optimization.Adafactor, optimizers.Adafactor]:\n",
    "    # https://github.com/huggingface/transformers/pull/9751/files -> transformers 4.3.0\n",
    "    optimizer = optimizer_cls(model.parameters(), lr=args.lr,\n",
    "                                scale_parameter=args.scale_parameter,\n",
    "                                relative_step=args.relative_step,\n",
    "                                warmup_init=args.warmup_init,\n",
    "                                weight_decay=args.weight_decay)\n",
    "else:\n",
    "    optimizer = optimizer_cls(model.parameters(), lr=args.lr, weight_decay=args.weight_decay)\n",
    "\n",
    "def keep_for_metrics_fn(batch, output):\n",
    "    # select data from batch and model output that would be used to compute metrics\n",
    "    data = {}\n",
    "    if 'generation_outputs' in output:\n",
    "        data['labels'] = batch['target_text']\n",
    "\n",
    "        data['generation_outputs'] = output['generation_outputs']\n",
    "        # if 'labels_mask' in batch:\n",
    "        #     data['generation_outputs'] = [data['generation_outputs'][i, mask] for i, mask in enumerate(batch['labels_mask'])]\n",
    "\n",
    "    for key in batch.keys():\n",
    "        if 'loss' in key: \n",
    "            data[key] = batch[key]\n",
    "\n",
    "    return data\n"
   ]
  },
  {
   "cell_type": "code",
   "execution_count": 14,
   "metadata": {},
   "outputs": [
    {
     "name": "stderr",
     "output_type": "stream",
     "text": [
      "/tmp/ipykernel_1161727/1406884141.py:1: FutureWarning: load_metric is deprecated and will be removed in the next major version of datasets. Use 'evaluate.load' instead, from the new library 🤗 Evaluate: https://huggingface.co/docs/evaluate\n",
      "  scrolls_metric = datasets.load_metric(scrolls_metric_path, args.task_name, keep_in_memory=True)\n"
     ]
    }
   ],
   "source": [
    "scrolls_metric = datasets.load_metric(scrolls_metric_path, args.task_name, keep_in_memory=True)\n",
    "\n",
    "def metrics_fn(data):\n",
    "    # compute metrics based on stored labels, predictions, ...\n",
    "    metrics = {}\n",
    "    y, p = None, None\n",
    "    if 'generation_outputs' in data:\n",
    "        # replace -100 with pad token in labels\n",
    "        y = data['labels']\n",
    "        p = tokenizer.batch_decode(data['generation_outputs'], skip_special_tokens=True)\n",
    "\n",
    "        metrics['exact_match'] = np.mean([y_ == p_[:len(y_)] for p_, y_ in zip (p, y)])\n",
    "        # if args.show_valid_examples > 0:\n",
    "        #     for i in range(min(args.show_valid_examples, len(y))):\n",
    "        #         logger.info(f'y: {y[i]}')\n",
    "        #         logger.info(f'p: {p[i]}')\n",
    "        #         logger.info(f'p ids: {data[\"generation_outputs\"][i]}')\n",
    "\n",
    "        #         logger.info('-' * 50)\n",
    "        \n",
    "        if not isinstance(y[0], list):\n",
    "            y = [[_y] for _y in y]\n",
    "        result = scrolls_metric.compute(predictions=p, references=y)\n",
    "        for metric_name in task_to_metric[args.task_name]:\n",
    "            metrics[metric_name] = result[metric_name]\n",
    "\n",
    "    return metrics"
   ]
  },
  {
   "cell_type": "code",
   "execution_count": 15,
   "metadata": {},
   "outputs": [],
   "source": [
    "# input_ids = list(range(150))\n",
    "# block_size = 10\n",
    "# history_size = 20"
   ]
  },
  {
   "cell_type": "code",
   "execution_count": 16,
   "metadata": {},
   "outputs": [],
   "source": [
    "# samples = [input_ids[max({0, start - block_size - history_size}): start] for start in range(block_size, len(input_ids), block_size)]\n",
    "# [len(s) for s in samples]"
   ]
  },
  {
   "cell_type": "code",
   "execution_count": 17,
   "metadata": {},
   "outputs": [
    {
     "data": {
      "text/plain": [
       "Dataset({\n",
       "    features: ['id', 'pid', 'input', 'output'],\n",
       "    num_rows: 2567\n",
       "})"
      ]
     },
     "execution_count": 17,
     "metadata": {},
     "output_type": "execute_result"
    }
   ],
   "source": [
    "train_dataset"
   ]
  },
  {
   "cell_type": "code",
   "execution_count": 25,
   "metadata": {},
   "outputs": [
    {
     "data": {
      "text/plain": [
       "dict_keys(['input_ids', 'labels', 'input_ids_generate', 'labels_mask', 'attention_mask', 'attention_mask_generate', 'id', 'target_text'])"
      ]
     },
     "execution_count": 25,
     "metadata": {},
     "output_type": "execute_result"
    }
   ],
   "source": [
    "train_gen=iter(train_dataloader)\n",
    "train_batch = next(train_gen)\n",
    "train_batch = next(train_gen)\n",
    "train_batch.keys()"
   ]
  },
  {
   "cell_type": "code",
   "execution_count": 29,
   "metadata": {},
   "outputs": [
    {
     "data": {
      "text/plain": [
       "Dataset({\n",
       "    features: ['id', 'pid', 'input', 'output'],\n",
       "    num_rows: 2567\n",
       "})"
      ]
     },
     "execution_count": 29,
     "metadata": {},
     "output_type": "execute_result"
    }
   ],
   "source": [
    "train_dataset"
   ]
  },
  {
   "cell_type": "code",
   "execution_count": 32,
   "metadata": {},
   "outputs": [],
   "source": [
    "encoded = list(map(tokenizer.encode, train_dataset['output'] + valid_dataset['output']))"
   ]
  },
  {
   "cell_type": "code",
   "execution_count": 34,
   "metadata": {},
   "outputs": [],
   "source": [
    "lens = [len(e) for e in encoded]"
   ]
  },
  {
   "cell_type": "code",
   "execution_count": 35,
   "metadata": {},
   "outputs": [
    {
     "data": {
      "text/plain": [
       "389"
      ]
     },
     "execution_count": 35,
     "metadata": {},
     "output_type": "execute_result"
    }
   ],
   "source": [
    "max(lens)"
   ]
  },
  {
   "cell_type": "code",
   "execution_count": null,
   "metadata": {},
   "outputs": [],
   "source": []
  },
  {
   "cell_type": "code",
   "execution_count": 4,
   "metadata": {},
   "outputs": [],
   "source": [
    "from datasets import load_dataset"
   ]
  },
  {
   "cell_type": "code",
   "execution_count": 7,
   "metadata": {},
   "outputs": [],
   "source": [
    "ds = load_dataset('wikitext', 'wikitext-2-v1')"
   ]
  },
  {
   "cell_type": "code",
   "execution_count": 8,
   "metadata": {},
   "outputs": [
    {
     "data": {
      "text/plain": [
       "DatasetDict({\n",
       "    test: Dataset({\n",
       "        features: ['text'],\n",
       "        num_rows: 4358\n",
       "    })\n",
       "    train: Dataset({\n",
       "        features: ['text'],\n",
       "        num_rows: 36718\n",
       "    })\n",
       "    validation: Dataset({\n",
       "        features: ['text'],\n",
       "        num_rows: 3760\n",
       "    })\n",
       "})"
      ]
     },
     "execution_count": 8,
     "metadata": {},
     "output_type": "execute_result"
    }
   ],
   "source": [
    "ds"
   ]
  },
  {
   "cell_type": "code",
   "execution_count": 9,
   "metadata": {},
   "outputs": [
    {
     "data": {
      "text/plain": [
       "1147.4375"
      ]
     },
     "execution_count": 9,
     "metadata": {},
     "output_type": "execute_result"
    }
   ],
   "source": [
    "36718 / 32"
   ]
  },
  {
   "cell_type": "code",
   "execution_count": 30,
   "metadata": {},
   "outputs": [],
   "source": [
    "tok = list(map(tokenizer.encode, ds['train']['text']))"
   ]
  },
  {
   "cell_type": "code",
   "execution_count": 31,
   "metadata": {},
   "outputs": [],
   "source": [
    "lens = [len(t) for t in tok]"
   ]
  },
  {
   "cell_type": "code",
   "execution_count": 34,
   "metadata": {},
   "outputs": [
    {
     "data": {
      "text/plain": [
       "(array([2.4344e+04, 6.4920e+03, 3.9290e+03, 1.4210e+03, 4.0700e+02,\n",
       "        8.3000e+01, 3.0000e+01, 6.0000e+00, 2.0000e+00, 4.0000e+00]),\n",
       " array([  0. ,  81.5, 163. , 244.5, 326. , 407.5, 489. , 570.5, 652. ,\n",
       "        733.5, 815. ]),\n",
       " <BarContainer object of 10 artists>)"
      ]
     },
     "execution_count": 34,
     "metadata": {},
     "output_type": "execute_result"
    },
    {
     "data": {
      "image/png": "[encoded data removed]",
      "text/plain": [
       "<Figure size 640x480 with 1 Axes>"
      ]
     },
     "metadata": {},
     "output_type": "display_data"
    }
   ],
   "source": [
    "from matplotlib import pyplot as plt\n",
    "plt.hist(lens)"
   ]
  },
  {
   "cell_type": "code",
   "execution_count": 37,
   "metadata": {},
   "outputs": [
    {
     "data": {
      "text/plain": [
       "591.42578125"
      ]
     },
     "execution_count": 37,
     "metadata": {},
     "output_type": "execute_result"
    }
   ],
   "source": [
    "sum(lens) / 128 / 32"
   ]
  },
  {
   "cell_type": "code",
   "execution_count": 32,
   "metadata": {},
   "outputs": [
    {
     "data": {
      "text/plain": [
       "65.9752709842584"
      ]
     },
     "execution_count": 32,
     "metadata": {},
     "output_type": "execute_result"
    }
   ],
   "source": [
    "np.mean(lens)"
   ]
  },
  {
   "cell_type": "code",
   "execution_count": 26,
   "metadata": {},
   "outputs": [
    {
     "data": {
      "text/plain": [
       "tensor([[ 2061,   389,   262,  2482,    30,   198,   198, 21906,   198,    32,\n",
       "          4812,   425,  2995,   347,  9865, 31688,    15,   389,  2995,   326,\n",
       "          6032,  2689,   661,   287,  3967,   393,  4633,  2842,    13,  1114,\n",
       "          1672,    11,  1972,  1637,   290,  2712,  5701,   389,  3221,  3967,\n",
       "           284,   262,  3410,  7999,    26, 16508,  4692,   290,  6078,   530,\n",
       "           338, 13008,   389,  4633,    13, 28491,  2689,   425,  2995,   318,\n",
       "          1593,   284,  2972,  3288,  3303,  7587,   357,    45, 19930,     8,\n",
       "          5479,   884,   355, 10721,  3341,   347,  9865, 31688,    16,    11,\n",
       "          1808,    12,   504,    86,  1586,  3341,   347,  9865, 31688,    17,\n",
       "            11,   290, 14733,  9465,   347,  9865, 31688,    18,    13,   554,\n",
       "           428,  3348,    11,   356,   670,   319, 22650,   262,   755,  6806,\n",
       "           286,   281,  2689,   425,  1785,   326,   318,  7997,   416,   257,\n",
       "          4776, 12897,   422,   720,    12,    16,     3, 50257, 12814,   477,\n",
       "          1366,   284,  4512,    25,  8355,  1377,  8436, 10761,    52,  8793,\n",
       "           657,    13,    23,  3559,  9922,    11,  8355,  1377,   347, 17395,\n",
       "          8793,   657,    13,  4521,    18,  9922,    11,  8355,    10,  8141,\n",
       "            10,  8220,  1377,  8436, 10761,    52,  8793,   657,    13, 42240,\n",
       "          9922,    11,  8355,    10,  8141,    10,  8220,  1377,   347, 17395,\n",
       "          8793,   657,    13,    23,  2327,    11,  9922,    11,  7125,    47,\n",
       "          1377,  8436, 10761,    52,  8793,   657,    13,    24,  1129,  9922,\n",
       "            11,  7125,    47,  1377,   347, 17395,   257,   354,  1572,   657,\n",
       "            13,    24,  2091,    11,  9922,    11,  7125,    47,    10,  1847,\n",
       "            10,  8141,    10,  8220,  1377,  8436, 10761,    52,  8793,   657,\n",
       "            13,    24,  1558,  9922,    11,  7125,    47,    10,  1847,    10,\n",
       "          8141,    10,  8220,  1377,   347, 17395,  8793,   657,    13,    24,\n",
       "          1485,  9922,    13,   220,   198, 12814],\n",
       "        [ 2437,   389,  2316,   973,   284, 47933,   755,  6806,    30,   198,\n",
       "           198, 21906,   198,    32,  4812,   425,  2995,   347,  9865, 31688,\n",
       "            15,   389,  2995,   326,  6032,  2689,   661,   287,  3967,   393,\n",
       "          4633,  2842,    13,  1114,  1672,    11,  1972,  1637,   290,  2712,\n",
       "          5701,   389,  3221,  3967,   284,   262,  3410,  7999,    26, 16508,\n",
       "          4692,   290,  6078,   530,   338, 13008,   389,  4633,    13, 28491,\n",
       "          2689,   425,  2995,   318,  1593,   284,  2972,  3288,  3303,  7587,\n",
       "           357,    45, 19930,     8,  5479,   884,   355, 10721,  3341,   347,\n",
       "          9865, 31688,    16,    11,  1808,    12,   504,    86,  1586,  3341,\n",
       "           347,  9865, 31688,    17,    11,   290, 14733,  9465,   347,  9865,\n",
       "         31688,    18, 50257,  3106,   319,   262,  8695,  1022,  2995,    11,\n",
       "           262,  5220,   755,  6806,   286,   530,  1785,   460,  5004,   262,\n",
       "          1744,   755,  6806,   286,   262,   584,  1785,   220, 50258, 50258,\n",
       "         50258, 50258, 50258, 50258, 50258, 50258, 50258, 50258, 50258, 50258,\n",
       "         50258, 50258, 50258, 50258, 50258, 50258, 50258, 50258, 50258, 50258,\n",
       "         50258, 50258, 50258, 50258, 50258, 50258, 50258, 50258, 50258, 50258,\n",
       "         50258, 50258, 50258, 50258, 50258, 50258, 50258, 50258, 50258, 50258,\n",
       "         50258, 50258, 50258, 50258, 50258, 50258, 50258, 50258, 50258, 50258,\n",
       "         50258, 50258, 50258, 50258, 50258, 50258, 50258, 50258, 50258, 50258,\n",
       "         50258, 50258, 50258, 50258, 50258, 50258, 50258, 50258, 50258, 50258,\n",
       "         50258, 50258, 50258, 50258, 50258, 50258, 50258, 50258, 50258, 50258,\n",
       "         50258, 50258, 50258, 50258, 50258, 50258, 50258, 50258, 50258, 50258,\n",
       "         50258, 50258, 50258, 50258, 50258, 50258, 50258, 50258, 50258, 50258,\n",
       "         50258, 50258, 50258, 50258, 50258, 50258, 50258, 50258, 50258, 50258,\n",
       "         50258, 50258, 50258, 50258, 50258, 50258, 50258, 50258, 50258, 50258,\n",
       "         50258, 50258, 50258, 50258, 50258, 50258]])"
      ]
     },
     "execution_count": 26,
     "metadata": {},
     "output_type": "execute_result"
    }
   ],
   "source": [
    "train_batch['input_ids']"
   ]
  },
  {
   "cell_type": "code",
   "execution_count": 27,
   "metadata": {},
   "outputs": [
    {
     "data": {
      "text/plain": [
       "tensor([[ 2061,   389,   262,  2482,    30,   198,   198, 21906,   198,    32,\n",
       "          4812,   425,  2995,   347,  9865, 31688,    15,   389,  2995,   326,\n",
       "          6032,  2689,   661,   287,  3967,   393,  4633,  2842,    13,  1114,\n",
       "          1672,    11,  1972,  1637,   290,  2712,  5701,   389,  3221,  3967,\n",
       "           284,   262,  3410,  7999,    26, 16508,  4692,   290,  6078,   530,\n",
       "           338, 13008,   389,  4633,    13, 28491,  2689,   425,  2995,   318,\n",
       "          1593,   284,  2972,  3288,  3303,  7587,   357,    45, 19930,     8,\n",
       "          5479,   884,   355, 10721,  3341,   347,  9865, 31688,    16,    11,\n",
       "          1808,    12,   504,    86,  1586,  3341,   347,  9865, 31688,    17,\n",
       "            11,   290, 14733,  9465,   347,  9865, 31688,    18,    13,   554,\n",
       "           428,  3348,    11,   356,   670,   319, 22650,   262,   755,  6806,\n",
       "           286,   281,  2689,   425,  1785,   326,   318,  7997,   416,   257,\n",
       "          4776, 12897,   422,   720,    12,    16,     3, 50257],\n",
       "        [ 2437,   389,  2316,   973,   284, 47933,   755,  6806,    30,   198,\n",
       "           198, 21906,   198,    32,  4812,   425,  2995,   347,  9865, 31688,\n",
       "            15,   389,  2995,   326,  6032,  2689,   661,   287,  3967,   393,\n",
       "          4633,  2842,    13,  1114,  1672,    11,  1972,  1637,   290,  2712,\n",
       "          5701,   389,  3221,  3967,   284,   262,  3410,  7999,    26, 16508,\n",
       "          4692,   290,  6078,   530,   338, 13008,   389,  4633,    13, 28491,\n",
       "          2689,   425,  2995,   318,  1593,   284,  2972,  3288,  3303,  7587,\n",
       "           357,    45, 19930,     8,  5479,   884,   355, 10721,  3341,   347,\n",
       "          9865, 31688,    16,    11,  1808,    12,   504,    86,  1586,  3341,\n",
       "           347,  9865, 31688,    17,    11,   290, 14733,  9465,   347,  9865,\n",
       "         31688,    18, 50257, 50258, 50258, 50258, 50258, 50258, 50258, 50258,\n",
       "         50258, 50258, 50258, 50258, 50258, 50258, 50258, 50258, 50258, 50258,\n",
       "         50258, 50258, 50258, 50258, 50258, 50258, 50258, 50258]])"
      ]
     },
     "execution_count": 27,
     "metadata": {},
     "output_type": "execute_result"
    }
   ],
   "source": [
    "train_batch['input_ids_generate']"
   ]
  },
  {
   "cell_type": "code",
   "execution_count": 28,
   "metadata": {},
   "outputs": [
    {
     "data": {
      "text/plain": [
       "[\"What are the results?\\n\\nIntroduction\\nAffective events BIBREF0 are events that typically affect people in positive or negative ways. For example, getting money and playing sports are usually positive to the experiencers; catching cold and losing one's wallet are negative. Understanding affective events is important to various natural language processing (NLP) applications such as dialogue systems BIBREF1, question-answering systems BIBREF2, and humor recognition BIBREF3. In this paper, we work on recognizing the polarity of an affective event that is represented by a score ranging from $-1$[GEN]Using all data to train: AL -- BiGRU achieved 0.843 accuracy, AL -- BERT achieved 0.863 accuracy, AL+CA+CO -- BiGRU achieved 0.866 accuracy, AL+CA+CO -- BERT achieved 0.835, accuracy, ACP -- BiGRU achieved 0.919 accuracy, ACP -- BERT achived 0.933, accuracy, ACP+AL+CA+CO -- BiGRU achieved 0.917 accuracy, ACP+AL+CA+CO -- BERT achieved 0.913 accuracy. \\nUsing\",\n",
       " \"How are relations used to propagate polarity?\\n\\nIntroduction\\nAffective events BIBREF0 are events that typically affect people in positive or negative ways. For example, getting money and playing sports are usually positive to the experiencers; catching cold and losing one's wallet are negative. Understanding affective events is important to various natural language processing (NLP) applications such as dialogue systems BIBREF1, question-answering systems BIBREF2, and humor recognition BIBREF3[GEN]based on the relation between events, the suggested polarity of one event can determine the possible polarity of the other event [PAD][PAD][PAD][PAD][PAD][PAD][PAD][PAD][PAD][PAD][PAD][PAD][PAD][PAD][PAD][PAD][PAD][PAD][PAD][PAD][PAD][PAD][PAD][PAD][PAD][PAD][PAD][PAD][PAD][PAD][PAD][PAD][PAD][PAD][PAD][PAD][PAD][PAD][PAD][PAD][PAD][PAD][PAD][PAD][PAD][PAD][PAD][PAD][PAD][PAD][PAD][PAD][PAD][PAD][PAD][PAD][PAD][PAD][PAD][PAD][PAD][PAD][PAD][PAD][PAD][PAD][PAD][PAD][PAD][PAD][PAD][PAD][PAD][PAD][PAD][PAD][PAD][PAD][PAD][PAD][PAD][PAD][PAD][PAD][PAD][PAD][PAD][PAD][PAD][PAD][PAD][PAD][PAD][PAD][PAD][PAD][PAD][PAD][PAD][PAD][PAD][PAD][PAD][PAD][PAD][PAD][PAD][PAD][PAD][PAD][PAD][PAD][PAD][PAD][PAD][PAD][PAD][PAD][PAD][PAD][PAD][PAD][PAD][PAD][PAD][PAD][PAD][PAD]\"]"
      ]
     },
     "execution_count": 28,
     "metadata": {},
     "output_type": "execute_result"
    }
   ],
   "source": [
    "tokenizer.batch_decode(train_batch['input_ids'])"
   ]
  },
  {
   "cell_type": "code",
   "execution_count": 21,
   "metadata": {},
   "outputs": [
    {
     "data": {
      "text/plain": [
       "tensor([[False, False, False, False, False, False, False, False, False, False,\n",
       "         False, False, False, False, False, False, False, False, False, False,\n",
       "         False, False, False, False, False, False, False, False, False, False,\n",
       "         False, False, False, False, False, False, False, False, False, False,\n",
       "         False, False, False, False, False, False, False, False, False, False,\n",
       "         False, False, False, False, False, False, False, False, False, False,\n",
       "         False, False, False, False, False, False, False, False, False, False,\n",
       "         False, False, False, False, False, False, False, False, False, False,\n",
       "         False, False, False, False, False, False, False, False, False, False,\n",
       "         False, False, False, False, False, False, False, False, False, False,\n",
       "         False, False, False, False, False, False, False, False, False,  True,\n",
       "          True,  True,  True,  True,  True,  True,  True,  True,  True,  True,\n",
       "          True,  True,  True,  True,  True,  True,  True,  True],\n",
       "        [False, False, False, False, False, False, False, False, False, False,\n",
       "         False, False, False, False, False, False, False, False, False, False,\n",
       "         False, False, False, False, False, False, False, False, False, False,\n",
       "         False, False, False, False, False, False, False, False, False, False,\n",
       "         False, False, False, False, False, False, False, False, False, False,\n",
       "         False, False, False, False, False, False, False, False, False, False,\n",
       "         False, False, False, False, False, False, False, False, False, False,\n",
       "         False, False, False, False, False, False, False, False, False, False,\n",
       "         False, False, False, False, False, False, False, False, False, False,\n",
       "         False, False, False, False, False, False, False, False, False, False,\n",
       "         False, False, False, False, False, False, False, False, False, False,\n",
       "         False, False, False, False, False, False, False,  True,  True,  True,\n",
       "          True,  True,  True,  True,  True,  True,  True,  True]])"
      ]
     },
     "execution_count": 21,
     "metadata": {},
     "output_type": "execute_result"
    }
   ],
   "source": [
    "train_batch['labels_mask']"
   ]
  },
  {
   "cell_type": "code",
   "execution_count": 21,
   "metadata": {},
   "outputs": [
    {
     "data": {
      "text/plain": [
       "tensor(86.1150, grad_fn=<NllLossBackward0>)"
      ]
     },
     "execution_count": 21,
     "metadata": {},
     "output_type": "execute_result"
    }
   ],
   "source": [
    "idx = train_batch.pop('id')\n",
    "target_text = train_batch.pop('target_text')\n",
    "input_ids_generate = train_batch.pop('input_ids_generate')\n",
    "attention_mask_generate = train_batch.pop('attention_mask_generate')\n",
    "\n",
    "out = model(**train_batch)\n",
    "out.loss"
   ]
  },
  {
   "cell_type": "code",
   "execution_count": 23,
   "metadata": {},
   "outputs": [
    {
     "data": {
      "text/plain": [
       "\"What is the seed lexicon?\\n\\nIntroduction\\nAffective events BIBREF0 are events that typically affect people in positive or negative ways. For example, getting money and playing sports are usually positive to the experiencers; catching cold and losing one's wallet are negative. Understanding affective events is important to various natural language processing (NLP) applications such as dialogue systems BIBREF1, question-answering systems BIBREF2, and humor recognition BIBREF3. In this paper, we work on recognizing[GEN]a vocabulary of positive and negative predicates that helps determine the polarity score of an event\""
      ]
     },
     "execution_count": 23,
     "metadata": {},
     "output_type": "execute_result"
    }
   ],
   "source": [
    "tokenizer.decode(train_batch['input_ids'][0])"
   ]
  },
  {
   "cell_type": "code",
   "execution_count": 24,
   "metadata": {},
   "outputs": [
    {
     "data": {
      "text/plain": [
       "{'id': '753990d0b621d390ed58f20c4d9e4f065f0dc672',\n",
       " 'pid': '753990d0b621d390ed58f20c4d9e4f065f0dc672_0',\n",
       " 'input': 'What is the seed lexicon?\\n\\nIntroduction\\nAffective events BIBREF0 are events that typically affect people in positive or negative ways. For example, getting money and playing sports are usually positive to the experiencers; catching cold and losing one\\'s wallet are negative. Understanding affective events is important to various natural language processing (NLP) applications such as dialogue systems BIBREF1, question-answering systems BIBREF2, and humor recognition BIBREF3. In this paper, we work on recognizing the polarity of an affective event that is represented by a score ranging from $-1$ (negative) to 1 (positive).\\nLearning affective events is challenging because, as the examples above suggest, the polarity of an event is not necessarily predictable from its constituent words. Combined with the unbounded combinatorial nature of language, the non-compositionality of affective polarity entails the need for large amounts of world knowledge, which can hardly be learned from small annotated data.\\nIn this paper, we propose a simple and effective method for learning affective events that only requires a very small seed lexicon and a large raw corpus. As illustrated in Figure FIGREF1, our key idea is that we can exploit discourse relations BIBREF4 to efficiently propagate polarity from seed predicates that directly report one\\'s emotions (e.g., “to be glad” is positive). Suppose that events $x_1$ are $x_2$ are in the discourse relation of Cause (i.e., $x_1$ causes $x_2$). If the seed lexicon suggests $x_2$ is positive, $x_1$ is also likely to be positive because it triggers the positive emotion. The fact that $x_2$ is known to be negative indicates the negative polarity of $x_1$. Similarly, if $x_1$ and $x_2$ are in the discourse relation of Concession (i.e., $x_2$ in spite of $x_1$), the reverse of $x_2$\\'s polarity can be propagated to $x_1$. Even if $x_2$\\'s polarity is not known in advance, we can exploit the tendency of $x_1$ and $x_2$ to be of the same polarity (for Cause) or of the reverse polarity (for Concession) although the heuristic is not exempt from counterexamples. We transform this idea into objective functions and train neural network models that predict the polarity of a given event.\\nWe trained the models using a Japanese web corpus. Given the minimum amount of supervision, they performed well. In addition, the combination of annotated and unannotated data yielded a gain over a purely supervised baseline when labeled data were small.\\nRelated Work\\nLearning affective events is closely related to sentiment analysis. Whereas sentiment analysis usually focuses on the polarity of what are described (e.g., movies), we work on how people are typically affected by events. In sentiment analysis, much attention has been paid to compositionality. Word-level polarity BIBREF5, BIBREF6, BIBREF7 and the roles of negation and intensification BIBREF8, BIBREF6, BIBREF9 are among the most important topics. In contrast, we are more interested in recognizing the sentiment polarity of an event that pertains to commonsense knowledge (e.g., getting money and catching cold).\\nLabel propagation from seed instances is a common approach to inducing sentiment polarities. While BIBREF5 and BIBREF10 worked on word- and phrase-level polarities, BIBREF0 dealt with event-level polarities. BIBREF5 and BIBREF10 linked instances using co-occurrence information and/or phrase-level coordinations (e.g., “$A$ and $B$” and “$A$ but $B$”). We shift our scope to event pairs that are more complex than phrase pairs, and consequently exploit discourse connectives as event-level counterparts of phrase-level conjunctions.\\nBIBREF0 constructed a network of events using word embedding-derived similarities. Compared with this method, our discourse relation-based linking of events is much simpler and more intuitive.\\nSome previous studies made use of document structure to understand the sentiment. BIBREF11 proposed a sentiment-specific pre-training strategy using unlabeled dialog data (tweet-reply pairs). BIBREF12 proposed a method of building a polarity-tagged corpus (ACP Corpus). They automatically gathered sentences that had positive or negative opinions utilizing HTML layout structures in addition to linguistic patterns. Our method depends only on raw texts and thus has wider applicability.\\nProposed Method\\nProposed Method ::: Polarity Function\\nOur goal is to learn the polarity function $p(x)$, which predicts the sentiment polarity score of an event $x$. We approximate $p(x)$ by a neural network with the following form:\\n${\\\\rm Encoder}$ outputs a vector representation of the event $x$. ${\\\\rm Linear}$ is a fully-connected layer and transforms the representation into a scalar. ${\\\\rm tanh}$ is the hyperbolic tangent and transforms the scalar into a score ranging from $-1$ to 1. In Section SECREF21, we consider two specific implementations of ${\\\\rm Encoder}$.\\nProposed Method ::: Discourse Relation-Based Event Pairs\\nOur method requires a very small seed lexicon and a large raw corpus. We assume that we can automatically extract discourse-tagged event pairs, $(x_{i1}, x_{i2})$ ($i=1, \\\\cdots $) from the raw corpus. We refer to $x_{i1}$ and $x_{i2}$ as former and latter events, respectively. As shown in Figure FIGREF1, we limit our scope to two discourse relations: Cause and Concession.\\nThe seed lexicon consists of positive and negative predicates. If the predicate of an extracted event is in the seed lexicon and does not involve complex phenomena like negation, we assign the corresponding polarity score ($+1$ for positive events and $-1$ for negative events) to the event. We expect the model to automatically learn complex phenomena through label propagation. Based on the availability of scores and the types of discourse relations, we classify the extracted event pairs into the following three types.\\nProposed Method ::: Discourse Relation-Based Event Pairs ::: AL (Automatically Labeled Pairs)\\nThe seed lexicon matches (1) the latter event but (2) not the former event, and (3) their discourse relation type is Cause or Concession. If the discourse relation type is Cause, the former event is given the same score as the latter. Likewise, if the discourse relation type is Concession, the former event is given the opposite of the latter\\'s score. They are used as reference scores during training.\\nProposed Method ::: Discourse Relation-Based Event Pairs ::: CA (Cause Pairs)\\nThe seed lexicon matches neither the former nor the latter event, and their discourse relation type is Cause. We assume the two events have the same polarities.\\nProposed Method ::: Discourse Relation-Based Event Pairs ::: CO (Concession Pairs)\\nThe seed lexicon matches neither the former nor the latter event, and their discourse relation type is Concession. We assume the two events have the reversed polarities.\\nProposed Method ::: Loss Functions\\nUsing AL, CA, and CO data, we optimize the parameters of the polarity function $p(x)$. We define a loss function for each of the three types of event pairs and sum up the multiple loss functions.\\nWe use mean squared error to construct loss functions. For the AL data, the loss function is defined as:\\nwhere $x_{i1}$ and $x_{i2}$ are the $i$-th pair of the AL data. $r_{i1}$ and $r_{i2}$ are the automatically-assigned scores of $x_{i1}$ and $x_{i2}$, respectively. $N_{\\\\rm AL}$ is the total number of AL pairs, and $\\\\lambda _{\\\\rm AL}$ is a hyperparameter.\\nFor the CA data, the loss function is defined as:\\n$y_{i1}$ and $y_{i2}$ are the $i$-th pair of the CA pairs. $N_{\\\\rm CA}$ is the total number of CA pairs. $\\\\lambda _{\\\\rm CA}$ and $\\\\mu $ are hyperparameters. The first term makes the scores of the two events closer while the second term prevents the scores from shrinking to zero.\\nThe loss function for the CO data is defined analogously:\\nThe difference is that the first term makes the scores of the two events distant from each other.\\nExperiments\\nExperiments ::: Dataset\\nExperiments ::: Dataset ::: AL, CA, and CO\\nAs a raw corpus, we used a Japanese web corpus that was compiled through the procedures proposed by BIBREF13. To extract event pairs tagged with discourse relations, we used the Japanese dependency parser KNP and in-house postprocessing scripts BIBREF14. KNP used hand-written rules to segment each sentence into what we conventionally called clauses (mostly consecutive text chunks), each of which contained one main predicate. KNP also identified the discourse relations of event pairs if explicit discourse connectives BIBREF4 such as “ので” (because) and “のに” (in spite of) were present. We treated Cause/Reason (原因・理由) and Condition (条件) in the original tagset BIBREF15 as Cause and Concession (逆接) as Concession, respectively. Here is an example of event pair extraction.\\n. 重大な失敗を犯したので、仕事をクビになった。\\nBecause [I] made a serious mistake, [I] got fired.\\nFrom this sentence, we extracted the event pair of “重大な失敗を犯す” ([I] make a serious mistake) and “仕事をクビになる” ([I] get fired), and tagged it with Cause.\\nWe constructed our seed lexicon consisting of 15 positive words and 15 negative words, as shown in Section SECREF27. From the corpus of about 100 million sentences, we obtained 1.4 millions event pairs for AL, 41 millions for CA, and 6 millions for CO. We randomly selected subsets of AL event pairs such that positive and negative latter events were equal in size. We also sampled event pairs for each of CA and CO such that it was five times larger than AL. The results are shown in Table TABREF16.\\nExperiments ::: Dataset ::: ACP (ACP Corpus)\\nWe used the latest version of the ACP Corpus BIBREF12 for evaluation. It was used for (semi-)supervised training as well. Extracted from Japanese websites using HTML layouts and linguistic patterns, the dataset covered various genres. For example, the following two sentences were labeled positive and negative, respectively:\\n. 作業が楽だ。\\nThe work is easy.\\n. 駐車場がない。\\nThere is no parking lot.\\nAlthough the ACP corpus was originally constructed in the context of sentiment analysis, we found that it could roughly be regarded as a collection of affective events. We parsed each sentence and extracted the last clause in it. The train/dev/test split of the data is shown in Table TABREF19.\\nThe objective function for supervised training is:\\nwhere $v_i$ is the $i$-th event, $R_i$ is the reference score of $v_i$, and $N_{\\\\rm ACP}$ is the number of the events of the ACP Corpus.\\nTo optimize the hyperparameters, we used the dev set of the ACP Corpus. For the evaluation, we used the test set of the ACP Corpus. The model output was classified as positive if $p(x) > 0$ and negative if $p(x) \\\\le 0$.\\nExperiments ::: Model Configurations\\nAs for ${\\\\rm Encoder}$, we compared two types of neural networks: BiGRU and BERT. GRU BIBREF16 is a recurrent neural network sequence encoder. BiGRU reads an input sequence forward and backward and the output is the concatenation of the final forward and backward hidden states.\\nBERT BIBREF17 is a pre-trained multi-layer bidirectional Transformer BIBREF18 encoder. Its output is the final hidden state corresponding to the special classification tag ([CLS]). For the details of ${\\\\rm Encoder}$, see Sections SECREF30.\\nWe trained the model with the following four combinations of the datasets: AL, AL+CA+CO (two proposed models), ACP (supervised), and ACP+AL+CA+CO (semi-supervised). The corresponding objective functions were: $\\\\mathcal {L}_{\\\\rm AL}$, $\\\\mathcal {L}_{\\\\rm AL} + \\\\mathcal {L}_{\\\\rm CA} + \\\\mathcal {L}_{\\\\rm CO}$, $\\\\mathcal {L}_{\\\\rm ACP}$, and $\\\\mathcal {L}_{\\\\rm ACP} + \\\\mathcal {L}_{\\\\rm AL} + \\\\mathcal {L}_{\\\\rm CA} + \\\\mathcal {L}_{\\\\rm CO}$.\\nExperiments ::: Results and Discussion\\nTable TABREF23 shows accuracy. As the Random baseline suggests, positive and negative labels were distributed evenly. The Random+Seed baseline made use of the seed lexicon and output the corresponding label (or the reverse of it for negation) if the event\\'s predicate is in the seed lexicon. We can see that the seed lexicon itself had practically no impact on prediction.\\nThe models in the top block performed considerably better than the random baselines. The performance gaps with their (semi-)supervised counterparts, shown in the middle block, were less than 7%. This demonstrates the effectiveness of discourse relation-based label propagation.\\nComparing the model variants, we obtained the highest score with the BiGRU encoder trained with the AL+CA+CO dataset. BERT was competitive but its performance went down if CA and CO were used in addition to AL. We conjecture that BERT was more sensitive to noises found more frequently in CA and CO.\\nContrary to our expectations, supervised models (ACP) outperformed semi-supervised models (ACP+AL+CA+CO). This suggests that the training set of 0.6 million events is sufficiently large for training the models. For comparison, we trained the models with a subset (6,000 events) of the ACP dataset. As the results shown in Table TABREF24 demonstrate, our method is effective when labeled data are small.\\nThe result of hyperparameter optimization for the BiGRU encoder was as follows:\\nAs the CA and CO pairs were equal in size (Table TABREF16), $\\\\lambda _{\\\\rm CA}$ and $\\\\lambda _{\\\\rm CO}$ were comparable values. $\\\\lambda _{\\\\rm CA}$ was about one-third of $\\\\lambda _{\\\\rm CO}$, and this indicated that the CA pairs were noisier than the CO pairs. A major type of CA pairs that violates our assumption was in the form of “$\\\\textit {problem}_{\\\\text{negative}}$ causes $\\\\textit {solution}_{\\\\text{positive}}$”:\\n. (悪いところがある, よくなるように努力する)\\n(there is a bad point, [I] try to improve [it])\\nThe polarities of the two events were reversed in spite of the Cause relation, and this lowered the value of $\\\\lambda _{\\\\rm CA}$.\\nSome examples of model outputs are shown in Table TABREF26. The first two examples suggest that our model successfully learned negation without explicit supervision. Similarly, the next two examples differ only in voice but the model correctly recognized that they had opposite polarities. The last two examples share the predicate “落とす\" (drop) and only the objects are different. The second event “肩を落とす\" (lit. drop one\\'s shoulders) is an idiom that expresses a disappointed feeling. The examples demonstrate that our model correctly learned non-compositional expressions.\\nConclusion\\nIn this paper, we proposed to use discourse relations to effectively propagate polarities of affective events from seeds. Experiments show that, even with a minimal amount of supervision, the proposed method performed well.\\nAlthough event pairs linked by discourse analysis are shown to be useful, they nevertheless contain noises. Adding linguistically-motivated filtering rules would help improve the performance.\\nAcknowledgments\\nWe thank Nobuhiro Kaji for providing the ACP Corpus and Hirokazu Kiyomaru and Yudai Kishimoto for their help in extracting event pairs. This work was partially supported by Yahoo! Japan Corporation.\\nAppendices ::: Seed Lexicon ::: Positive Words\\n喜ぶ (rejoice), 嬉しい (be glad), 楽しい (be pleasant), 幸せ (be happy), 感動 (be impressed), 興奮 (be excited), 懐かしい (feel nostalgic), 好き (like), 尊敬 (respect), 安心 (be relieved), 感心 (admire), 落ち着く (be calm), 満足 (be satisfied), 癒される (be healed), and スッキリ (be refreshed).\\nAppendices ::: Seed Lexicon ::: Negative Words\\n怒る (get angry), 悲しい (be sad), 寂しい (be lonely), 怖い (be scared), 不安 (feel anxious), 恥ずかしい (be embarrassed), 嫌 (hate), 落ち込む (feel down), 退屈 (be bored), 絶望 (feel hopeless), 辛い (have a hard time), 困る (have trouble), 憂鬱 (be depressed), 心配 (be worried), and 情けない (be sorry).\\nAppendices ::: Settings of Encoder ::: BiGRU\\nThe dimension of the embedding layer was 256. The embedding layer was initialized with the word embeddings pretrained using the Web corpus. The input sentences were segmented into words by the morphological analyzer Juman++. The vocabulary size was 100,000. The number of hidden layers was 2. The dimension of hidden units was 256. The optimizer was Momentum SGD BIBREF21. The mini-batch size was 1024. We ran 100 epochs and selected the snapshot that achieved the highest score for the dev set.\\nAppendices ::: Settings of Encoder ::: BERT\\nWe used a Japanese BERT model pretrained with Japanese Wikipedia. The input sentences were segmented into words by Juman++, and words were broken into subwords by applying BPE BIBREF20. The vocabulary size was 32,000. The maximum length of an input sequence was 128. The number of hidden layers was 12. The dimension of hidden units was 768. The number of self-attention heads was 12. The optimizer was Adam BIBREF19. The mini-batch size was 32. We ran 1 epoch.',\n",
       " 'output': 'a vocabulary of positive and negative predicates that helps determine the polarity score of an event'}"
      ]
     },
     "execution_count": 24,
     "metadata": {},
     "output_type": "execute_result"
    }
   ],
   "source": [
    "train_dataset[0]"
   ]
  },
  {
   "cell_type": "code",
   "execution_count": 36,
   "metadata": {},
   "outputs": [
    {
     "data": {
      "text/plain": [
       "{}"
      ]
     },
     "execution_count": 36,
     "metadata": {},
     "output_type": "execute_result"
    }
   ],
   "source": [
    "keep_for_metrics_fn(train_batch, out)"
   ]
  },
  {
   "cell_type": "code",
   "execution_count": 25,
   "metadata": {},
   "outputs": [
    {
     "data": {
      "text/plain": [
       "dict_keys(['input_ids', 'labels', 'input_ids_generate', 'labels_mask', 'attention_mask', 'id', 'target_text'])"
      ]
     },
     "execution_count": 25,
     "metadata": {},
     "output_type": "execute_result"
    }
   ],
   "source": [
    "valid_gen=iter(train_dataloader)\n",
    "valid_batch = next(valid_gen)\n",
    "valid_batch.keys()"
   ]
  },
  {
   "cell_type": "code",
   "execution_count": 26,
   "metadata": {},
   "outputs": [],
   "source": [
    "input_ids = valid_batch['input_ids']"
   ]
  },
  {
   "cell_type": "code",
   "execution_count": 28,
   "metadata": {},
   "outputs": [
    {
     "name": "stderr",
     "output_type": "stream",
     "text": [
      "Setting `pad_token_id` to `eos_token_id`:50256 for open-end generation.\n",
      "/home/jovyan/envs/accel_rmt/lib/python3.9/site-packages/transformers/generation/utils.py:1369: UserWarning: Using `max_length`'s default (20) to control the generation length. This behaviour is deprecated and will be removed from the config in v5 of Transformers -- we recommend using `max_new_tokens` to control the maximum length of the generation.\n",
      "  warnings.warn(\n"
     ]
    }
   ],
   "source": [
    "gen_out = model.generate(input_ids, attention_mask=valid_batch['attention_mask'])"
   ]
  },
  {
   "cell_type": "code",
   "execution_count": 30,
   "metadata": {},
   "outputs": [
    {
     "data": {
      "text/plain": [
       "['<|endoftext|>[GEN][GEN][GEN][GEN][GEN][GEN][GEN][GEN][GEN][GEN][GEN][GEN][GEN][GEN][GEN][GEN][GEN][GEN][GEN]',\n",
       " '<|endoftext|>[GEN][GEN][GEN][GEN][GEN][GEN][GEN][GEN][GEN][GEN][GEN][GEN][GEN][GEN][GEN][GEN][GEN][GEN][GEN]']"
      ]
     },
     "execution_count": 30,
     "metadata": {},
     "output_type": "execute_result"
    }
   ],
   "source": [
    "gen_text = tokenizer.batch_decode(gen_out)\n",
    "gen_text"
   ]
  },
  {
   "cell_type": "code",
   "execution_count": 34,
   "metadata": {},
   "outputs": [
    {
     "data": {
      "text/plain": [
       "\"What is the seed lexicon?\\n\\nIntroduction\\nAffective events BIBREF0 are events that typically affect people in positive or negative ways. For example, getting money and playing sports are usually positive to the experiencers; catching cold and losing one's wallet are negative. Understanding affective events is important to various natural language processing (NLP) applications such as dialogue systems BIBREF1, question-answering systems BIBREF2, and humor recognition BIBREF3. In this paper, we work on recognizing[GEN]a vocabulary of positive and negative predicates that helps determine the polarity score of an event\""
      ]
     },
     "execution_count": 34,
     "metadata": {},
     "output_type": "execute_result"
    }
   ],
   "source": [
    "tokenizer.decode(train_batch['input_ids'][0])"
   ]
  },
  {
   "cell_type": "code",
   "execution_count": 40,
   "metadata": {},
   "outputs": [],
   "source": [
    "data = dict(**valid_batch)\n",
    "data['generation_outputs'] = gen_out"
   ]
  },
  {
   "cell_type": "code",
   "execution_count": 42,
   "metadata": {},
   "outputs": [
    {
     "data": {
      "text/plain": [
       "{'exact_match': 0.0, 'f1': 0.0}"
      ]
     },
     "execution_count": 42,
     "metadata": {},
     "output_type": "execute_result"
    }
   ],
   "source": [
    "metrics_fn(data)"
   ]
  },
  {
   "cell_type": "code",
   "execution_count": 41,
   "metadata": {},
   "outputs": [
    {
     "ename": "RuntimeError",
     "evalue": "Tensor.__contains__ only supports Tensor or scalar, but you passed in a <class 'str'>.",
     "output_type": "error",
     "traceback": [
      "\u001b[0;31m---------------------------------------------------------------------------\u001b[0m",
      "\u001b[0;31mRuntimeError\u001b[0m                              Traceback (most recent call last)",
      "\u001b[1;32m/home/jovyan/rmt/wip/notebooks/debug_rmt_scrolls_run.ipynb Cell 25\u001b[0m line \u001b[0;36m1\n\u001b[0;32m----> <a href='vscode-notebook-cell://ssh-remote%2Brmt-8a100-3/home/jovyan/rmt/wip/notebooks/debug_rmt_scrolls_run.ipynb#Y404sdnNjb2RlLXJlbW90ZQ%3D%3D?line=0'>1</a>\u001b[0m keep_for_metrics_fn(valid_batch, gen_out)\n",
      "\u001b[1;32m/home/jovyan/rmt/wip/notebooks/debug_rmt_scrolls_run.ipynb Cell 25\u001b[0m line \u001b[0;36m2\n\u001b[1;32m     <a href='vscode-notebook-cell://ssh-remote%2Brmt-8a100-3/home/jovyan/rmt/wip/notebooks/debug_rmt_scrolls_run.ipynb#Y404sdnNjb2RlLXJlbW90ZQ%3D%3D?line=19'>20</a>\u001b[0m \u001b[39mdef\u001b[39;00m \u001b[39mkeep_for_metrics_fn\u001b[39m(batch, output):\n\u001b[1;32m     <a href='vscode-notebook-cell://ssh-remote%2Brmt-8a100-3/home/jovyan/rmt/wip/notebooks/debug_rmt_scrolls_run.ipynb#Y404sdnNjb2RlLXJlbW90ZQ%3D%3D?line=20'>21</a>\u001b[0m     \u001b[39m# select data from batch and model output that would be used to compute metrics\u001b[39;00m\n\u001b[1;32m     <a href='vscode-notebook-cell://ssh-remote%2Brmt-8a100-3/home/jovyan/rmt/wip/notebooks/debug_rmt_scrolls_run.ipynb#Y404sdnNjb2RlLXJlbW90ZQ%3D%3D?line=21'>22</a>\u001b[0m     data \u001b[39m=\u001b[39m {}\n\u001b[0;32m---> <a href='vscode-notebook-cell://ssh-remote%2Brmt-8a100-3/home/jovyan/rmt/wip/notebooks/debug_rmt_scrolls_run.ipynb#Y404sdnNjb2RlLXJlbW90ZQ%3D%3D?line=22'>23</a>\u001b[0m     \u001b[39mif\u001b[39;00m \u001b[39m'\u001b[39;49m\u001b[39mgeneration_outputs\u001b[39;49m\u001b[39m'\u001b[39;49m \u001b[39min\u001b[39;49;00m output:\n\u001b[1;32m     <a href='vscode-notebook-cell://ssh-remote%2Brmt-8a100-3/home/jovyan/rmt/wip/notebooks/debug_rmt_scrolls_run.ipynb#Y404sdnNjb2RlLXJlbW90ZQ%3D%3D?line=23'>24</a>\u001b[0m         data[\u001b[39m'\u001b[39m\u001b[39mlabels\u001b[39m\u001b[39m'\u001b[39m] \u001b[39m=\u001b[39m batch[\u001b[39m'\u001b[39m\u001b[39mtarget_text\u001b[39m\u001b[39m'\u001b[39m]\n\u001b[1;32m     <a href='vscode-notebook-cell://ssh-remote%2Brmt-8a100-3/home/jovyan/rmt/wip/notebooks/debug_rmt_scrolls_run.ipynb#Y404sdnNjb2RlLXJlbW90ZQ%3D%3D?line=25'>26</a>\u001b[0m         data[\u001b[39m'\u001b[39m\u001b[39mgeneration_outputs\u001b[39m\u001b[39m'\u001b[39m] \u001b[39m=\u001b[39m output[\u001b[39m'\u001b[39m\u001b[39mgeneration_outputs\u001b[39m\u001b[39m'\u001b[39m]\n",
      "File \u001b[0;32m~/envs/accel_rmt/lib/python3.9/site-packages/torch/_tensor.py:999\u001b[0m, in \u001b[0;36mTensor.__contains__\u001b[0;34m(self, element)\u001b[0m\n\u001b[1;32m    995\u001b[0m \u001b[39mif\u001b[39;00m \u001b[39misinstance\u001b[39m(element, (torch\u001b[39m.\u001b[39mTensor, Number)):\n\u001b[1;32m    996\u001b[0m     \u001b[39m# type hint doesn't understand the __contains__ result array\u001b[39;00m\n\u001b[1;32m    997\u001b[0m     \u001b[39mreturn\u001b[39;00m (element \u001b[39m==\u001b[39m \u001b[39mself\u001b[39m)\u001b[39m.\u001b[39many()\u001b[39m.\u001b[39mitem()  \u001b[39m# type: ignore[union-attr]\u001b[39;00m\n\u001b[0;32m--> 999\u001b[0m \u001b[39mraise\u001b[39;00m \u001b[39mRuntimeError\u001b[39;00m(\n\u001b[1;32m   1000\u001b[0m     \u001b[39m\"\u001b[39m\u001b[39mTensor.__contains__ only supports Tensor or scalar, but you passed in a \u001b[39m\u001b[39m%s\u001b[39;00m\u001b[39m.\u001b[39m\u001b[39m\"\u001b[39m\n\u001b[1;32m   1001\u001b[0m     \u001b[39m%\u001b[39m \u001b[39mtype\u001b[39m(element)\n\u001b[1;32m   1002\u001b[0m )\n",
      "\u001b[0;31mRuntimeError\u001b[0m: Tensor.__contains__ only supports Tensor or scalar, but you passed in a <class 'str'>."
     ]
    }
   ],
   "source": [
    "keep_for_metrics_fn(valid_batch, gen_out)"
   ]
  }
 ],
 "metadata": {
  "kernelspec": {
   "display_name": "hvdenv",
   "language": "python",
   "name": "python3"
  },
  "language_info": {
   "codemirror_mode": {
    "name": "ipython",
    "version": 3
   },
   "file_extension": ".py",
   "mimetype": "text/x-python",
   "name": "python",
   "nbconvert_exporter": "python",
   "pygments_lexer": "ipython3",
   "version": "3.9.17"
  }
 },
 "nbformat": 4,
 "nbformat_minor": 4
}
