{
 "cells": [
  {
   "cell_type": "code",
   "execution_count": 2,
   "metadata": {},
   "outputs": [
    {
     "name": "stdout",
     "output_type": "stream",
     "text": [
      "Cache directory: /home/jovyan/.cache/huggingface/datasets/transformers\n"
     ]
    },
    {
     "data": {
      "application/vnd.jupyter.widget-view+json": {
       "model_id": "5b350f0b699d4496a65a39b7c2bf3b62",
       "version_major": 2,
       "version_minor": 0
      },
      "text/plain": [
       "Loading dataset from disk:   0%|          | 0/69 [00:00<?, ?it/s]"
      ]
     },
     "metadata": {},
     "output_type": "display_data"
    },
    {
     "name": "stderr",
     "output_type": "stream",
     "text": [
      "Loading cached processed dataset at /home/jovyan/rmt/datasets/pg19/pg19_tokenized/train/cache-4db26c92582d08f9.arrow\n"
     ]
    }
   ],
   "source": [
    "\n",
    "# datasets.set_cache_dir(\"/home/jovyan/.cache/huggingface/datasets\")\n",
    "import os\n",
    "os.environ['HF_HOME'] = \"/home/jovyan/.cache/huggingface/datasets/transformers\"\n",
    "os.environ['HF_DATASETS_CACHE'] = \"/home/jovyan/.cache/huggingface/datasets/transformers\"\n",
    "\n",
    "from datasets.utils.logging import get_verbosity\n",
    "from datasets import load_dataset, load_from_disk\n",
    "import datasets\n",
    "datasets.logging.set_verbosity_info()  # or datasets.logging.set_verbosity_debug()\n",
    "# Get and print the cache directory\n",
    "cache_dir = datasets.config.HF_DATASETS_CACHE\n",
    "print(f\"Cache directory: {cache_dir}\")\n",
    "# Continue with your usual operations\n",
    "dataset = load_from_disk(\"/home/jovyan/rmt/datasets/pg19/pg19_tokenized\")\n",
    "\n",
    "def filter_by_len(sample):\n",
    "    return len(sample['tokens']) > 16000\n",
    "\n",
    "filtered = dataset['train'].filter(filter_by_len)\n"
   ]
  },
  {
   "cell_type": "code",
   "execution_count": null,
   "metadata": {},
   "outputs": [],
   "source": []
  },
  {
   "cell_type": "code",
   "execution_count": null,
   "metadata": {},
   "outputs": [],
   "source": []
  },
  {
   "cell_type": "code",
   "execution_count": 1,
   "metadata": {},
   "outputs": [
    {
     "data": {
      "application/vnd.jupyter.widget-view+json": {
       "model_id": "d236bfad3ce3404ab572bf94c5ef6bc8",
       "version_major": 2,
       "version_minor": 0
      },
      "text/plain": [
       "Loading dataset from disk:   0%|          | 0/69 [00:00<?, ?it/s]"
      ]
     },
     "metadata": {},
     "output_type": "display_data"
    }
   ],
   "source": [
    "from datasets import load_dataset, load_from_disk\n",
    "from transformers import AutoTokenizer\n",
    "dataset = load_from_disk(\"/home/jovyan/rmt/datasets/pg19/pg19_tokenized\")\n",
    "def filter_by_len(sample, min_len=16000):\n",
    "    return len(sample['tokens']) > min_len\n",
    "filtered = dataset['train'].filter(filter_by_len)"
   ]
  },
  {
   "cell_type": "code",
   "execution_count": 2,
   "metadata": {},
   "outputs": [
    {
     "data": {
      "application/vnd.jupyter.widget-view+json": {
       "model_id": "6025a5e036664617aa8a93a6b7713f74",
       "version_major": 2,
       "version_minor": 0
      },
      "text/plain": [
       "Loading dataset from disk:   0%|          | 0/69 [00:00<?, ?it/s]"
      ]
     },
     "metadata": {},
     "output_type": "display_data"
    }
   ],
   "source": [
    "dataset = load_from_disk(\"/home/jovyan/rmt/datasets/pg19/pg19_tokenized\")\n"
   ]
  },
  {
   "cell_type": "code",
   "execution_count": 2,
   "metadata": {},
   "outputs": [],
   "source": [
    "import os"
   ]
  },
  {
   "cell_type": "code",
   "execution_count": 6,
   "metadata": {},
   "outputs": [],
   "source": [
    "os.environ.get('HF_HOME')"
   ]
  },
  {
   "cell_type": "code",
   "execution_count": null,
   "metadata": {},
   "outputs": [],
   "source": [
    "\n",
    "adatasets.set_caching_enabled(True)\n",
    "datasets.set_cache_dir(\"/path/to/shared/cache\")"
   ]
  },
  {
   "cell_type": "code",
   "execution_count": 12,
   "metadata": {},
   "outputs": [],
   "source": [
    "sample = dataset['test'][0]"
   ]
  },
  {
   "cell_type": "code",
   "execution_count": 3,
   "metadata": {},
   "outputs": [],
   "source": [
    "# [len(t) for t in dataset['train']['tokens']]"
   ]
  },
  {
   "cell_type": "code",
   "execution_count": 23,
   "metadata": {},
   "outputs": [
    {
     "data": {
      "text/plain": [
       "DatasetDict({\n",
       "    train: Dataset({\n",
       "        features: ['short_book_title', 'publication_date', 'url', 'text', 'tokens'],\n",
       "        num_rows: 28602\n",
       "    })\n",
       "    validation: Dataset({\n",
       "        features: ['short_book_title', 'publication_date', 'url', 'text', 'tokens'],\n",
       "        num_rows: 50\n",
       "    })\n",
       "    test: Dataset({\n",
       "        features: ['short_book_title', 'publication_date', 'url', 'text', 'tokens'],\n",
       "        num_rows: 100\n",
       "    })\n",
       "})"
      ]
     },
     "execution_count": 23,
     "metadata": {},
     "output_type": "execute_result"
    }
   ],
   "source": [
    "dataset"
   ]
  },
  {
   "cell_type": "code",
   "execution_count": 24,
   "metadata": {},
   "outputs": [],
   "source": [
    "# lens = []\n",
    "# for _ in range(1000, 2000):\n",
    "#     lens.append(len(dataset['train'][_]['tokens']))\n",
    "\n",
    "# lens_t = []\n",
    "# for _ in range(len(dataset['validation'])):\n",
    "#     lens_t.append(len(dataset['validation'][_]['tokens']))\n",
    "lens_t = []\n",
    "for _ in range(len(dataset['test'])):\n",
    "    lens_t.append(len(dataset['test'][_]['tokens']))"
   ]
  },
  {
   "cell_type": "code",
   "execution_count": 25,
   "metadata": {},
   "outputs": [],
   "source": [
    "from matplotlib import pyplot as plt"
   ]
  },
  {
   "cell_type": "code",
   "execution_count": 26,
   "metadata": {},
   "outputs": [
    {
     "data": {
      "text/plain": [
       "(array([75., 18.,  4.,  1.,  0.,  1.,  0.,  0.,  0.,  1.]),\n",
       " array([   3522. ,  114076.7,  224631.4,  335186.1,  445740.8,  556295.5,\n",
       "         666850.2,  777404.9,  887959.6,  998514.3, 1109069. ]),\n",
       " <BarContainer object of 10 artists>)"
      ]
     },
     "execution_count": 26,
     "metadata": {},
     "output_type": "execute_result"
    },
    {
     "data": {
      "image/png": "[encoded data removed]",
      "text/plain": [
       "<Figure size 640x480 with 1 Axes>"
      ]
     },
     "metadata": {},
     "output_type": "display_data"
    }
   ],
   "source": [
    "plt.hist(lens_t)"
   ]
  },
  {
   "cell_type": "code",
   "execution_count": 27,
   "metadata": {},
   "outputs": [],
   "source": [
    "import numpy as np"
   ]
  },
  {
   "cell_type": "code",
   "execution_count": 28,
   "metadata": {},
   "outputs": [
    {
     "data": {
      "text/plain": [
       "3522"
      ]
     },
     "execution_count": 28,
     "metadata": {},
     "output_type": "execute_result"
    }
   ],
   "source": [
    "np.min(lens_t)"
   ]
  },
  {
   "cell_type": "code",
   "execution_count": 30,
   "metadata": {},
   "outputs": [
    {
     "name": "stdout",
     "output_type": "stream",
     "text": [
      "0.01\n",
      "0.05\n",
      "0.07\n"
     ]
    }
   ],
   "source": [
    "for thr in [4000, 8000, 16000]:\n",
    "    print((np.array(lens_t) < thr).mean())"
   ]
  },
  {
   "cell_type": "code",
   "execution_count": null,
   "metadata": {},
   "outputs": [],
   "source": [
    "lens"
   ]
  },
  {
   "cell_type": "code",
   "execution_count": 3,
   "metadata": {},
   "outputs": [],
   "source": [
    "def filter_by_len(sample, min_len=16000):\n",
    "    return len(sample['tokens']) > min_len"
   ]
  },
  {
   "cell_type": "code",
   "execution_count": 4,
   "metadata": {},
   "outputs": [],
   "source": [
    "def filter_by_len(sample, min_len=16000):\n",
    "    return len(sample['tokens']) > min_len\n",
    "filtered = dataset['train'].filter(filter_by_len)"
   ]
  },
  {
   "cell_type": "code",
   "execution_count": 42,
   "metadata": {},
   "outputs": [
    {
     "data": {
      "text/plain": [
       "Dataset({\n",
       "    features: ['short_book_title', 'publication_date', 'url', 'text', 'tokens'],\n",
       "    num_rows: 25552\n",
       "})"
      ]
     },
     "execution_count": 42,
     "metadata": {},
     "output_type": "execute_result"
    }
   ],
   "source": [
    "filtered"
   ]
  },
  {
   "cell_type": "code",
   "execution_count": 39,
   "metadata": {},
   "outputs": [],
   "source": [
    "inds = np.linspace(0, 90, 10).astype(int).tolist()"
   ]
  },
  {
   "cell_type": "code",
   "execution_count": 40,
   "metadata": {},
   "outputs": [
    {
     "data": {
      "text/plain": [
       "Dataset({\n",
       "    features: ['short_book_title', 'publication_date', 'url', 'text', 'tokens'],\n",
       "    num_rows: 10\n",
       "})"
      ]
     },
     "execution_count": 40,
     "metadata": {},
     "output_type": "execute_result"
    }
   ],
   "source": [
    "dataset['test'].select(inds)"
   ]
  },
  {
   "cell_type": "code",
   "execution_count": 34,
   "metadata": {},
   "outputs": [
    {
     "data": {
      "text/plain": [
       "[0,\n",
       " 10,\n",
       " 20,\n",
       " 30,\n",
       " 40,\n",
       " 50,\n",
       " 60,\n",
       " 70,\n",
       " 80,\n",
       " 90,\n",
       " 101,\n",
       " 111,\n",
       " 121,\n",
       " 131,\n",
       " 141,\n",
       " 151,\n",
       " 161,\n",
       " 171,\n",
       " 181,\n",
       " 191,\n",
       " 202,\n",
       " 212,\n",
       " 222,\n",
       " 232,\n",
       " 242,\n",
       " 252,\n",
       " 262,\n",
       " 272,\n",
       " 282,\n",
       " 292,\n",
       " 303,\n",
       " 313,\n",
       " 323,\n",
       " 333,\n",
       " 343,\n",
       " 353,\n",
       " 363,\n",
       " 373,\n",
       " 383,\n",
       " 393,\n",
       " 404,\n",
       " 414,\n",
       " 424,\n",
       " 434,\n",
       " 444,\n",
       " 454,\n",
       " 464,\n",
       " 474,\n",
       " 484,\n",
       " 494,\n",
       " 505,\n",
       " 515,\n",
       " 525,\n",
       " 535,\n",
       " 545,\n",
       " 555,\n",
       " 565,\n",
       " 575,\n",
       " 585,\n",
       " 595,\n",
       " 606,\n",
       " 616,\n",
       " 626,\n",
       " 636,\n",
       " 646,\n",
       " 656,\n",
       " 666,\n",
       " 676,\n",
       " 686,\n",
       " 696,\n",
       " 707,\n",
       " 717,\n",
       " 727,\n",
       " 737,\n",
       " 747,\n",
       " 757,\n",
       " 767,\n",
       " 777,\n",
       " 787,\n",
       " 797,\n",
       " 808,\n",
       " 818,\n",
       " 828,\n",
       " 838,\n",
       " 848,\n",
       " 858,\n",
       " 868,\n",
       " 878,\n",
       " 888,\n",
       " 898,\n",
       " 909,\n",
       " 919,\n",
       " 929,\n",
       " 939,\n",
       " 949,\n",
       " 959,\n",
       " 969,\n",
       " 979,\n",
       " 989,\n",
       " 1000]"
      ]
     },
     "execution_count": 34,
     "metadata": {},
     "output_type": "execute_result"
    }
   ],
   "source": []
  },
  {
   "cell_type": "code",
   "execution_count": 32,
   "metadata": {},
   "outputs": [
    {
     "data": {
      "application/vnd.jupyter.widget-view+json": {
       "model_id": "84f7c9987f0945999baba5ce4c812d85",
       "version_major": 2,
       "version_minor": 0
      },
      "text/plain": [
       "Filter:   0%|          | 0/28602 [00:00<?, ? examples/s]"
      ]
     },
     "metadata": {},
     "output_type": "display_data"
    }
   ],
   "source": [
    "filtered_train = dataset['train'].filter(filter_by_len)#, batched=True)"
   ]
  },
  {
   "cell_type": "code",
   "execution_count": null,
   "metadata": {},
   "outputs": [],
   "source": [
    "from itertools import chain\n",
    "def group_texts(examples, segment_size, history_size=None):\n",
    "    concatenated_examples = {k: list(chain(*examples[k])) for k in examples.keys()}\n",
    "    total_length = len(concatenated_examples[list(examples.keys())[0]])\n",
    "\n",
    "    if history_size is None:\n",
    "        result = {\n",
    "            k: [t[i : i + segment_size] for i in range(0, total_length, segment_size)]\n",
    "            for k, t in concatenated_examples.items()\n",
    "        }\n",
    "    else:\n",
    "        result = {\n",
    "            k: [t[max({0, i - history_size}) : i + segment_size] for i in range(history_size, total_length, segment_size)]\n",
    "            for k, t in concatenated_examples.items()\n",
    "        }\n",
    "    return result\n",
    "\n",
    "segment_size = 1024\n",
    "history_size = val_history_size = 1024\n",
    "\n",
    "train_dataset = dataset[\"train\"].select_columns(['tokens']).map(lambda x: group_texts(x, segment_size, history_size),\n",
    "                                                batched=True, desc=f\"Grouping train in chunks of {segment_size} and history {history_size}\")\n",
    "valid_dataset = dataset[\"validation\"].select_columns(['tokens']).map(lambda x: group_texts(x, segment_size, val_history_size), \n",
    "                                                        batched=True, desc=f\"Grouping valid in chunks of {segment_size} and history {val_history_size}\")\n",
    "test_dataset = dataset[\"test\"].select_columns(['tokens']).map(lambda x: group_texts(x, segment_size, val_history_size), \n",
    "                                                        batched=True, desc=f\"Grouping test in chunks of {segment_size} and history {val_history_size}\")\n"
   ]
  },
  {
   "cell_type": "code",
   "execution_count": null,
   "metadata": {},
   "outputs": [],
   "source": [
    "\n",
    "def filter_by_len(sample, min_len=16000):\n",
    "    return len(sample['tokens']) > min_len\n",
    "train_dataset = train_dataset.map(filter_by_len)\n",
    "\n",
    "num_valid_examples = 100\n",
    "valid_inds = np.linspace(0, range(len(valid_dataset)), num_valid_examples).astype(int)\n",
    "valid_dataset = valid_dataset.select(valid_inds)"
   ]
  },
  {
   "cell_type": "code",
   "execution_count": null,
   "metadata": {},
   "outputs": [],
   "source": []
  },
  {
   "cell_type": "code",
   "execution_count": null,
   "metadata": {},
   "outputs": [],
   "source": []
  },
  {
   "cell_type": "code",
   "execution_count": null,
   "metadata": {},
   "outputs": [],
   "source": []
  },
  {
   "cell_type": "code",
   "execution_count": 7,
   "metadata": {},
   "outputs": [
    {
     "ename": "FileNotFoundError",
     "evalue": "Directory /home/jovyan/rmt/datasets/pile_smol/ is neither a `Dataset` directory nor a `DatasetDict` directory.",
     "output_type": "error",
     "traceback": [
      "\u001b[0;31m---------------------------------------------------------------------------\u001b[0m",
      "\u001b[0;31mFileNotFoundError\u001b[0m                         Traceback (most recent call last)",
      "Cell \u001b[0;32mIn[7], line 5\u001b[0m\n\u001b[1;32m      2\u001b[0m \u001b[38;5;28;01mfrom\u001b[39;00m \u001b[38;5;21;01mtransformers\u001b[39;00m \u001b[38;5;28;01mimport\u001b[39;00m AutoTokenizer\n\u001b[1;32m      4\u001b[0m \u001b[38;5;66;03m# dataset = load_dataset('/home/jovyan/rmt/datasets/pile/data/test.jsonl.zst')\u001b[39;00m\n\u001b[0;32m----> 5\u001b[0m dataset \u001b[38;5;241m=\u001b[39m \u001b[43mload_from_disk\u001b[49m\u001b[43m(\u001b[49m\u001b[38;5;124;43m'\u001b[39;49m\u001b[38;5;124;43m/home/jovyan/rmt/datasets/pile_smol/\u001b[39;49m\u001b[38;5;124;43m'\u001b[39;49m\u001b[43m)\u001b[49m\n\u001b[1;32m      6\u001b[0m \u001b[38;5;66;03m# dataset = load_dataset('EleutherAI/pile', 'test')\u001b[39;00m\n",
      "File \u001b[0;32m~/envs/ayd_py3.11_pt2_cu11.8/lib/python3.11/site-packages/datasets/load.py:2697\u001b[0m, in \u001b[0;36mload_from_disk\u001b[0;34m(dataset_path, fs, keep_in_memory, storage_options)\u001b[0m\n\u001b[1;32m   2695\u001b[0m     \u001b[38;5;28;01mreturn\u001b[39;00m DatasetDict\u001b[38;5;241m.\u001b[39mload_from_disk(dataset_path, keep_in_memory\u001b[38;5;241m=\u001b[39mkeep_in_memory, storage_options\u001b[38;5;241m=\u001b[39mstorage_options)\n\u001b[1;32m   2696\u001b[0m \u001b[38;5;28;01melse\u001b[39;00m:\n\u001b[0;32m-> 2697\u001b[0m     \u001b[38;5;28;01mraise\u001b[39;00m \u001b[38;5;167;01mFileNotFoundError\u001b[39;00m(\n\u001b[1;32m   2698\u001b[0m         \u001b[38;5;124mf\u001b[39m\u001b[38;5;124m\"\u001b[39m\u001b[38;5;124mDirectory \u001b[39m\u001b[38;5;132;01m{\u001b[39;00mdataset_path\u001b[38;5;132;01m}\u001b[39;00m\u001b[38;5;124m is neither a `Dataset` directory nor a `DatasetDict` directory.\u001b[39m\u001b[38;5;124m\"\u001b[39m\n\u001b[1;32m   2699\u001b[0m     )\n",
      "\u001b[0;31mFileNotFoundError\u001b[0m: Directory /home/jovyan/rmt/datasets/pile_smol/ is neither a `Dataset` directory nor a `DatasetDict` directory."
     ]
    }
   ],
   "source": [
    "\n",
    "# dataset = load_dataset('/home/jovyan/rmt/datasets/pile/data/test.jsonl.zst')\n",
    "dataset = load_from_disk('/home/jovyan/rmt/datasets/pile_smol/')\n",
    "# dataset = load_dataset('EleutherAI/pile', 'test')"
   ]
  },
  {
   "cell_type": "code",
   "execution_count": null,
   "metadata": {},
   "outputs": [],
   "source": [
    "\n",
    "\n",
    "\n",
    "model_path = \"/home/jovyan/kuratov/models/Llama-3.2-1B\"\n",
    "tokenizer = AutoTokenizer.from_pretrained(model_path)"
   ]
  },
  {
   "cell_type": "code",
   "execution_count": null,
   "metadata": {},
   "outputs": [],
   "source": [
    "\n",
    "def tokenize(sample):\n",
    "    sample['tokens'] = tokenizer.encode(sample['text'], return_tensors='pt')[0]\n",
    "    return sample\n",
    "\n",
    "new_ds = dataset.map(tokenize, batch_size=256)\n",
    "new_ds.save_to_disk('pg19_tokenized')"
   ]
  }
 ],
 "metadata": {
  "kernelspec": {
   "display_name": "Python 3",
   "language": "python",
   "name": "python3"
  },
  "language_info": {
   "codemirror_mode": {
    "name": "ipython",
    "version": 3
   },
   "file_extension": ".py",
   "mimetype": "text/x-python",
   "name": "python",
   "nbconvert_exporter": "python",
   "pygments_lexer": "ipython3",
   "version": "3.11.9"
  }
 },
 "nbformat": 4,
 "nbformat_minor": 2
}
