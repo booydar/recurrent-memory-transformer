{
 "cells": [
  {
   "cell_type": "code",
   "execution_count": 3,
   "metadata": {},
   "outputs": [],
   "source": [
    "from transformers import AutoConfig, AutoTokenizer, HfArgumentParser  # noqa: E402\n"
   ]
  },
  {
   "cell_type": "code",
   "execution_count": 4,
   "metadata": {},
   "outputs": [],
   "source": [
    "t = AutoTokenizer.from_pretrained('gpt2')"
   ]
  },
  {
   "cell_type": "code",
   "execution_count": 6,
   "metadata": {},
   "outputs": [
    {
     "data": {
      "text/plain": [
       "[40, 1842, 345]"
      ]
     },
     "execution_count": 6,
     "metadata": {},
     "output_type": "execute_result"
    }
   ],
   "source": [
    "t.encode('I love you')"
   ]
  },
  {
   "cell_type": "code",
   "execution_count": 1,
   "metadata": {},
   "outputs": [],
   "source": [
    "# pip install dotenv"
   ]
  },
  {
   "cell_type": "code",
   "execution_count": 1,
   "metadata": {},
   "outputs": [
    {
     "name": "stderr",
     "output_type": "stream",
     "text": [
      "\n",
      "libgomp: Invalid value for environment variable OMP_NUM_THREADS\n",
      "/home/jovyan/envs/accel_rmt/lib/python3.9/site-packages/tqdm/auto.py:21: TqdmWarning: IProgress not found. Please update jupyter and ipywidgets. See https://ipywidgets.readthedocs.io/en/stable/user_install.html\n",
      "  from .autonotebook import tqdm as notebook_tqdm\n",
      "\n",
      "libgomp: Invalid value for environment variable OMP_NUM_THREADS\n"
     ]
    }
   ],
   "source": [
    "import json\n",
    "import logging\n",
    "import sys\n",
    "import os\n",
    "import math\n",
    "import shutil\n",
    "from pathlib import Path\n",
    "from itertools import chain\n",
    "# from megatron.data.dataset_utils import get_indexed_dataset_\n",
    "\n",
    "# import horovod.torch as hvd\n",
    "# from dotenv import load_dotenv\n",
    "import torch\n",
    "import numpy as np\n",
    "import datasets\n",
    "from torch.utils.data import DataLoader, DistributedSampler\n",
    "from datasets import Dataset, load_dataset\n",
    "from huggingface_hub import hf_hub_download\n",
    "from sklearn.metrics import f1_score, accuracy_score\n",
    "\n",
    "sys.path.append('../')\n",
    "# from lm_experiments_tools import TrainerArgs\n",
    "from lm_experiments_tools.trainer import Trainer\n",
    "\n",
    "from torch.nn.utils.rnn import pad_sequence\n",
    "# from lm_experiments_tools.lm_datasets import get_lm_datasets\n",
    "from task_utils.contract_nli import process_file\n",
    "import transformers  # noqa: E402\n",
    "from transformers import AutoConfig, AutoTokenizer, HfArgumentParser  # noqa: E402\n",
    "\n",
    "from lm_experiments_tools.utils import collect_run_configuration, get_cls_by_name, get_optimizer  # noqa: E402\n",
    "import lm_experiments_tools.optimizers as optimizers  # noqa: E402\n"
   ]
  },
  {
   "cell_type": "code",
   "execution_count": 2,
   "metadata": {},
   "outputs": [],
   "source": [
    "\n",
    "# load_dotenv()\n",
    "\n",
    "# logging.basicConfig(format='%(asctime)s - %(name)s - %(levelname)s - %(message)s',\n",
    "#                     level=logging.INFO)\n",
    "# logger = logging.getLogger(__name__)\n",
    "\n",
    "# os.environ[\"CUDA_LAUNCH_BLOCKING\"] = \"1\"\n",
    "# # if CUDA_VISIBLE_DEVICES is not set make all gpus visible\n",
    "# if os.environ.get('CUDA_VISIBLE_DEVICES', None) is None:\n",
    "#     os.environ['CUDA_VISIBLE_DEVICES'] = ','.join([str(i) for i in range(torch.cuda.device_count())])\n",
    "\n",
    "# logger.info(f\"CUDA_VISIBLE_DEVICES: {os.environ['CUDA_VISIBLE_DEVICES']}\")\n",
    "# # first call to torch.cuda.device_count() sets visible gpus, following calls will not change the result\n",
    "# logger.info(f\"CUDA DEVICE COUNT: {torch.cuda.device_count()}\")\n",
    "\n",
    "# hvd.init()\n",
    "\n",
    "\n",
    "# # limit # of CPU threads to be used per pytorch worker, otherwise it might use all cpus and throttle gpus\n",
    "# # > 2 fails cause of https://github.com/pytorch/pytorch/issues/56615\n",
    "# # need to upgrade to torch>1.8.1\n",
    "# torch.set_num_threads(4)\n",
    "# # all gpus set with CUDA_VISIBLE_DEVICES are visible to process, indexing from 0 to ...\n",
    "# torch.cuda.set_device(hvd.local_rank())\n",
    "\n",
    "# parser = HfArgumentParser(TrainerArgs)\n",
    "# parser.add_argument('--task_name', type=str, help=\"Task name, wikitext, ...\")\n",
    "# parser.add_argument('--validate_only', action='store_true', default=False,\n",
    "#                     help='Skip training and run only validation. (default: False)')\n",
    "# parser.add_argument('--working_dir', type=str, default='.',\n",
    "#                     help='working dir, should be a dir with t5-experiments repo (default: .)')\n",
    "# parser.add_argument('--seed', type=int, default=42, help='random seed')\n",
    "# parser.add_argument('--show_valid_examples', type=int, default=0,\n",
    "#                     help='how many valid examples to show during training (default: 0)')\n",
    "# parser.add_argument('--input_seq_len', type=int, default=128, help='input sequnce length (default: 128).')\n",
    "# parser.add_argument('--target_seq_len', type=int, default=16, help='target sequnce length, should be set to '\n",
    "#                                                                    'max(len(target))+1 for EOS (default: 16).')\n",
    "# parser.add_argument('--data_n_workers', type=int, default=2, help='number of dataloader workers (default: 2)')\n",
    "\n",
    "# parser.add_argument('--input_prefix', type=str, default='', help='add task prefix to an input string (default: \"\")')\n",
    "# parser.add_argument('--sliding_window', action='store_true', help='use slinding window attentinon mask, '\n",
    "#                     'eval on last segment only', default=False)\n",
    "\n",
    "# # model args\n",
    "# parser.add_argument('--from_pretrained', type=str, help='model name in HF Model Hub (default: \"\")')\n",
    "# parser.add_argument('--model_cfg', type=str, help='path to model configuration file (default: \"\")')\n",
    "# parser.add_argument('--model_cls', type=str, default='transformers:BertForPreTraining',\n",
    "#                     help='model class name to use (default: transformers:BertForPreTraining)')\n",
    "# parser.add_argument('--memory_cell_cls', type=str, default=None, help='cell class for RMT')\n",
    "# parser.add_argument('--recurrent_wrapper_cls', type=str, default=None, help='recurrent wrapper class for RMT')\n",
    "# parser.add_argument('--model_cpt', type=str, default=None, help='pretrained model checkpoint path')\n",
    "# parser.add_argument('--backbone_cls', type=str, default=None,\n",
    "#                     help='backbone class name to use for RMT')\n",
    "# parser.add_argument('--model_type', type=str, default='encoder-decoder',\n",
    "#                     help='model type, encoder, encoder-decoder, decoder, affects preprocessing '\n",
    "#                          '(default: encoder-decoder)')\n",
    "\n",
    "\n",
    "# # Aydar # RMT args \n",
    "# parser.add_argument('--input_size', type=int, default=None, help='maximal input size of the backbone model')\n",
    "# parser.add_argument('--num_mem_tokens', type=int, default=None, help='number of memory tokens.')\n",
    "# parser.add_argument('--max_n_segments', type=int, default=1, help='maximal segment number')\n",
    "# # parser.add_argument('--sum_loss', action='store_true', default=False,\n",
    "# #                     help='with this flag task loss from all segments is summed')\n",
    "# # parser.add_argument('--bptt_depth', type=int, default=-1, help='max number of previous segments in gradient computation.')\n",
    "# # parser.add_argument('--segment_ordering', type=str, help='segment order', default='regular',\n",
    "# #                     choices=['regular', 'reversed', 'bidirectional', 'repeat_first', 'last_memory_only'])\n",
    "# # parser.add_argument('--memory_forward_func', type=str, help='path to memory forward funсtion script', default=None)\n",
    "# # parser.add_argument('--memory_layers', type=str, help='memory-augmented layer inds or \"all\" for all layers', default=None)\n",
    "# # parser.add_argument('--share_memory_layers', action='store_true', help='share weights of memory layers', default=False)\n",
    "# # parser.add_argument('--reconstruction_loss_coef', type=float, default=None,\n",
    "# #                     help='reconstuction loss ratio in total loss')\n",
    "# # # parser.add_argument('--segment_ordering', type=str,help='????', default='regular',\n",
    "# # #                     choices=['regular', 'reversed', 'bidirectional', 'repeat_first', 'last_memory_only'])\n",
    "# # parser.add_argument('--retain_graph', action='store_true', help='Retain computation graph during backward pass', default=False)\n",
    "# # parser.add_argument('--use_truncated_backward', action='store_true', default=False,\n",
    "# #                     help='whether to use RMT truncated bptt method in backward')\n",
    "# # parser.add_argument('--k1', type=int, default=-1, help='(not implemented) If not -1, gradient update is done each k1 segments')\n",
    "# parser.add_argument('--k2', type=int, default=-1, help='number of last segments used by backward')\n",
    "# parser.add_argument('--freeze_model_weights', action='store_true', default=False,\n",
    "#                     help='Stop training all model weights except memory layers')\n",
    "# parser.add_argument('--backbone_cpt', type=str, default=None, help='backbone model checkpoint path')\n",
    "\n",
    "\n",
    "# # tokenizer\n",
    "# # todo: add wordpiece tokenizers support?\n",
    "# parser.add_argument('--tokenizer', type=str, default=None, help='path or name of pre-trained HF Tokenizer')\n",
    "\n",
    "# # optimizer args\n",
    "# parser.add_argument('--optimizer', type=str, default='AdamW', help='optimizer name: AdamW, Adafactor. (default: AdamW)')\n",
    "# parser.add_argument('--weight_decay', type=float, default=0.0, help='optimizer weight decay (default: 0.0)')\n",
    "# parser.add_argument('--scale_parameter', action='store_true', default=False,\n",
    "#                     help='Adafactor scale_parameter (default: False)')\n",
    "# parser.add_argument('--relative_step', action='store_true', default=False,\n",
    "#                     help='Adafactor relative_step (default: False)')\n",
    "# parser.add_argument('--warmup_init', action='store_true', default=False,\n",
    "#                     help='Adafactor warmup_init (default: False)')"
   ]
  },
  {
   "cell_type": "code",
   "execution_count": 3,
   "metadata": {},
   "outputs": [],
   "source": [
    "\n",
    "class CNLIDataset(Dataset):\n",
    "    def __init__(self, json_path):\n",
    "        with open(json_path, 'r') as f:\n",
    "            self.samples = np.array(json.load(f))\n",
    "        # self.samples = process_file(json_path)\n",
    "\n",
    "    def __getitem__(self, item):\n",
    "        return self.samples[item]\n",
    "    \n",
    "    def __len__(self):\n",
    "        return len(self.samples)\n",
    "\n"
   ]
  },
  {
   "cell_type": "code",
   "execution_count": 4,
   "metadata": {},
   "outputs": [],
   "source": [
    "class Holder:\n",
    "    def __init__(self):\n",
    "        pass\n",
    "    def __getattr__(self, name):\n",
    "        try:\n",
    "            return super().__getattr__(name)\n",
    "        except AttributeError:\n",
    "            return None\n",
    "\n",
    "args = Holder()"
   ]
  },
  {
   "cell_type": "code",
   "execution_count": 5,
   "metadata": {},
   "outputs": [],
   "source": [
    "args.from_pretrained = 'gpt2'"
   ]
  },
  {
   "cell_type": "code",
   "execution_count": 14,
   "metadata": {},
   "outputs": [],
   "source": [
    "attrs = (\"--model_path\", \"/cephfs/home/bulatov/bulatov/RMT_light/runs/test/cnli_original\",\n",
    "\"--from_pretrained\", \"gpt2\",\n",
    "\"--task_name\", \"cnli_original\",\n",
    "\"--model_type\", \"decoder\",\n",
    "\"--memory_cell_cls\", \"modeling_rmt.language_modeling:MemoryCell\",\n",
    "\"--recurrent_wrapper_cls\", \"modeling_rmt.language_modeling:RecurrentWrapper\",\n",
    "\"--model_cls\",  \"transformers:AutoModelForCausalLM\",\n",
    "\"--optimizer\", \"AdamW\",\n",
    "\"--weight_decay\", \"0.001\",\n",
    "\"--lr\", \"1e-03\", \n",
    "\"--lr_scheduler\", \"constant_with_warmup\",\n",
    "\"--clip_grad_value\", \"5.0\")\n",
    "\n",
    "int_attrs = (\"--input_seq_len\", \"512\",\n",
    "\"--input_size\", \"128\",\n",
    "\"--target_seq_len\", \"128\",\n",
    "\"--num_mem_tokens\", \"2\",\n",
    "\"--max_n_segments\" ,\"5\", \n",
    "\"--batch_size\", \"2\", \n",
    "\"--gradient_accumulation_steps\", \"1\",\n",
    "\"--iters\", \"100\",\n",
    "\"--num_warmup_steps\", \"100\",\n",
    "\"--data_n_workers\", \"2\",\n",
    "\"--log_interval\", \"10\",\n",
    "\"--show_valid_examples\", \"5\",\n",
    "\"--early_stopping_patience\", \"15\",\n",
    "\"--seed\", \"42\",\n",
    "\"--k2\", \"-1\",)"
   ]
  },
  {
   "cell_type": "code",
   "execution_count": 15,
   "metadata": {},
   "outputs": [],
   "source": [
    "for a, v in zip(int_attrs[::2], int_attrs[1::2]):\n",
    "    setattr(args, a.split('--')[1], int(v))\n",
    "\n",
    "for a, v in zip(attrs[::2], attrs[1::2]):\n",
    "    try:\n",
    "        setattr(args, a.split('--')[1], float(v))\n",
    "    except ValueError:\n",
    "        setattr(args, a.split('--')[1], v)"
   ]
  },
  {
   "cell_type": "code",
   "execution_count": 16,
   "metadata": {},
   "outputs": [],
   "source": [
    "\n",
    "# args = parser.parse_args()\n",
    "# set current working dir\n",
    "# args.working_dir = str(Path(args.working_dir).expanduser().absolute())\n",
    "# os.chdir(args.working_dir)\n",
    "# if hvd.rank() == 0:\n",
    "#     logger.info(f'hvd size: {hvd.size()}')\n",
    "#     logger.info(f'FP16: {args.fp16}')\n",
    "\n",
    "# if hvd.rank() == 0 and args.model_path is None:\n",
    "#     logger.warning('model_path is not set: config, logs and checkpoints will not be saved.')\n",
    "\n",
    "# # create model path and save configuration\n",
    "# if hvd.rank() == 0 and args.model_path is not None:\n",
    "#     model_path = Path(args.model_path)\n",
    "#     if not model_path.exists():\n",
    "#         Path(model_path).mkdir(parents=True)\n",
    "#     args_dict = collect_run_configuration(args)\n",
    "#     # todo: if model path exists and there is config file, write new config file aside\n",
    "#     json.dump(args_dict, open(model_path/'config.json', 'w'), indent=4)\n",
    "\n",
    "if not args.from_pretrained:\n",
    "    tokenizer = AutoTokenizer.from_pretrained(args.tokenizer)\n",
    "else:\n",
    "    tokenizer = AutoTokenizer.from_pretrained(args.from_pretrained)\n"
   ]
  },
  {
   "cell_type": "code",
   "execution_count": 17,
   "metadata": {},
   "outputs": [],
   "source": [
    "tokenizer.pad_token = tokenizer.eos_token"
   ]
  },
  {
   "cell_type": "code",
   "execution_count": 18,
   "metadata": {},
   "outputs": [],
   "source": [
    "\n",
    "if args.model_type == 'decoder':\n",
    "    from torch.nn.utils.rnn import pad_sequence\n",
    "\n",
    "    block_size = args.input_size \n",
    "    if args.num_mem_tokens is not None:\n",
    "        block_size -= 2 * args.num_mem_tokens\n",
    "    history_size = args.input_seq_len - block_size\n",
    "\n",
    "    tokenizer.pad_token = tokenizer.eos_token\n",
    "    # tokenizer.add_tokens('[GEN]')\n",
    "    # gen_token = tokenizer.bos_token\n",
    "    tokenizer.add_special_tokens({'additional_special_tokens': ['[GEN]']})\n",
    "    gen_token = tokenizer.encode('[GEN]')[0]\n",
    "    eos = tokenizer.eos_token_id\n",
    "    id_pad_value = tokenizer.eos_token_id\n",
    "\n",
    "    def collate_train(batch):\n",
    "        inputs = [b['context'][:args.input_seq_len * 10] for b in batch]\n",
    "        labels = [b['answer'][:args.input_seq_len * 10] for b in batch]\n",
    "\n",
    "        collated = {}\n",
    "        inputs = tokenizer.batch_encode_plus(list(inputs), padding=False)\n",
    "        labels = tokenizer.batch_encode_plus(list(labels), padding=False)\n",
    "\n",
    "        full_inputs, labels_mask = [], []\n",
    "        for inp, lab in zip(inputs['input_ids'], labels['input_ids']):\n",
    "            inp = inp[:args.input_seq_len - len(lab) - 2]\n",
    "            full_inputs.append(torch.tensor(inp + [gen_token] + lab + [eos]))\n",
    "            labels_mask.append(torch.tensor([False] * len(inp) + [True] * (len(lab) + 1) + [False]))\n",
    "\n",
    "        full_inputs = pad_sequence(full_inputs, padding_value=id_pad_value).T\n",
    "        labels_mask = pad_sequence(labels_mask, padding_value=False).T\n",
    "\n",
    "        collated['input_ids'] = collated['labels'] = full_inputs\n",
    "        collated['labels_mask'] = labels_mask\n",
    "        collated['attention_mask'] = (collated['input_ids'] != id_pad_value).bool()\n",
    "        return collated\n",
    "    \n",
    "    def collate_valid(batch):\n",
    "        inputs = [b['context'][:args.input_seq_len * 10] for b in batch]\n",
    "        labels = [b['answer'][:args.input_seq_len * 10] for b in batch]\n",
    "\n",
    "        collated = {}\n",
    "        inputs = tokenizer.batch_encode_plus(list(inputs), padding=False)\n",
    "        labels = tokenizer.batch_encode_plus(list(labels), padding=False)\n",
    "\n",
    "        full_inputs, full_labels = [], []\n",
    "        for inp, lab in zip(inputs['input_ids'], labels['input_ids']):\n",
    "            inp = inp[:args.input_seq_len - len(lab) - 2]\n",
    "            full_inputs.append(torch.tensor(inp + [gen_token]))\n",
    "            full_labels.append(torch.tensor(lab + [tokenizer.eos_token_id]))\n",
    "\n",
    "        full_inputs = pad_sequence(full_inputs, padding_value=id_pad_value).T\n",
    "        full_labels = pad_sequence(full_labels, padding_value=eos).T\n",
    "\n",
    "        collated['input_ids'] = full_inputs\n",
    "        collated['labels'] = full_labels\n",
    "        # collated['labels_mask'] = labels_mask\n",
    "        collated['attention_mask'] = (collated['input_ids'] != id_pad_value).bool()\n",
    "        return collated\n",
    "else:\n",
    "    raise NotImplementedError(f'Unknown model type {args.model_type}')\n"
   ]
  },
  {
   "cell_type": "code",
   "execution_count": 19,
   "metadata": {},
   "outputs": [],
   "source": [
    "\n",
    "# get train dataset\n",
    "# if hvd.rank() == 0:\n",
    "#     logger.info(f'preparing dataset for: {args.task_name}')\n",
    "train_dataset = CNLIDataset('/cephfs/home/bulatov/bulatov/datasets/contract_nli/contract-nli/train_processed.json')\n",
    "valid_dataset = CNLIDataset('/cephfs/home/bulatov/bulatov/datasets/contract_nli/contract-nli/dev_processed.json')\n",
    "test_dataset = CNLIDataset('/cephfs/home/bulatov/bulatov/datasets/contract_nli/contract-nli/test_processed.json')\n",
    "# shuffle train data each epoch (one loop over train_dataset)\n",
    "# train_sampler = DistributedSampler(train_dataset, rank=hvd.rank(), num_replicas=hvd.size(), shuffle=True,\n",
    "#                                     drop_last=False, seed=args.seed)\n",
    "per_worker_batch_size = int(args.batch_size * args.gradient_accumulation_steps)\n",
    "global_batch_size = int(args.batch_size)\n",
    "kwargs = {'pin_memory': True, 'num_workers': args.data_n_workers}\n",
    "train_dataloader = DataLoader(train_dataset, batch_size=per_worker_batch_size, \n",
    "# sampler=train_sampler,\n",
    "                                collate_fn=collate_train, **kwargs)\n",
    "# get validation dataset\n",
    "valid_dataloader = None\n",
    "# if hvd.rank() == 0:\n",
    "#     logger.info(f'preparing validation data from: {args.task_name}')\n",
    "# valid_sampler = DistributedSampler(valid_dataset, rank=hvd.rank(), num_replicas=hvd.size(), shuffle=False)\n",
    "valid_dataloader = DataLoader(valid_dataset, batch_size=per_worker_batch_size, \n",
    "# sampler=valid_sampler,\n",
    "                                collate_fn=collate_valid, **kwargs)\n",
    "\n",
    "# test_sampler = DistributedSampler(test_dataset, rank=hvd.rank(), num_replicas=hvd.size(), shuffle=False)\n",
    "test_dataloader = DataLoader(test_dataset, batch_size=per_worker_batch_size, \n",
    "# sampler=test_sampler,\n",
    "                                collate_fn=collate_valid, **kwargs)\n",
    "# if args.valid_interval is None:\n",
    "#     args.valid_interval = args.log_interval\n"
   ]
  },
  {
   "cell_type": "code",
   "execution_count": 20,
   "metadata": {},
   "outputs": [],
   "source": [
    "from torch.utils.data import SequentialSampler"
   ]
  },
  {
   "cell_type": "code",
   "execution_count": 21,
   "metadata": {},
   "outputs": [],
   "source": [
    "test_sampler = SequentialSampler(test_dataset)"
   ]
  },
  {
   "cell_type": "code",
   "execution_count": 22,
   "metadata": {},
   "outputs": [
    {
     "name": "stdout",
     "output_type": "stream",
     "text": [
      "huggingface/tokenizers: The current process just got forked, after parallelism has already been used. Disabling parallelism to avoid deadlocks...\n",
      "To disable this warning, you can either:\n",
      "\t- Avoid using `tokenizers` before the fork if possible\n",
      "\t- Explicitly set the environment variable TOKENIZERS_PARALLELISM=(true | false)\n"
     ]
    },
    {
     "name": "stdout",
     "output_type": "stream",
     "text": [
      "huggingface/tokenizers: The current process just got forked, after parallelism has already been used. Disabling parallelism to avoid deadlocks...\n",
      "To disable this warning, you can either:\n",
      "\t- Avoid using `tokenizers` before the fork if possible\n",
      "\t- Explicitly set the environment variable TOKENIZERS_PARALLELISM=(true | false)\n"
     ]
    },
    {
     "ename": "IndexError",
     "evalue": "Caught IndexError in DataLoader worker process 0.\nOriginal Traceback (most recent call last):\n  File \"/home/bulatov/bulatov/1hvdenv/lib/python3.8/site-packages/torch/utils/data/_utils/worker.py\", line 308, in _worker_loop\n    data = fetcher.fetch(index)\n  File \"/home/bulatov/bulatov/1hvdenv/lib/python3.8/site-packages/torch/utils/data/_utils/fetch.py\", line 49, in fetch\n    data = self.dataset.__getitems__(possibly_batched_index)\n  File \"/home/bulatov/bulatov/1hvdenv/lib/python3.8/site-packages/datasets/arrow_dataset.py\", line 2797, in __getitems__\n    n_examples = len(batch[next(iter(batch))])\nIndexError: only integers, slices (`:`), ellipsis (`...`), numpy.newaxis (`None`) and integer or boolean arrays are valid indices\n",
     "output_type": "error",
     "traceback": [
      "\u001b[0;31m---------------------------------------------------------------------------\u001b[0m",
      "\u001b[0;31mIndexError\u001b[0m                                Traceback (most recent call last)",
      "Cell \u001b[0;32mIn[22], line 6\u001b[0m\n\u001b[1;32m      1\u001b[0m test_dataloader \u001b[39m=\u001b[39m DataLoader(test_dataset, batch_size\u001b[39m=\u001b[39mper_worker_batch_size, \n\u001b[1;32m      2\u001b[0m sampler\u001b[39m=\u001b[39mtest_sampler,\n\u001b[1;32m      3\u001b[0m                                 collate_fn\u001b[39m=\u001b[39mcollate_valid, \u001b[39m*\u001b[39m\u001b[39m*\u001b[39mkwargs)\n\u001b[1;32m      5\u001b[0m gen \u001b[39m=\u001b[39m \u001b[39miter\u001b[39m(test_dataloader)\n\u001b[0;32m----> 6\u001b[0m batch \u001b[39m=\u001b[39m \u001b[39mnext\u001b[39;49m(gen)\n",
      "File \u001b[0;32m~/bulatov/1hvdenv/lib/python3.8/site-packages/torch/utils/data/dataloader.py:633\u001b[0m, in \u001b[0;36m_BaseDataLoaderIter.__next__\u001b[0;34m(self)\u001b[0m\n\u001b[1;32m    630\u001b[0m \u001b[39mif\u001b[39;00m \u001b[39mself\u001b[39m\u001b[39m.\u001b[39m_sampler_iter \u001b[39mis\u001b[39;00m \u001b[39mNone\u001b[39;00m:\n\u001b[1;32m    631\u001b[0m     \u001b[39m# TODO(https://github.com/pytorch/pytorch/issues/76750)\u001b[39;00m\n\u001b[1;32m    632\u001b[0m     \u001b[39mself\u001b[39m\u001b[39m.\u001b[39m_reset()  \u001b[39m# type: ignore[call-arg]\u001b[39;00m\n\u001b[0;32m--> 633\u001b[0m data \u001b[39m=\u001b[39m \u001b[39mself\u001b[39;49m\u001b[39m.\u001b[39;49m_next_data()\n\u001b[1;32m    634\u001b[0m \u001b[39mself\u001b[39m\u001b[39m.\u001b[39m_num_yielded \u001b[39m+\u001b[39m\u001b[39m=\u001b[39m \u001b[39m1\u001b[39m\n\u001b[1;32m    635\u001b[0m \u001b[39mif\u001b[39;00m \u001b[39mself\u001b[39m\u001b[39m.\u001b[39m_dataset_kind \u001b[39m==\u001b[39m _DatasetKind\u001b[39m.\u001b[39mIterable \u001b[39mand\u001b[39;00m \\\n\u001b[1;32m    636\u001b[0m         \u001b[39mself\u001b[39m\u001b[39m.\u001b[39m_IterableDataset_len_called \u001b[39mis\u001b[39;00m \u001b[39mnot\u001b[39;00m \u001b[39mNone\u001b[39;00m \u001b[39mand\u001b[39;00m \\\n\u001b[1;32m    637\u001b[0m         \u001b[39mself\u001b[39m\u001b[39m.\u001b[39m_num_yielded \u001b[39m>\u001b[39m \u001b[39mself\u001b[39m\u001b[39m.\u001b[39m_IterableDataset_len_called:\n",
      "File \u001b[0;32m~/bulatov/1hvdenv/lib/python3.8/site-packages/torch/utils/data/dataloader.py:1345\u001b[0m, in \u001b[0;36m_MultiProcessingDataLoaderIter._next_data\u001b[0;34m(self)\u001b[0m\n\u001b[1;32m   1343\u001b[0m \u001b[39melse\u001b[39;00m:\n\u001b[1;32m   1344\u001b[0m     \u001b[39mdel\u001b[39;00m \u001b[39mself\u001b[39m\u001b[39m.\u001b[39m_task_info[idx]\n\u001b[0;32m-> 1345\u001b[0m     \u001b[39mreturn\u001b[39;00m \u001b[39mself\u001b[39;49m\u001b[39m.\u001b[39;49m_process_data(data)\n",
      "File \u001b[0;32m~/bulatov/1hvdenv/lib/python3.8/site-packages/torch/utils/data/dataloader.py:1371\u001b[0m, in \u001b[0;36m_MultiProcessingDataLoaderIter._process_data\u001b[0;34m(self, data)\u001b[0m\n\u001b[1;32m   1369\u001b[0m \u001b[39mself\u001b[39m\u001b[39m.\u001b[39m_try_put_index()\n\u001b[1;32m   1370\u001b[0m \u001b[39mif\u001b[39;00m \u001b[39misinstance\u001b[39m(data, ExceptionWrapper):\n\u001b[0;32m-> 1371\u001b[0m     data\u001b[39m.\u001b[39;49mreraise()\n\u001b[1;32m   1372\u001b[0m \u001b[39mreturn\u001b[39;00m data\n",
      "File \u001b[0;32m~/bulatov/1hvdenv/lib/python3.8/site-packages/torch/_utils.py:644\u001b[0m, in \u001b[0;36mExceptionWrapper.reraise\u001b[0;34m(self)\u001b[0m\n\u001b[1;32m    640\u001b[0m \u001b[39mexcept\u001b[39;00m \u001b[39mTypeError\u001b[39;00m:\n\u001b[1;32m    641\u001b[0m     \u001b[39m# If the exception takes multiple arguments, don't try to\u001b[39;00m\n\u001b[1;32m    642\u001b[0m     \u001b[39m# instantiate since we don't know how to\u001b[39;00m\n\u001b[1;32m    643\u001b[0m     \u001b[39mraise\u001b[39;00m \u001b[39mRuntimeError\u001b[39;00m(msg) \u001b[39mfrom\u001b[39;00m \u001b[39mNone\u001b[39;00m\n\u001b[0;32m--> 644\u001b[0m \u001b[39mraise\u001b[39;00m exception\n",
      "\u001b[0;31mIndexError\u001b[0m: Caught IndexError in DataLoader worker process 0.\nOriginal Traceback (most recent call last):\n  File \"/home/bulatov/bulatov/1hvdenv/lib/python3.8/site-packages/torch/utils/data/_utils/worker.py\", line 308, in _worker_loop\n    data = fetcher.fetch(index)\n  File \"/home/bulatov/bulatov/1hvdenv/lib/python3.8/site-packages/torch/utils/data/_utils/fetch.py\", line 49, in fetch\n    data = self.dataset.__getitems__(possibly_batched_index)\n  File \"/home/bulatov/bulatov/1hvdenv/lib/python3.8/site-packages/datasets/arrow_dataset.py\", line 2797, in __getitems__\n    n_examples = len(batch[next(iter(batch))])\nIndexError: only integers, slices (`:`), ellipsis (`...`), numpy.newaxis (`None`) and integer or boolean arrays are valid indices\n"
     ]
    }
   ],
   "source": [
    "test_dataloader = DataLoader(test_dataset, batch_size=per_worker_batch_size, \n",
    "sampler=test_sampler,\n",
    "                                collate_fn=collate_valid, **kwargs)\n",
    "\n",
    "gen = iter(test_dataloader)\n",
    "batch = next(gen)"
   ]
  },
  {
   "cell_type": "code",
   "execution_count": 33,
   "metadata": {},
   "outputs": [],
   "source": [
    "import horovod"
   ]
  },
  {
   "cell_type": "code",
   "execution_count": 34,
   "metadata": {},
   "outputs": [
    {
     "data": {
      "text/plain": [
       "'0.28.0'"
      ]
     },
     "execution_count": 34,
     "metadata": {},
     "output_type": "execute_result"
    }
   ],
   "source": [
    "horovod.__version__"
   ]
  },
  {
   "cell_type": "code",
   "execution_count": 32,
   "metadata": {},
   "outputs": [
    {
     "data": {
      "text/plain": [
       "array([{'context': \"Receiving Party shall not solicit some of Disclosing Party's representatives. MUTUAL NON-DISCLOSURE AGREEMENT\\nThis Non-Disclosure Agreement (“Agreement”) is made on ___ day of ___ 20__, (“effective date”) by and between _____________________, a _____________ Corporation, (“XXXXX”) and Data Boiler Technologies, LLC., a Massachusetts corporation (“DBT”).\\nWHEREAS, DBT and XXX (the “Parties”) desire to engage in business related discussions and negotiations regarding a potential business relationship (“Transaction”).\\nWHEREAS, the Parties may provide to each other certain confidential and proprietary information in connection with the Transaction and each desires that any such information provided shall be kept confidential by the other party; and\\nWHEREAS, in consideration of the disclosure of such information, each party is willing to keep the other party’s information confidential in accordance with the terms and conditions set forth in this Agreement;\\nNOW, THEREFORE, DBT and XXX hereby agree as follows:\\n1. Confidential Information “Confidential Information” means nonpublic information that disclosing party (“Disclosing Party”) designates as being confidential or which, under the circumstances surrounding disclosure the receiving party (“Receiving Party”) should know is treated as confidential by the Disclosing Party. Confidential Information includes, without limitation, non-public information relating to released or unreleased Disclosing Party software products, the marketing or promotion of any Disclosing Party product, Disclosing Party’s business policies or practices, financial information, technical information, computer systems, infrastructure designs, data, analysis, compilations, studies or other documentation and information received from others that Disclosing Party is obligated to treat as confidential. Confidential Information disclosed to Receiving Party by any Disclosing Party, its related entities and/or agents is covered by this Agreement. Confidential Information shall not include any information that: (i) is or subsequently becomes publicly available without Receiving Party’s breach of any obligation owed to Disclosing Party; (ii) became known to Receiving Party prior to Disclosing Party’s disclosure of such information to Receiving Party; (iii) became known to Receiving Party from a source other than Disclosing Party other than by the breach of an obligation of confidentiality owed to Disclosing Party; (iv) is independently developed by Receiving Party without access to the Disclosing Party’s information, or (v) the Confidential Information is required to be disclosed pursuant to a requirement of a governmental agency or law so long as the other party is provided notice of such requirement prior to any such disclosure.\\n2. Obligations Each party agrees that it shall not make use of, disseminate, or in any way disclose any Confidential Information of the Disclosing Party to any person, firm, or business, except to the extent necessary for the Transaction. The existence of any business negotiations, discussions, consultations, or agreements in progress between the parties shall not be released to any form of public media, unless agreed between the parties in writing. Both parties acknowledge that the Receiving Party shall protect the secrecy of all Confidential Information, that said Confidential Information is of critical importance to the Disclosing Party, that any violation of this Agreement would seriously and irreparably impair and damage the Disclosing Party's business, and that the Recipient shall keep all Confidential Information in a fiduciary capacity for the sole benefit of the Disclosing Party. The Receiving Party agrees that it shall treat all Confidential Information of the Disclosing Party with the same degree of care as it accords to its own Confidential Information, and the Receiving Party represents that it exercises reasonable care to protect its own Confidential Information. The Receiving Party agrees disclose Confidential Information only to those employees who need to know such information and certifies that such employees have previously agreed, either as a condition to employment or in order to obtain the Confidential Information, to be bound by terms and conditions substantially similar to those of this Agreement. The Receiving Party will immediately and unconditionally give written notice to the Disclosing Party of any unauthorized use or disclosure of the Confidential Information. The Receiving Party agrees to assist the Disclosing Party in remedying any such unauthorized use or disclosure of the Confidential Information.\\nMUTUAL NON-DISCLOSURE AGREEMENT\\n3. Return of Information Upon the request of the Disclosing Party, Receiving Party shall return all originals, copies, reproductions and summaries of Confidential Information at Disclosing Party’s request, or at Disclosing Party’s option, certify destruction of the same.\\n4. Injunctive Relief Receiving Party acknowledges that monetary damages may not be a sufficient remedy for unauthorized disclosure of Confidential Information and that Disclosing Party shall be entitled, without waiving any other rights or remedies, to such injunctive and other equitable relief (without bond and without the necessity of showing actual monetary damages) as may be deemed proper by a court.\\n5. No Further Rights All Confidential Information is and shall remain the property of Disclosing Party. Nothing contained in this Agreement shall be construed to as granting or conferring any rights in the Confidential Information except as provided herein.\\n6. No Commitment. The parties expressly agree that the provision of Information hereunder and discussions held in connection with the Transaction shall not prevent either party from pursuing similar discussions with third parties or obligate either party to continue discussions with the other or to take, continue or forego any action relating to the Transaction. Any estimates or forecasts provided by either party to the other shall not constitute commitments.\\n7. Miscellaneous\\nI. This Agreement constitutes the entire agreement between the parties with respect to the subject matter hereof. It shall not be modified except by a written agreement dated subsequent to the date of this Agreement and signed by both parties. None of the provisions of this Agreement shall be deemed to have been waived by any act or acquiescence on the part of Disclosing Party, its agents, or employees, but only by an instrument in writing signed by an authorized officer of Disclosing Party. No waiver of any provision of this Agreement shall constitute a waiver of any other provision(s) or of the same provision on another occasion.\\nII. This Agreement shall be construed and controlled by the laws of the State of Massachusetts and both parties further consent to jurisdiction by the state and federal courts sitting in Boston, Massachusetts.\\nIII. Subject to the limitations set forth in this Agreement, this Agreement will inure to the benefit of and be binding upon the parties, their successors and assigns. Neither party may assign, delegate or otherwise transfer this Agreement or any of its rights or obligations hereunder without the other party's prior approval.\\nData Boiler Technologies, LLC. XXXXX\\nSigned: _________________________ Signed: _________________________\\nName: _________________________ Name: _________________________\\nTitle: __________________________ Title: __________________________\\nDate: __________________________ Date: __________________________\\n\", 'text_id': 88, 'answer': 'NotMentioned', 'hyp_id': 18, 'supp_spans': [[0, 78]]},\n",
       "       {'context': 'Confidential Information shall only include technical information. NON-DISCLOSURE AGREEMENT\\nThis Non-Disclosure Agreement is made and entered into by execution of this document or a duplicate hereof effective this ___[Date]___, by and between, TPI Composites, Inc. a company established under the laws of Delaware and having its registered offices at 8501 N. Scottsdale Rd., Suite 280, Scottsdale, Arizona 85253, as well as all of its subsidiaries, affiliates divisions and units of such corporation, entities or businesses related in any way to TPI Composites, Inc., including, but not limited to joint ventures (hereinafter referred to as \"TPI\") and [Insert Company] , having its registered offices at [Address] (hereinafter referred to as \" \"). The term \"Party\" or \"Parties\" as used herein refers to one or both of the foregoing entities, depending on context.\\nWHEREAS, TPI is a company that develops and manufactures large-scale composite materials for the wind energy, transportation and military markets;\\nWHEREAS, TPI has developed valuable technology, know-how, trade secrets, and other confidential information relating to reinforced plastic composite materials and processes;\\nWHEREAS, [Insert Company] desires to receive and examine certain confidential data of TPI relating to composite materials and/or other products that TPI has obtained, designed, manufactured or developed for use in the wind energy, transportation or military markets;\\nWHEREAS, TPI is willing to provide [Insert Company] certain confidential and proprietary data relating to the above-referenced technology and processes; and\\nWHEREAS, the Parties desire to define and set out the terms and conditions which prevent each of the Parties from any unlawful or unauthorized disclosure of confidential and proprietary information as stipulated hereinbelow.\\nNOW, THEREFORE, in consideration of the terms and conditions hereinafter set forth, the Parties agree as follows:\\n1. “Proprietary Information,” as used herein, shall mean any and all samples, formula, methods, know-how, technology, software, material, engineering data, specifications, sketches, drawings, schematics, designs, manufacturing processes, test results, compilations, and any other material, information, ideas, concepts or knowledge which a party (the “Disclosing Party”) furnishes to another party (the “Receiving Party”): (i) in written or other tangible form whether marked with a proprietary legend or not, or (ii) in oral or visual form that is identified as proprietary at the time of disclosure and is summarized and designated proprietary in a written memorandum delivered to Receiving Party within thirty (30) days of the disclosure. Examples of such Proprietary Information include, but are not limited to, pricing, computer programs, computer code, modules, scripts, algorithms, features, and modes of operation, inventions (whether or not patentable), techniques, processes, methodologies, know-how, schematics, testing procedures, design and function specifications, documentation, and the features, mode of operation and other details of Disclosing Party’s products and services, as well as the names and expertise of Disclosing Party’s employees, product development plans and forecasts.\\nSuch Proprietary Information shall not include information which (1) is in or (other than by an act attributable to the Receiving Party) passes into the public domain; (2) was in the possession of the Receiving Party prior to disclosure thereof by or on behalf of the Disclosing Party; (3) is disclosed to the Receiving Party by a third party who lawfully possesses such information and who is duly authorized or otherwise entitled to disclose such information; (4) is disclosed pursuant to the order or requirement of a government body, court or administration agency; or (5) is independently developed by an employee of the Receiving Party who has not had access to the information disclosed hereunder.\\n2. Proprietary Information shall be held in strict confidence by Receiving Party and shall not be used by Receiving Party except for (i) the purposes described in this Agreement, unless disclosure or further use is authorized or consented to in writing by Disclosing Party which consent shall not be unreasonably withheld or delayed and/or (ii) the case where disclosure of the same is required under applicable law or by a governmental order, rule or regulation or by the regulations of any relevant stock exchange or other governmental authority (provided that the Receiving party shall give written notice of such required disclosure to the other party prior to the disclosure).\\nSuch consent to disclose Proprietary Information to employees of Receiving Party or its affiliated company (“affiliated Receiving Party”) with a legitimate “need to know” and only for the purposes described in this Agreement is herewith given, but further consent shall be required for disclosure to others or authorization of use by others. For purposes of this Confidentiality Agreement, an \"affiliated Receiving Party\" means and includes a parent, if any, of Receiving Party and all present and future companies in which Receiving Party, or its parent, individually or collectively, directly or indirectly, through one or more intermediaries, owns or controls fifty percent (50%) or more of the outstanding stock having the right to vote for or appoint directors thereof. Prior to any use or disclosure of Proprietary Information by or to another, Receiving Party shall ensure that the recipient has entered into an agreement limiting the recipient\\'s disclosure and use of Proprietary Information consistent with this Agreement.\\n3. To enable the Disclosing Party to disclose “technical data” to the Receiving Party in compliance with the requirements of the U.S. Commerce Department’s Export Administrative Regulations, the Receiving Party hereby gives its assurance to the Disclosing Party that the Receiving Party will not knowingly, unless prior written authorization is obtained from the Disclosing Party and the U.S. Commerce Department, export, re-export or otherwise disclose, directly or indirectly, any “technical data” (or computer software and any related documentation) received from the Disclosing Party which is not otherwise available to the general public, nor allow the direct product thereof to be shipped directly or indirectly, to any of the countries published on the restrictive list promulgated and amended from time to time by the U.S. Department of Commerce.\\nNotwithstanding any other provision of this Agreement, this Paragraph 3 shall survive any termination or expiration of this Agreement.\\n4. Immediately upon a request by the Disclosing Party at any time, the Receiving Party will turn over to the Disclosing Party all Proprietary Information of the Disclosing Party and all documents or media containing any such Proprietary Information and any and all copies or extracts thereof or upon request of the Disclosing Party, the Receiving Party shall certify in writing that all materials containing Proprietary Information (including all copies thereof) have been destroyed. The Receiving Party understands that nothing herein (a) requires the disclosure of any Proprietary Information of the Disclosing Party, which shall be disclosed if at all solely at the option of the Disclosing Party, or (b) requires the Disclosing Party to proceed with any proposed transaction or relationship in connection with which Proprietary Information may be disclosed.\\n5. No rights or obligations other than those expressed and recited herein are to be implied from this Agreement. In particular, no licenses are hereby granted directly or indirectly under any patent, copyright, or trademark now held by or which may be obtained by, or which is licensable by Disclosing Party, including but not limited to, any license to make, use or sell any product embodying any Proprietary Information. No other existing Agreement between parties, if any, are modified or terminated by this Agreement. No warranty or representation is made by Disclosing Party hereto that any information transmitted by it hereunder is patentable or copyrightable, or that any such information involves concepts or embodiments that are free of infringement of other rights. Disclosing Party hereto confers no right to Receiving Party to use in advertising, publicity, or otherwise any trademark or trade name of Disclosing Party, nor confers any authorization to Receiving Party to act as an agent on its behalf for any purpose.\\n6. This Non-Disclosure Agreement shall remain in full force and effect from the effective date indicated above. Either party may terminate this Agreement by giving the other Party sixty (60) days’ written notice. However the confidentiality obligations and all powers, rights and duties provided herein shall extend for a period of five (5) years following the termination of this Agreement. Neither Party shall assign this Agreement to any third party, without the prior written consent of the other Party.\\n7. The Parties acknowledge and agree that due to the unique nature of the Disclosing Party’s Proprietary Information, money damages will not be a sufficient remedy for a breach of this Agreement. Because a violation of any of the provisions of this Agreement will likely cause irreparable loss and harm which cannot be reasonably or adequately compensated by damages in an action at law, the Disclosing Party will be entitled to specific performance and injunctive relief or other appropriate equitable relief as remedies for any such breach. Such remedies will not be deemed to be the exclusive remedies for a breach of this Agreement but will be in addition to all other remedies available at law or in equity to the Disclosing Party.\\n8. This Agreement shall be governed and construed in accordance with the laws of Delaware, without regard to conflicts of law principles. Any dispute, controversy and/or difference which may arise between the Parties out of or in relation to or in connection with this Agreement, or the breach thereof, which cannot be settled by amicable mutual accord without undue delay, shall be filed in the courts of Delaware.\\n9. This Agreement constitutes the entire agreement of the Parties hereto with respect to the subject matter hereof and supersedes and cancels all prior communications, understandings and agreements between the Parties hereto relating to the Proprietary Information, whether written or oral, expressed or implied. The Parties agree that this Agreement is severable and that in the event any provision of this Agreement is held to be illegal, invalid or enforceable, the legality, validity and enforceability of the remaining provisions will not be affected or impaired.\\nIN WITNESS WHEREOF, the parties have respectively caused duplicates of this document to be executed on their behalf by their proper officers and employees thereunto duly authorized.\\n[TPI Composites, Inc.] [Insert Company]\\nBy: By:\\n(Signature) (Signature)\\nName: Name:\\n(Print) (Print)\\nTitle: Title:\\n', 'text_id': 376, 'answer': 'Contradiction', 'hyp_id': 2, 'supp_spans': [[0, 67], [67, 91], [1948, 2371], [2690, 3249]]},\n",
       "       {'context': 'Receiving Party may independently develop information similar to Confidential Information. NON-DISCLOSURE AGREEMENT\\nTHIS AGREEMENT [the Agreement] is entered into on this [insert number of day] day of [insert Month and year] by and between:\\n1. [Insert official name of the potential partner or participant], having its registered office or based in [insert the Legal Address of the Entity] hereinafter referred to as [the Disclos-er] and\\n2. [Insert official name of the potential partner or participant], having its registered of-fice or based in [insert the Legal Address of the Entity] hereinafter referred to as [the Recipient]\\nWHEREAS:\\nThe Discloser and Recipient hereto desire [to participate in early discussions regarding the entering into future collaboration as a European Funded Project in the field of (….)] or [to submit a proposal for a collaborative project in response to the call (identify the call) under (identify the EU-funded Programme)] or [to evaluate entering into partnership or business collaboration for the purpose of (identify the undertaking intended to perform)] Throughout the aforementioned discussions, the Discloser may share proprietary infor-mation or Confidential Information with the Recipient subject to the terms and cove-nants set forth below.\\nNOW IT IS AGREED AS FOLLOWS:\\n1. Confidential Information\\n1.1 For the purposes of this Agreement, Confidential Information means any data or proprietary information of the Discloser that is not generally known to the public or has not yet been revealed, whether in tangible or intangible form, whenever and however disclosed, including, but not limited to:\\n(i) any scientific or technical information, invention, design, process, procedure, formula, improvement, technology or method;\\n(ii) any concepts, samples, reports, data, know-how, works-in-progress, designs, drawings, photographs, development tools, specifications, software pro-grams, source code, object code, flow charts, and databases;\\n(iii) any marketing strategies, plans, financial information, or projections, opera-tions, sales estimates, business plans and performance results relating to the Discloser’s past, present or future business activities, or those of its affiliates, subsidiaries and affiliated companies;\\n(iv) trade secrets; plans for products or services, and customer or supplier lists;\\n(v) any other information that should reasonably be recognized as Confidential Information by the Discloser.\\n1.2 The Discloser and the Recipient agree hereby that Confidential Information needs not to be novel, unique, patentable, copyrightable or constitutes a trade secret in order to be designated Confidential Information and therefore protected.\\n1.3 Confidential Information shall be identified either by marking it, in the case of writ-ten materials, or, in the case of information that is disclosed orally or written materials that are not marked, by notifying the Recipient of the confidential nature of the infor-mation. Such notification shall be done orally, by e-mail or written correspondence, or via other appropriate means of communication.\\n1.4 The Recipient hereby acknowledge that the Confidential Information proprietary of the Discloser has been developed and obtained through great efforts and shall be re-garded and kept as Confidential Information.\\n1.5 Notwithstanding the aforementioned Confidential Information shall exclude infor-mation that:\\n(i) is already in the public domain at the time of disclosure by the Discloser to the Recipient or thereafter enters the public domain without any breach of the terms of this Agreement;\\n(ii) was already known by the Recipient before the moment of disclosure (under evidence of reasonable proof or written record of such disclosure);\\n(iii) is subsequently communicated to the Recipient without any obligation of confidence from a third party who is in lawful possession thereof and under no obligation of confidence to the Discloser;\\n(iv) becomes publicly available by other means than a breach of the confi-dentiality obligations by the Recipient (not through fault or failure to act by the Recipient);\\n(iv) is or has been developed independently by employees, consultants or agents of the Recipient (proved by reasonable means) without violation of the terms of this Agreement or reference or access to any Confidential Information pertaining to the Discloser.\\n2. Purpose of the Disclosure of Confidential Information\\nThe Discloser and Recipient will enter on discussions regarding future collaboration to-ward European Funded Project in the field of (cid:896)….] or [will submit a proposal for a collabo-rative project in response to the call (identify the call) under (identify the EU funded Pro-gramme)] or [will enter into or evaluate alternatives for partnership or collaboration with [name of the Recipient] for the purpose of [identify the undertaking intended to perform or achieve].\\n3. Undertakings of the Recipient\\n3.1 In the context of discussions, preparations or negotiations, the Discloser may disclose Confidential Information to the Recipient. The Recipient agrees to use the Confidential Information solely in connection with purposes contemplated in this Agreement and not to use it for any other purpose or without the prior written consent of the Discloser.\\n3.2 The Recipient will not disclose and will keep confidential the information received, except to its employees, representatives or agents who need to have access to the Con-fidential Information for the purpose of carrying out their duties in connection with the permitted purposes specified in clause 2. The Recipient will inform them about the con-fidential quality of the information provided and will ensure that their agreement is ob-tained to keep it confidential on the same terms as set forth in this Agreement. Hence the Recipient will be responsible for ensuring that the obligations of confidentiality and non-use contained herein will be strictly observed and will assume full liability for the acts or omissions made for its personnel representatives or agents.\\n3.3 The Recipient will use the Confidential Information exclusively for the permitted pur-pose stated in clause 2 and not use the information for its own purposes or benefit.\\n3.4 The Recipient will not disclose any Confidential Information received to any third parties, except as otherwise provided for herein.\\n3.5 The Recipient shall treat all Confidential Information with the same degree of care as it accords to its own Confidential Information.\\n3.6 All Confidential Information disclosed under this Agreement shall be and remain un-der the property of the Discloser and nothing contained in this Agreement shall be con-strued as granting or conferring any rights to such Confidential Information on the Recip-ient. Principally, nothing in this Agreement shall be deemed to grant to the Recipient a licence expressly or by implication under any patent, copyright or other intellectual property right. The Recipient hereby acknowledges and confirms that all the existing and future intellectual property rights related to the Confidential Information are exclusive titles of the Discloser. For the sake of clarity based in good faith, the Recipient will not apply for or obtain any intellectual property protection in respect of the Confidential Information received. Likewise any modifications and improvements thereof by the Re-cipient shall be the sole property of the Discloser.\\n3.7 The Recipient shall promptly return or destroy all copies (in whatever form repro-duced or stored), including all notes and derivatives of the Confidential Information dis-closed under this Agreement, upon the earlier of (i) the completion or termination of the dealings contemplated in this Agreement; (ii) or the termination of this Agreement; (iii) or at the time the Discloser may request it to the Recipient.\\n3.8 Notwithstanding the foregoing, the Recipient may retain such of its documents as required to comply with mandatory law, provided that such Confidentiality Information or copies thereof shall be subject to an indefinite confidentiality obligation.\\n3.9 In the event that the Recipient is asked to communicate the Confidential Information to any judicial, administrative, regulatory authority or similar or obliged to reveal such information by mandatory law, it shall notify promptly the Discloser of the terms of such disclosure and will collaborate to the extent practicable with the Discloser in order to comply with the order and preserve the confidentiality of the Confidential Information.\\n3.10 The Recipient agrees that the Discloser will suffer irreparable damage if its Confi-dential Information is made public, released to a third party, or otherwise disclosed in breach of this Agreement and that the Discloser shall be entitled to obtain injunctive relief against a threatened breach or continuation of any such a breach and, in the event of such breach, an award of actual and exemplary damages from any court of competent jurisdiction.\\n3.11 The Recipient shall immediately notify upon becoming aware of any breach of con-fidence by anybody to whom it has disclosed the Confidential Information and give all necessary assistance in connection with any steps which the Discloser may wish to take prevent, stop or obtain compensation for such a breach or threatened breach.\\n3.12 The Confidential Information subject to this Agreement is made available \"as such\" and no warranties of any kind are granted or implied with respect to the quality of such information including but not limited to, its applicability for any purpose, non-infringement of third party rights, accuracy, completeness or correctness. Further, the Discloser shall not have any liability to the Recipient resulting from any use of the Confi-dential Information.\\n3.13 The Discloser is not under any obligation under this Agreement to disclose any Con-fidential Information it chooses not to disclose.\\n3.14 Nothing in this Agreement shall be construed to constitute an agency, partnership, joint venture, or other similar relationship between the Discloser and Recipient.\\n4. Miscellaneous\\n4.1 Duration and Termination\\n4.1.1 This Agreement shall remain in effect for a term of [number of months or years] term. Notwithstanding the foregoing, the Recipient’s duty to hold in confidence Confi-dential Information that was disclosed during the term shall remain in effect indefinitely, save otherwise agreed.\\n4.1.2 If the Discloser and Recipient succeed in the call for proposal referred to in clause 2 and sign the corresponding Grant Agreement (GA) and Consortium Agreement (CA), or entered into partnership under any other kind of collaborative agreement (COA) or asso-ciation agreement (AA), the non-disclosure provisions of the CA, COA and AA shall [sup-plement or supersede] this Agreement. In the event that non-disclosure provisions are not provided for the said private agreements in equal terms as stated herein, this Agreement shall remain in force until the end of the collaboration undertaken or after [months or years] of its termination.\\n4.2 Applicable Law and Jurisdiction\\nThis Agreement shall be construed and interpreted by the laws of [choose the applicable law]. The court of [choose the jurisdiction to settle disputes] shall have jurisdiction.\\n4.3 Validity\\nIf any provisions of this Agreement are invalid or unenforceable, the validity of the re-maining provisions shall not be affected. The invalid or unenforceable provision shall be replaced by a valid and enforceable provision that will meet the purpose of the invalid or unenforceable provision as closely as possible.\\n4.4 Subsequent Agreements\\nAncillary agreements, amendments or additions hereto shall be made in writing.\\n4.5 Communications\\nAny notices or communications required may be delivered by hand or e-mail, mailed by registered mail to the address of the Recipient/Discloser as indicated above. Any subse-quent modification of addresses should be reasonably communicated in advance to the effect of this Agreement.\\nIN WITNESS WHEREOF, the Parties hereto have caused this Non-Disclosure Agreement to be executed as of the date stated above.\\nFOR [insert name of participant or potential or current partner]\\n[insert name of representative]\\n[insert title]\\nDone at [place] on [date]\\nFor more information, please consult our fact sheets on “How to manage confidential business information” and “Non-disclosure agreement: a business tool” which are available in our online library:\\nhttp://www.iprhelpdesk.eu/node/1265\\nhttp://www.iprhelpdesk.eu/node/969\\nGET IN TOUCH\\nFor comments, suggestions or further information, please contact\\nEuropean IPR Helpdesk\\nc/o infeurope S.A.\\n62, rue Charles Martel\\nL-2134, Luxembourg\\nEmail: service@iprhelpdesk.eu\\nPhone: +352 25 22 33 - 333\\nFax: +352 25 22 33 – 334\\nwww.iprhelpdesk.eu\\n', 'text_id': 318, 'answer': 'Entailment', 'hyp_id': 12, 'supp_spans': [[0, 91], [3324, 3420], [4124, 4382]]},\n",
       "       {'context': 'Receiving Party may share some Confidential Information with some of Receiving Party\\'s employees. CONFIDENTIALITY AND NON-DISCLOSURE AGREEMENT\\nbetween\\nENVIROSERV WASTE MANAGEMENT LIMITED\\nRegistration Number: 2008/021152/07\\n(hereinafter “EnviroServ”)\\nand\\n…………………………………………………………..\\nRegistration Number: …./……/..\\n(hereinafter “Prospective Buyer”)\\ntogether ( with their subsidiaries, holding companies and fellow subsidiaries) shall comprise the Parties.\\n1. INTRODUCTION\\n1.1 The parties are discussing certain matters which will require the disclosure to one another of information of a proprietary, secret and confidential nature relating to the purchase of EnviroServ’s Tyre Plant business, subsidiary company EnviroServ Polymer Solutions and the property situated at 5 Glucose Way, Bellville, Cape Town.\\n1.2 The parties will, subject to successful conclusion of such investigation and discussions, enter into an agreement.\\n1.3 Pending investigation the parties wish to maintain confidentiality regarding the information disclosed by them respectively.\\n1.4 For the purposes of this agreement, the party disclosing, such information shall be referred to as \"the disclosing party\" and the party receiving such information shall be referred to as \"the receiving party\".\\n1.5 The parties wish to record the terms and conditions upon which they are prepared to disclose such information to one another.\\n2. THE INFORMATION\\n\"Information\" shall for the purpose of this agreement include, without limitation, any technical, commercial, scientific information, know-how, trade secrets, processes, machinery, designs, drawings, technical specifications, data in whatever form and information referred to in clause 1 (introduction) hereinabove communicated to the receiving party or acquired by the receiving party from the disclosing party during the course of the parties\\' association with one another.\\n3. DISCLOSURE OF INFORMATION\\n3.1 The parties agree to disclose the information to one another.\\n3.2 The parties acknowledge that the information is a valuable, special and unique asset proprietary to the disclosing party.\\n3.3 The parties agree that they will not, during the course of their association with one another or, thereafter, disclose the information to any third party for any reason or purpose whatsoever without the prior written consent of the disclosing party, save in accordance with the provisions of this agreement.\\n3.4 Notwithstanding anything to the contrary contained, in this agreement the parties agree that the information may be disclosed by the receiving party to its professional advisors, agents and consultants, for the purposes of evaluating the investigation and enter into an agreement as contemplated in clause 1 (introduction), providing that the receiving party takes whatever steps are necessary to procure that such professional advisors, agents and consultants agree to abide by the terms of this agreement to prevent the unauthorised disclosure of the information to third parties.\\n3.5 The receiving party agrees:\\n3.5.1 not to utilise, employ, exploit or in any other manner whatsoever use the information disclosed pursuant to the provisions of this agreement for any purpose without the prior express written consent of the disclosing party.\\n3.5.2 that the unauthorised disclosure of the information to a third party may cause irreparable loss, harm and damage to the disclosing party. Accordingly, the receiving party indemnifies and holds the disclosing party harmless against any loss, action, claim, harm or damage, of whatever nature, suffered by the disclosing party pursuant to a breach by the receiving party of the provisions of this agreement,\\n4. TITLE\\nAll information disclosed by the disclosing party to the receiving party is acknowledged by the receiving party:\\n4.2 not to confer any rights of whatever nature in such information to the receiving party.\\n5. RESTRICTIONS ON DISCLOSURE AND USE OF THE INFORMATION\\n5.1 The receiving party may disclose the information only to its officers, employees and professional advisors and then only on a strictly need-to-know basis.\\n5.2 The receiving party undertakes not to use the information for purpose other than:\\n5.2.1 that for which it is disclosed; and\\n5.2.2 in accordance with the provisions of this agreement.\\n6. STANDARD OF CARE\\nThe parties agree that they shall protect the information disclosed pursuant to the provisions of this agreement using the same standard of care that each party applies to its own proprietary, secret or confidential information and that the information shall be stored and handled in such a way as to prevent any unauthorised disclosure thereof.\\n7. RETURN OF INFORMATION\\n7.1 The disclosing party may at any time, request the receiving party to return any material containing, pertaining to or relating to information disclosed pursuant to the terms of this agreement and may, in addition request the receiving party to furnish a written statement to the effect that, upon such return, the receiving party has not retained in possession, or under its control, either directly or indirectly, any such material.\\n7.2 As an alternative to the return of the material contemplated in 7.1 above, the receiving party shall, at the instance of the disclosing party, destroy such material and furnish the disclosing party with a written statement to the effect that all such material has been destroyed.\\n7.3 The receiving party shall comply with a request, in terms of this clause 7, within 7 days of receipt of such a request,\\n8. EXCLUDED INFORMATION\\nThe obligations of the parties pursuant to the provisions of this agreement shall not apply to any information that:\\n8.1 is known to or in possession of the receiving party prior to disclosure thereof by the disclosing party;\\n8.2 is or becomes publicly known, otherwise then pursuant to a breach of this agreement;\\n8.3 is developed independently of the disclosing party by the receiving party;\\n8.4 is disclosed by the receiving party to satisfy the order of a court of competent jurisdiction or to comply with the provisions of any law or regulation in force from time to time; provided that in these circumstances, the receiving party shall advise the disclosing party in writing prior to such disclosure to enable the disclosing party to take whatever steps it deems necessary to protect its interests in this regard, provided further that the receiving party will disclose only that portion of the information which it is legally required to disclose and the receiving party will use its reasonable endeavours to protect the confidentiality of such information to the widest extent possible in the circumstances;\\n8.5 is disclosed to a third party pursuant to the prior written authorization from the disclosing party;\\n8.6 is received from a third party in circumstances that do not result in a breach of the provisions of this agreement.\\n9. TERM\\n9.1 This agreement shall be deemed to have commenced upon the date of last signing hereof and it shall continue to bind the parties for 3 (three) years after its termination.\\n9.2 This agreement shall be deemed to have become terminated in the event of the following (whichever happens the sooner):\\n9.2.1 the discussions between the parties being unsuccessful and accordingly breaking down; or\\n9.2.2 an agreement between the parties being concluded regarding their future relationship; or\\n9.2.3 in any event not later than one year after signing hereof unless extended by mutual agreement.\\n9.3 This clause will survive the cancellation of this agreement for whatever reason.\\n10. ARBITRATION\\nAny dispute arising out of or in connection with the provisions of this agreement shall be referred to arbitration and determined in accordance with the Arbitration Act 42 of 1965, as amended from time to time,\\n11. REPRESENTATIONS AND WARRANTIES\\n11.1 Each party represents and warrants that it has the authority necessary to enter into this agreement and to do all things necessary to procure the fulfilment of its obligations in terms of this agreement.\\n11.2 The disclosing party warrants that:\\n11.2.1 disclosure of the information to the receiving party will not result in a breach of any other agreement to which it is a party;\\n11.2.2 will, to the best of its knowledge and belief, not infringe the rights of any third party and the disclosing party hereby indemnifies and holds the receiving party harmless against any liability for third party claims on such a basis.\\n12. ADDITIONAL ACTION\\nEach party to this agreement shall execute and deliver such other documents and do such other acts and things as may be necessary or desirable to give effect to the terms and provisions of this agreement.\\n13. AMENDMENTS\\nNo amendment, interpretation or waiver of any of the provisions of this agreement shall be effective unless reduced writing and signed by both the parties.\\n14. ENFORCEMENT\\nThe failure to enforce or to require the performance at any time of any of the provisions of this agreement shall not be construed to be a waiver of such provision, and shall not affect either the validity of this agreement or any part hereof or the right of any party to enforce the provisions of this agreement.\\n15. HEADINGS\\nThe headings of the clauses in this agreement are used for convenience only and shall not affect the meaning or construction of the contents of this agreement.\\n16. ENTIRE AGREEMENT\\nThis agreement contains the entire agreement of the parties with respect to the subject matter of this agreement and supersedes all prior agreements between the parties, whether written or oral with respect to the subject matter of this agreement.\\n17. GOVERNING LAW\\nThis agreement and the relationship of the parties in connection with the subject matter of this agreement shall be governed and determined in accordance with the laws of South Africa.\\n18. POSTAL ADDRESSES\\n18.1 Any written notice in connection with this agreement may be addressed:\\n18.1.1 In the case of EnviroServ\\naddress P.O. Box 1547, Bedfordview 2008\\ntelefax no (011) 454 6015\\nattention The financial director\\n18.1.2 In the case of PROSPECTIVE BUYER\\naddress\\ntelefax no\\nattention\\n18.2 The notice shall be deemed to have been duly given:\\n18.2.1 7 days after posting, if posted by registered post to the party\\'s address in terms of this sub-clause;\\n18.2.2 on delivery, if delivered to the party\\'s physical address in terms of either this sub-clause or the next sub-clause dealing with service of legal documents;\\n18.2.3 on despatch, if sent to the party\\'s then telefax number and confirmed by registered letter posted no later than the next business day, unless the addressor is aware, at the time the notice would otherwise be deemed to have been given, that the notice is unlikely to have been received by the addressee through no act or omission of the addressee.\\n18.3 A party may change that party\\'s address for this purpose, by notice in writing to the other party. No notice shall be necessary in respect of a new or changed telefax number.\\n19. ADDRESS FOR SERVICE OF LEGAL DOCUMENTS\\n19.1 The parties choose the following physical addresses at which documents in legal proceedings in connection with this agreement may be served (ie their domicilium citandi executandi)\\n19.1.1 EnviroServ :\\nEnviroServ Holdings Limited\\nBrickfield Road\\nMeadowdale\\nGermiston\\n19.1.2 PROSPECTIVE BUYER :\\n19.2 A party may change that party\\'s address for this purpose to another physical address in the Republic of South Africa, by notice in writing, to the other party.\\n20. COSTS\\n20.1 Each party shall bear that party\\'s own legal costs of and incidental to the negotiation, preparation, setting, signing and implementation of this agreement.\\n20.2 Any costs, including attorney and own client cost, incurred by either party arising out of the breach by the other party of any of the provisions of this agreement shall be borne by the party in breach,\\n21. SEVERABILITY\\nIn the event at any one or more of the provisions of this agreement being held for any reason to be invalid, illegal or unenforceable in any respect, such invalidity, illegality or unenforceability shall not affect any other provision of this agreement and this agreement shall be construed as if such invalid, illegal or unenforceable provision was not a part of this agreement, and the agreement shall be carried out as nearly as possible in accordance with its original terms and intent.\\nSIGNED AT THIS THE ………. DAY OF …………………………..…\\nOn behalf of EnviroServ\\n1. ...................................……. ............................................................\\n2. ...................................……. ............................................................\\nSIGNED AT THIS THE ………. DAY OF…………………….………..…\\nOn behalf of PROSPECTIVE BUYER\\n1. ...................................…….\\n2. ...................................……. ............................................................\\n', 'text_id': 220, 'answer': 'Entailment', 'hyp_id': 5, 'supp_spans': [[0, 98], [3958, 4112]]},\n",
       "       {'context': 'Receiving Party shall not solicit some of Disclosing Party\\'s representatives. NON-COMPETITION AGREEMENT\\nTHIS NON-COMPETITION AGREEMENT (\"Agreement\"), made the ______ day of ____________, 1998, by and among [ ] (the \"Selling Shareholder\") and Dollar Tree Stores, Inc., a Virginia corporation (\"Parent\") and its wholly-owned subsidiary Dollar Tree West, Inc., a California corporation (\"Sub\") (Parent and its direct and indirect subsidiaries, including Sub, are referred to hereinafter as \"Dollar Tree\"). W I T N E S S E T H:\\nWHEREAS, Selling Shareholder owns _____________________ percentage of all the issued and outstanding shares of stock of Step Ahead Investments, Inc., a California corporation (\"SAI\"); and\\nWHEREAS, concurrently herewith and pursuant to the Merger Agreement dated July 22, 1998, (\"Merger Agreement\"), Sub will be merged with and into SAI with SAI as the surviving corporation (the \"Merger\").\\nWHEREAS, concurrently herewith and pursuant to the Merger Agreement, all of the issued and outstanding stock of SAI will be converted into shares of common stock of Parent.\\nWHEREAS, Selling Shareholder acknowledges that (i) SAI directly or indirectly operates stores, offices and distribution facilities under the name Step Ahead Investments and the tradenames \"98CENTS Clearance Center\" and \"Clearance 98CENTS Centers\" engaged in the retail and wholesale distribution of variety merchandise (the \"Business\"); (ii) the Business is conducted in the United States; (iii) the operation of the Business by SAI has given Selling Shareholder access to trade secrets of and confidential information relating to, the Business; and\\nWHEREAS, the parties hereto agree that Selling Shareholder and Selling Shareholder\\'s affiliates shall not compete (as described herein) with Dollar Tree for a certain period of time subsequent to the Effective Time as defined in the Merger Agreement in accordance with the terms and conditions set forth herein; and\\nWHEREAS, as a fundamental condition to the consummation of the Merger, the Selling Shareholder has agreed to enter into this Agreement, which is designed to ensure Dollar Tree receives the value of the Merger; and\\nWHEREAS, Selling Shareholder further acknowledges Dollar Tree may suffer irreparable damage should Selling Shareholder breach this Agreement.\\nNOW, THEREFORE, in consideration of good and valuable consideration described above and the covenants hereinafter set forth, the receipt and sufficiency of which is hereby acknowledged by Selling Shareholder, and for the grant of [___________] options to purchase the stock of Parent pursuant to the terms of a separate option agreement, it is agreed as follows:\\n1. NON-COMPETITION COVENANT.\\nThe Selling Shareholder acknowledges (i) as an [director,] officer and principal shareholder of SAI, he has been instrumental in the Business of SAI and its success and (ii) has been privy to and had access to the offices, personnel, technology, confidential and proprietary information of SAI.\\n1.1 Selling Shareholder agrees, during the period ending five years from the Effective Time (\"Restricted Period\"), neither Selling Shareholder nor any affiliate of Selling Shareholder shall conduct any of the following activities described in Sections 1.1.1, 1.1.2, and 1.1.3:\\n1.1.1 engage in Restricted Activities within the Restricted Area (as defined below); or\\n1.1.2 operate or promote within the Restricted Area a store using (or at least a 500 square foot area within a store dedicated to) a single price point retail concept selling goods at a single price point at or below $2.00; or\\n1.1.3 operate any variety, clearance, or close-out retail store in the same shopping center as any retail location of SAI existing as of the Effective Time or, in the case of an existing store of SAI not in a\\nshopping center, within one-quarter mile of such retail location. 1.2 Selling Shareholder agrees that, at no time after the Effective Time for so long as Dollar Tree or its successors carry on the Business, shall Selling Shareholder or Selling Shareholder\\'s Affiliates operate any business (a) under the names or names similar to \"98 CENTS Clearance Center,\" \"Clearance 98 CENTS Centers,\" \"Everything 98 CENTS ... or less,\" or \"Step Ahead Investments\"; (b) advertise or promote outside or within a store using the terms, or terms similar to \"Everything 98 CENTS,\" 98 CENTS Clearance Centers,\" and \"Clearance 98 CENTS Centers\"; or (c) under any name containing the words \"98 CENTS,\" \"Tree,\" or \"Super Dollar,\" including their plurals. 1.3 As used in this Agreement, the following terms have the following meanings:\\n1.3.1 a. While Selling Shareholder is a resident of California, \"Restricted Area\" shall mean all counties and cities in the States of California and Nevada in which SAI, as of the Effective Time, carries on the Business. The covenant not to compete in the Restricted Area shall be construed as a series of separate covenants with regard to such city or county in the States of California and in Nevada.\\nb. If Selling Shareholder ceases to be a resident of California, immediately upon Selling Shareholder\\'s change of residency \"Restricted Area\" shall mean each state in which either Dollar Tree or SAI, as of the Effective Time, has a store or otherwise carries on the Business. The covenant not to compete in the Restricted Area shall be viewed as a series of separate covenants with regard to each state where either Dollar Tree or SAI carries on the Business.\\n1.3.2 \"Restricted Activities\" means the operation of (i) a wholesale merchandise business that supplies stores of the type described in clause (ii) hereof, or (ii) any store engaged in the retail sale of goods (e.g., toys, health and beauty aids, food, books, party goods, stationery, hardware, housewares, jewelry, hair products, crafts, pet supplies, etc.) where at least eighty percent (80%) of such goods are sold at or below $2.00.\\n1.3.3 A \"shopping center\" means a group of at least six (6) retail shops organized in a strip or mall configuration (but not necessarily in attached or adjacent buildings) sharing common parking areas and having the same landlord or leasing agent.\\n1.4 Selling Shareholder agrees that the restrictions in Section 1 are reasonable and necessary to protect the value of Dollar Tree, including the good will associated therewith, and do not unduly restrict Selling Shareholder\\'s ability to earn a livelihood.\\n2. NO SOLICITATION AND NO HIRE OF EMPLOYEES. Unless the parties hereto otherwise agree, Selling Shareholder agrees that from July 22, 1998 until the end of the Restricted Period, Selling Shareholder has not and shall not, directly or indirectly, hire or attempt to hire any employee of Dollar Tree or SAI, or solicit, induce, or attempt to solicit or induce (other than through newspaper classified advertisements) any employee of Dollar Tree or SAI to leave his or her job for any reason whatsoever without the written consent of Dollar Tree. For purposes of this paragraph, an \"employee\" shall mean, as of any given date, anyone who has been an employee of Dollar Tree or SAI or any affiliate at any time during the four (4) month period prior to such date.\\n3. RETURN OF PROPERTY. All property, materials, memoranda, notes, lists, records and other documents or papers (and all copies thereof), including such items stored in computer memories, on microfiche or by any other means, made or compiled by or on behalf of SAI or its affiliates relating to or useful in the operation of the Business, are and shall be SAI\\'s property (\"Property\") and all such Property that is confidential or that SAI does not have copies of shall be delivered to SAI at or prior to the Effective Time; provided, however, Selling Shareholder shall be allowed to retain copies of such Property necessary for Selling Shareholder to prepare, compute or support Selling Shareholder\\'s tax returns or tax liabilities.\\n4. NON-DISCLOSURE OF CONFIDENTIAL INFORMATION. Selling Shareholder shall not, without the prior written approval of Dollar Tree, at any time copy, reproduce, disclose or divulge to any third party, use or permit others to use any confidential information of SAI or Dollar Tree (including financial information, sources of supplies and materials, prospective and existing expansion programs, joint ventures and affiliate agreements, business systems and marketing methods, and all business affairs). During the Restricted Period, Selling Shareholder shall keep secret and retain in strictest confidence, and shall not use for the benefit of Selling Shareholder, Selling Shareholder\\'s affiliate, or others, all confidential matters of the Business or of Dollar Tree, including trade secrets, details of supplier contracts, lease provisions and terms, operational methods and marketing plans or strategies. Notwithstanding the foregoing, nothing herein contained shall preclude Selling Shareholder from using the confidential information described in this Section 4 in the operation of or in the leasing of any real property or the operation of any business in connection with a business not coming within the definition of Restricted Activities or for other personal use, so long as such use does not conflict with any provision of this Agreement. This Section 4 shall not apply if (a) such information is already known to such party or to others not bound by a duty of confidentiality or such information is or becomes publicly available through no fault of Selling Shareholder or Selling Shareholder\\'s Affiliates, (b) the use of such information is necessary or appropriate in making any filing or obtaining any consent or approval required for the consummation of the closing under the Merger Agreement, or (c) the furnishing or use of such information is required by legal proceedings.\\n5. COOPERATION. Selling Shareholder agrees to cooperate in any reasonable manner with any reasonable requests by Dollar Tree from time to time to verify compliance with the provisions of this Agreement, provided, however, Dollar Tree shall reimburse Selling Shareholder for Selling Shareholder\\'s reasonable out-of-pocket costs in complying with such request.\\n6. AFFILIATES.\\n6.1. Selling Shareholder agrees that the restrictions contained in Sections 1, 2, 3, and 4 above shall apply to any direct or indirect activities of Selling Shareholder whether conducted as (i) an individual, (ii) a partner (limited or otherwise) or joint venturer with any other person or entity, (iii) an employee, agent or representative of any other person or entity, (iv) as an officer, director or shareholder of any corporation (other than the ownership of less than 5% of the interests in a publicly traded entity), or (v) as a member or manager of any limited liability company (other than the ownership of less than 5% of the interests in a publicly traded entity).\\n6.2. As used herein, the term \"affiliate\" with respect to any person shall mean any person or entity which controls such person, which that person controls, or which is under common control with that person. In the case of Selling Shareholder, the term \"affiliate\" shall include the spouse, sibling, or lineal descendant or ancestor of Selling Shareholder, a trust for the benefit of any of the preceding, or any corporation, partnership, joint venture, or other entity which the Selling Shareholder, the spouse, sibling, or lineal descendant or ancestor of Selling Shareholder, or a trust for the benefit of any of the preceding, controls. For purposes of the preceding sentences, the term \"control\" means the power, direct or indirect through one or more intermediaries, to direct or cause to the direction of the management and policies of a person or entity through voting securities, contract, or otherwise.\\n7. INJUNCTION; REMEDIES. The Selling Shareholder acknowledges that Dollar Tree shall have no adequate remedy at law and that irreparable injury may result to Dollar Tree in the event Selling Shareholder violates or breaches any of the above agreements, covenants, or restrictions. Therefore, it is hereby agreed that upon any breach of any of the above covenants, agreements, or restrictions, Dollar Tree shall be entitled, in addition to any other remedies available, to an injunction to restrain the violation or breach of any of the terms of such covenants, agreements, or restrictions by Selling Shareholder, and that no bond shall be required in procuring any such injunction. In addition, if any party files suit to enforce its rights under this Agreement and prevails, the other party agrees to reimburse the prevailing party for all reasonable costs and fees, including any reasonable attorney\\'s fees the prevailing party incurs. The court shall determine who is the prevailing party for purposes of the preceding sentence. The foregoing remedies for breach of this Agreement are cumulative and not exclusive of any other remedies Dollar Tree may have at law or in equity in the event of breach.\\n8. ENFORCEABILITY.\\n8.1 Selling Shareholder has examined this Agreement in detail, understands the nature of the burdens imposed by this Agreement, and is entering into this Agreement on Selling Shareholder\\'s own volition. Selling Shareholder has been encouraged by Dollar Tree to have this Agreement reviewed by Selling Shareholder\\'s independent legal counsel and has had adequate opportunity to do so. Selling Shareholder agrees that the restrictions, covenants and agreements contained in this Agreement are (i) reasonable in all respects (including, without limitation, geographic area and duration), (ii) necessary to protect the value of Dollar Tree, and (iii) are not unduly harsh upon Selling Shareholder\\'s ability to earn a livelihood. Selling Shareholder represents that upon careful review, Selling Shareholder knows of no reason why any agreement, covenant, or restriction contained in this Agreement is not reasonable and enforceable.\\n8.2 If any provision of this Agreement shall be found by any arbitration panel or court of competent jurisdiction to be invalid or unenforceable, such provision shall be replaced by such panel or court by a valid and enforceable provision that will achieve, to the extent possible, the economic, business and other purposes of the invalid or unenforceable provision and, as modified, shall be enforced as any other provision hereof, all other provisions continuing in full force and effect to the maximum extent possible. The enforceability of the remaining provisions shall not in any way be affected or impaired thereby.\\n9. NON-DISPARAGEMENT. From and after the execution of this Agreement, the Selling Shareholder shall not make any material public statement, representation or communication of any sort, whether oral, in writing, or by any other medium, which disparages Dollar Tree, its directors, officers, shareholders, partners, employees, products, services or financial condition.\\n10. NO DEFENSE. The existence of any claim or cause of action of the Selling Shareholder against Dollar Tree, whether predicated on this Agreement or not, shall not constitute a defense to the enforcement by Dollar Tree of the restrictions, covenants and agreements contained herein.\\n11. AMENDMENT AND MODIFICATION. Subject to applicable law, this Agreement may be amended, modified and supplemented only by written agreement of Selling Shareholder and Dollar Tree at any time.\\n12. WAIVER OF COMPLIANCE; CONSENTS. Any failure of the Selling Shareholder to comply with any obligation, covenant, agreement or condition herein may be waived only by a writing signed by Dollar Tree only and such waiver or failure to insist upon strict compliance with such obligation, covenant, agreement or condition shall not operate as a waiver of, or estoppel with respect to, any subsequent or other failure.\\n13. NOTICES. All claims, notices, requests, demands and other communications required or permitted hereunder shall be in writing and shall be deemed to have been duly given or made (i) upon receipt when delivered by hand or sent by overnight delivery by a nationally recognized private courier, (ii) upon receipt for notices delivered by facsimile or (iii) three (3) business days after being mailed, first class, certified mail, return receipt requested, with postage prepaid:\\n13.1 If to the Selling Shareholder, to:\\n[Insert address]\\nwith a required copy to:\\nLatham & Watkins\\n505 Montgomery Street, Suite 1900\\nSan Francisco, California 94111\\nAttention: Tracy Edmonson, Esquire\\nTelecopier: 415-395-8095\\nor to such other person or address as any of the Selling Shareholder shall furnish to Dollar Tree.\\n13.2 If to Dollar Tree to:\\nDollar Tree Stores, Inc.\\n500 Volvo Parkway\\nChesapeake, Virginia 23320\\nAttention: Mr. H. Ray Compton\\nTelecopier: 757-321-5111\\nin each case with a required copy to:\\nWilliam A. Old, Jr., Esquire\\nHofheimer Nusbaum, P.C.\\n1700 Dominion Tower\\n999 Waterside Drive\\nNorfolk, Virginia 23510\\nTelecopier: 757-629-0660\\nor to such other person or address as Dollar Tree shall furnish to the Selling Shareholder.\\n14. ASSIGNMENT. This Agreement and all of the provisions hereof shall be binding upon and inure to the benefit of the parties hereto and any subsidiaries of Dollar Tree and their respective heirs, successors and permitted assigns, but neither this Agreement nor any of the rights, interests or obligations hereunder shall be assigned by any of the parties hereto without the prior written consent of the other parties.\\n15. GOVERNING LAW. While Selling Shareholder is a resident of California, the Agreement shall be governed by the internal laws of the State of California, and the Courts of the State of California and the United States District Court for the Eastern District of California shall be the exclusive courts of jurisdiction and venue for any litigation, special proceeding or other proceeding as between the parties that may be brought, or arise out of, in connection with, or by reason of this Agreement. If Selling Shareholder ceases to be a resident of California, immediately upon Selling Shareholder\\'s change of residency, this Agreement shall be governed by the internal laws of the Commonwealth of Virginia, and the Circuit Court of the City of Norfolk and the United States District Court, Eastern District of Virginia, Norfolk Division, shall be the exclusive courts of jurisdiction and venue for any litigation, special proceeding or other proceeding as between the parties that may be brought, or arise out of, in connection with, or by reason of this Agreement. The parties hereby consent to the jurisdiction of such courts.\\n16. COUNTERPARTS. This Agreement may be executed in two (2) or more counterparts, each of which shall be deemed an original, but all of which together shall constitute one and the same instrument. Dollar Tree and Selling Shareholder agree that at least two (2) completely executed counterparts of this Agreement shall be delivered to Dollar Tree and at least two (2) completely executed counterparts of this Agreement shall be delivered to Selling Shareholder.\\n17. HEADINGS. The article and section headings contained in this Agreement are for reference purposes only and shall not affect in any way the meaning or interpretation of this Agreement.\\n18. ENTIRE AGREEMENT. This Agreement embodies the entire agreement and understanding of the parties hereto in respect of the subject matter contained herein. There are no restrictions, promises, representations, warranties, covenants or undertakings other than those expressly set forth or referred to herein. This Agreement supersedes all prior agreements and understandings between the parties.\\n19. CONSTRUCTION. The parties hereto have participated jointly in the negotiation and drafting of this Agreement. In the event an ambiguity or question of intent or interpretation arises, this Agreement shall be construed as if drafted jointly by the parties and no presumption or burden of proof shall arise favoring or disfavoring any party by virtue of the authorship of any of the provisions of this Agreement. The word \"including\" shall mean including without limitation.\\n20. RIGHTS OF THIRD PARTIES. Nothing in this Agreement shall be construed as giving any person, firm, corporation, or other entity, other than the parties who are signatory hereto and their respective successors and permitted assigns, any right, remedy, or claim under or in respect of this Agreement or any provision hereof.\\nIN WITNESS WHEREOF, the parties hereto have made and entered into this Agreement under their hand and seal as of the date first hereinabove set forth.\\n------------------------------\\n[Name]\\nSelling Shareholder\\nDOLLAR TREE STORES, INC.\\nBy\\n-------------------------\\nName:\\nTitle:\\nDOLLAR TREE WEST, INC.\\nBy\\n-------------------------\\nName:\\nTitle:\\nState of\\nCity/County of\\nThe foregoing instrument was acknowledged before me this ___ day of ___________, 1998, by ______________________________ as Selling Shareholder.\\n-------------------------------------\\nNotary Public\\nMy commission expires:\\nCommonwealth of Virginia\\nCity of\\nThe foregoing instrument was acknowledged before me this ___ day of ____________, 1998, by ________________________ as the ___________________ of Dollar Tree Stores, Inc., a Virginia corporation, on behalf of such corporation, and as the ___________________ of Dollar Tree West, Inc., a California corporation, on behalf of such corporation.\\n--------------------------------------\\nNotary Public\\nMy commission expires:\\n--------------------\\n', 'text_id': 430, 'answer': 'Entailment', 'hyp_id': 18, 'supp_spans': [[0, 78], [6461, 6960]]},\n",
       "       {'context': 'Receiving Party shall not disclose the fact that Agreement was agreed or negotiated. Exhibit (d)(3)\\nNON-DISCLOSURE AGREEMENT\\nThis NON-DISCLOSURE AGREEMENT (“Agreement”) is being entered into as of March 19, 2018 between ARMO Biosciences, Inc., a Delaware corporation (“Seller”), and Eli Lilly and Company, an Indiana corporation (“Buyer” and with Seller referred to collectively as the “Parties” and individually as a “Party”).\\nIn order to facilitate the consideration and negotiation of a possible negotiated transaction involving Buyer’s acquisition of all of the equity interests in Seller (a “Transaction”), each Party has either requested or may request access to certain non-public information regarding the other Party and the other Party’s subsidiaries. (Each Party, in its capacity as a provider of information, is referred to in this Agreement as the “Provider”; and each Party, in its capacity as a recipient of information, is referred to in this Agreement as the “Recipient”.) This Agreement sets forth the Parties’ obligations regarding the use and disclosure of such information and regarding various related matters.\\nThe Parties, intending to be legally bound, acknowledge and agree as follows:\\n1. Limitations on Use and Disclosure of Confidential Information. Neither the Recipient nor any of the Recipient’s Representatives (as defined in Section 13 below) will, at any time, directly or indirectly:\\n(a) make use of any of the Provider’s Confidential Information (as defined in Section 12 below), except for the specific purpose of considering, evaluating and negotiating a Transaction between the Parties; or\\n(b) subject to Section 4 below, disclose any of the Provider’s Confidential Information to any other Person (as defined in Section 13 below).\\nThe Recipient will be liable and responsible for any breach of this Agreement by any of its Representatives and for any other action or conduct on the part of any of its Representatives that is inconsistent with any provision of this Agreement. The Recipient will (at its own expense) take all reasonable actions necessary to restrain its Representatives from making any unauthorized use or disclosure of any of the Provider’s Confidential Information.\\n2. Provider Contact Person. Any request by the Recipient or any of its Representatives to review any of the Provider’s Confidential Information must be directed to the individual(s) identified opposite the name of the Provider on EXHIBIT A (the “Provider Contact Person”). Neither the Recipient nor any of the Recipient’s Representatives will contact or otherwise communicate with any other Representative of the Provider in connection with a Transaction without the prior written authorization of the Provider Contact Person.\\n3. No Representations by Provider. Neither the Provider nor any of the Provider’s Representatives will be under any obligation to make any particular Confidential Information of the Provider available to the Recipient or any of the Recipient’s Representatives or to supplement or update any Confidential Information of the Provider previously furnished.\\nNeither the Provider nor any of its Representatives has made or is making any representation or warranty, express or implied, as to the accuracy or completeness of any of the Provider’s Confidential Information, and neither the Provider nor any of its Representatives will have any liability to the Recipient or to any of the Recipient’s Representatives on any basis (including, without limitation, in contract, tort or under United States federal or state securities laws or otherwise) relating to or resulting from the use of any of the Provider’s Confidential Information or any inaccuracies or errors therein or omissions therefrom. Only those representations and warranties that are included in any final definitive written agreement that provides for the consummation of a Transaction between the Parties (a “Definitive Agreement”) will have legal effect.\\n4. Permitted Disclosures.\\n(a) Notwithstanding the limitations set forth in Section 1 above:\\n(i) the Recipient may disclose Confidential Information of the Provider if and to the extent that the Provider consents in writing to the Recipient’s disclosure thereof;\\n(ii) subject to Section 4(b) below, the Recipient may disclose Confidential Information of the Provider to any Representative of the Recipient, but only to the extent such Representative (A) needs to know such Confidential Information for the purpose of helping the Recipient evaluate or negotiate a Transaction between the Parties, and (B) has been provided with a copy of this Agreement and has agreed to abide and be bound by the provisions hereof or is otherwise bound by confidentiality obligations at least as restrictive as those contained in this Agreement; and\\n(iii) subject to Section 4(c) below, the Recipient may disclose Confidential Information of the Provider to the extent required by applicable law or governmental regulation or by valid legal process or stock exchange rule.\\n(b) If the Provider delivers to the Recipient a written notice stating that certain Confidential Information of the Provider may be disclosed only to specified Representatives of the Recipient (such notice, a “Permitted Representatives Notice”), then, notwithstanding anything to the contrary contained in Section 4(a)(ii) above, the Recipient shall not thereafter disclose or permit the disclosure of any of such Confidential Information to any other Representative of the Recipient (any such other Representative, an “Impermissible Representative”). For clarity, if the Recipient disclosed, or permitted the disclosure of, any such certain Confidential Information to an Impermissible Representative prior to the Recipient’s receipt of the Permitted Representatives Notice, such disclosure shall not be deemed a breach of this Agreement.\\n(c) If the Recipient or any of the Recipient’s Representatives is required by law or governmental regulation or by subpoena or other valid legal process to disclose any of the Provider’s Confidential Information to any Person, then the Recipient will promptly provide the Provider with written notice of the applicable law, regulation or process so that the Provider may seek a protective order or other appropriate remedy. The Recipient and its Representatives will cooperate with the Provider and the Provider’s Representatives (at the Provider’s sole expense) in any attempt by the Provider to obtain any such protective order or other remedy. If the Provider elects not to seek, or is unsuccessful in obtaining, any such protective order or other remedy in connection with any requirement that the Recipient disclose Confidential Information of the Provider, then the Recipient may disclose such Confidential Information to the extent legally required; provided however, that the Recipient and its Representatives will use their reasonable efforts to ensure that such Confidential Information is treated confidentially by each Person to whom it is disclosed.\\n5. Return of Confidential Information. Upon the Provider’s request, the Recipient and the Recipient’s Representatives will promptly deliver to the Provider any of the Provider’s Confidential Information (and all copies thereof) obtained or possessed by the Recipient or any of the Recipient’s Representatives; provided, however, that, in lieu of delivering such Confidential Information to the Provider, the Recipient may destroy such Confidential Information and deliver to the Provider a certificate confirming their destruction; provided further, that Recipient shall not be required to return or destroy copies of Confidential Information created pursuant to Recipient’s automatic archiving and back-up procedures. Notwithstanding the delivery to the Provider, the destruction by the Recipient or the automatic archiving by Recipient of Confidential Information of the Provider pursuant to this Section 5, the Recipient and its Representatives will continue to be bound by their confidentiality obligations and other obligations under this Agreement with respect to such Confidential Information.\\n6. Limitation on Soliciting Employees. During the 12 month period commencing on the date of this Agreement, each Party agrees that neither it nor any of its direct or indirect subsidiaries who is or becomes aware of the negotiation of a possible Transaction between the Parties shall solicit for employment any employee of the other Party (or any of such other Party’s direct or indirect subsidiaries) with whom it (or any of its direct or indirect subsidiaries) came into contact in connection with a possible Transaction; provided, however, that this Section 6 will not prevent either Party or its direct or indirect subsidiaries from making generalized searches for employees by causing to be placed any general advertisement or similar notices or engaging search firms, provided that that such searches are not targeted specifically at employees of the other Party or its direct or indirect subsidiaries.\\n7. Standstill Provision. During the 12 month period commencing on the date of this Agreement (the “Standstill Period”), neither Buyer nor any of Buyer’s subsidiaries or other Representatives on behalf of Buyer will, in any manner, directly or indirectly:\\n(a) make, effect, initiate, cause or participate in (i) any acquisition of beneficial ownership of any securities of Seller or any securities of any subsidiary of Seller, (ii) any acquisition of any assets of Seller or any assets of any subsidiary of Seller, (iii) any tender offer, exchange offer, merger, business combination, recapitalization, restructuring, liquidation, dissolution or extraordinary transaction involving Seller or any subsidiary of Seller or involving any securities or assets of Seller or any securities 4r assets of any subsidiary of Seller, or (iv) any “solicitation” of “proxies” (as those terms are used in the proxy rules of the Securities and Exchange Commission) or consents with respect to any securities of Seller or any subsidiary of Seller;\\n(b) form, join or participate in a “group” (as defined in the Securities Exchange Act of 1934 and the rules promulgated thereunder) with respect to the beneficial ownership of any securities of Seller or any subsidiary of Seller;\\n(c) act, alone or in concert with others, to seek to control or influence the management, board of directors or policies of Seller or any subsidiary of Seller;\\n(d) take any action that might require Seller to make a public announcement regarding any of the types of matters set forth in clause (a) of this Section 7;\\n(e) agree or offer to take, or encourage or propose (publicly or otherwise) the taking of, any action referred to in clause (a), (b), (c) or (d) of this Section 7;\\n(f) assist, induce or encourage any other Person to take any action of the type referred to in clause (a), (b), (c), (d) or (e) of this Section 7;\\n(g) enter into any discussions, negotiations, arrangement or agreement with any other Person relating to any of the foregoing; or\\n(h) request or propose that Seller or any of Seller’s Representatives amend, waive or consider the amendment or waiver of any provision set forth in this Section 7;\\nprovided that Buyer shall not be prohibited from making or discussing any offers in a confidential, non-public manner that does not violate sub-clause (d) above regarding the Transaction directly to or with the management or the Board of Directors of Seller, or their designated Representatives (provided that the contents, subject and existence of any such communications shall constitute Confidential Information hereunder).\\nThe standstill provisions of this Section 7 shall not apply to the Parties’ entry into or consummation of the transactions contemplated by a Definitive Agreement. The standstill provisions of this Section 7 shall not apply in the event that, without any violation of the standstill provision, (1) any third party unrelated to Buyer has made any public announcement of its intent to commence a tender offer or exchange offer for more than 50% of the capital stock of Seller, (ii) Seller publicly announces that it has entered into a definitive agreement for a transaction or series of transactions (whether structured as a tender offer, exchange offer, merger, business combination, sale of assets or other similar transaction) that, if consummated, would result in a sale of more than 50% of the capital stock of Seller or a sale of all or substantially all of the assets of Seller, or (iii) any third party unrelated to Buyer commences, or makes a public announcement of its intention to commence, a proxy contest or proxy solicitation with respect to the election of, or enters into an agreement, commitment or understanding with respect to the replacement or addition of, members of the Board of Directors of the Seller such that a majority of the Board of Directors of Seller would be designated by such third party. The standstill provisions of this Section 7 shall automatically become applicable again if the third party announces its intent not to proceed with the proposed transaction described in Section 7(a) above; provided, however, that the Standstill Period shall not be extended beyond its original term. The expiration of the Standstill Period will not terminate or otherwise affect any of the other provisions of this letter agreement.\\n8. No Obligation to Pursue Transaction. Unless the Parties enter into a Definitive Agreement, no agreement providing for a transaction involving either of the Parties will be deemed to exist between the Parties, and neither Party will be under any obligation to negotiate or enter into any such agreement or transaction with the other Party. Each Party recognizes that, except as expressly provided in any legally binding written agreement between the Parties that is executed on or after the date of this Agreement: (i) the other Party and its Representatives will be free to negotiate with, and to enter into any agreement or transaction with, any other interested party; and (ii) such Party will not have any rights or claims against the other Party or any of the other Party’s Representatives arising out of or relating to any transaction or proposed transaction involving the other Party.\\n9. No Waiver. No failure or delay by either Party or any of its Representatives in exercising any right, power or privilege under this Agreement will operate as a waiver thereof, and no single or partial exercise of any such right, power or privilege will preclude any other or future exercise thereof or the exercise of any other right, power or privilege under this Agreement. No provision of this Agreement can be waived or amended except by means of a written instrument that is validly executed on behalf of both of the Parties and that refers specifically to the particular provision or provisions being waived or amended.\\n10. Remedies. Each Party acknowledges that money damages would not be a sufficient remedy for any breach of this Agreement by such Party or by any of such Party’s Representatives and that the other Party would suffer irreparable harm as a result of any such breach. Accordingly, each Party will also be entitled to equitable relief, including injunction and specific performance, as a remedy for any breach or threatened breach of this Agreement by the other Party or any of the other Party’s Representatives (without the need for posting a bond or providing other security). The equitable remedies referred to above will not be deemed to be the exclusive remedies for a breach of this Agreement, but rather will be in addition to all other remedies available at law or in equity to the Parties.\\n11. Successors and Assigns; Applicable Law; Jurisdiction and Venue. This Agreement will be binding upon and inure to the benefit of each Party and its Representatives and their respective heirs, successors and assigns. This Agreement will be governed by and construed in accordance with the laws of the State of Delaware (without giving effect to principles of conflicts of laws). Each Party: (a) irrevocably and unconditionally consents and submits to the jurisdiction of the state and federal courts located in the State of Delaware for purposes of any action, suit or proceeding arising out of or relating to this Agreement; (b) irrevocably and unconditionally waives any objection to the laying of venue of any action, suit or proceeding arising out of or relating to this Agreement in any state or federal court located in the State of Delaware; and (c) irrevocably and unconditionally waives the right to plead or claim, and irrevocably and unconditionally agrees not to plead or claim, that any action, suit or proceeding arising out of or relating to this Agreement that is brought in any state or federal court located in the State of Delaware has been brought in an inconvenient forum.\\n12. Confidential Information. For purposes of this Agreement, the Provider’s “Confidential Information” will be deemed to include only the following:\\n(a) any information (including any technology, know-how, patent application, test result, research study, business plan, budget, forecast or projection) relating directly or indirectly to the business of the Provider, any predecessor entity or any subsidiary or other affiliate of the Provider (whether prepared by the Provider or by any other Person and whether or not in written form) that is or that has, within the last thirty (30) days, been made available to the Recipient or any Representative of the Recipient by or on behalf of the Provider or any Representative of the Provider;\\n(b) any memorandum, analysis, compilation, summary, interpretation, study, report or other document, record or material that is or has been prepared by or for the Recipient or any Representative of the Recipient and that contains, reflects, interprets or is based directly or indirectly upon any information of the type referred to in clause (a) of this Section 12;\\n(c) the existence and terms of this Agreement, and the fact that information of the type referred to in clause (a) of this Section 12 has been made available to the Recipient or any of its Representatives; and\\n(d) the fact that discussions or negotiations are or may be taking place with respect to a Transaction involving the Parties, and the proposed terms of any such transaction.\\nHowever, the Provider’s “Confidential Information” will not be deemed to include:\\n(i) any information that is or becomes generally available to the public other than as a direct or indirect result of the disclosure of any of such information by the Recipient or by any of the Recipient’s Representatives;\\n(ii) any information that was in the Recipient’s possession prior to the time it was first made available to the Recipient or any of the Recipient’s Representatives by or on behalf of the Provider or any of the Provider’s Representatives, provided that the source of such information was not and is not reasonably known to the Recipient to be bound by any contractual or other obligation of confidentiality to the Provider or to any other Person with respect to any of such information;\\n(iii) any information that becomes available to the Recipient on a non-confidential basis from a source other than the Provider or any of the Provider’s Representatives, provided that such source is not reasonably known to the Recipient to be bound by any contractual or other obligation of confidentiality to the Provider or to any other Person with respect to any of such information; or\\n(iv) any information that is developed by or on behalf of the Recipient independently of the disclosure of Confidential Information and without reference to or use of Confidential Information.\\n13. Miscellaneous.\\n(a) For purposes of this Agreement, a Party’s “Representatives” will be deemed to include each Person that is or becomes (i) a subsidiary or other affiliate of such Party, or (ii) an officer, director, employee, partner, attorney, advisor, accountant, agent or representative of such Party or of any of such Party’s subsidiaries or other affiliates.\\n(b) The term “Person,” as used in this Agreement, will be broadly interpreted to include any individual and any corporation, partnership, entity, group, tribunal or governmental authority.\\n(c) Any term or provision of this Agreement that is invalid or unenforceable in any situation in any jurisdiction shall not affect the validity or enforceability of the remaining terms and provisions hereof or the validity or enforceability of the offending term or provision in any other situation or in any other jurisdiction.\\n(d) By making Confidential Information or other information available to the Recipient or the Recipient’s Representatives, the Provider is not, and shall not be deemed to be, granting (expressly or by implication) any license or other right under or with respect to any patent, trade secret, copyright, trademark or other proprietary or intellectual property right. Neither the Recipient nor the Recipient’s Representatives shall file any patent application containing any claim to any subject matter derived from the Confidential Information of the Provider.\\n(e) To the extent that any Confidential Information includes materials or other information that may be subject to the attorney-client privilege, work product doctrine or any other applicable privilege or doctrine concerning any Confidential Information or any pending, threatened or prospective action, suit, proceeding, investigation, arbitration or dispute, (i) Provider, or the applicable direct or indirect subsidiary of Provider, is not waiving and shall not be deemed to have waived or diminished its attorney-client privileges, work-product protections, or other applicable privileges or doctrines as a result of disclosing any Confidential Information (including Confidential Information related to pending or threatened litigation) and (ii) it is acknowledged and agreed that the Parties have a commonality of interest with respect to such Confidential Information or action, suit, proceeding, investigation, arbitration or dispute and that it is the Parties’ mutual desire, intention and understanding that the sharing of such materials and other information is not intended to, and shall not, affect the confidentiality of any of such materials or other information or waive or diminish the continued protection of any of such materials or other information under the attorney-client privilege, work product doctrine or other applicable privilege or doctrine. Accordingly, all Confidential Information that is entitled to protection under the attorney-client privilege, work product doctrine or other applicable privilege or doctrine shall remain entitled to protection thereunder and shall be entitled to protection under the joint defense doctrine, and the Parties agree to take all measures necessary to preserve, to the fullest extent possible, the applicability of all such privileges or doctrines.\\n(f) This Agreement constitutes the entire agreement between the Recipient and the Provider regarding the subject matter hereof and supersedes any prior agreement between the Recipient and the Provider regarding the subject matter hereof.\\n(g) This Agreement will terminate 12 months from the effective date of this Agreement, unless earlier terminated by either Party at any time upon 30 days written notice to the other Party. The termination of this Agreement shall not relieve the Recipient of the obligations hereunder with respect to Confidential Information of the Provider (which shall survive any such termination and continue for a period of three years from the effective date of this Agreement, provided that such obligations with respect to any trade secrets of the Provider will survive indefinitely), or relieve either party of its obligations under Section 6 of this Agreement or relieve Buyer of its obligations under Section 7 of this Agreement (which shall survive for the stated durations thereof), and the provisions of Sections 3, 5, 8, 9, 10, 11 and 13 shall remain in full force and effect and survive any termination of this Agreement.\\n(h) The Recipient agrees not to export, directly or indirectly, any U.S. source technical data acquired from the Provider or any products utilizing such data to countries outside the United States, which export may be in violation of the United States export laws or regulations.\\n(i) The Parties hereto confirm their agreement that this Agreement, as well as any amendment hereto and all other documents related hereto, including legal notices, shall be in the English language only.\\n[Signature Page Next]\\nARMO BIOSCIENCES, INC. ELI LILLY AND COMPANY\\nBy: /s/ Peter Van Vlasselaer By: /s/ Timothy C. Dolan\\nTitle: CEO Title: V.P., Business Development\\nAddress: 575 Chesapeake Dr. Address: Lilly Corporate Center\\n Redwood City, CA 94063 Indianapolis, IN\\n', 'text_id': 624, 'answer': 'Entailment', 'hyp_id': 10, 'supp_spans': [[0, 85], [16943, 17062], [18018, 18129], [18129, 18227], [18228, 18401]]},\n",
       "       {'context': 'Agreement shall not grant Receiving Party any right to Confidential Information. Focus Group Non‐Disclosure Agreement\\nThank you for agreeing to participate in a focus group to discuss new products that are in the early stages of development. The products themselves, and the ideas and concepts regarding its manufacture, marketing, use, and the discussions here represent Confidential Information of the company sponsoring this research study / discussion (“Focus Group”).\\nI, _______________________________________________________________ hereby agree to maintain the confidentiality of information disclosed during focus group or observed live as follows:\\na) To hold in confidence any and all technical or business information about the company’s product which is disclosed, or made available to you directly or indirectly, or is information you otherwise receive incident to your participation in this discussion;\\nb) That any ideas, patentable or not patentable, or suggestions contributed by you during the discussion, as well as any ideas, developments, or inventions conceived by you or others participating in the Focus Group, shall be the property of the company sponsoring this research study in any manner it sees fit.\\nc) The products shown to you, described to you, and/or used by you are not available for sale and no offer for sale is being made to you.\\nd) That you, shall at all times hold in trust, keep confidential and not disclose to any third party or make any use of the Confidential Information beyond those activities that are part of the Focus Group.\\ne) All notes, reference materials, memoranda, documentation and records in any way incorporating or reflecting any of the Confidential Information shall belong exclusively to Owner and the undersigned agrees to turn over all copies of such materials in the undersigned’s possession to Owner upon request.\\nf) Also included as confidential is any participants Personally Identifiable Information (“PII”). PII shall mean a person’s identity or information that might reasonably allow identification of the person. I shall at all times hold in trust, keep confidential and not disclose to any third party or make any use of the identity or PII of any Respondent involved in the Focus Group.\\ng) That you acknowledge you are being sufficiently compensated for your participation in this Focus Group and that all information and opinions you provide are solely your own and are in no way reflective of your employer(s).\\nh) That you, hereby give permission to the company sponsoring this research study for an audio recording to be made of this session. That you understand a transcription of this tape may be used by the company sponsoring this study for research purposes only.\\nBy submitting this form you will be entering a Non‐Disclosure agreement with:\\nKenall Manufacturing, Co., 10200 55th Street Kenosha, WI 53144\\nRespondent Signature: ______________________________________________________________________________\\n', 'text_id': 112, 'answer': 'Entailment', 'hyp_id': 15, 'supp_spans': [[0, 81], [1574, 1878]]},\n",
       "       {'context': 'All Confidential Information shall be expressly identified by the Disclosing Party. NON-DISCLOSURE AGREEMENT\\nWith the present non-disclosure agreement (hereafter referred to as AGREEMENT)\\nfull name of PINE partner institution, with its registered address at….. ….. ….., VAT registration number….. ….. ….., represented for the purpose of this AGREEMENT by ….. ….. ….., (hereafter referred to as ACRONYM OF THE PINE PROJECT PARTNER)\\nand\\nthe company ………………………………………………………………………………….., with its registered address at….. ….. ….., VAT registration number….. ….. ….., represented for the purpose of this AGREEMENT by ….. ….. ….., (hereafter referred to as COMPANY)\\nhereafter jointly referred to as THE PARTIES\\nPREMISES:\\na) ACRONYM OF THE PINE PROJECT PARTNER and the COMPANY have had a preliminary contact in the framework of the PINE – Promoting Industrial Energy Efficiency Project (hereafter referred to as PROJECT) funded by EACI (Executive Agency for Competitiveness and Innovation of the European Commission) under Contract IEE/11/885/SI2.615936;\\nb) The COMPANY has been selected through an ad-hoc call to benefit from a two-step energy auditing service (comprising a first scouting phase and, if applicable according to procedures in place, a second full audit phase) compliant to the operative programme of the PROJECT;\\nc) The COMPANY commits to disclose to ACRONYM OF THE PINE PROJECT PARTNER and those appointed by the aforementioned, information and data as necessary to carry out the activities as envisaged by the PROJECT;\\nd) In case the COMPANY decided not to make available to ACRONYM OF THE PINE PROJECT PARTNER and those appointed by the aforementioned, information and data as deemed necessary for the carrying out of the envisaged activities mentioned here above, this will make it impossible for the COMPANY to benefit from the scouting and full auditing services (if applicable) envisaged by the PROJECT;\\ne) ACRONYM OF THE PINE PROJECT PARTNER is required to report to the institution funding the PROJECT, the abovementioned EACI, and/or to third parties appointed to carry out analyses of the same, data related to project activities, however always anonymously and with no direct reference to the involved companies, mostly in an aggregated form to monitor the overall impact of project activities;\\nAGREE AS FOLLOWS:\\n1. Premises\\nThe Premises are part of this AGREEMENT\\n2. Object\\nThis AGREEMENT is intended to regulate privacy rights and obligations for THE PARTIES in relation to data and information defined as confidential, compliant to provisions contained in the The sole responsibility for the content of webpage lies with the authors. It does not necessarily reflect the opinion of the European Union. Neither the EACI nor the European Commission are responsible for any use that may be made of the information contained therein following articles, which they will become aware of while carrying out the activities described in the Premises to this AGREEMENT.\\n3. Confidential information\\n3.1 For the purpose of this AGREEMENT, those data and information will be considered as confidential which are provided or delivered by one Party to the other Party and which are declared confidential when provided or delivered.\\n3.2 The confidential nature of the abovementioned data and information will have to be explicitly declared, printing or writing ‘CONFIDENTIAL’ on the above, followed by the signatures of the representatives of THE PARTIES or, however, clearly indicated as confidential in communications, so to allow THE PARTIES and any authorized person to immediately recognize their confidential nature and apply the subsequent compliance to confidentiality obligations as envisaged in this AGREEMENT. THE PARTIES may, if deemed necessary, explicitly declare other data and information non-confidential.\\n3.3 The term confidential may not be associated to information and data of public domain at the time when these are provided to the Recipient (the Party receiving the information) or in case they become of public domain due to an act or behaviour not explicitly forbidden to the Recipient;\\n4. Confidentiality obligations\\n4.1 THE PARTIES may not disclose or communicate in any form or way data and information of a confidential nature to unauthorized subjects.\\n4.2 Such data and information will have to be used appropriately and adequately for the carrying out of the activities specifically envisaged by the PROJECT and contained in the contract mentioned in the Premises, in such a way that their confidential nature is not compromised and no damage is caused in any other way.\\n4.3 The information and data of a confidential nature may not be copied or reproduced, in all or in part, unless this is explicitly required by the carrying out of PROJECT activities.\\n 4.4 The information and data of a confidential nature will be forwarded by ACRONYM OF THE PINE PROJECT PARTNER to the financing institution of the PROJECT (EACI, the Executive Agency for Competitiveness and Innovation of the European Commission), or to other bodies designated to monitoring or control, compliant to the envisaged management procedures, in an anonymous or in an aggregated form and however without providing information that may allow the association of the provided data with the COMPANY.\\n4.5 The information and data of a confidential nature may be forwarded by ACRONYM OF THE PINE PROJECT PARTNER to other PROJECT partners and/or third parties appointed to carry out analyses on them. In this case too, the forwarding will take place in an anonymous or in an aggregated form and however without providing information that may allow the association of the provided data with the COMPANY.\\n5. Responsible persons\\n5.1 Each Party shall appoint within its organization a person responsible for the treatment of confidential information and data, who shall have all persons in charge of carrying out PROJECT activities sign a declaration, whereby they take it upon themselves to comply with confidentiality obligations as described and regulated in the present AGREEMENT.\\n5.2 The persons responsible for the abovementioned confidential data treatment are:\\n- for ACRONYM OF THE PINE PROJECT PARTNER …………….………………………………..\\n- for the COMPANY………………………………………………………………………………….\\n6. Security measures\\nThe sole responsibility for the content of webpage lies with the authors. It does not necessarily reflect the opinion of the European Union. Neither the EACI nor the European Commission are responsible for any use that may be made of the information contained therein\\n6.1 THE PARTIES commit to adopt all security measures as necessary to protect data and information of a confidential nature and guarantee that their confidentiality is not compromised in any way.\\n6.2 The treatment of all sensitive and personal data shall be compliant to the relevant national legislation in place, particularly in relation to law….\\n7. Intellectual property\\nThe present AGREEMENT does not grant either of THE PARTIES rights or authorization to claim a licence or any other right of use for patents, brands, models and/or industrial or intellectual property of any kind.\\n8. Duration\\nConfidentiality obligations are intended to last from the signing of the present AGREEMENT up to five years after completion of the PROJECT, currently envisaged for March 16, 2015, except any further extensions of the validity period of this AGREEMENT to be agreed upon by THE PARTIES and before the aforementioned deadline. In case THE PARTIES decide to extend the validity period for a longer period of time or unlimitedly, confidentiality obligations are extended from the signing of the AGREEMENT for the entire duration as agreed upon, which shall be inserted in the AGREMENT.\\n9. Applicable law and settlement of controversies\\n9.1 The present AGREEMENT is regulated under …. …. Law.\\n9.2 In case of any controversy among THE PARTIES in relation to the execution and interpretation of the present AGREEMENT, which cannot be settled amicably, the competent court shall be the Court of …. …..\\n10. Communications\\nAll communications between THE PARTIES shall be addressed to the following addresses:\\n- for ACRONYM OF THE PINE PROJECT PARTNER …………….………………………………..\\n- for the COMPANY………………………………………………………………………………….\\n(Place and date) ………………\\nSIGNATURE OF THE LEGAL REPRESENTATIVE\\nACRONYM OF THE PINE PROJECT PARTNER\\n(Name and office) ………………………\\nSIGNATURE OF THE LEGAL REPRESENTATIVE\\nCOMPANY\\n(Name and office) ………………………\\nThe sole responsibility for the content of webpage lies with the authors. It does not necessarily reflect the opinion of the European Union. Neither the EACI\\n', 'text_id': 242, 'answer': 'Entailment', 'hyp_id': 1, 'supp_spans': [[0, 84], [3014, 3238], [3243, 3727]]},\n",
       "       {'context': 'Receiving Party shall not disclose the fact that Agreement was agreed or negotiated. Johns Hopkins University\\nNON-DISCLOSURE AGREEMENT For Bilateral Disclosure\\nThis Agreement is effective this of in the year ______ is by and between JHU and COMPANY, each defined below.\\nJHU: The Johns Hopkins University\\nAddress: 100 N. Charles St., 5th Floor\\nBaltimore, Maryland 21201\\nJHU Contact:\\nCOMPANY:\\nAddress:\\nCOMPANY Contact:\\nWHEREAS, each party has certain technical information described below which shall hereinafter be referred to as \"CONFIDENTIAL INFORMATION\";\\nCONFIDENTIAL INFORMATION:\\nWHEREAS, JHU and COMPANY are each interested in examining the CONFIDENTIAL INFORMATION of the other solely for the PURPOSE, defined below;\\nPURPOSE: To explore licensing, collaborative or sponsored research agreement opportunities related to the CONFIDENTIAL INFORMATION.\\nNOW, THEREFORE, in consideration of the premises and mutual covenants contained herein, the parties hereto agree as follows:\\n”PROVIDER” shall mean the party hereto disclosing CONFIDENTIAL INFORMATION to the RECIPIENT party.\\n“RECIPIENT” shall mean the party receiving CONFIDENTIAL INFORMATION from the PROVIDER party.\\n 1. PROVIDER, through its employee, the PROVIDER Contact, shall disclose CONFIDENTIAL INFORMATION to RECIPIENT, through its employee, the RECIPIENT Contact, to enable RECIPIENT to fully evaluate such disclosure solely for the PURPOSE. CONFIDENTIAL INFORMATION shall be indicated as confidential at the time of disclosure.\\n2. RECIPIENT agrees to accept the CONFIDENTIAL INFORMATION and to employ all reasonable efforts to maintain the CONFIDENTIAL INFORMATION as secret and confidential, such efforts to be no less than the degree of care employed by RECIPIENT to preserve and safeguard RECIPIENT\\'s own confidential information. The CONFIDENTIAL INFORMATION shall not be disclosed or revealed to anyone except employees of RECIPIENT who have a need to know the CONFIDENTIAL INFORMATION for the PURPOSE and who agree to be bound by the terms of this Agreement.\\n3. It is hereby acknowledged by PROVIDER that RECIPIENT shall incur no liability merely for examining and considering the CONFIDENTIAL INFORMATION. However, RECIPIENT agrees that it will not use the CONFIDENTIAL INFORMATION for any purpose other than the PURPOSE without the prior written consent of PROVIDER.\\n4. RECIPIENT‘s obligations under Paragraphs 2 and 3 above shall not extend to any part of the CONFIDENTIAL INFORMATION:\\n(a) that can be demonstrated to have been in the public domain or publicly known and readily available to the trade or the public prior to the date of the disclosure; or\\n(b) that can be demonstrated, from written records, to have been in RECIPIENT\\'s possession or readily available to RECIPIENT from another source not under obligation of secrecy to PROVIDER prior to the disclosure; or\\n(c) that becomes part of the public domain or publicly known by publication or otherwise, not due to any unauthorized act by RECIPIENT; or\\n(d) that is subsequently disclosed to RECIPIENT by a third party who is not under an obligation of confidentiality to PROVIDER; or\\n(e) that is required by any law, regulation, or order of court to be disclosed by RECIPIENT. Prior to disclosing proprietary or CONFIDENTIAL INFORMATION of the PROVIDER, the RECIPIENT shall first notify and provide it an opportunity to prevent disclosure.\\n5. RECIPIENT\\'s obligations under Paragraphs 2 and 3 shall extend for a period of five (5) years from the effective date of this Agreement.\\n6. It is understood that nothing herein shall be deemed to constitute, by implication or otherwise, the grant to RECIPIENT of any license or other rights under any patent, patent application, or other intellectual property right or interest belonging to PROVIDER, or as permitting RECIPIENT to unfairly obtain the right to use any CONFIDENTIAL INFORMATION which becomes publicly known through an improper act or omission on its part.\\n 7. Neither party shall use the name of the other or any contraction or derivative thereof or the name(s) of the other party\\'s faculty members, employees, or students, as applicable, in any advertising, promotional, sales literature, or fundraising documents without prior written consent from the other party.\\n 8. The terms of this Agreement supersede any previous non-disclosure agreements or any other preliminary representations or understandings that have been entered into by the parties to this Agreement with regard to the subject CONFIDENTIAL INFORMATION.\\nWe agree to examine and consider the subject matter of the CONFIDENTIAL INFORMATION on the foregoing basis.\\nTHE JOHNS HOPKINS UNIVERSITY COMPANY\\nBy: _____________________________ By: _______________________\\nPrinted: _____________________________ Printed: _______________________\\n(Name) (Name)\\nTitle: _____________________________ Title: _______________________\\nDate: _____________________________ Date: _______________________\\nAGREED AND ACCEPTED:\\nJHU Contact COMPANY Contact\\nBy: By: ______________________\\nPrinted: Printed: ______________________\\n(Name) (Name)\\nTitle: Title: ______________________\\nDate: Date: _______________________\\n', 'text_id': 135, 'answer': 'NotMentioned', 'hyp_id': 10, 'supp_spans': [[0, 85]]},\n",
       "       {'context': 'Receiving Party shall notify Disclosing Party in case Receiving Party is required by law, regulation or judicial process to disclose any Confidential Information. CONFIDENTIALITY AND NON-DISCLOSURE UNDERTAKING\\nConfidentiality and Non-Disclosure Undertaking Between Grindrod South Africa (Proprietary) Limited and _________________________________________________________ (Insert Full Name of Vendor Company or Individual)\\nTHIS UNDERTAKING IS TO BE MADE BY ALL PERSONS, NATURAL AND LEGAL, (THE VENDOR) WHO ARE GIVEN ACCESS, FOR WHATEVER PURPOSE, TO ANY INFORMATION, CONSIDERED BY GRINDROD SA, TO BE CONFIDENTIAL (AS DEFINED IN THIS UNDERTAKING). THE OBLIGATION RESTS WITH THE VENDOR TO ENSURE THAT ALL PERSONS (NATURAL AND LEGAL) GIVEN ACCESS TO CONFIDENTIAL INFORMATION AND SITE’S (OPERATIONS AND ADMINISTRATIVE FACILITIES), COMPLETE AND FORWARD A COPY OF THIS DOCUMENT TO GRINDROD SA’S HEAD OF PROCUREMENT.\\nDefinitions\\n1.1 “Confidential Information” means; all technical, commercial, procurement requirements, purchasing, manufacturing, customer lists, investors, employees, business and contractual relationships, business forecasts, sales and merchandising, and marketing plans business or personnel information disclosed or otherwise made available in any format and/or physical manner by Grindrod SA or becoming available, before, during and/or after the execution of an interaction, duty or obligation including all information that makes itself known to the Vendor or comes into being as a result of the rendering, production and/or delivery of an agreement/understanding/request for quotation/contract or Purchase Order, or any other interaction. Confidential Information shall also include any other information that is marked as \"Confidential\" or should reasonably be considered confidential Confidential Information excludes information which is already in the possession, or under the control of the Vendor otherwise than as a result of having been disclosed by Grindrod SA to the Vendor or as a result of the preparation and execution of a proposal or any other interaction with Grindrod SA. Confidential Information also excludes information in the public domain for a reason, other than a breach of this Confidentiality and Non-Disclosure Undertaking, with any party, or independently developed by the Vendor without reference to information provided by, Grindrod SA;\\n1.2 “Deliverables” means the physical goods, to be supplied and/ or services rendered in terms of the Order ;and shall include any activity, work and/or services to be rendered in conjunction with the Delivery of goods and vice versa;\\n1.3 “Delivery” means the completion and/or Delivery of Deliverables in a condition and place acceptable to the Buyer, Acceptance of the Deliverables is not considered to have taken place until payment has been effected.\\n1.4 “Grindrod SA” means Grindrod (South Africa) Proprietary Limited (registration number: 1933/004726/07), a limited liability private company duly incorporated and registered in accordance with the laws of the Republic of South Africa;\\n1.5 “Purchase Order” means the purchase order placed for deliverables;\\nThe Vendor and Grindrod SA agree that;\\n1. The Vendor and Grindrod SA have entered into an agreement / understanding / request for quotation / contract / order or any interaction of whatsoever nature, under which the Vendor may be required to quote on and / or render Deliverables to Grindrod SA and/or Grindrod SA shall be obliged to disclose or otherwise make available to the Vendor, Confidential Information.\\n2. The Parties are aware that Confidential Information may be disclosed or otherwise be made accessible to the Vendor for the purpose of the Vendor fulfilling its obligations / promises or duties arising from the Agreement / understanding / Request for Quotation / Contract or Purchase Order agreed to and accepted by the Vendor.\\n3. For the purposes of this Confidentiality and Non-Disclosure Undertaking, The Vendor undertakes;\\n 3.1. to use such Confidential Information only for purposes of performing as required in terms of its obligations / promises or duties arising out of the Agreement / understanding /Request for Quotation / Contract or Purchase Order and for no other purpose whatsoever,\\n 3.2. to hold any such Confidential Information in strict confidence and under proper and reasonable physical security,\\n 3.3. not to disclose such Confidential Information to any person without the prior written authorization from Grindrod SA,\\n 3.4. to, if the Vendor is in doubt concerning the confidentiality of any information or whether the Vendor is authorized to disclose it to any person, request and abide by any written ruling given by Grindrod SA,\\n 3.5. to bring to the attention of Grindrod SA, in writing, any abuse or unauthorized disclosure of such Confidential Information of which the Vendor becomes aware,\\n 3.6 that the provisions of this Confidentiality and Non-Disclosure Undertaking shall survive the termination or expiration of any Agreement / understanding / Request for Quotation / Contract / Purchase Order or any interaction, with Grindrod SA, of whatsoever nature.\\nSigned at this day of 2016\\n(For and on behalf of the Vendor)\\nSignature, name and position:\\n……………………………………………………………………………………………………………………………………………………………\\nSigned at this day of 2016\\n(For and on behalf of Grindrod SA)\\nSignature, name and position:\\n……………………………………………………………………………………………………………………………………………………………\\n', 'text_id': 119, 'answer': 'NotMentioned', 'hyp_id': 8, 'supp_spans': [[0, 163]]}],\n",
       "      dtype=object)"
      ]
     },
     "execution_count": 32,
     "metadata": {},
     "output_type": "execute_result"
    }
   ],
   "source": [
    "train_dataset.samples[list(range(10))]"
   ]
  },
  {
   "cell_type": "code",
   "execution_count": null,
   "metadata": {},
   "outputs": [],
   "source": [
    "args.backbone_cpt = None"
   ]
  },
  {
   "cell_type": "code",
   "execution_count": null,
   "metadata": {},
   "outputs": [],
   "source": [
    "\n",
    "# define model\n",
    "model_cls = get_cls_by_name(args.model_cls)\n",
    "# if hvd.rank() == 0:\n",
    "#     logger.info(f'Using model class: {model_cls}')\n",
    "if not args.from_pretrained:\n",
    "    model_cfg = AutoConfig.from_pretrained(args.model_cfg)\n",
    "    model = model_cls(config=model_cfg)\n",
    "else:\n",
    "    # if hvd.rank() == 0:\n",
    "    #     logger.info(f'Loading pretrained model: {args.from_pretrained}')\n",
    "    model = model_cls.from_pretrained(args.from_pretrained)\n",
    "\n",
    "model.resize_token_embeddings(len(tokenizer))\n",
    "\n",
    "## load cpt of backbone model\n",
    "if args.backbone_cpt:\n",
    "    backbone_cpt = os.path.join(args.backbone_cpt, \"model_best.pth\")\n",
    "    cpt = torch.load(backbone_cpt, map_location='cpu')\n",
    "    model.load_state_dict(cpt['model_state_dict'], strict=False)\n",
    "    # if hvd.rank() == 0:\n",
    "    #     logger.info(f'Loaded baseline state dict from: {args.backbone_cpt}')\n",
    "\n",
    "# Pass memory settings to pretrained model\n",
    "if args.num_mem_tokens is not None:\n",
    "    memory_cell_cls = get_cls_by_name(args.memory_cell_cls)\n",
    "    recurrent_wrapper_cls = get_cls_by_name(args.recurrent_wrapper_cls)\n",
    "    # if hvd.rank() == 0:\n",
    "    #     logger.info(f'Wrapping in: {memory_cell_cls} and {recurrent_wrapper_cls}')\n",
    "    \n",
    "    \n",
    "    cell = memory_cell_cls(model, args.num_mem_tokens)\n",
    "    model = recurrent_wrapper_cls(cell, \n",
    "                                    segment_size=block_size,\n",
    "                                    max_n_segments=args.max_n_segments, \n",
    "                                    k2=args.k2\n",
    "    )\n",
    "                                \n",
    "\n",
    "    ## load cpt of rmt\n",
    "    if args.model_cpt:\n",
    "        model_cpt = os.path.join(args.model_cpt, \"model_best.pth\")\n",
    "        cpt = torch.load(model_cpt, map_location='cpu')\n",
    "        model.load_state_dict(cpt['model_state_dict'], strict=False)\n",
    "        # if hvd.rank() == 0:\n",
    "        #     logger.info(f'Loaded RMT state dict from: {args.model_cpt}')\n",
    "\n",
    "if args.freeze_model_weights:\n",
    "    for n, p in model.named_parameters():\n",
    "        # if 'memory' not in n and 'wte' not in n:\n",
    "        if 'memory' not in n and 'lora' not in n:\n",
    "            p.requires_grad = False\n",
    "    # if hvd.rank() == 0:\n",
    "    #     logger.info(f'Frozen moodel weights')\n",
    "    #     logger.info(f'Remaining parameters: {[n for n, p in model.named_parameters() if p.requires_grad]}')\n",
    "\n",
    "# fix the not-contiguous error with loralib and horovod\n",
    "def make_contiguous(module):\n",
    "    with torch.no_grad():\n",
    "        for param in module.parameters():\n",
    "            param.set_(param.contiguous())\n",
    "make_contiguous(model)\n"
   ]
  },
  {
   "cell_type": "code",
   "execution_count": null,
   "metadata": {},
   "outputs": [],
   "source": [
    "\n",
    "# define optimizer\n",
    "optimizer_cls = get_optimizer(args.optimizer)\n",
    "if optimizer_cls is None:\n",
    "    raise RuntimeError(f'{args.optimizer} was not found in optimizers, torch.optim, transformers.optimization')\n",
    "\n",
    "# if hvd.rank() == 0:\n",
    "#     logger.info(f'Using optimizer class: {optimizer_cls}')\n",
    "\n",
    "# todo: group optimizer params\n",
    "if optimizer_cls in [transformers.optimization.Adafactor, optimizers.Adafactor]:\n",
    "    # https://github.com/huggingface/transformers/pull/9751/files -> transformers 4.3.0\n",
    "    optimizer = optimizer_cls(model.parameters(), lr=args.lr,\n",
    "                                scale_parameter=args.scale_parameter,\n",
    "                                relative_step=args.relative_step,\n",
    "                                warmup_init=args.warmup_init,\n",
    "                                weight_decay=args.weight_decay)\n",
    "else:\n",
    "    optimizer = optimizer_cls(model.parameters(), lr=args.lr, weight_decay=args.weight_decay)\n",
    "\n",
    "def keep_for_metrics_fn(batch, output):\n",
    "    data = {}\n",
    "    if 'generation_outputs' in output:\n",
    "            # data['labels'] = batch['answer']\n",
    "        data['generation_outputs'] = output['generation_outputs']\n",
    "        \n",
    "    data['labels'] = batch['labels']\n",
    "    for key in batch.keys():\n",
    "        if 'loss' in key: \n",
    "            data[key] = batch[key]\n",
    "    data['predictions'] = torch.argmax(output['logits'].detach(), dim=-1)\n",
    "    if 'labels_mask' in batch:\n",
    "        data['predictions'] = [data['predictions'][i, mask] for i, mask in enumerate(batch['labels_mask'])]\n",
    "    return data\n",
    "\n",
    "# HF datasets can compute metrics on each gpu process and then aggregate them on process with rank 0\n",
    "# synchronization is done by using temporay files on a shared filesystem\n",
    "# rank and number of workers is set by num_process and process_id params\n",
    "# BUT our Trainer aggregates all prediction from all gpus!\n",
    "#   this will lead to computing metrics for predictions repeated xN_GPUS times\n",
    "# need to try:\n",
    "# - keep_in_memory=True, may lead to OOM for large validation sets, after sync predictions and targets for the full\n",
    "#       validation set would be stored on each GPU -> xN_GPUs RAM\n",
    "#   - implemented currently\n",
    "# - compute metrics on batch lvl\n",
    "# - add support of HF metrics and turn off aggregation in case if metric has .add_batch method\n",
    "# scrolls_metric = datasets.load_metric(scrolls_metric_path, args.task_name, keep_in_memory=True)\n",
    "\n",
    "def metrics_fn(data):\n",
    "    metrics = {}\n",
    "    y, p = None, None\n",
    "    if 'generation_outputs' in data:\n",
    "        # replace -100 with pad token in labels\n",
    "        y = data['labels']\n",
    "        p = tokenizer.batch_decode(data['generation_outputs'], skip_special_tokens=True)\n",
    "        \n",
    "        if hvd.rank() == 0 and args.show_valid_examples > 0:\n",
    "            for i in range(min(args.show_valid_examples, len(y))):\n",
    "                logger.info(f'y: {y[i]}')\n",
    "                logger.info(f'p: {p[i]}')\n",
    "                logger.info(f'p ids: {data[\"generation_outputs\"][i]}')\n",
    "                logger.info('-' * 50)\n",
    "\n",
    "    if y is not None and p is not None:\n",
    "        metrics['exact_match'] = accuracy_score(y, p) * 100\n",
    "\n",
    "    return metrics\n"
   ]
  },
  {
   "cell_type": "code",
   "execution_count": null,
   "metadata": {},
   "outputs": [
    {
     "data": {
      "text/plain": [
       "{'context': \"Receiving Party shall not solicit some of Disclosing Party's representatives. MUTUAL NON-DISCLOSURE AGREEMENT\\nThis Non-Disclosure Agreement (“Agreement”) is made on ___ day of ___ 20__, (“effective date”) by and between _____________________, a _____________ Corporation, (“XXXXX”) and Data Boiler Technologies, LLC., a Massachusetts corporation (“DBT”).\\nWHEREAS, DBT and XXX (the “Parties”) desire to engage in business related discussions and negotiations regarding a potential business relationship (“Transaction”).\\nWHEREAS, the Parties may provide to each other certain confidential and proprietary information in connection with the Transaction and each desires that any such information provided shall be kept confidential by the other party; and\\nWHEREAS, in consideration of the disclosure of such information, each party is willing to keep the other party’s information confidential in accordance with the terms and conditions set forth in this Agreement;\\nNOW, THEREFORE, DBT and XXX hereby agree as follows:\\n1. Confidential Information “Confidential Information” means nonpublic information that disclosing party (“Disclosing Party”) designates as being confidential or which, under the circumstances surrounding disclosure the receiving party (“Receiving Party”) should know is treated as confidential by the Disclosing Party. Confidential Information includes, without limitation, non-public information relating to released or unreleased Disclosing Party software products, the marketing or promotion of any Disclosing Party product, Disclosing Party’s business policies or practices, financial information, technical information, computer systems, infrastructure designs, data, analysis, compilations, studies or other documentation and information received from others that Disclosing Party is obligated to treat as confidential. Confidential Information disclosed to Receiving Party by any Disclosing Party, its related entities and/or agents is covered by this Agreement. Confidential Information shall not include any information that: (i) is or subsequently becomes publicly available without Receiving Party’s breach of any obligation owed to Disclosing Party; (ii) became known to Receiving Party prior to Disclosing Party’s disclosure of such information to Receiving Party; (iii) became known to Receiving Party from a source other than Disclosing Party other than by the breach of an obligation of confidentiality owed to Disclosing Party; (iv) is independently developed by Receiving Party without access to the Disclosing Party’s information, or (v) the Confidential Information is required to be disclosed pursuant to a requirement of a governmental agency or law so long as the other party is provided notice of such requirement prior to any such disclosure.\\n2. Obligations Each party agrees that it shall not make use of, disseminate, or in any way disclose any Confidential Information of the Disclosing Party to any person, firm, or business, except to the extent necessary for the Transaction. The existence of any business negotiations, discussions, consultations, or agreements in progress between the parties shall not be released to any form of public media, unless agreed between the parties in writing. Both parties acknowledge that the Receiving Party shall protect the secrecy of all Confidential Information, that said Confidential Information is of critical importance to the Disclosing Party, that any violation of this Agreement would seriously and irreparably impair and damage the Disclosing Party's business, and that the Recipient shall keep all Confidential Information in a fiduciary capacity for the sole benefit of the Disclosing Party. The Receiving Party agrees that it shall treat all Confidential Information of the Disclosing Party with the same degree of care as it accords to its own Confidential Information, and the Receiving Party represents that it exercises reasonable care to protect its own Confidential Information. The Receiving Party agrees disclose Confidential Information only to those employees who need to know such information and certifies that such employees have previously agreed, either as a condition to employment or in order to obtain the Confidential Information, to be bound by terms and conditions substantially similar to those of this Agreement. The Receiving Party will immediately and unconditionally give written notice to the Disclosing Party of any unauthorized use or disclosure of the Confidential Information. The Receiving Party agrees to assist the Disclosing Party in remedying any such unauthorized use or disclosure of the Confidential Information.\\nMUTUAL NON-DISCLOSURE AGREEMENT\\n3. Return of Information Upon the request of the Disclosing Party, Receiving Party shall return all originals, copies, reproductions and summaries of Confidential Information at Disclosing Party’s request, or at Disclosing Party’s option, certify destruction of the same.\\n4. Injunctive Relief Receiving Party acknowledges that monetary damages may not be a sufficient remedy for unauthorized disclosure of Confidential Information and that Disclosing Party shall be entitled, without waiving any other rights or remedies, to such injunctive and other equitable relief (without bond and without the necessity of showing actual monetary damages) as may be deemed proper by a court.\\n5. No Further Rights All Confidential Information is and shall remain the property of Disclosing Party. Nothing contained in this Agreement shall be construed to as granting or conferring any rights in the Confidential Information except as provided herein.\\n6. No Commitment. The parties expressly agree that the provision of Information hereunder and discussions held in connection with the Transaction shall not prevent either party from pursuing similar discussions with third parties or obligate either party to continue discussions with the other or to take, continue or forego any action relating to the Transaction. Any estimates or forecasts provided by either party to the other shall not constitute commitments.\\n7. Miscellaneous\\nI. This Agreement constitutes the entire agreement between the parties with respect to the subject matter hereof. It shall not be modified except by a written agreement dated subsequent to the date of this Agreement and signed by both parties. None of the provisions of this Agreement shall be deemed to have been waived by any act or acquiescence on the part of Disclosing Party, its agents, or employees, but only by an instrument in writing signed by an authorized officer of Disclosing Party. No waiver of any provision of this Agreement shall constitute a waiver of any other provision(s) or of the same provision on another occasion.\\nII. This Agreement shall be construed and controlled by the laws of the State of Massachusetts and both parties further consent to jurisdiction by the state and federal courts sitting in Boston, Massachusetts.\\nIII. Subject to the limitations set forth in this Agreement, this Agreement will inure to the benefit of and be binding upon the parties, their successors and assigns. Neither party may assign, delegate or otherwise transfer this Agreement or any of its rights or obligations hereunder without the other party's prior approval.\\nData Boiler Technologies, LLC. XXXXX\\nSigned: _________________________ Signed: _________________________\\nName: _________________________ Name: _________________________\\nTitle: __________________________ Title: __________________________\\nDate: __________________________ Date: __________________________\\n\",\n",
       " 'text_id': 88,\n",
       " 'answer': 'NotMentioned',\n",
       " 'hyp_id': 18,\n",
       " 'supp_spans': [[0, 78]]}"
      ]
     },
     "execution_count": 18,
     "metadata": {},
     "output_type": "execute_result"
    }
   ],
   "source": [
    "train_dataset[0]"
   ]
  },
  {
   "cell_type": "code",
   "execution_count": null,
   "metadata": {},
   "outputs": [],
   "source": [
    "# gen = iter(train_dataloader)\n",
    "# batch = next(gen)\n",
    "\n",
    "batch_train = collate_train([train_dataset[i] for i in range(4)])\n",
    "batch_valid = collate_valid([valid_dataset[i] for i in range(4)])"
   ]
  },
  {
   "cell_type": "code",
   "execution_count": null,
   "metadata": {},
   "outputs": [],
   "source": [
    "# gen = iter(valid_dataloader)\n",
    "# batch = next(gen)"
   ]
  },
  {
   "cell_type": "code",
   "execution_count": null,
   "metadata": {},
   "outputs": [
    {
     "data": {
      "text/plain": [
       "{'input_ids': tensor([[ 3041,   344,  1412,  ...,  1463,   276, 50256],\n",
       "         [18546, 35599,  6188,  ...,  6335,  2867, 50256],\n",
       "         [ 3041,   344,  1412,  ...,   603,   434, 50256],\n",
       "         [ 3041,   344,  1412,  ...,   603,   434, 50256]]),\n",
       " 'labels': tensor([[ 3041,   344,  1412,  ...,  1463,   276, 50256],\n",
       "         [18546, 35599,  6188,  ...,  6335,  2867, 50256],\n",
       "         [ 3041,   344,  1412,  ...,   603,   434, 50256],\n",
       "         [ 3041,   344,  1412,  ...,   603,   434, 50256]]),\n",
       " 'labels_mask': tensor([[False, False, False,  ...,  True,  True, False],\n",
       "         [False, False, False,  ...,  True,  True, False],\n",
       "         [False, False, False,  ...,  True,  True, False],\n",
       "         [False, False, False,  ...,  True,  True, False]]),\n",
       " 'attention_mask': tensor([[ True,  True,  True,  ...,  True,  True, False],\n",
       "         [ True,  True,  True,  ...,  True,  True, False],\n",
       "         [ True,  True,  True,  ...,  True,  True, False],\n",
       "         [ True,  True,  True,  ...,  True,  True, False]])}"
      ]
     },
     "execution_count": 32,
     "metadata": {},
     "output_type": "execute_result"
    }
   ],
   "source": [
    "batch_train"
   ]
  },
  {
   "cell_type": "code",
   "execution_count": null,
   "metadata": {},
   "outputs": [
    {
     "data": {
      "text/plain": [
       "\"Receiving Party shall not solicit some of Disclosing Party's representatives. MUTUAL NON-DISCLOSURE AGREEMENT\\nThis Non-Disclosure Agreement (“Agreement”) is made on ___ day of ___ 20__, (“effective date”) by and between _____________________, a _____________ Corporation, (“XXXXX”) and Data Boiler Technologies, LLC., a Massachusetts corporation (“DBT”).\\nWHEREAS, DBT and XXX (the “Parties”) desire to engage in business related discussions and negotiations regarding a potential business relationship (“Transaction”).\\nWHEREAS, the Parties may provide to each other certain confidential and proprietary information in connection with the Transaction and each desires that any such information provided shall be kept confidential by the other party; and\\nWHEREAS, in consideration of the disclosure of such information, each party is willing to keep the other party’s information confidential in accordance with the terms and conditions set forth in this Agreement;\\nNOW, THEREFORE, DBT and XXX hereby agree as follows:\\n1. Confidential Information “Confidential Information” means nonpublic information that disclosing party (“Disclosing Party”) designates as being confidential or which, under the circumstances surrounding disclosure the receiving party (“Receiving Party”) should know is treated as confidential by the Disclosing Party. Confidential Information includes, without limitation, non-public information relating to released or unreleased Disclosing Party software products, the marketing or promotion of any Disclosing Party product, Disclosing Party’s business policies or practices, financial information, technical information, computer systems, infrastructure designs, data, analysis, compilations, studies or other documentation and information received from others that Disclosing Party is obligated to treat as confidential. Confidential Information disclosed to Receiving Party by any Disclosing Party, its related entities and/or agents is covered by this Agreement. Confidential Information shall not include any information that: (i) is or subsequently becomes publicly available without Receiving Party’s breach of any obligation owed to Disclosing Party; (ii) became known to Receiving Party prior to Disclosing Party’s disclosure of such information to Receiving Party; (iii) became known to Receiving Party from a source other than Disclosing Party other than by the[GEN]NotMentioned<|endoftext|>\""
      ]
     },
     "execution_count": 25,
     "metadata": {},
     "output_type": "execute_result"
    }
   ],
   "source": [
    "tokenizer.decode(batch_train['input_ids'][0])"
   ]
  },
  {
   "cell_type": "code",
   "execution_count": null,
   "metadata": {},
   "outputs": [
    {
     "data": {
      "text/plain": [
       "'[GEN]NotMentioned'"
      ]
     },
     "execution_count": 26,
     "metadata": {},
     "output_type": "execute_result"
    }
   ],
   "source": [
    "tokenizer.decode(batch_train['input_ids'][0][batch_train['labels_mask'][0]])"
   ]
  },
  {
   "cell_type": "code",
   "execution_count": null,
   "metadata": {},
   "outputs": [
    {
     "data": {
      "text/plain": [
       "{'input_ids': tensor([[ 3041,   344,  1412,  ...,   287,   393, 50257],\n",
       "         [18546, 35599,  6188,  ...,   286, 50257, 50256],\n",
       "         [ 4366, 13675,   286,  ..., 33147,  1626, 50257],\n",
       "         [ 3041,   344,  1412,  ...,   290, 50257, 50256]]),\n",
       " 'labels': tensor([[14539,   603,   434, 50256, 50256],\n",
       "         [ 3673,    44,  1463,   276, 50256],\n",
       "         [14539,   603,   434, 50256, 50256],\n",
       "         [ 3673,    44,  1463,   276, 50256]]),\n",
       " 'attention_mask': tensor([[ True,  True,  True,  ...,  True,  True,  True],\n",
       "         [ True,  True,  True,  ...,  True,  True, False],\n",
       "         [ True,  True,  True,  ...,  True,  True,  True],\n",
       "         [ True,  True,  True,  ...,  True,  True, False]])}"
      ]
     },
     "execution_count": 33,
     "metadata": {},
     "output_type": "execute_result"
    }
   ],
   "source": [
    "batch_valid"
   ]
  },
  {
   "cell_type": "code",
   "execution_count": null,
   "metadata": {},
   "outputs": [
    {
     "data": {
      "text/plain": [
       "\"Receiving Party may share some Confidential Information with some of Receiving Party's employees. Attachment 8\\nNon-Disclosure Agreement for Request for Proposal – California Courts Protective Order Registry Development\\nTHIS CONFIDENTIALITY AGREEMENT (“Agreement”), effective as of _________________[date of company’s signed proposal] (“Effective Date”), is entered into by and between the Administrative Office of the Courts (the “AOC”) and [company name], a [ ] corporation, with its principal address at [complete address], (hereinafter the “Company”).\\nWHEREAS, the State of California, acting through the Judicial Council of California, Administrative Office of the Courts is planning to disclose certain confidential information to potential vendors who wish to bid on the Request for Proposal for Judicial Council of California Administrative Office of the Courts (AOC) for California Courts Protective Order Registry Development, including all Statements of Work, dated on or about April, 2009 (collectively, the “RFP”);\\nWHEREAS, each potential vendor who wishes to submit a response to the RFP must have access to that confidential information in order to construct a response to the RFP, including a bid; and\\nWHEREAS, the AOC requires each potential vendor identified to receive the RFP to sign this Confidentiality Agreement and return it to the AOC as a condition of receiving the RFP;\\nNOW THEREFORE, in consideration of the promises and of the mutual promises and agreements herein contained, it is agreed by and between the parties hereto as follows:\\n1. Company agrees that all information, documents, data, materials and the AOC proprietary software systems disclosed to, or accessed by, Company in connection with, or related to, the RFP or the RFP process, in any form whether oral or written, or in any medium, including but not limited to any of the following is “Confidential Information” under the terms of this Agreement:\\na. The subject matter described in, and referred to, in the RFP, its associated Statements of Work (“SOWs”) or any other attachments, or during the RFP process (collectively “AOC Requirements”);\\nb. The RFP document (including all attachments), its content, and all supporting data, materials and all other information provided to Company in any form or medium in or[GEN]\""
      ]
     },
     "execution_count": 34,
     "metadata": {},
     "output_type": "execute_result"
    }
   ],
   "source": [
    "tokenizer.decode(batch_valid['input_ids'][0])"
   ]
  },
  {
   "cell_type": "code",
   "execution_count": null,
   "metadata": {},
   "outputs": [
    {
     "data": {
      "text/plain": [
       "'Entailment<|endoftext|><|endoftext|>'"
      ]
     },
     "execution_count": 35,
     "metadata": {},
     "output_type": "execute_result"
    }
   ],
   "source": [
    "tokenizer.decode(batch_valid['labels'][0])"
   ]
  },
  {
   "cell_type": "code",
   "execution_count": null,
   "metadata": {},
   "outputs": [],
   "source": []
  },
  {
   "cell_type": "code",
   "execution_count": null,
   "metadata": {},
   "outputs": [],
   "source": [
    "labels = batch.pop('labels')"
   ]
  },
  {
   "cell_type": "code",
   "execution_count": null,
   "metadata": {},
   "outputs": [
    {
     "name": "stderr",
     "output_type": "stream",
     "text": [
      "Setting `pad_token_id` to `eos_token_id`:50256 for open-end generation.\n"
     ]
    }
   ],
   "source": [
    "generated = model.memory_cell.model.generate(**batch, max_new_tokens=50)"
   ]
  },
  {
   "cell_type": "code",
   "execution_count": null,
   "metadata": {},
   "outputs": [
    {
     "data": {
      "text/plain": [
       "[\"Receiving Party may share some Confidential Information with some of Receiving Party's employees. Attachment 8\\nNon-Disclosure Agreement for Request for Proposal – California Courts Protective Order Registry Development\\nTHIS CONFIDENTIALITY AGREEMENT (“Agreement”), effective as of _________________[date of company’s signed proposal] (“Effective Date”), is entered into by and between the Administrative Office of the Courts (the “AOC”) and [company name], a [ ] corporation, with its principal address at [complete address], (hereinafter the “Company”).\\nWHEREAS, the State of California, acting through the Judicial Council of California, Administrative Office of the Courts is planning to disclose certain confidential information to potential vendors who wish to bid on the Request for Proposal for Judicial Council of California Administrative Office of the Courts (AOC) for California Courts Protective Order Registry Development, including all Statements of Work, dated on or about April, 2009 (collectively, the “RFP”);\\nWHEREAS, each potential vendor who wishes to submit a response to the RFP must have access to that confidential information in order to construct a response to the RFP, including a bid; and\\nWHEREAS, the AOC requires each potential vendor identified to receive the RFP to sign this Confidentiality Agreement and return it to the AOC as a condition of receiving the RFP;\\nNOW THEREFORE, in consideration of the promises and of the mutual promises and agreements herein contained, it is agreed by and between the parties hereto as follows:\\n1. Company agrees that all information, documents, data, materials and the AOC proprietary software systems disclosed to, or accessed by, Company in connection with, or related to, the RFP or the RFP process, in any form whether oral or written, or in any medium, including but not limited to any of the following is “Confidential Information” under the terms of this Agreement:\\na. The subject matter described in, and referred to, in the RFP, its associated Statements of Work (“SOWs”) or any other attachments, or during the RFP process (collectively “AOC Requirements”);\\nb. The RFP document (including all attachments), its content, and all supporting data, materials and all other information provided to Company in any form or medium in or[GEN]NotMentioned<|endoftext|><|endoftext|>\",\n",
       " 'Confidential Information may include verbally conveyed information. CONFIDENTIALITY (NON-DISCLOSURE) AGREEMENT\\nThis CONFIDENTIALITY (NON-DISCLOSURE) AGREEMENT (“Agreement”) is made and entered into this ______ day of _____________, 201__, by and between BROOKS’ BOTTLING COMPANY, LLC, a New York Limited Liability Company (“BROOKS”) and [ ] (“CLIENT”) (BROOKS and CLIENT are sometimes collectively referred to as the “Parties”)\\nRECITALS\\nA. BROOKS is engaged in the business of bottling products for various CLIENTS and has entered into discussion with relating to establishing a business relationship in connection with preparing and bottling certain of CLIENT’s product(s). As such, BROOKS will need access to certain personal, financial and product information relating to CLIENT and its products.\\nB. CLIENT desires to maintain the confidentiality of all personal, financial and product information disclosed to BROOKS. BROOKS is willing to receive all such personal, financial and product information in confidence, and the Parties deem it to be in their mutual best interest to protect such personal, financial and product information as provided in this Agreement.\\nNOW, THEREFORE, in consideration of the mutual promises, agreements, covenants, conditions and undertakings herein contained, and for other good and valuable consideration, the receipt and sufficiency of which are hereby acknowledged, the Parties agree as follows:\\n1. Confidential Information\\n1.1 With the understanding that CLIENT’s Formulations and Processing Procedures are proprietary to CLIENT, to the extent that CLIENT shall disclose to BROOKS personal, financial and product information, including their Formulations and Processing Procedures (“Confidential Information”), then all the Confidential Information disclosed to BROOKS shall be received by BROOKS in confidence for purposes of this Agreement except as otherwise provided under Section 3 below.\\n1.2 BROOKS, its directors, employees, agents and representatives shall not disclose, disseminate, publish, communicate or divulge any Confidential Information to anyone outside BROOKS, or to any employee of BROOKS not having reasonable need for access to such information, unless CLIENT expressly consents to such disclosure in writing.\\n2. Representations and Warranties\\n2.1 Each of[GEN]<|endoftext|>[GEN]NotMentioned<|endoftext|>']"
      ]
     },
     "execution_count": 52,
     "metadata": {},
     "output_type": "execute_result"
    }
   ],
   "source": [
    "tokenizer.batch_decode(generated)"
   ]
  },
  {
   "cell_type": "code",
   "execution_count": null,
   "metadata": {},
   "outputs": [
    {
     "data": {
      "text/plain": [
       "['Entailment<|endoftext|><|endoftext|>', 'NotMentioned<|endoftext|>']"
      ]
     },
     "execution_count": 55,
     "metadata": {},
     "output_type": "execute_result"
    }
   ],
   "source": [
    "tokenizer.batch_decode(labels)"
   ]
  },
  {
   "cell_type": "code",
   "execution_count": null,
   "metadata": {},
   "outputs": [],
   "source": [
    "self = model\n",
    "input_ids = batch['input_ids']\n",
    "attention_mask = batch['attention_mask']"
   ]
  },
  {
   "cell_type": "code",
   "execution_count": null,
   "metadata": {},
   "outputs": [
    {
     "ename": "ModuleAttributeError",
     "evalue": "'MemoryCell' object has no attribute 'generate'",
     "output_type": "error",
     "traceback": [
      "\u001b[0;31m---------------------------------------------------------------------------\u001b[0m",
      "\u001b[0;31mModuleAttributeError\u001b[0m                      Traceback (most recent call last)",
      "\u001b[1;32m/home/bulatov/bulatov/RMT_light/framework/notebooks/debug_rmt_cnli_new_run.ipynb Cell 23\u001b[0m in \u001b[0;36m<cell line: 11>\u001b[0;34m()\u001b[0m\n\u001b[1;32m      <a href='vscode-notebook-cell://ssh-remote%2Bgpu8/home/bulatov/bulatov/RMT_light/framework/notebooks/debug_rmt_cnli_new_run.ipynb#Y241sdnNjb2RlLXJlbW90ZQ%3D%3D?line=7'>8</a>\u001b[0m     \u001b[39m# self.manage_gradients(memory_state, seg_num)\u001b[39;00m\n\u001b[1;32m     <a href='vscode-notebook-cell://ssh-remote%2Bgpu8/home/bulatov/bulatov/RMT_light/framework/notebooks/debug_rmt_cnli_new_run.ipynb#Y241sdnNjb2RlLXJlbW90ZQ%3D%3D?line=9'>10</a>\u001b[0m final_segment \u001b[39m=\u001b[39m segmented[\u001b[39m-\u001b[39m\u001b[39m1\u001b[39m]\n\u001b[0;32m---> <a href='vscode-notebook-cell://ssh-remote%2Bgpu8/home/bulatov/bulatov/RMT_light/framework/notebooks/debug_rmt_cnli_new_run.ipynb#Y241sdnNjb2RlLXJlbW90ZQ%3D%3D?line=10'>11</a>\u001b[0m out \u001b[39m=\u001b[39m \u001b[39mself\u001b[39;49m\u001b[39m.\u001b[39;49mmemory_cell\u001b[39m.\u001b[39;49mgenerate(\u001b[39m*\u001b[39m\u001b[39m*\u001b[39mfinal_segment, memory_state\u001b[39m=\u001b[39mmemory_state)\n",
      "File \u001b[0;32m/cephfs/home/bulatov/bulatov/hvdenv/lib/python3.8/site-packages/torch/nn/modules/module.py:778\u001b[0m, in \u001b[0;36mModule.__getattr__\u001b[0;34m(self, name)\u001b[0m\n\u001b[1;32m    776\u001b[0m     \u001b[39mif\u001b[39;00m name \u001b[39min\u001b[39;00m modules:\n\u001b[1;32m    777\u001b[0m         \u001b[39mreturn\u001b[39;00m modules[name]\n\u001b[0;32m--> 778\u001b[0m \u001b[39mraise\u001b[39;00m ModuleAttributeError(\u001b[39m\"\u001b[39m\u001b[39m'\u001b[39m\u001b[39m{}\u001b[39;00m\u001b[39m'\u001b[39m\u001b[39m object has no attribute \u001b[39m\u001b[39m'\u001b[39m\u001b[39m{}\u001b[39;00m\u001b[39m'\u001b[39m\u001b[39m\"\u001b[39m\u001b[39m.\u001b[39mformat(\n\u001b[1;32m    779\u001b[0m     \u001b[39mtype\u001b[39m(\u001b[39mself\u001b[39m)\u001b[39m.\u001b[39m\u001b[39m__name__\u001b[39m, name))\n",
      "\u001b[0;31mModuleAttributeError\u001b[0m: 'MemoryCell' object has no attribute 'generate'"
     ]
    }
   ],
   "source": [
    "memory_state = None\n",
    "segmented = self.segment(input_ids=input_ids, attention_mask=attention_mask)\n",
    "\n",
    "cell_outputs = []\n",
    "for seg_num, segment in enumerate(segmented[:-1]):\n",
    "    cell_out, memory_state = self.memory_cell(**segment, memory_state=memory_state, output_hidden_states=True)\n",
    "    cell_outputs.append(cell_out)\n",
    "    # self.manage_gradients(memory_state, seg_num)\n",
    "\n",
    "final_segment = segmented[-1]\n",
    "out = self.memory_cell.generate(**final_segment, memory_state=memory_state)"
   ]
  },
  {
   "cell_type": "code",
   "execution_count": null,
   "metadata": {},
   "outputs": [],
   "source": [
    "kwargs = dict(**final_segment)\n",
    "input_ids = kwargs.pop('input_ids')"
   ]
  },
  {
   "cell_type": "code",
   "execution_count": null,
   "metadata": {},
   "outputs": [
    {
     "name": "stderr",
     "output_type": "stream",
     "text": [
      "Setting `pad_token_id` to `eos_token_id`:50256 for open-end generation.\n"
     ]
    },
    {
     "ename": "ValueError",
     "evalue": "If inputs_embeds is passed as model-specific keyword input then model has to be an encoder-decoder and not a GPT2LMHeadModel.",
     "output_type": "error",
     "traceback": [
      "\u001b[0;31m---------------------------------------------------------------------------\u001b[0m",
      "\u001b[0;31mValueError\u001b[0m                                Traceback (most recent call last)",
      "\u001b[1;32m/home/bulatov/bulatov/RMT_light/framework/notebooks/debug_rmt_cnli_new_run.ipynb Cell 25\u001b[0m in \u001b[0;36m<cell line: 2>\u001b[0;34m()\u001b[0m\n\u001b[1;32m      <a href='vscode-notebook-cell://ssh-remote%2Bgpu8/home/bulatov/bulatov/RMT_light/framework/notebooks/debug_rmt_cnli_new_run.ipynb#Y246sdnNjb2RlLXJlbW90ZQ%3D%3D?line=0'>1</a>\u001b[0m seg_kwargs \u001b[39m=\u001b[39m \u001b[39mself\u001b[39m\u001b[39m.\u001b[39mmemory_cell\u001b[39m.\u001b[39mprocess_input(input_ids, memory_state, \u001b[39m*\u001b[39m\u001b[39m*\u001b[39mkwargs)\n\u001b[0;32m----> <a href='vscode-notebook-cell://ssh-remote%2Bgpu8/home/bulatov/bulatov/RMT_light/framework/notebooks/debug_rmt_cnli_new_run.ipynb#Y246sdnNjb2RlLXJlbW90ZQ%3D%3D?line=1'>2</a>\u001b[0m out \u001b[39m=\u001b[39m \u001b[39mself\u001b[39;49m\u001b[39m.\u001b[39;49mmemory_cell\u001b[39m.\u001b[39;49mmodel\u001b[39m.\u001b[39;49mgenerate(\u001b[39m*\u001b[39;49m\u001b[39m*\u001b[39;49mseg_kwargs)\n",
      "File \u001b[0;32m/cephfs/home/bulatov/bulatov/hvdenv/lib/python3.8/site-packages/torch/autograd/grad_mode.py:26\u001b[0m, in \u001b[0;36m_DecoratorContextManager.__call__.<locals>.decorate_context\u001b[0;34m(*args, **kwargs)\u001b[0m\n\u001b[1;32m     23\u001b[0m \u001b[39m@functools\u001b[39m\u001b[39m.\u001b[39mwraps(func)\n\u001b[1;32m     24\u001b[0m \u001b[39mdef\u001b[39;00m \u001b[39mdecorate_context\u001b[39m(\u001b[39m*\u001b[39margs, \u001b[39m*\u001b[39m\u001b[39m*\u001b[39mkwargs):\n\u001b[1;32m     25\u001b[0m     \u001b[39mwith\u001b[39;00m \u001b[39mself\u001b[39m\u001b[39m.\u001b[39m\u001b[39m__class__\u001b[39m():\n\u001b[0;32m---> 26\u001b[0m         \u001b[39mreturn\u001b[39;00m func(\u001b[39m*\u001b[39;49margs, \u001b[39m*\u001b[39;49m\u001b[39m*\u001b[39;49mkwargs)\n",
      "File \u001b[0;32m/cephfs/home/bulatov/bulatov/hvdenv/lib/python3.8/site-packages/transformers/generation_utils.py:1083\u001b[0m, in \u001b[0;36mGenerationMixin.generate\u001b[0;34m(self, inputs, max_length, min_length, do_sample, early_stopping, num_beams, temperature, top_k, top_p, typical_p, repetition_penalty, bad_words_ids, bos_token_id, pad_token_id, eos_token_id, length_penalty, no_repeat_ngram_size, encoder_no_repeat_ngram_size, num_return_sequences, max_time, max_new_tokens, decoder_start_token_id, use_cache, num_beam_groups, diversity_penalty, prefix_allowed_tokens_fn, logits_processor, stopping_criteria, constraints, output_attentions, output_hidden_states, output_scores, return_dict_in_generate, forced_bos_token_id, forced_eos_token_id, remove_invalid_values, synced_gpus, **model_kwargs)\u001b[0m\n\u001b[1;32m   1074\u001b[0m return_dict_in_generate \u001b[39m=\u001b[39m (\n\u001b[1;32m   1075\u001b[0m     return_dict_in_generate \u001b[39mif\u001b[39;00m return_dict_in_generate \u001b[39mis\u001b[39;00m \u001b[39mnot\u001b[39;00m \u001b[39mNone\u001b[39;00m \u001b[39melse\u001b[39;00m \u001b[39mself\u001b[39m\u001b[39m.\u001b[39mconfig\u001b[39m.\u001b[39mreturn_dict_in_generate\n\u001b[1;32m   1076\u001b[0m )\n\u001b[1;32m   1078\u001b[0m \u001b[39m# 2. Define model inputs\u001b[39;00m\n\u001b[1;32m   1079\u001b[0m \u001b[39m# inputs_tensor has to be defined\u001b[39;00m\n\u001b[1;32m   1080\u001b[0m \u001b[39m# model_input_name is defined if model-specific keyword input is passed\u001b[39;00m\n\u001b[1;32m   1081\u001b[0m \u001b[39m# otherwise model_input_name is None\u001b[39;00m\n\u001b[1;32m   1082\u001b[0m \u001b[39m# all model-specific keyword inputs are removed from `model_kwargs`\u001b[39;00m\n\u001b[0;32m-> 1083\u001b[0m inputs_tensor, model_input_name, model_kwargs \u001b[39m=\u001b[39m \u001b[39mself\u001b[39;49m\u001b[39m.\u001b[39;49m_prepare_model_inputs(inputs, bos_token_id, model_kwargs)\n\u001b[1;32m   1084\u001b[0m batch_size \u001b[39m=\u001b[39m inputs_tensor\u001b[39m.\u001b[39mshape[\u001b[39m0\u001b[39m]\n\u001b[1;32m   1086\u001b[0m \u001b[39m# 3. Define other model kwargs\u001b[39;00m\n",
      "File \u001b[0;32m/cephfs/home/bulatov/bulatov/hvdenv/lib/python3.8/site-packages/transformers/generation_utils.py:423\u001b[0m, in \u001b[0;36mGenerationMixin._prepare_model_inputs\u001b[0;34m(self, inputs, bos_token_id, model_kwargs)\u001b[0m\n\u001b[1;32m    421\u001b[0m \u001b[39m# 4. Only encoder-decoder models can have non `input_ids` input format\u001b[39;00m\n\u001b[1;32m    422\u001b[0m \u001b[39mif\u001b[39;00m \u001b[39mnot\u001b[39;00m \u001b[39mself\u001b[39m\u001b[39m.\u001b[39mconfig\u001b[39m.\u001b[39mis_encoder_decoder \u001b[39mand\u001b[39;00m input_name \u001b[39m!=\u001b[39m \u001b[39m\"\u001b[39m\u001b[39minput_ids\u001b[39m\u001b[39m\"\u001b[39m:\n\u001b[0;32m--> 423\u001b[0m     \u001b[39mraise\u001b[39;00m \u001b[39mValueError\u001b[39;00m(\n\u001b[1;32m    424\u001b[0m         \u001b[39mf\u001b[39m\u001b[39m\"\u001b[39m\u001b[39mIf \u001b[39m\u001b[39m{\u001b[39;00minput_name\u001b[39m}\u001b[39;00m\u001b[39m is passed as model-specific keyword \u001b[39m\u001b[39m\"\u001b[39m\n\u001b[1;32m    425\u001b[0m         \u001b[39m\"\u001b[39m\u001b[39minput then model has to be an encoder-decoder and not a \u001b[39m\u001b[39m\"\u001b[39m\n\u001b[1;32m    426\u001b[0m         \u001b[39mf\u001b[39m\u001b[39m\"\u001b[39m\u001b[39m{\u001b[39;00m\u001b[39mself\u001b[39m\u001b[39m.\u001b[39m\u001b[39m__class__\u001b[39m\u001b[39m.\u001b[39m\u001b[39m__name__\u001b[39m\u001b[39m}\u001b[39;00m\u001b[39m.\u001b[39m\u001b[39m\"\u001b[39m\n\u001b[1;32m    427\u001b[0m     )\n\u001b[1;32m    429\u001b[0m \u001b[39m# 5. if `inputs` is still None, try to create `input_ids` from BOS token\u001b[39;00m\n\u001b[1;32m    430\u001b[0m \u001b[39mif\u001b[39;00m inputs \u001b[39mis\u001b[39;00m \u001b[39mNone\u001b[39;00m:\n",
      "\u001b[0;31mValueError\u001b[0m: If inputs_embeds is passed as model-specific keyword input then model has to be an encoder-decoder and not a GPT2LMHeadModel."
     ]
    }
   ],
   "source": [
    "seg_kwargs = self.memory_cell.process_input(input_ids, memory_state, **kwargs)\n",
    "out = self.memory_cell.model.generate(**seg_kwargs)\n",
    "# out, new_memory_state = self.memory_cell.process_output(out, **kwargs)"
   ]
  },
  {
   "cell_type": "code",
   "execution_count": null,
   "metadata": {},
   "outputs": [
    {
     "data": {
      "text/plain": [
       "torch.Size([2, 16, 768])"
      ]
     },
     "execution_count": 79,
     "metadata": {},
     "output_type": "execute_result"
    }
   ],
   "source": [
    "seg_kwargs['inputs_embeds'].shape"
   ]
  },
  {
   "cell_type": "code",
   "execution_count": null,
   "metadata": {},
   "outputs": [],
   "source": []
  },
  {
   "cell_type": "code",
   "execution_count": null,
   "metadata": {},
   "outputs": [
    {
     "name": "stderr",
     "output_type": "stream",
     "text": [
      "Setting `pad_token_id` to `eos_token_id`:50256 for open-end generation.\n"
     ]
    },
    {
     "ename": "RuntimeError",
     "evalue": "shape '[-1, 768]' is invalid for input of size 32",
     "output_type": "error",
     "traceback": [
      "\u001b[0;31m---------------------------------------------------------------------------\u001b[0m",
      "\u001b[0;31mRuntimeError\u001b[0m                              Traceback (most recent call last)",
      "\u001b[1;32m/home/bulatov/bulatov/RMT_light/framework/notebooks/debug_rmt_cnli_new_run.ipynb Cell 27\u001b[0m in \u001b[0;36m<cell line: 1>\u001b[0;34m()\u001b[0m\n\u001b[0;32m----> <a href='vscode-notebook-cell://ssh-remote%2Bgpu8/home/bulatov/bulatov/RMT_light/framework/notebooks/debug_rmt_cnli_new_run.ipynb#Y245sdnNjb2RlLXJlbW90ZQ%3D%3D?line=0'>1</a>\u001b[0m model\u001b[39m.\u001b[39;49mmemory_cell\u001b[39m.\u001b[39;49mmodel\u001b[39m.\u001b[39;49mgenerate(seg_kwargs[\u001b[39m'\u001b[39;49m\u001b[39minputs_embeds\u001b[39;49m\u001b[39m'\u001b[39;49m], max_new_tokens\u001b[39m=\u001b[39;49m\u001b[39m20\u001b[39;49m)\n",
      "File \u001b[0;32m/cephfs/home/bulatov/bulatov/hvdenv/lib/python3.8/site-packages/torch/autograd/grad_mode.py:26\u001b[0m, in \u001b[0;36m_DecoratorContextManager.__call__.<locals>.decorate_context\u001b[0;34m(*args, **kwargs)\u001b[0m\n\u001b[1;32m     23\u001b[0m \u001b[39m@functools\u001b[39m\u001b[39m.\u001b[39mwraps(func)\n\u001b[1;32m     24\u001b[0m \u001b[39mdef\u001b[39;00m \u001b[39mdecorate_context\u001b[39m(\u001b[39m*\u001b[39margs, \u001b[39m*\u001b[39m\u001b[39m*\u001b[39mkwargs):\n\u001b[1;32m     25\u001b[0m     \u001b[39mwith\u001b[39;00m \u001b[39mself\u001b[39m\u001b[39m.\u001b[39m\u001b[39m__class__\u001b[39m():\n\u001b[0;32m---> 26\u001b[0m         \u001b[39mreturn\u001b[39;00m func(\u001b[39m*\u001b[39;49margs, \u001b[39m*\u001b[39;49m\u001b[39m*\u001b[39;49mkwargs)\n",
      "File \u001b[0;32m/cephfs/home/bulatov/bulatov/hvdenv/lib/python3.8/site-packages/transformers/generation_utils.py:1190\u001b[0m, in \u001b[0;36mGenerationMixin.generate\u001b[0;34m(self, inputs, max_length, min_length, do_sample, early_stopping, num_beams, temperature, top_k, top_p, typical_p, repetition_penalty, bad_words_ids, bos_token_id, pad_token_id, eos_token_id, length_penalty, no_repeat_ngram_size, encoder_no_repeat_ngram_size, num_return_sequences, max_time, max_new_tokens, decoder_start_token_id, use_cache, num_beam_groups, diversity_penalty, prefix_allowed_tokens_fn, logits_processor, stopping_criteria, constraints, output_attentions, output_hidden_states, output_scores, return_dict_in_generate, forced_bos_token_id, forced_eos_token_id, remove_invalid_values, synced_gpus, **model_kwargs)\u001b[0m\n\u001b[1;32m   1185\u001b[0m         \u001b[39mraise\u001b[39;00m \u001b[39mValueError\u001b[39;00m(\n\u001b[1;32m   1186\u001b[0m             \u001b[39mf\u001b[39m\u001b[39m\"\u001b[39m\u001b[39mnum_return_sequences has to be 1, but is \u001b[39m\u001b[39m{\u001b[39;00mnum_return_sequences\u001b[39m}\u001b[39;00m\u001b[39m when doing greedy search.\u001b[39m\u001b[39m\"\u001b[39m\n\u001b[1;32m   1187\u001b[0m         )\n\u001b[1;32m   1189\u001b[0m     \u001b[39m# 10. run greedy search\u001b[39;00m\n\u001b[0;32m-> 1190\u001b[0m     \u001b[39mreturn\u001b[39;00m \u001b[39mself\u001b[39;49m\u001b[39m.\u001b[39;49mgreedy_search(\n\u001b[1;32m   1191\u001b[0m         input_ids,\n\u001b[1;32m   1192\u001b[0m         logits_processor\u001b[39m=\u001b[39;49mlogits_processor,\n\u001b[1;32m   1193\u001b[0m         stopping_criteria\u001b[39m=\u001b[39;49mstopping_criteria,\n\u001b[1;32m   1194\u001b[0m         pad_token_id\u001b[39m=\u001b[39;49mpad_token_id,\n\u001b[1;32m   1195\u001b[0m         eos_token_id\u001b[39m=\u001b[39;49meos_token_id,\n\u001b[1;32m   1196\u001b[0m         output_scores\u001b[39m=\u001b[39;49moutput_scores,\n\u001b[1;32m   1197\u001b[0m         return_dict_in_generate\u001b[39m=\u001b[39;49mreturn_dict_in_generate,\n\u001b[1;32m   1198\u001b[0m         synced_gpus\u001b[39m=\u001b[39;49msynced_gpus,\n\u001b[1;32m   1199\u001b[0m         \u001b[39m*\u001b[39;49m\u001b[39m*\u001b[39;49mmodel_kwargs,\n\u001b[1;32m   1200\u001b[0m     )\n\u001b[1;32m   1202\u001b[0m \u001b[39melif\u001b[39;00m is_sample_gen_mode:\n\u001b[1;32m   1203\u001b[0m     \u001b[39m# 10. prepare logits warper\u001b[39;00m\n\u001b[1;32m   1204\u001b[0m     logits_warper \u001b[39m=\u001b[39m \u001b[39mself\u001b[39m\u001b[39m.\u001b[39m_get_logits_warper(\n\u001b[1;32m   1205\u001b[0m         top_k\u001b[39m=\u001b[39mtop_k, top_p\u001b[39m=\u001b[39mtop_p, typical_p\u001b[39m=\u001b[39mtypical_p, temperature\u001b[39m=\u001b[39mtemperature, num_beams\u001b[39m=\u001b[39mnum_beams\n\u001b[1;32m   1206\u001b[0m     )\n",
      "File \u001b[0;32m/cephfs/home/bulatov/bulatov/hvdenv/lib/python3.8/site-packages/transformers/generation_utils.py:1530\u001b[0m, in \u001b[0;36mGenerationMixin.greedy_search\u001b[0;34m(self, input_ids, logits_processor, stopping_criteria, max_length, pad_token_id, eos_token_id, output_attentions, output_hidden_states, output_scores, return_dict_in_generate, synced_gpus, **model_kwargs)\u001b[0m\n\u001b[1;32m   1527\u001b[0m model_inputs \u001b[39m=\u001b[39m \u001b[39mself\u001b[39m\u001b[39m.\u001b[39mprepare_inputs_for_generation(input_ids, \u001b[39m*\u001b[39m\u001b[39m*\u001b[39mmodel_kwargs)\n\u001b[1;32m   1529\u001b[0m \u001b[39m# forward pass to get next token\u001b[39;00m\n\u001b[0;32m-> 1530\u001b[0m outputs \u001b[39m=\u001b[39m \u001b[39mself\u001b[39;49m(\n\u001b[1;32m   1531\u001b[0m     \u001b[39m*\u001b[39;49m\u001b[39m*\u001b[39;49mmodel_inputs,\n\u001b[1;32m   1532\u001b[0m     return_dict\u001b[39m=\u001b[39;49m\u001b[39mTrue\u001b[39;49;00m,\n\u001b[1;32m   1533\u001b[0m     output_attentions\u001b[39m=\u001b[39;49moutput_attentions,\n\u001b[1;32m   1534\u001b[0m     output_hidden_states\u001b[39m=\u001b[39;49moutput_hidden_states,\n\u001b[1;32m   1535\u001b[0m )\n\u001b[1;32m   1537\u001b[0m \u001b[39mif\u001b[39;00m synced_gpus \u001b[39mand\u001b[39;00m this_peer_finished:\n\u001b[1;32m   1538\u001b[0m     cur_len \u001b[39m=\u001b[39m cur_len \u001b[39m+\u001b[39m \u001b[39m1\u001b[39m\n",
      "File \u001b[0;32m/cephfs/home/bulatov/bulatov/hvdenv/lib/python3.8/site-packages/torch/nn/modules/module.py:727\u001b[0m, in \u001b[0;36mModule._call_impl\u001b[0;34m(self, *input, **kwargs)\u001b[0m\n\u001b[1;32m    725\u001b[0m     result \u001b[39m=\u001b[39m \u001b[39mself\u001b[39m\u001b[39m.\u001b[39m_slow_forward(\u001b[39m*\u001b[39m\u001b[39minput\u001b[39m, \u001b[39m*\u001b[39m\u001b[39m*\u001b[39mkwargs)\n\u001b[1;32m    726\u001b[0m \u001b[39melse\u001b[39;00m:\n\u001b[0;32m--> 727\u001b[0m     result \u001b[39m=\u001b[39m \u001b[39mself\u001b[39;49m\u001b[39m.\u001b[39;49mforward(\u001b[39m*\u001b[39;49m\u001b[39minput\u001b[39;49m, \u001b[39m*\u001b[39;49m\u001b[39m*\u001b[39;49mkwargs)\n\u001b[1;32m    728\u001b[0m \u001b[39mfor\u001b[39;00m hook \u001b[39min\u001b[39;00m itertools\u001b[39m.\u001b[39mchain(\n\u001b[1;32m    729\u001b[0m         _global_forward_hooks\u001b[39m.\u001b[39mvalues(),\n\u001b[1;32m    730\u001b[0m         \u001b[39mself\u001b[39m\u001b[39m.\u001b[39m_forward_hooks\u001b[39m.\u001b[39mvalues()):\n\u001b[1;32m    731\u001b[0m     hook_result \u001b[39m=\u001b[39m hook(\u001b[39mself\u001b[39m, \u001b[39minput\u001b[39m, result)\n",
      "File \u001b[0;32m/cephfs/home/bulatov/bulatov/hvdenv/lib/python3.8/site-packages/transformers/models/gpt2/modeling_gpt2.py:1047\u001b[0m, in \u001b[0;36mGPT2LMHeadModel.forward\u001b[0;34m(self, input_ids, past_key_values, attention_mask, token_type_ids, position_ids, head_mask, inputs_embeds, encoder_hidden_states, encoder_attention_mask, labels, use_cache, output_attentions, output_hidden_states, return_dict)\u001b[0m\n\u001b[1;32m   1039\u001b[0m \u001b[39mr\u001b[39m\u001b[39m\"\"\"\u001b[39;00m\n\u001b[1;32m   1040\u001b[0m \u001b[39mlabels (`torch.LongTensor` of shape `(batch_size, sequence_length)`, *optional*):\u001b[39;00m\n\u001b[1;32m   1041\u001b[0m \u001b[39m    Labels for language modeling. Note that the labels **are shifted** inside the model, i.e. you can set\u001b[39;00m\n\u001b[1;32m   1042\u001b[0m \u001b[39m    `labels = input_ids` Indices are selected in `[-100, 0, ..., config.vocab_size]` All labels set to `-100`\u001b[39;00m\n\u001b[1;32m   1043\u001b[0m \u001b[39m    are ignored (masked), the loss is only computed for labels in `[0, ..., config.vocab_size]`\u001b[39;00m\n\u001b[1;32m   1044\u001b[0m \u001b[39m\"\"\"\u001b[39;00m\n\u001b[1;32m   1045\u001b[0m return_dict \u001b[39m=\u001b[39m return_dict \u001b[39mif\u001b[39;00m return_dict \u001b[39mis\u001b[39;00m \u001b[39mnot\u001b[39;00m \u001b[39mNone\u001b[39;00m \u001b[39melse\u001b[39;00m \u001b[39mself\u001b[39m\u001b[39m.\u001b[39mconfig\u001b[39m.\u001b[39muse_return_dict\n\u001b[0;32m-> 1047\u001b[0m transformer_outputs \u001b[39m=\u001b[39m \u001b[39mself\u001b[39;49m\u001b[39m.\u001b[39;49mtransformer(\n\u001b[1;32m   1048\u001b[0m     input_ids,\n\u001b[1;32m   1049\u001b[0m     past_key_values\u001b[39m=\u001b[39;49mpast_key_values,\n\u001b[1;32m   1050\u001b[0m     attention_mask\u001b[39m=\u001b[39;49mattention_mask,\n\u001b[1;32m   1051\u001b[0m     token_type_ids\u001b[39m=\u001b[39;49mtoken_type_ids,\n\u001b[1;32m   1052\u001b[0m     position_ids\u001b[39m=\u001b[39;49mposition_ids,\n\u001b[1;32m   1053\u001b[0m     head_mask\u001b[39m=\u001b[39;49mhead_mask,\n\u001b[1;32m   1054\u001b[0m     inputs_embeds\u001b[39m=\u001b[39;49minputs_embeds,\n\u001b[1;32m   1055\u001b[0m     encoder_hidden_states\u001b[39m=\u001b[39;49mencoder_hidden_states,\n\u001b[1;32m   1056\u001b[0m     encoder_attention_mask\u001b[39m=\u001b[39;49mencoder_attention_mask,\n\u001b[1;32m   1057\u001b[0m     use_cache\u001b[39m=\u001b[39;49muse_cache,\n\u001b[1;32m   1058\u001b[0m     output_attentions\u001b[39m=\u001b[39;49moutput_attentions,\n\u001b[1;32m   1059\u001b[0m     output_hidden_states\u001b[39m=\u001b[39;49moutput_hidden_states,\n\u001b[1;32m   1060\u001b[0m     return_dict\u001b[39m=\u001b[39;49mreturn_dict,\n\u001b[1;32m   1061\u001b[0m )\n\u001b[1;32m   1062\u001b[0m hidden_states \u001b[39m=\u001b[39m transformer_outputs[\u001b[39m0\u001b[39m]\n\u001b[1;32m   1064\u001b[0m \u001b[39m# Set device for model parallelism\u001b[39;00m\n",
      "File \u001b[0;32m/cephfs/home/bulatov/bulatov/hvdenv/lib/python3.8/site-packages/torch/nn/modules/module.py:727\u001b[0m, in \u001b[0;36mModule._call_impl\u001b[0;34m(self, *input, **kwargs)\u001b[0m\n\u001b[1;32m    725\u001b[0m     result \u001b[39m=\u001b[39m \u001b[39mself\u001b[39m\u001b[39m.\u001b[39m_slow_forward(\u001b[39m*\u001b[39m\u001b[39minput\u001b[39m, \u001b[39m*\u001b[39m\u001b[39m*\u001b[39mkwargs)\n\u001b[1;32m    726\u001b[0m \u001b[39melse\u001b[39;00m:\n\u001b[0;32m--> 727\u001b[0m     result \u001b[39m=\u001b[39m \u001b[39mself\u001b[39;49m\u001b[39m.\u001b[39;49mforward(\u001b[39m*\u001b[39;49m\u001b[39minput\u001b[39;49m, \u001b[39m*\u001b[39;49m\u001b[39m*\u001b[39;49mkwargs)\n\u001b[1;32m    728\u001b[0m \u001b[39mfor\u001b[39;00m hook \u001b[39min\u001b[39;00m itertools\u001b[39m.\u001b[39mchain(\n\u001b[1;32m    729\u001b[0m         _global_forward_hooks\u001b[39m.\u001b[39mvalues(),\n\u001b[1;32m    730\u001b[0m         \u001b[39mself\u001b[39m\u001b[39m.\u001b[39m_forward_hooks\u001b[39m.\u001b[39mvalues()):\n\u001b[1;32m    731\u001b[0m     hook_result \u001b[39m=\u001b[39m hook(\u001b[39mself\u001b[39m, \u001b[39minput\u001b[39m, result)\n",
      "File \u001b[0;32m/cephfs/home/bulatov/bulatov/hvdenv/lib/python3.8/site-packages/transformers/models/gpt2/modeling_gpt2.py:784\u001b[0m, in \u001b[0;36mGPT2Model.forward\u001b[0;34m(self, input_ids, past_key_values, attention_mask, token_type_ids, position_ids, head_mask, inputs_embeds, encoder_hidden_states, encoder_attention_mask, use_cache, output_attentions, output_hidden_states, return_dict)\u001b[0m\n\u001b[1;32m    782\u001b[0m     token_type_ids \u001b[39m=\u001b[39m token_type_ids\u001b[39m.\u001b[39mview(\u001b[39m-\u001b[39m\u001b[39m1\u001b[39m, input_shape[\u001b[39m-\u001b[39m\u001b[39m1\u001b[39m])\n\u001b[1;32m    783\u001b[0m \u001b[39mif\u001b[39;00m position_ids \u001b[39mis\u001b[39;00m \u001b[39mnot\u001b[39;00m \u001b[39mNone\u001b[39;00m:\n\u001b[0;32m--> 784\u001b[0m     position_ids \u001b[39m=\u001b[39m position_ids\u001b[39m.\u001b[39;49mview(\u001b[39m-\u001b[39;49m\u001b[39m1\u001b[39;49m, input_shape[\u001b[39m-\u001b[39;49m\u001b[39m1\u001b[39;49m])\n\u001b[1;32m    786\u001b[0m \u001b[39mif\u001b[39;00m past_key_values \u001b[39mis\u001b[39;00m \u001b[39mNone\u001b[39;00m:\n\u001b[1;32m    787\u001b[0m     past_length \u001b[39m=\u001b[39m \u001b[39m0\u001b[39m\n",
      "\u001b[0;31mRuntimeError\u001b[0m: shape '[-1, 768]' is invalid for input of size 32"
     ]
    }
   ],
   "source": [
    "model.memory_cell.model.generate(seg_kwargs['inputs_embeds'], max_new_tokens=20)"
   ]
  },
  {
   "cell_type": "code",
   "execution_count": null,
   "metadata": {},
   "outputs": [
    {
     "data": {
      "text/plain": [
       "(4, 5)"
      ]
     },
     "execution_count": 63,
     "metadata": {},
     "output_type": "execute_result"
    }
   ],
   "source": [
    "len(cell_outputs), len(segmented)"
   ]
  },
  {
   "cell_type": "code",
   "execution_count": null,
   "metadata": {},
   "outputs": [],
   "source": [
    "len"
   ]
  },
  {
   "cell_type": "code",
   "execution_count": null,
   "metadata": {},
   "outputs": [
    {
     "data": {
      "text/plain": [
       "torch.Size([2, 508])"
      ]
     },
     "execution_count": 41,
     "metadata": {},
     "output_type": "execute_result"
    }
   ],
   "source": [
    "batch['input_ids'].shape"
   ]
  },
  {
   "cell_type": "code",
   "execution_count": null,
   "metadata": {},
   "outputs": [
    {
     "data": {
      "text/plain": [
       "[\"Receiving Party may share some Confidential Information with some of Receiving Party's employees. Attachment 8\\nNon-Disclosure Agreement for Request for Proposal – California Courts Protective Order Registry Development\\nTHIS CONFIDENTIALITY AGREEMENT (“Agreement”), effective as of _________________[date of company’s signed proposal] (“Effective Date”), is entered into by and between the Administrative Office of the Courts (the “AOC”) and [company name], a [ ] corporation, with its principal address at [complete address], (hereinafter the “Company”).\\nWHEREAS, the State of California, acting through the Judicial Council of California, Administrative Office of the Courts is planning to disclose certain confidential information to potential vendors who wish to bid on the Request for Proposal for Judicial Council of California Administrative Office of the Courts (AOC) for California Courts Protective Order Registry Development, including all Statements of Work, dated on or about April, 2009 (collectively, the “RFP”);\\nWHEREAS, each potential vendor who wishes to submit a response to the RFP must have access to that confidential information in order to construct a response to the RFP, including a bid; and\\nWHEREAS, the AOC requires each potential vendor identified to receive the RFP to sign this Confidentiality Agreement and return it to the AOC as a condition of receiving the RFP;\\nNOW THEREFORE, in consideration of the promises and of the mutual promises and agreements herein contained, it is agreed by and between the parties hereto as follows:\\n1. Company agrees that all information, documents, data, materials and the AOC proprietary software systems disclosed to, or accessed by, Company in connection with, or related to, the RFP or the RFP process, in any form whether oral or written, or in any medium, including but not limited to any of the following is “Confidential Information” under the terms of this Agreement:\\na. The subject matter described in, and referred to, in the RFP, its associated Statements of Work (“SOWs”) or any other attachments, or during the RFP process (collectively “AOC Requirements”);\\nb. The RFP document (including all attachments), its content, and all supporting data, materials and all other information provided to Company in any form or medium in or[GEN]\",\n",
       " 'Confidential Information may include verbally conveyed information. CONFIDENTIALITY (NON-DISCLOSURE) AGREEMENT\\nThis CONFIDENTIALITY (NON-DISCLOSURE) AGREEMENT (“Agreement”) is made and entered into this ______ day of _____________, 201__, by and between BROOKS’ BOTTLING COMPANY, LLC, a New York Limited Liability Company (“BROOKS”) and [ ] (“CLIENT”) (BROOKS and CLIENT are sometimes collectively referred to as the “Parties”)\\nRECITALS\\nA. BROOKS is engaged in the business of bottling products for various CLIENTS and has entered into discussion with relating to establishing a business relationship in connection with preparing and bottling certain of CLIENT’s product(s). As such, BROOKS will need access to certain personal, financial and product information relating to CLIENT and its products.\\nB. CLIENT desires to maintain the confidentiality of all personal, financial and product information disclosed to BROOKS. BROOKS is willing to receive all such personal, financial and product information in confidence, and the Parties deem it to be in their mutual best interest to protect such personal, financial and product information as provided in this Agreement.\\nNOW, THEREFORE, in consideration of the mutual promises, agreements, covenants, conditions and undertakings herein contained, and for other good and valuable consideration, the receipt and sufficiency of which are hereby acknowledged, the Parties agree as follows:\\n1. Confidential Information\\n1.1 With the understanding that CLIENT’s Formulations and Processing Procedures are proprietary to CLIENT, to the extent that CLIENT shall disclose to BROOKS personal, financial and product information, including their Formulations and Processing Procedures (“Confidential Information”), then all the Confidential Information disclosed to BROOKS shall be received by BROOKS in confidence for purposes of this Agreement except as otherwise provided under Section 3 below.\\n1.2 BROOKS, its directors, employees, agents and representatives shall not disclose, disseminate, publish, communicate or divulge any Confidential Information to anyone outside BROOKS, or to any employee of BROOKS not having reasonable need for access to such information, unless CLIENT expressly consents to such disclosure in writing.\\n2. Representations and Warranties\\n2.1 Each of[GEN]<|endoftext|>']"
      ]
     },
     "execution_count": 47,
     "metadata": {},
     "output_type": "execute_result"
    }
   ],
   "source": [
    "tokenizer.batch_decode(batch['input_ids'])"
   ]
  },
  {
   "cell_type": "code",
   "execution_count": null,
   "metadata": {},
   "outputs": [
    {
     "data": {
      "text/plain": [
       "tensor([[ True,  True,  True,  ...,  True,  True,  True],\n",
       "        [ True,  True,  True,  ...,  True,  True, False]])"
      ]
     },
     "execution_count": 48,
     "metadata": {},
     "output_type": "execute_result"
    }
   ],
   "source": [
    "batch['attention_mask']"
   ]
  },
  {
   "cell_type": "code",
   "execution_count": null,
   "metadata": {},
   "outputs": [
    {
     "data": {
      "text/plain": [
       "['Entailment<|endoftext|><|endoftext|>', 'NotMentioned<|endoftext|>']"
      ]
     },
     "execution_count": 46,
     "metadata": {},
     "output_type": "execute_result"
    }
   ],
   "source": [
    "tokenizer.batch_decode(batch['labels'])"
   ]
  },
  {
   "cell_type": "code",
   "execution_count": null,
   "metadata": {},
   "outputs": [
    {
     "data": {
      "text/plain": [
       "<All keys matched successfully>"
      ]
     },
     "execution_count": 26,
     "metadata": {},
     "output_type": "execute_result"
    }
   ],
   "source": [
    "cpt = torch.load(\"../../runs/cnli_original/gpt2/lr5e-05_linear_adamw_wd1e-03_124-128-1x128_mem2_bs32_iters6000_regular_bptt-1_refactor/run_1/model_best.pth\", map_location='cpu')\n",
    "model.load_state_dict(cpt['model_state_dict'])"
   ]
  },
  {
   "cell_type": "code",
   "execution_count": null,
   "metadata": {},
   "outputs": [],
   "source": [
    "# for i in range(10):\n",
    "#     out = model(**batch)\n",
    "#     out.loss.backward()\n",
    "#     optimizer.step()"
   ]
  },
  {
   "cell_type": "code",
   "execution_count": null,
   "metadata": {},
   "outputs": [
    {
     "data": {
      "text/plain": [
       "tensor([50257,  3673,    44,  1463,   276])"
      ]
     },
     "execution_count": 28,
     "metadata": {},
     "output_type": "execute_result"
    }
   ],
   "source": [
    "batch['input_ids'][0][batch['labels_mask'][0]]"
   ]
  },
  {
   "cell_type": "code",
   "execution_count": null,
   "metadata": {},
   "outputs": [],
   "source": [
    "batch = next(gen)"
   ]
  },
  {
   "cell_type": "code",
   "execution_count": null,
   "metadata": {},
   "outputs": [],
   "source": [
    "out = model(**batch)"
   ]
  },
  {
   "cell_type": "code",
   "execution_count": null,
   "metadata": {},
   "outputs": [
    {
     "data": {
      "text/plain": [
       "tensor(1.3551, grad_fn=<NllLossBackward>)"
      ]
     },
     "execution_count": 37,
     "metadata": {},
     "output_type": "execute_result"
    }
   ],
   "source": [
    "out.loss"
   ]
  },
  {
   "cell_type": "code",
   "execution_count": null,
   "metadata": {},
   "outputs": [],
   "source": [
    "pred = out.logits.argmax(dim=-1)\n"
   ]
  },
  {
   "cell_type": "code",
   "execution_count": null,
   "metadata": {},
   "outputs": [
    {
     "data": {
      "text/plain": [
       "['Notailment<|endoftext|>', 'Notailment<|endoftext|>']"
      ]
     },
     "execution_count": 33,
     "metadata": {},
     "output_type": "execute_result"
    }
   ],
   "source": [
    "tokenizer.batch_decode([p[m] for p, m in zip(pred, batch['labels_mask'])], add_special_tokens=False)"
   ]
  },
  {
   "cell_type": "code",
   "execution_count": null,
   "metadata": {},
   "outputs": [
    {
     "data": {
      "text/plain": [
       "['[GEN]Entailment', '[GEN]Entailment']"
      ]
     },
     "execution_count": 35,
     "metadata": {},
     "output_type": "execute_result"
    }
   ],
   "source": [
    "tokenizer.batch_decode([p[m] for p, m in zip(batch['labels'], batch['labels_mask'])], add_special_tokens=False)"
   ]
  },
  {
   "cell_type": "code",
   "execution_count": null,
   "metadata": {},
   "outputs": [
    {
     "data": {
      "text/plain": [
       "['NotMentioned<|endoftext|>', 'Notailment<|endoftext|>']"
      ]
     },
     "metadata": {},
     "output_type": "display_data"
    }
   ],
   "source": [
    "tokenizer.batch_decode([p[m] for p, m in zip(pred, batch['labels_mask'])], add_special_tokens=False)"
   ]
  },
  {
   "cell_type": "code",
   "execution_count": null,
   "metadata": {},
   "outputs": [
    {
     "data": {
      "text/plain": [
       "['NotMentioned<|endoftext|>', 'NotMentionedNot']"
      ]
     },
     "metadata": {},
     "output_type": "display_data"
    }
   ],
   "source": [
    "tokenizer.batch_decode([p[m] for p, m in zip(pred, batch['labels_mask'])], add_special_tokens=False)"
   ]
  },
  {
   "cell_type": "code",
   "execution_count": null,
   "metadata": {},
   "outputs": [
    {
     "data": {
      "text/plain": [
       "tensor(0.2207, grad_fn=<NllLossBackward>)"
      ]
     },
     "execution_count": 317,
     "metadata": {},
     "output_type": "execute_result"
    }
   ],
   "source": [
    "out.loss"
   ]
  },
  {
   "cell_type": "code",
   "execution_count": null,
   "metadata": {},
   "outputs": [],
   "source": [
    "gen_inputs = [b[~m] for b, m in zip(batch['input_ids'], batch['labels_mask'])]"
   ]
  },
  {
   "cell_type": "code",
   "execution_count": null,
   "metadata": {},
   "outputs": [
    {
     "data": {
      "text/plain": [
       "'Receiving Party shall not disclose the fact that Agreement was agreed or negotiated. Johns Hopkins University\\nNON-DISCLOSURE AGREEMENT For Bilateral Disclosure\\nThis Agreement is effective this of in the year ______ is by and between JHU and COMPANY, each defined below.\\nJHU: The Johns Hopkins University\\nAddress: 100 N. Charles St., 5th Floor\\nBaltimore, Maryland 21201\\nJHU Contact:\\nCOMPANY:\\nAddress:\\nCOMPANY Contact:\\nWHEREAS, each party has certain technical information described below which shall hereinafter be referred to as \"CONFIDENTIAL INFORMATION\";\\nCONFIDENTIAL INFORMATION:\\nWHEREAS, JHU and COMPANY are each interested in examining the CONFIDENTIAL INFORMATION of the other solely for the PURPOSE, defined below;\\nPURPOSE: To explore licensing, collaborative or sponsored research agreement opportunities related to the CONFIDENTIAL INFORMATION.\\nNOW, THEREFORE, in consideration of the premises and mutual covenants contained herein, the parties hereto agree as follows:\\n”PROVIDER” shall mean the party hereto disclosing CONFIDENTIAL INFORMATION to the RECIPIENT party.\\n“RECIPIENT” shall mean the party receiving CONFIDENTIAL INFORMATION from the PROVIDER party.\\n 1. PROVIDER, through its employee, the PROVIDER Contact, shall disclose CONFIDENTIAL INFORMATION to RECIPIENT, through its employee, the RECIPIENT Contact, to enable RECIPIENT to fully evaluate such disclosure solely for the PURPOSE. CONFIDENTIAL INFORMATION shall be indicated as confidential at the time of disclosure.\\n2. RECIPIENT agrees to accept the CONFIDENTIAL INFORMATION and to employ all reasonable efforts to maintain the CONFIDENTIAL INFORMATION as secret and confidential, such efforts to be no less than the degree of care employed by RECIPIENT to preserve and safeguard RECIPIENT\\'s own confidential information. The CONFIDENTIAL INFORMATION shall not be disclosed or revealed to anyone except employees of RECIPIENT who have a need to know the CONFIDENTIAL INFORMATION for the PURPOSE and who agree to be bound by the terms of this Agreement.\\n3. It is hereby acknowledged by PROVIDER that RECIPIENT shall incur no liability merely for examining and considering the CONFIDENTIAL INFORMATION. However, RECIPIENT agrees that it will not use the CONFIDENTIAL INFORMATION for any purpose other<|endoftext|>'"
      ]
     },
     "execution_count": 319,
     "metadata": {},
     "output_type": "execute_result"
    }
   ],
   "source": [
    "tokenizer.decode(gen_inputs[0])"
   ]
  },
  {
   "cell_type": "code",
   "execution_count": null,
   "metadata": {},
   "outputs": [],
   "source": [
    "gt = tokenizer.batch_decode([l[m] for l, m in zip(batch['labels'], batch['labels_mask'])], skip_special_tokens=True)"
   ]
  },
  {
   "cell_type": "code",
   "execution_count": null,
   "metadata": {},
   "outputs": [
    {
     "data": {
      "text/plain": [
       "['Entailment', 'Entailment']"
      ]
     },
     "execution_count": 305,
     "metadata": {},
     "output_type": "execute_result"
    }
   ],
   "source": [
    "gt"
   ]
  },
  {
   "cell_type": "code",
   "execution_count": null,
   "metadata": {},
   "outputs": [
    {
     "data": {
      "text/plain": [
       "1.0"
      ]
     },
     "execution_count": 302,
     "metadata": {},
     "output_type": "execute_result"
    }
   ],
   "source": [
    "accuracy_score(pred, pred)"
   ]
  },
  {
   "cell_type": "code",
   "execution_count": null,
   "metadata": {},
   "outputs": [
    {
     "data": {
      "text/plain": [
       "['NotMentioned', 'Contradiction']"
      ]
     },
     "metadata": {},
     "output_type": "display_data"
    }
   ],
   "source": [
    "tokenizer.batch_decode([l[m] for l, m in zip(batch['labels'], batch['labels_mask'])], skip_special_tokens=True)"
   ]
  },
  {
   "cell_type": "code",
   "execution_count": null,
   "metadata": {},
   "outputs": [
    {
     "data": {
      "text/plain": [
       "tensor(62.5257, grad_fn=<NllLossBackward>)"
      ]
     },
     "execution_count": 209,
     "metadata": {},
     "output_type": "execute_result"
    }
   ],
   "source": [
    "out.loss"
   ]
  },
  {
   "cell_type": "code",
   "execution_count": null,
   "metadata": {},
   "outputs": [],
   "source": [
    "for i in range(15):\n",
    "    out = model(**batch)\n",
    "    out.loss.backward()\n",
    "    optimizer.step()"
   ]
  },
  {
   "cell_type": "code",
   "execution_count": null,
   "metadata": {},
   "outputs": [
    {
     "data": {
      "text/plain": [
       "tensor(7.8596, grad_fn=<NllLossBackward>)"
      ]
     },
     "execution_count": 124,
     "metadata": {},
     "output_type": "execute_result"
    }
   ],
   "source": [
    "out.loss"
   ]
  },
  {
   "cell_type": "code",
   "execution_count": null,
   "metadata": {},
   "outputs": [],
   "source": [
    "pred = out.logits.argmax(dim=-1)"
   ]
  },
  {
   "cell_type": "code",
   "execution_count": null,
   "metadata": {},
   "outputs": [],
   "source": [
    "pred_text = tokenizer.batch_decode(pred)"
   ]
  },
  {
   "cell_type": "code",
   "execution_count": null,
   "metadata": {},
   "outputs": [
    {
     "name": "stderr",
     "output_type": "stream",
     "text": [
      "Setting `pad_token_id` to `eos_token_id`:50256 for open-end generation.\n"
     ]
    }
   ],
   "source": [
    "generated = model.memory_cell.model.generate(batch['labels'][:, -5:])"
   ]
  },
  {
   "cell_type": "code",
   "execution_count": null,
   "metadata": {},
   "outputs": [
    {
     "data": {
      "text/plain": [
       "tensor([50257,  3673,    44,  1463,   276, 50256])"
      ]
     },
     "execution_count": 213,
     "metadata": {},
     "output_type": "execute_result"
    }
   ],
   "source": [
    "batch['input_ids'][0][batch['labels_mask'][0]]"
   ]
  },
  {
   "cell_type": "code",
   "execution_count": null,
   "metadata": {},
   "outputs": [
    {
     "data": {
      "text/plain": [
       "tensor([50257,  3673,    44,  1463,   276, 50256])"
      ]
     },
     "execution_count": 214,
     "metadata": {},
     "output_type": "execute_result"
    }
   ],
   "source": [
    "batch['labels'][0][batch['labels_mask'][0]]"
   ]
  },
  {
   "cell_type": "code",
   "execution_count": null,
   "metadata": {},
   "outputs": [],
   "source": [
    "gen_inputs = [torch.cat((b[~m], torch.tensor([gen_token]))) for b, m in zip(batch['input_ids'], batch['labels_mask'])]"
   ]
  },
  {
   "cell_type": "code",
   "execution_count": null,
   "metadata": {},
   "outputs": [
    {
     "name": "stderr",
     "output_type": "stream",
     "text": [
      "Setting `pad_token_id` to `eos_token_id`:50256 for open-end generation.\n"
     ]
    },
    {
     "ename": "AttributeError",
     "evalue": "'list' object has no attribute 'shape'",
     "output_type": "error",
     "traceback": [
      "\u001b[0;31m---------------------------------------------------------------------------\u001b[0m",
      "\u001b[0;31mAttributeError\u001b[0m                            Traceback (most recent call last)",
      "\u001b[1;32m/home/bulatov/bulatov/RMT_light/framework/notebooks/debug_rmt_cnli_new_run.ipynb Cell 34\u001b[0m in \u001b[0;36m<cell line: 1>\u001b[0;34m()\u001b[0m\n\u001b[0;32m----> <a href='vscode-notebook-cell://ssh-remote%2Bgpu8/home/bulatov/bulatov/RMT_light/framework/notebooks/debug_rmt_cnli_new_run.ipynb#Y310sdnNjb2RlLXJlbW90ZQ%3D%3D?line=0'>1</a>\u001b[0m gen \u001b[39m=\u001b[39m model\u001b[39m.\u001b[39;49mmemory_cell\u001b[39m.\u001b[39;49mmodel\u001b[39m.\u001b[39;49mgenerate(gen_inputs)\n",
      "File \u001b[0;32m/cephfs/home/bulatov/bulatov/hvdenv/lib/python3.8/site-packages/torch/autograd/grad_mode.py:26\u001b[0m, in \u001b[0;36m_DecoratorContextManager.__call__.<locals>.decorate_context\u001b[0;34m(*args, **kwargs)\u001b[0m\n\u001b[1;32m     23\u001b[0m \u001b[39m@functools\u001b[39m\u001b[39m.\u001b[39mwraps(func)\n\u001b[1;32m     24\u001b[0m \u001b[39mdef\u001b[39;00m \u001b[39mdecorate_context\u001b[39m(\u001b[39m*\u001b[39margs, \u001b[39m*\u001b[39m\u001b[39m*\u001b[39mkwargs):\n\u001b[1;32m     25\u001b[0m     \u001b[39mwith\u001b[39;00m \u001b[39mself\u001b[39m\u001b[39m.\u001b[39m\u001b[39m__class__\u001b[39m():\n\u001b[0;32m---> 26\u001b[0m         \u001b[39mreturn\u001b[39;00m func(\u001b[39m*\u001b[39;49margs, \u001b[39m*\u001b[39;49m\u001b[39m*\u001b[39;49mkwargs)\n",
      "File \u001b[0;32m/cephfs/home/bulatov/bulatov/hvdenv/lib/python3.8/site-packages/transformers/generation_utils.py:1084\u001b[0m, in \u001b[0;36mGenerationMixin.generate\u001b[0;34m(self, inputs, max_length, min_length, do_sample, early_stopping, num_beams, temperature, top_k, top_p, typical_p, repetition_penalty, bad_words_ids, bos_token_id, pad_token_id, eos_token_id, length_penalty, no_repeat_ngram_size, encoder_no_repeat_ngram_size, num_return_sequences, max_time, max_new_tokens, decoder_start_token_id, use_cache, num_beam_groups, diversity_penalty, prefix_allowed_tokens_fn, logits_processor, stopping_criteria, constraints, output_attentions, output_hidden_states, output_scores, return_dict_in_generate, forced_bos_token_id, forced_eos_token_id, remove_invalid_values, synced_gpus, **model_kwargs)\u001b[0m\n\u001b[1;32m   1078\u001b[0m \u001b[39m# 2. Define model inputs\u001b[39;00m\n\u001b[1;32m   1079\u001b[0m \u001b[39m# inputs_tensor has to be defined\u001b[39;00m\n\u001b[1;32m   1080\u001b[0m \u001b[39m# model_input_name is defined if model-specific keyword input is passed\u001b[39;00m\n\u001b[1;32m   1081\u001b[0m \u001b[39m# otherwise model_input_name is None\u001b[39;00m\n\u001b[1;32m   1082\u001b[0m \u001b[39m# all model-specific keyword inputs are removed from `model_kwargs`\u001b[39;00m\n\u001b[1;32m   1083\u001b[0m inputs_tensor, model_input_name, model_kwargs \u001b[39m=\u001b[39m \u001b[39mself\u001b[39m\u001b[39m.\u001b[39m_prepare_model_inputs(inputs, bos_token_id, model_kwargs)\n\u001b[0;32m-> 1084\u001b[0m batch_size \u001b[39m=\u001b[39m inputs_tensor\u001b[39m.\u001b[39;49mshape[\u001b[39m0\u001b[39m]\n\u001b[1;32m   1086\u001b[0m \u001b[39m# 3. Define other model kwargs\u001b[39;00m\n\u001b[1;32m   1087\u001b[0m model_kwargs[\u001b[39m\"\u001b[39m\u001b[39moutput_attentions\u001b[39m\u001b[39m\"\u001b[39m] \u001b[39m=\u001b[39m output_attentions\n",
      "\u001b[0;31mAttributeError\u001b[0m: 'list' object has no attribute 'shape'"
     ]
    }
   ],
   "source": [
    "gen = model.memory_cell.model.generate(gen_inputs)"
   ]
  },
  {
   "cell_type": "code",
   "execution_count": null,
   "metadata": {},
   "outputs": [],
   "source": [
    "output = generated"
   ]
  },
  {
   "cell_type": "code",
   "execution_count": null,
   "metadata": {},
   "outputs": [],
   "source": [
    " def keep_for_metrics_fn(batch, output):\n",
    "    data = {}\n",
    "    if isinstance(output, torch.Tensor):\n",
    "        data['labels'] = batch['labels']\n",
    "        \n",
    "    for key in batch.keys():\n",
    "        if 'loss' in key: \n",
    "            data[key] = batch[key]\n",
    "    return data"
   ]
  },
  {
   "cell_type": "code",
   "execution_count": null,
   "metadata": {},
   "outputs": [
    {
     "data": {
      "text/plain": [
       "['[GEN]NotMentioned[GEN][GEN][GEN][GEN][GEN][GEN][GEN][GEN][GEN][GEN][GEN][GEN][GEN][GEN][GEN]',\n",
       " ' in[GEN]Contradiction[GEN][GEN][GEN][GEN][GEN][GEN][GEN][GEN][GEN][GEN][GEN][GEN][GEN][GEN][GEN]']"
      ]
     },
     "execution_count": 160,
     "metadata": {},
     "output_type": "execute_result"
    }
   ],
   "source": [
    "tokenizer.batch_decode(generated, add_special_tokens=False)"
   ]
  },
  {
   "cell_type": "code",
   "execution_count": null,
   "metadata": {},
   "outputs": [],
   "source": [
    "#  def keep_for_metrics_fn(batch, output):\n",
    "data = {}\n",
    "# if 'generation_outputs' in output:\n",
    "if isinstance(output, dict):\n",
    "    data['predictions'] = torch.argmax(output['logits'].detach(), dim=-1)\n",
    "    if 'labels_mask' in batch:\n",
    "        data['predictions'] = [data['predictions'][i, mask] for i, mask in enumerate(batch['labels_mask'])]\n",
    "else:\n",
    "    data['generation_outputs'] = output\n",
    "    \n",
    "data['labels'] = batch['labels']\n",
    "for key in batch.keys():\n",
    "    if 'loss' in key: \n",
    "        data[key] = batch[key]"
   ]
  },
  {
   "cell_type": "code",
   "execution_count": null,
   "metadata": {},
   "outputs": [],
   "source": [
    "# out = CausalLMOutputWithCrossAttentions()\n",
    "# full_logits = torch.cat([o.logits for o in cell_outputs], dim=1)\n",
    "# full_hidden_states = tuple([torch.cat(layer_hs, dim=1) for layer_hs in zip(*[o.hidden_states for o in cell_outputs])])\n",
    "\n",
    "full_logits = out.logits\n",
    "labels = kwargs.get('labels')\n",
    "if labels is not None:\n",
    "    shift_labels = labels[..., 1:].contiguous()\n",
    "    shift_logits = full_logits[..., :-1, :].contiguous()\n",
    "    flat_labels = shift_labels.view(-1)\n",
    "    flat_logits = shift_logits.view(-1, shift_logits.size(-1))\n",
    "    \n",
    "    loss_fct = CrossEntropyLoss()\n",
    "    labels_mask = kwargs.get('labels_mask')\n",
    "    if labels_mask is not None:\n",
    "        shift_mask = labels_mask[..., :-1].contiguous()\n",
    "\n",
    "        flat_labels = flat_labels[shift_mask.view(-1)]\n",
    "        flat_logits = flat_logits[shift_mask.view(-1)]\n",
    "        \n",
    "    out['loss'] = loss_fct(flat_logits, flat_labels)\n",
    "\n",
    "out['logits'] = full_logits\n",
    "segment_keys = ['loss', 'logits']\n",
    "if kwargs.get('output_attentions'):\n",
    "    segment_keys.append('attentions')\n",
    "if kwargs.get('output_hidden_states'):\n",
    "    segment_keys.append('hidden_states')\n",
    "    out['hidden_states'] = full_hidden_states"
   ]
  },
  {
   "cell_type": "code",
   "execution_count": null,
   "metadata": {},
   "outputs": [],
   "source": []
  },
  {
   "cell_type": "code",
   "execution_count": null,
   "metadata": {},
   "outputs": [],
   "source": []
  },
  {
   "cell_type": "code",
   "execution_count": null,
   "metadata": {},
   "outputs": [],
   "source": []
  },
  {
   "cell_type": "code",
   "execution_count": null,
   "metadata": {},
   "outputs": [],
   "source": []
  },
  {
   "cell_type": "code",
   "execution_count": null,
   "metadata": {},
   "outputs": [],
   "source": []
  },
  {
   "cell_type": "code",
   "execution_count": null,
   "metadata": {},
   "outputs": [
    {
     "ename": "NameError",
     "evalue": "name 'train_sampler' is not defined",
     "output_type": "error",
     "traceback": [
      "\u001b[0;31m---------------------------------------------------------------------------\u001b[0m",
      "\u001b[0;31mNameError\u001b[0m                                 Traceback (most recent call last)",
      "\u001b[1;32m/home/bulatov/bulatov/RMT_light/framework/notebooks/debug_rmt_cnli_new_run.ipynb Cell 13\u001b[0m in \u001b[0;36m<cell line: 3>\u001b[0;34m()\u001b[0m\n\u001b[1;32m      <a href='vscode-notebook-cell://ssh-remote%2Bgpu8/home/bulatov/bulatov/RMT_light/framework/notebooks/debug_rmt_cnli_new_run.ipynb#Y221sdnNjb2RlLXJlbW90ZQ%3D%3D?line=0'>1</a>\u001b[0m \u001b[39m### booydar\u001b[39;00m\n\u001b[1;32m      <a href='vscode-notebook-cell://ssh-remote%2Bgpu8/home/bulatov/bulatov/RMT_light/framework/notebooks/debug_rmt_cnli_new_run.ipynb#Y221sdnNjb2RlLXJlbW90ZQ%3D%3D?line=1'>2</a>\u001b[0m batch_metrics_fn \u001b[39m=\u001b[39m \u001b[39mlambda\u001b[39;00m _, y: {key: y[key] \u001b[39mfor\u001b[39;00m key \u001b[39min\u001b[39;00m y\u001b[39m.\u001b[39mkeys() \u001b[39mif\u001b[39;00m ((\u001b[39m'\u001b[39m\u001b[39mloss\u001b[39m\u001b[39m'\u001b[39m \u001b[39min\u001b[39;00m key) \u001b[39mor\u001b[39;00m (\u001b[39m'\u001b[39m\u001b[39m!log\u001b[39m\u001b[39m'\u001b[39m \u001b[39min\u001b[39;00m key))}\n\u001b[0;32m----> <a href='vscode-notebook-cell://ssh-remote%2Bgpu8/home/bulatov/bulatov/RMT_light/framework/notebooks/debug_rmt_cnli_new_run.ipynb#Y221sdnNjb2RlLXJlbW90ZQ%3D%3D?line=2'>3</a>\u001b[0m trainer \u001b[39m=\u001b[39m Trainer(args, model, optimizer, train_dataloader, valid_dataloader, train_sampler,\n\u001b[1;32m      <a href='vscode-notebook-cell://ssh-remote%2Bgpu8/home/bulatov/bulatov/RMT_light/framework/notebooks/debug_rmt_cnli_new_run.ipynb#Y221sdnNjb2RlLXJlbW90ZQ%3D%3D?line=3'>4</a>\u001b[0m                     keep_for_metrics_fn\u001b[39m=\u001b[39mkeep_for_metrics_fn, metrics_fn\u001b[39m=\u001b[39mmetrics_fn,\n\u001b[1;32m      <a href='vscode-notebook-cell://ssh-remote%2Bgpu8/home/bulatov/bulatov/RMT_light/framework/notebooks/debug_rmt_cnli_new_run.ipynb#Y221sdnNjb2RlLXJlbW90ZQ%3D%3D?line=4'>5</a>\u001b[0m                     \u001b[39m###booydar\u001b[39;00m\n\u001b[1;32m      <a href='vscode-notebook-cell://ssh-remote%2Bgpu8/home/bulatov/bulatov/RMT_light/framework/notebooks/debug_rmt_cnli_new_run.ipynb#Y221sdnNjb2RlLXJlbW90ZQ%3D%3D?line=5'>6</a>\u001b[0m                     batch_metrics_fn\u001b[39m=\u001b[39mbatch_metrics_fn,\n\u001b[1;32m      <a href='vscode-notebook-cell://ssh-remote%2Bgpu8/home/bulatov/bulatov/RMT_light/framework/notebooks/debug_rmt_cnli_new_run.ipynb#Y221sdnNjb2RlLXJlbW90ZQ%3D%3D?line=6'>7</a>\u001b[0m                     generate_kwargs\u001b[39m=\u001b[39m{})\n\u001b[1;32m      <a href='vscode-notebook-cell://ssh-remote%2Bgpu8/home/bulatov/bulatov/RMT_light/framework/notebooks/debug_rmt_cnli_new_run.ipynb#Y221sdnNjb2RlLXJlbW90ZQ%3D%3D?line=8'>9</a>\u001b[0m \u001b[39mif\u001b[39;00m \u001b[39mnot\u001b[39;00m args\u001b[39m.\u001b[39mvalidate_only:\n\u001b[1;32m     <a href='vscode-notebook-cell://ssh-remote%2Bgpu8/home/bulatov/bulatov/RMT_light/framework/notebooks/debug_rmt_cnli_new_run.ipynb#Y221sdnNjb2RlLXJlbW90ZQ%3D%3D?line=9'>10</a>\u001b[0m     \u001b[39m# train loop\u001b[39;00m\n\u001b[1;32m     <a href='vscode-notebook-cell://ssh-remote%2Bgpu8/home/bulatov/bulatov/RMT_light/framework/notebooks/debug_rmt_cnli_new_run.ipynb#Y221sdnNjb2RlLXJlbW90ZQ%3D%3D?line=10'>11</a>\u001b[0m     trainer\u001b[39m.\u001b[39mtrain()\n",
      "\u001b[0;31mNameError\u001b[0m: name 'train_sampler' is not defined"
     ]
    }
   ],
   "source": [
    "\n",
    "### booydar\n",
    "batch_metrics_fn = lambda _, y: {key: y[key] for key in y.keys() if (('loss' in key) or ('!log' in key))}\n",
    "trainer = Trainer(args, model, optimizer, train_dataloader, valid_dataloader, train_sampler,\n",
    "                    keep_for_metrics_fn=keep_for_metrics_fn, metrics_fn=metrics_fn,\n",
    "                    ###booydar\n",
    "                    batch_metrics_fn=batch_metrics_fn,\n",
    "                    generate_kwargs={})\n",
    "\n",
    "if not args.validate_only:\n",
    "    # train loop\n",
    "    trainer.train()\n",
    "    # make sure all workers are done\n",
    "    hvd.barrier()\n",
    "    # run validation after training\n",
    "    if args.save_best:\n",
    "        best_model_path = str(Path(args.model_path) / 'model_best.pth')\n",
    "        if hvd.rank() == 0:\n",
    "            logger.info(f'Loading best saved model from {best_model_path}')\n",
    "        trainer.load(best_model_path)\n",
    "    if valid_dataloader is not None:\n",
    "        if hvd.rank() == 0:\n",
    "            logger.info('Runnning validation on valid data:')\n",
    "        trainer.validate(valid_dataloader, write_tb=False)\n",
    "else:\n",
    "    # run validation, do not write to tensorboard\n",
    "    if hvd.rank() == 0:\n",
    "        logger.info('Running validation on train set:')\n",
    "    trainer.validate(train_dataloader, split='train', write_tb=True)\n",
    "    if valid_dataloader is not None:\n",
    "        if hvd.rank() == 0:\n",
    "            logger.info('Running validation on valid data:')\n",
    "        trainer.validate(valid_dataloader, write_tb=True)\n",
    "    # if test_dataloader is not None:\n",
    "    #     if hvd.rank() == 0:\n",
    "    #         logger.info('Runnning validation on test data:')\n",
    "    #     trainer.validate(test_dataloader, write_tb=True)\n"
   ]
  },
  {
   "cell_type": "code",
   "execution_count": null,
   "metadata": {},
   "outputs": [],
   "source": []
  },
  {
   "cell_type": "code",
   "execution_count": null,
   "metadata": {},
   "outputs": [],
   "source": []
  },
  {
   "cell_type": "code",
   "execution_count": null,
   "metadata": {},
   "outputs": [],
   "source": []
  },
  {
   "cell_type": "code",
   "execution_count": null,
   "metadata": {},
   "outputs": [],
   "source": [
    "os.environ[\"CUDA_VISIBLE_DEVICES\"]=\"1\""
   ]
  },
  {
   "attachments": {},
   "cell_type": "markdown",
   "metadata": {},
   "source": [
    "### Finetune"
   ]
  },
  {
   "cell_type": "code",
   "execution_count": null,
   "metadata": {},
   "outputs": [],
   "source": [
    "from torch.utils.data import DataLoader, Dataset, RandomSampler, SequentialSampler\n",
    "import sys\n",
    "sys.path.append('..')"
   ]
  },
  {
   "attachments": {},
   "cell_type": "markdown",
   "metadata": {},
   "source": [
    "### load dataset "
   ]
  },
  {
   "cell_type": "code",
   "execution_count": null,
   "metadata": {},
   "outputs": [],
   "source": [
    "class Holder:\n",
    "    def __init__(self):\n",
    "        pass"
   ]
  },
  {
   "cell_type": "code",
   "execution_count": null,
   "metadata": {},
   "outputs": [],
   "source": [
    "input_seq_len = 512\n",
    "target_seq_len = 512\n",
    "\n",
    "num_mem_tokens = 2\n",
    "input_size = 128\n",
    "\n",
    "batch_size = 2\n",
    "\n",
    "args = Holder\n",
    "args.target_seq_len = target_seq_len\n",
    "args.input_seq_len = input_seq_len\n",
    "args.num_mem_tokens = num_mem_tokens\n",
    "args.input_size = input_size\n",
    "args.input_prefix = ''\n",
    "args.block_size = None\n",
    "args.task_name = 'wikitext-2-v1'\n",
    "\n",
    "device = 'cpu'"
   ]
  },
  {
   "cell_type": "code",
   "execution_count": null,
   "metadata": {},
   "outputs": [
    {
     "name": "stderr",
     "output_type": "stream",
     "text": [
      "/cephfs/home/bulatov/bulatov/hvdenv/lib/python3.8/site-packages/cryptography/hazmat/backends/openssl/x509.py:14: CryptographyDeprecationWarning: This version of cryptography contains a temporary pyOpenSSL fallback path. Upgrade pyOpenSSL now.\n",
      "  warnings.warn(\n"
     ]
    }
   ],
   "source": [
    "model_name = 'gpt2'\n",
    "tokenizer = AutoTokenizer.from_pretrained(model_name)"
   ]
  },
  {
   "cell_type": "code",
   "execution_count": null,
   "metadata": {},
   "outputs": [
    {
     "name": "stderr",
     "output_type": "stream",
     "text": [
      "Found cached dataset wikitext (/home/bulatov/.cache/huggingface/datasets/wikitext/wikitext-2-v1/1.0.0/a241db52902eaf2c6aa732210bead40c090019a499ceb13bcbfa3f8ab646a126)\n"
     ]
    },
    {
     "data": {
      "application/vnd.jupyter.widget-view+json": {
       "model_id": "1360fde036a34b9292dfbe062f075a5e",
       "version_major": 2,
       "version_minor": 0
      },
      "text/plain": [
       "  0%|          | 0/3 [00:00<?, ?it/s]"
      ]
     },
     "metadata": {},
     "output_type": "display_data"
    },
    {
     "name": "stderr",
     "output_type": "stream",
     "text": [
      "Loading cached processed dataset at /home/bulatov/.cache/huggingface/datasets/wikitext/wikitext-2-v1/1.0.0/a241db52902eaf2c6aa732210bead40c090019a499ceb13bcbfa3f8ab646a126/cache-389b922bfc5fe729.arrow\n",
      "Loading cached processed dataset at /home/bulatov/.cache/huggingface/datasets/wikitext/wikitext-2-v1/1.0.0/a241db52902eaf2c6aa732210bead40c090019a499ceb13bcbfa3f8ab646a126/cache-6067a66e735cfbb1.arrow\n",
      "Loading cached processed dataset at /home/bulatov/.cache/huggingface/datasets/wikitext/wikitext-2-v1/1.0.0/a241db52902eaf2c6aa732210bead40c090019a499ceb13bcbfa3f8ab646a126/cache-941845a5470f2db7.arrow\n"
     ]
    }
   ],
   "source": [
    "from itertools import chain\n",
    "\n",
    "raw_datasets = datasets.load_dataset('wikitext', args.task_name)\n",
    "column_names = raw_datasets[\"train\"].column_names\n",
    "text_column_name = \"text\" if \"text\" in column_names else column_names[0]\n",
    "\n",
    "def tokenize_function(examples):\n",
    "    return tokenizer(examples[text_column_name])\n",
    "\n",
    "tokenized_datasets = raw_datasets.map(\n",
    "    tokenize_function,\n",
    "    batched=True,\n",
    "    remove_columns=column_names,\n",
    "    desc=\"Running tokenizer on dataset\",\n",
    ")\n",
    "\n",
    "block_size = args.input_size \n",
    "if args.num_mem_tokens is not None:\n",
    "    block_size -= 2 * args.num_mem_tokens\n",
    "history_size = args.input_seq_len - block_size\n",
    "\n",
    "def group_texts(examples, block_size, history_size=None):\n",
    "    concatenated_examples = {k: list(chain(*examples[k])) for k in examples.keys()}\n",
    "    total_length = len(concatenated_examples[list(examples.keys())[0]])\n",
    "\n",
    "    if history_size is None:\n",
    "        result = {\n",
    "            k: [t[i : i + block_size] for i in range(0, total_length, block_size)]\n",
    "            for k, t in concatenated_examples.items()\n",
    "        }\n",
    "    else:\n",
    "        result = {\n",
    "            k: [t[max({0, i - history_size}) : i + block_size] for i in range(0, total_length, block_size)]\n",
    "            for k, t in concatenated_examples.items()\n",
    "        }\n",
    "    result[\"labels\"] = result[\"input_ids\"].copy()\n",
    "    return result"
   ]
  },
  {
   "cell_type": "code",
   "execution_count": null,
   "metadata": {},
   "outputs": [],
   "source": [
    "id_pad_value = tokenizer.pad_token_id if tokenizer.pad_token_id is not None else tokenizer.eos_token_id"
   ]
  },
  {
   "cell_type": "code",
   "execution_count": null,
   "metadata": {},
   "outputs": [
    {
     "data": {
      "text/plain": [
       "(124, 388)"
      ]
     },
     "execution_count": 11,
     "metadata": {},
     "output_type": "execute_result"
    }
   ],
   "source": [
    "block_size, history_size"
   ]
  },
  {
   "cell_type": "code",
   "execution_count": null,
   "metadata": {},
   "outputs": [
    {
     "name": "stderr",
     "output_type": "stream",
     "text": [
      "Loading cached processed dataset at /home/bulatov/.cache/huggingface/datasets/wikitext/wikitext-2-v1/1.0.0/a241db52902eaf2c6aa732210bead40c090019a499ceb13bcbfa3f8ab646a126/cache-1504f9373e317eca.arrow\n",
      "Loading cached processed dataset at /home/bulatov/.cache/huggingface/datasets/wikitext/wikitext-2-v1/1.0.0/a241db52902eaf2c6aa732210bead40c090019a499ceb13bcbfa3f8ab646a126/cache-c6da793e710ea6d8.arrow\n"
     ]
    }
   ],
   "source": [
    "from torch.nn.utils.rnn import pad_sequence\n",
    "\n",
    "# def collate_fn(batch):\n",
    "#     input_ids = [torch.tensor(b['input_ids'][::-1]) for b in batch]\n",
    "#     labels = [torch.tensor(b['labels'][::-1]) for b in batch]\n",
    "#     attention_mask = [torch.tensor(b['attention_mask'][::-1]) for b in batch]\n",
    "#     input_ids = pad_sequence(input_ids, padding_value=id_pad_value).T.flip(1)\n",
    "#     labels = pad_sequence(labels, padding_value=-100).T.flip(1)\n",
    "#     attention_mask = pad_sequence(attention_mask, padding_value=0).T.flip(1)\n",
    "\n",
    "#     collated = {'input_ids': input_ids,\n",
    "#                 'labels': labels, \n",
    "#                 'attention_mask': attention_mask}\n",
    "\n",
    "#     if input_ids.shape[1] != block_size:\n",
    "#         labels_mask = torch.ones_like(input_ids, dtype=bool)\n",
    "#         labels_mask[:, :-block_size] = False\n",
    "#         collated['labels_mask'] = labels_mask\n",
    "\n",
    "#     return collated\n",
    "\n",
    "\n",
    "def collate_fn(batch):\n",
    "    input_ids = [torch.tensor(b['input_ids']) for b in batch]\n",
    "    labels = [torch.tensor(b['labels']) for b in batch]\n",
    "    labels_mask = [torch.ones_like(l, dtype=bool) for l in labels]\n",
    "    attention_mask = [torch.tensor(b['attention_mask']) for b in batch]\n",
    "\n",
    "    input_ids = pad_sequence(input_ids, padding_value=id_pad_value).T\n",
    "    labels = pad_sequence(labels, padding_value=-100).T\n",
    "    labels_mask = pad_sequence(labels_mask, padding_value=False).T\n",
    "    attention_mask = pad_sequence(attention_mask, padding_value=0).T\n",
    "\n",
    "    collated = {'input_ids': input_ids,\n",
    "                'labels': labels, \n",
    "                'labels_mask': labels_mask,\n",
    "                'attention_mask': attention_mask}\n",
    "\n",
    "    # if args.vary_n_segments:\n",
    "    #     n_segments = np.random.randint(1, args.max_n_segments + 1)\n",
    "    #     n_tokens = n_segments * block_size\n",
    "    #     for k in collated:\n",
    "    #         collated[k] = collated[k][:, -n_tokens:]\n",
    "\n",
    "    return collated\n",
    "\n",
    "\n",
    "train_dataset = tokenized_datasets[\"train\"].map(lambda x: group_texts(x, block_size, history_size), \n",
    "                                        batched=True, desc=f\"Grouping train in chunks of {block_size} and history {history_size}\")\n",
    "valid_dataset = tokenized_datasets[\"validation\"].map(lambda x: group_texts(x, block_size), \n",
    "                                        batched=True, desc=f\"Grouping valid in chunks of {block_size}\")\n",
    "\n",
    "\n",
    "# shuffle train data each epoch (one loop over train_dataset)\n",
    "# train_sampler = DistributedStrain_dataset[i] for i in range(4)ampler(train_dataset, rank=hvd.rank(), num_replicas=hvd.size(), shuffle=True,\n",
    "#                                     drop_last=False, seed=args.seed)\n",
    "# per_worker_batch_size = args.batch_size * args.gradient_accumulation_steps\n",
    "# global_batch_size = per_worker_batch_size * hvd.size()\n",
    "\n",
    "# train_sampler = RandomSampler(train_dataset)\n",
    "kwargs = {'pin_memory': True}#, 'num_workers': args.data_n_workers}\n",
    "train_dataloader = DataLoader(train_dataset, batch_size=batch_size, collate_fn=collate_fn, **kwargs)"
   ]
  },
  {
   "cell_type": "code",
   "execution_count": null,
   "metadata": {},
   "outputs": [],
   "source": [
    "b = [train_dataset[i] for i in range(4)]"
   ]
  },
  {
   "cell_type": "code",
   "execution_count": null,
   "metadata": {},
   "outputs": [],
   "source": [
    "for k in b[0]:\n",
    "    b[0][k] = b[0][k][:124]"
   ]
  },
  {
   "cell_type": "code",
   "execution_count": null,
   "metadata": {},
   "outputs": [],
   "source": [
    "batch = collate_fn(b)"
   ]
  },
  {
   "cell_type": "code",
   "execution_count": null,
   "metadata": {},
   "outputs": [
    {
     "data": {
      "text/plain": [
       "torch.Size([2, 512])"
      ]
     },
     "execution_count": 16,
     "metadata": {},
     "output_type": "execute_result"
    }
   ],
   "source": [
    "gen = iter(train_dataloader)\n",
    "batch = next(gen)\n",
    "batch = next(gen)\n",
    "batch = next(gen)\n",
    "batch['input_ids'].shape"
   ]
  },
  {
   "cell_type": "code",
   "execution_count": null,
   "metadata": {},
   "outputs": [],
   "source": [
    "# raw_datasets['train'][1]"
   ]
  },
  {
   "attachments": {},
   "cell_type": "markdown",
   "metadata": {},
   "source": [
    "### Model"
   ]
  },
  {
   "cell_type": "code",
   "execution_count": null,
   "metadata": {},
   "outputs": [],
   "source": [
    "import math\n",
    "import torch\n",
    "from torch.nn import CrossEntropyLoss"
   ]
  },
  {
   "cell_type": "code",
   "execution_count": null,
   "metadata": {},
   "outputs": [],
   "source": [
    "from transformers.modeling_outputs import CausalLMOutputWithCrossAttentions\n",
    "\n",
    "class MemoryCell(torch.nn.Module):\n",
    "    def __init__(self, base_model, num_mem_tokens):\n",
    "        super().__init__()\n",
    "        self.model = base_model\n",
    "        self.create_memory(num_mem_tokens)\n",
    "\n",
    "    def create_memory(self, num_mem_tokens):\n",
    "        self.num_mem_tokens = num_mem_tokens\n",
    "        embeddings = self.model.get_input_embeddings()\n",
    "        memory_weights = torch.randn((num_mem_tokens, self.model.config.n_embd)) * embeddings.weight.data.std()\n",
    "        self.register_parameter('memory', torch.nn.Parameter(memory_weights, requires_grad=True))\n",
    "\n",
    "        self.read_memory_position = range(num_mem_tokens)\n",
    "        self.write_memory_position = range(-num_mem_tokens, 0)\n",
    "\n",
    "    def set_memory(self, input_shape):\n",
    "        memory = self.memory.repeat(input_shape[0], 1, 1)\n",
    "        return memory\n",
    "\n",
    "    def forward(self, input_ids, memory_state=None, **kwargs):\n",
    "        if memory_state is None:\n",
    "            memory_state = self.set_memory(input_ids.shape)\n",
    "\n",
    "        seg_kwargs = self.process_input(input_ids, memory_state, **kwargs)\n",
    "        out = self.model(**seg_kwargs)\n",
    "        out, new_memory_state = self.process_output(out, **kwargs)\n",
    "\n",
    "        return out, new_memory_state\n",
    "    \n",
    "    def process_input(self, input_ids, memory_state, **kwargs):\n",
    "        seg_kwargs = dict(**kwargs)\n",
    "\n",
    "        inputs_embeds = kwargs.get('inputs_embeds')\n",
    "        if inputs_embeds is None:\n",
    "            inputs_embeds = self.model.get_input_embeddings()(input_ids)\n",
    "        inputs_embeds = torch.cat([memory_state, inputs_embeds, memory_state], dim=1)\n",
    "\n",
    "        seg_kwargs['input_ids'] = None\n",
    "        seg_kwargs['inputs_embeds'] = inputs_embeds\n",
    "        if kwargs.get('attention_mask') is not None:\n",
    "            seg_kwargs['attention_mask'] = self.pad_attention_mask(kwargs['attention_mask'], inputs_embeds.shape)\n",
    "        seg_kwargs['output_hidden_states'] = True\n",
    "        return seg_kwargs\n",
    "    \n",
    "    def pad_attention_mask(self, attention_mask, shape):\n",
    "        if self.num_mem_tokens in {0, None}:\n",
    "            return attention_mask\n",
    "        else:\n",
    "            mask = torch.ones(*shape[:2], dtype=torch.int64).to(attention_mask.device)\n",
    "            mask[:, self.num_mem_tokens:-self.num_mem_tokens] = attention_mask\n",
    "            return mask\n",
    "    \n",
    "    def process_output(self, model_outputs, **kwargs):\n",
    "        if self.num_mem_tokens not in {0, None}:\n",
    "            out = CausalLMOutputWithCrossAttentions()\n",
    "            memory_state = model_outputs.hidden_states[-1][:, -self.num_mem_tokens:]\n",
    "            out['logits'] = model_outputs.logits[:, self.num_mem_tokens:-self.num_mem_tokens]\n",
    "            \n",
    "            if kwargs.get('output_hidden_states'):\n",
    "                out['hidden_states'] = [lh[:, self.num_mem_tokens:-self.num_mem_tokens] for lh in model_outputs.hidden_states]\n",
    "            if kwargs.get('output_attentions'):\n",
    "                out['attentions'] = model_outputs['attentions']\n",
    "        else:\n",
    "            memory_state = None\n",
    "            out = model_outputs\n",
    "            \n",
    "        return out, memory_state \n"
   ]
  },
  {
   "cell_type": "code",
   "execution_count": null,
   "metadata": {},
   "outputs": [],
   "source": [
    "class RecurrentWrapper(torch.nn.Module):\n",
    "    def __init__(self, memory_cell, **rmt_kwargs):\n",
    "        super().__init__()\n",
    "        self.memory_cell = memory_cell\n",
    "        self.rmt_config = rmt_kwargs\n",
    "\n",
    "    def forward(self, input_ids, labels=None, labels_mask=None, inputs_embeds=None, attention_mask=None, output_attentions=None, output_hidden_states=None):\n",
    "        memory_state = None\n",
    "        segmented = self.segment(input_ids=input_ids, inputs_embeds=inputs_embeds, attention_mask=attention_mask)\n",
    "\n",
    "        cell_outputs = []\n",
    "        for seg_num, segment in enumerate(segmented):\n",
    "            cell_out, memory_state = self.memory_cell(**segment, memory_state=memory_state, output_hidden_states=True)\n",
    "            cell_outputs.append(cell_out)\n",
    "            self.manage_gradients(memory_state, seg_num)\n",
    "\n",
    "        out = self.process_outputs(cell_outputs, labels=labels, \n",
    "                                   labels_mask=labels_mask,\n",
    "                                   output_attentions=output_attentions, \n",
    "                                   output_hidden_states=output_hidden_states)\n",
    "        return out\n",
    "\n",
    "    def segment(self, **kwargs):\n",
    "        segments = []\n",
    "        for k, tensor in kwargs.items():\n",
    "            if tensor is not None:\n",
    "                k_segments = self.split_tensor(tensor)\n",
    "                for s, k_seg in enumerate(k_segments):\n",
    "                    if s < len(segments):\n",
    "                        segments[s][k] = k_seg\n",
    "                    else:\n",
    "                        segments.append({k: k_seg})\n",
    "\n",
    "        return segments\n",
    "    \n",
    "    def split_tensor(self, tensor):\n",
    "        align = self.rmt_config.get('segment_alignment')\n",
    "        segment_size = self.rmt_config.get('segment_size')\n",
    "        if align in {'left', None}:\n",
    "            split_inds = list(range(0, tensor.shape[1], segment_size)) + [tensor.shape[1]]\n",
    "            segments = [tensor[:, start:end] for (start, end) in zip(split_inds, split_inds[1:])]\n",
    "        elif align in {'right', None}:\n",
    "            split_inds = (list(range(tensor.shape[1], 0, -segment_size)) + [0])[::-1]\n",
    "            segments = [tensor[:, start:end] for (start, end) in zip(split_inds, split_inds[1:])]\n",
    "        elif align == 'center':\n",
    "            n_seg = math.ceil(tensor.shape[1] / segment_size)\n",
    "            segments = torch.chunk(tensor, n_seg, dim=1)\n",
    "        else:\n",
    "            raise NotImplementedError\n",
    "        return segments\n",
    "\n",
    "    def process_outputs(self, cell_outputs, **kwargs):\n",
    "        out = CausalLMOutputWithCrossAttentions()\n",
    "        full_logits = torch.cat([o.logits for o in cell_outputs], dim=1)\n",
    "        full_hidden_states = tuple([torch.cat(layer_hs, dim=1) for layer_hs in zip(*[o.hidden_states for o in cell_outputs])])\n",
    "\n",
    "        labels = kwargs.get('labels')\n",
    "        if labels is not None:\n",
    "            shift_labels = labels[..., 1:].contiguous()\n",
    "            shift_logits = full_logits[..., :-1, :].contiguous()\n",
    "            flat_labels = shift_labels.view(-1)\n",
    "            flat_logits = shift_logits.view(-1, shift_logits.size(-1))\n",
    "            \n",
    "            loss_fct = CrossEntropyLoss()\n",
    "            labels_mask = kwargs.get('labels_mask')\n",
    "            if labels_mask is not None:\n",
    "                shift_mask = labels_mask[..., :-1].contiguous()\n",
    "\n",
    "                flat_labels = flat_labels[shift_mask.view(-1)]\n",
    "                flat_logits = flat_logits[shift_mask.view(-1)]\n",
    "                \n",
    "            out['loss'] = loss_fct(flat_logits, flat_labels)\n",
    "\n",
    "        out['logits'] = full_logits\n",
    "        segment_keys = ['loss', 'logits']\n",
    "        if kwargs.get('output_attentions'):\n",
    "            segment_keys.append('attentions')\n",
    "        if kwargs.get('output_hidden_states'):\n",
    "            segment_keys.append('hidden_states')\n",
    "            out['hidden_states'] = full_hidden_states\n",
    "\n",
    "        # for seg_num, o in enumerate(cell_outputs):\n",
    "        #     for key, value in o.items():\n",
    "        #         if any([sk in key for sk in segment_keys]):\n",
    "        #             out[f'{key}_{seg_num}'] = value\n",
    "\n",
    "        return out \n",
    "        \n",
    "    def manage_gradients(self, memory_state, seg_num):\n",
    "        k2, max_n_segments = self.rmt_config.get('k2'), self.rmt_config.get('max_n_segments')\n",
    "        if seg_num == 0 \\\n",
    "            or k2 in {-1, None} \\\n",
    "            or seg_num + k2 > max_n_segments:\n",
    "                return True\n",
    "        \n",
    "        memory_state = memory_state.detach()\n",
    "        return False"
   ]
  },
  {
   "cell_type": "code",
   "execution_count": null,
   "metadata": {},
   "outputs": [
    {
     "name": "stderr",
     "output_type": "stream",
     "text": [
      "/cephfs/home/bulatov/bulatov/hvdenv/lib/python3.8/site-packages/cryptography/hazmat/backends/openssl/x509.py:14: CryptographyDeprecationWarning: This version of cryptography contains a temporary pyOpenSSL fallback path. Upgrade pyOpenSSL now.\n",
      "  warnings.warn(\n"
     ]
    }
   ],
   "source": [
    "\n",
    "num_mem_tokens = 10\n",
    "# device = torch.device(3)\n",
    "device = 'cpu'\n",
    "\n",
    "rmt_config = {'num_mem_tokens': 10, \n",
    "               #  'max_n_segments': 1,\n",
    "               #  'segment_alignment': 'right',\n",
    "               #  'tokenizer': tokenizer,\n",
    "               #  'memory_layers': 'all', \n",
    "               #  'share_memory_layers': True,\n",
    "               #  'reconstruction_loss_coef': 0.1,\n",
    "               #  'k1': -1, 'k2': 3,\n",
    "               #  'segment_ordering': 'regular',\n",
    "               #  'input_size': 1024, \n",
    "               #  'bptt_depth': -1, \n",
    "               #  'sum_loss': False,\n",
    "             }\n",
    "\n",
    "base_model = AutoModelForCausalLM.from_pretrained(model_name)\n",
    "cell = MemoryCell(base_model, num_mem_tokens=2)"
   ]
  },
  {
   "cell_type": "code",
   "execution_count": null,
   "metadata": {},
   "outputs": [],
   "source": [
    "rmt = RecurrentWrapper(cell, max_n_segments=5, segment_size=124, segment_alignment='center')"
   ]
  },
  {
   "cell_type": "code",
   "execution_count": null,
   "metadata": {},
   "outputs": [
    {
     "data": {
      "text/plain": [
       "1"
      ]
     },
     "execution_count": 23,
     "metadata": {},
     "output_type": "execute_result"
    }
   ],
   "source": [
    "gen = iter(train_dataloader)\n",
    "batch = next(gen)\n",
    "batch = next(gen)\n",
    "batch = next(gen)\n",
    "batch.pop('labels_mask')\n",
    "# batch.pop('labels')\n",
    "1"
   ]
  },
  {
   "cell_type": "code",
   "execution_count": null,
   "metadata": {},
   "outputs": [],
   "source": [
    "rmt_out = rmt(**batch)"
   ]
  },
  {
   "cell_type": "code",
   "execution_count": null,
   "metadata": {},
   "outputs": [
    {
     "data": {
      "text/plain": [
       "odict_keys(['loss', 'logits'])"
      ]
     },
     "execution_count": 25,
     "metadata": {},
     "output_type": "execute_result"
    }
   ],
   "source": [
    "rmt_out.keys()"
   ]
  },
  {
   "attachments": {},
   "cell_type": "markdown",
   "metadata": {},
   "source": [
    "# Contract-NLI"
   ]
  },
  {
   "cell_type": "code",
   "execution_count": null,
   "metadata": {},
   "outputs": [],
   "source": [
    "from datasets import Dataset\n",
    "\n",
    "class CNLIDataset(Dataset):\n",
    "    def __init__(self, json_path):\n",
    "        with open(json_path, 'r') as f:\n",
    "            self.samples = json.load(f)\n",
    "\n",
    "    def __getitem__(self, item):\n",
    "        return self.samples[item]\n",
    "    \n",
    "    def __len__(self):\n",
    "        return len(self.samples)"
   ]
  },
  {
   "cell_type": "code",
   "execution_count": null,
   "metadata": {},
   "outputs": [
    {
     "name": "stderr",
     "output_type": "stream",
     "text": [
      "[Parallel(n_jobs=12)]: Using backend LokyBackend with 12 concurrent workers.\n",
      "[Parallel(n_jobs=12)]: Done   1 tasks      | elapsed:    0.0s\n",
      "[Parallel(n_jobs=12)]: Batch computation too fast (0.0032s.) Setting batch_size=2.\n",
      "[Parallel(n_jobs=12)]: Done   8 tasks      | elapsed:    0.0s\n",
      "[Parallel(n_jobs=12)]: Done  17 tasks      | elapsed:    0.0s\n",
      "[Parallel(n_jobs=12)]: Batch computation too fast (0.0160s.) Setting batch_size=4.\n",
      "[Parallel(n_jobs=12)]: Done  28 tasks      | elapsed:    0.0s\n",
      "[Parallel(n_jobs=12)]: Done  50 tasks      | elapsed:    0.0s\n",
      "[Parallel(n_jobs=12)]: Done 123 out of 123 | elapsed:    0.1s finished\n"
     ]
    }
   ],
   "source": [
    "dataset = CNLIDataset('/cephfs/home/bulatov/bulatov/datasets/contract_nli/contract-nli/test_processed.json')"
   ]
  },
  {
   "cell_type": "code",
   "execution_count": null,
   "metadata": {},
   "outputs": [
    {
     "data": {
      "text/plain": [
       "512"
      ]
     },
     "execution_count": 135,
     "metadata": {},
     "output_type": "execute_result"
    }
   ],
   "source": [
    "args.input_seq_len"
   ]
  },
  {
   "cell_type": "code",
   "execution_count": null,
   "metadata": {},
   "outputs": [],
   "source": [
    "from torch.nn.utils.rnn import pad_sequence\n",
    "\n",
    "tokenizer.pad_token = tokenizer.eos_token\n",
    "tokenizer.add_tokens('[GEN]', special_tokens=True)\n",
    "gen_token = tokenizer.encode('[GEN]')[0]\n",
    "id_pad_value = tokenizer.eos_token_id\n",
    "\n",
    "def collate_fn(batch):\n",
    "    inputs = [b['context'][:args.input_seq_len * 10] for b in batch]\n",
    "    labels = [b['answer'][:args.input_seq_len * 10] for b in batch]\n",
    "\n",
    "    collated = {}\n",
    "    inputs = tokenizer.batch_encode_plus(list(inputs), padding=False)\n",
    "    labels = tokenizer.batch_encode_plus(list(labels), padding=False)\n",
    "\n",
    "    full_inputs, labels_mask = [], []\n",
    "    for inp, lab in zip(inputs['input_ids'], labels['input_ids']):\n",
    "        inp = inp[:args.input_seq_len - len(lab) - 1]\n",
    "        full_inputs.append(torch.tensor(inp + [gen_token] + lab))\n",
    "        labels_mask.append(torch.tensor([False] * len(inp) + [True] * (len(lab) + 1)))\n",
    "\n",
    "    full_inputs = pad_sequence(full_inputs, padding_value=id_pad_value).T\n",
    "    labels_mask = pad_sequence(labels_mask, padding_value=False).T\n",
    "\n",
    "    collated['input_ids'] = collated['labels'] = full_inputs\n",
    "    collated['labels_mask'] = labels_mask\n",
    "    collated['attention_mask'] = collated['input_ids'] != id_pad_value\n",
    "    return collated"
   ]
  },
  {
   "cell_type": "code",
   "execution_count": null,
   "metadata": {},
   "outputs": [],
   "source": [
    "batch = collate_fn([dataset[i] for i in range(4)])\n",
    "# batch = [dataset[i] for i in range(4)]"
   ]
  },
  {
   "cell_type": "code",
   "execution_count": null,
   "metadata": {},
   "outputs": [],
   "source": [
    "segmented = rmt.segment(**batch)"
   ]
  },
  {
   "cell_type": "code",
   "execution_count": null,
   "metadata": {},
   "outputs": [
    {
     "data": {
      "text/plain": [
       "[torch.Size([4, 103]),\n",
       " torch.Size([4, 103]),\n",
       " torch.Size([4, 103]),\n",
       " torch.Size([4, 103]),\n",
       " torch.Size([4, 100])]"
      ]
     },
     "execution_count": 118,
     "metadata": {},
     "output_type": "execute_result"
    }
   ],
   "source": [
    "[s['input_ids'].shape for s in segmented]"
   ]
  },
  {
   "cell_type": "code",
   "execution_count": null,
   "metadata": {},
   "outputs": [],
   "source": [
    "labels = batch.pop('labels')\n",
    "rmt_out = rmt(**batch)"
   ]
  },
  {
   "cell_type": "code",
   "execution_count": null,
   "metadata": {},
   "outputs": [
    {
     "data": {
      "text/plain": [
       "torch.Size([4, 512, 50258])"
      ]
     },
     "execution_count": 138,
     "metadata": {},
     "output_type": "execute_result"
    }
   ],
   "source": [
    "rmt_out.logits.shape"
   ]
  },
  {
   "cell_type": "code",
   "execution_count": null,
   "metadata": {},
   "outputs": [
    {
     "data": {
      "text/plain": [
       "torch.Size([20, 50258])"
      ]
     },
     "execution_count": 140,
     "metadata": {},
     "output_type": "execute_result"
    }
   ],
   "source": [
    "rmt_out.logits[batch['labels_mask']].shape"
   ]
  },
  {
   "cell_type": "code",
   "execution_count": null,
   "metadata": {},
   "outputs": [
    {
     "data": {
      "text/plain": [
       "torch.Size([20])"
      ]
     },
     "execution_count": 142,
     "metadata": {},
     "output_type": "execute_result"
    }
   ],
   "source": [
    "labels[batch['labels_mask']].shape"
   ]
  },
  {
   "cell_type": "code",
   "execution_count": null,
   "metadata": {},
   "outputs": [
    {
     "data": {
      "text/plain": [
       "'NotMentioned<|endoftext|>'"
      ]
     },
     "execution_count": 143,
     "metadata": {},
     "output_type": "execute_result"
    }
   ],
   "source": [
    "tokenizer.decode([ 3673,    44,  1463,   276, 50256])"
   ]
  },
  {
   "cell_type": "code",
   "execution_count": null,
   "metadata": {},
   "outputs": [
    {
     "data": {
      "text/plain": [
       "'Entailment'"
      ]
     },
     "execution_count": 144,
     "metadata": {},
     "output_type": "execute_result"
    }
   ],
   "source": [
    "tokenizer.decode([14539,   603,   434])"
   ]
  },
  {
   "cell_type": "code",
   "execution_count": null,
   "metadata": {},
   "outputs": [],
   "source": [
    "# rmt_out = rmt(**batch)\n",
    "\n",
    "self = rmt\n",
    "input_ids = batch['input_ids']\n",
    "\n",
    "memory_state = None\n",
    "segmented = self.segment(input_ids=input_ids, inputs_embeds=None, attention_mask=None)\n",
    "\n",
    "cell_outputs = []\n",
    "for seg_num, segment in enumerate(segmented):\n",
    "    cell_out, memory_state = self.memory_cell(**segment, memory_state=memory_state, output_hidden_states=True)#**batch)\n",
    "    cell_outputs.append(cell_out)\n",
    "    self.manage_gradients(memory_state, seg_num)\n",
    "\n",
    "# out = self.process_outputs(cell_outputs)"
   ]
  },
  {
   "cell_type": "code",
   "execution_count": null,
   "metadata": {},
   "outputs": [
    {
     "data": {
      "text/plain": [
       "torch.Size([2, 248])"
      ]
     },
     "execution_count": 215,
     "metadata": {},
     "output_type": "execute_result"
    }
   ],
   "source": [
    "input_ids.shape"
   ]
  },
  {
   "cell_type": "code",
   "execution_count": null,
   "metadata": {},
   "outputs": [
    {
     "data": {
      "text/plain": [
       "(tensor([1., 1., 1., 1.]), tensor([1., 1., 1., 1.]), tensor([1., 1.]))"
      ]
     },
     "execution_count": 297,
     "metadata": {},
     "output_type": "execute_result"
    }
   ],
   "source": [
    "torch.chunk(torch.ones(10), 3)"
   ]
  },
  {
   "attachments": {},
   "cell_type": "markdown",
   "metadata": {},
   "source": [
    "### seq2seq"
   ]
  },
  {
   "cell_type": "code",
   "execution_count": null,
   "metadata": {},
   "outputs": [
    {
     "data": {
      "text/plain": [
       "Embedding(50258, 768)"
      ]
     },
     "execution_count": 28,
     "metadata": {},
     "output_type": "execute_result"
    }
   ],
   "source": [
    "from huggingface_hub import hf_hub_download\n",
    "# scrolls_metric_path = hf_hub_download(repo_id=\"datasets/tau/scrolls\", filename=\"metrics/scrolls.py\")tokenizer.add_tokens('[GEN]', special_tokens=True)\n",
    "gen_token = tokenizer.encode('[GEN]')[0]\n",
    "\n",
    "rmt.memory_cell.model.resize_token_embeddings(len(tokenizer))\n",
    "\n",
    "# gen_token = tokenizer.eos_token_id"
   ]
  },
  {
   "cell_type": "code",
   "execution_count": null,
   "metadata": {},
   "outputs": [
    {
     "data": {
      "text/plain": [
       "{'bos_token': '<|endoftext|>',\n",
       " 'eos_token': '<|endoftext|>',\n",
       " 'unk_token': '<|endoftext|>'}"
      ]
     },
     "execution_count": 29,
     "metadata": {},
     "output_type": "execute_result"
    }
   ],
   "source": [
    "tokenizer.special_tokens_map"
   ]
  },
  {
   "cell_type": "code",
   "execution_count": null,
   "metadata": {},
   "outputs": [],
   "source": [
    "global_attention_first_token = False  # should be True for LED\n",
    "encode_plus_kwargs = {'truncation': True, 'padding': 'longest', 'pad_to_multiple_of': 1}\n",
    "# generate_kwargs = {'max_length': args.targettokenizer.add_tokens('[GEN]', special_tokens=True)\n",
    "# gen_token = tokenizer.encode('[GEN]')[0]\n",
    "\n",
    "# rmt.memory_cell.model.resize_token_embeddings(len(tokenizer))_seq_len, 'min_length': args.target_seq_len}\n",
    "generate_kwargs = {}\n",
    "\n",
    "from torch.nn.utils.rnn import pad_sequence\n",
    "\n",
    "def collate_fn(batch):\n",
    "    inputs = [b['input'][:args.input_seq_len * 10] for b in batch]\n",
    "    labels = [b['output'][:args.input_seq_len * 10] for b in batch]\n",
    "\n",
    "    collated = {}\n",
    "    inputs = tokenizer.batch_encode_plus(list(inputs), padding=False)\n",
    "    labels = tokenizer.batch_encode_plus(list(labels), padding=False)\n",
    "\n",
    "    full_inputs = [torch.tensor(i[:input_size - len(l) - 1] + [gen_token] + l) for i, l in zip(inputs['input_ids'], labels['input_ids'])]\n",
    "    full_inputs = pad_sequence(full_inputs, padding_value=tokenizer.pad_token_id).T\n",
    "    \n",
    "    labels_mask = torch.zeros_like(full_inputs).bool()\n",
    "    for i, l in enumerate(labels['input_ids']):\n",
    "        labels_mask[i, -len(l) -1:] = True\n",
    "    collated['input_ids'] = collated['labels'] = full_inputs\n",
    "    collated['labels_mask'] = labels_mask\n",
    "    collated['attention_mask'] = collated['input_ids'] != tokenizer.pad_token_id\n",
    "\n",
    "    return collated\n",
    "    "
   ]
  },
  {
   "cell_type": "code",
   "execution_count": null,
   "metadata": {},
   "outputs": [
    {
     "name": "stderr",
     "output_type": "stream",
     "text": [
      "Found cached dataset scrolls (/home/bulatov/.cache/huggingface/datasets/tau___scrolls/quality/1.0.0/672021d5d8e1edff998a6ea7a5bff35fdfd0ae243e7cf6a8c88a57a04afb46ac)\n"
     ]
    },
    {
     "data": {
      "application/vnd.jupyter.widget-view+json": {
       "model_id": "7bb2ffcdd0604c9bb263db2f85f18d76",
       "version_major": 2,
       "version_minor": 0
      },
      "text/plain": [
       "  0%|          | 0/3 [00:00<?, ?it/s]"
      ]
     },
     "metadata": {},
     "output_type": "display_data"
    }
   ],
   "source": [
    "seq2seq_task_name = 'quality'\n",
    "dataset = datasets.load_dataset('tau/scrolls', seq2seq_task_name)\n",
    "train_dataset = dataset['train']\n",
    "# shuffle train data each epoch (one loop over train_dataset)\n",
    "# train_sampler = DistributedSampler(train_dataset, shuffle=True, drop_last=False, seed=args.seed)\n",
    "kwargs = {'pin_memory': True}\n",
    "train_dataloader = DataLoader(train_dataset, batch_size=2,\n",
    "                                collate_fn=collate_fn, **kwargs)"
   ]
  },
  {
   "cell_type": "code",
   "execution_count": null,
   "metadata": {},
   "outputs": [],
   "source": [
    "tokenizer.pad_token = tokenizer.eos_token"
   ]
  },
  {
   "cell_type": "code",
   "execution_count": null,
   "metadata": {},
   "outputs": [],
   "source": [
    "gen = iter(train_dataloader)\n",
    "batch = next(gen)"
   ]
  },
  {
   "cell_type": "code",
   "execution_count": null,
   "metadata": {},
   "outputs": [
    {
     "data": {
      "text/plain": [
       "dict_keys(['input_ids', 'labels', 'labels_mask', 'attention_mask'])"
      ]
     },
     "execution_count": 110,
     "metadata": {},
     "output_type": "execute_result"
    }
   ],
   "source": [
    "batch.keys()"
   ]
  },
  {
   "cell_type": "code",
   "execution_count": null,
   "metadata": {},
   "outputs": [
    {
     "data": {
      "text/plain": [
       "torch.Size([2, 128])"
      ]
     },
     "execution_count": 111,
     "metadata": {},
     "output_type": "execute_result"
    }
   ],
   "source": [
    "batch['input_ids'].shape"
   ]
  },
  {
   "cell_type": "code",
   "execution_count": null,
   "metadata": {},
   "outputs": [
    {
     "data": {
      "text/plain": [
       "torch.Size([2, 128])"
      ]
     },
     "execution_count": 112,
     "metadata": {},
     "output_type": "execute_result"
    }
   ],
   "source": [
    "batch['labels'].shape"
   ]
  },
  {
   "cell_type": "code",
   "execution_count": null,
   "metadata": {},
   "outputs": [
    {
     "data": {
      "text/plain": [
       "['Why is Si retirement so significant to the Space Exploration Team? \\n\\n (A) There aren’t enough working people in the world. They won’t be able to find a replacement.\\n (B) As one of two remaining spacemen, it would likely mean the defunding and shut down of the Space Exploration Team.\\n (C) Training new spacemen is costly and time consuming. They won’t have anyone else ready after him.\\n (D) His retirement may inspire others to[GEN]Training new spacemen is costly and time consuming. They won’t have anyone else ready after him.',\n",
       " 'What makes Gubelin an outlier in the present day?\\n\\n (A) He is much older than the rest of the population.\\n (B) He refuses new operations that could improve his health.\\n (C) His mind is still active, and he values hard work.\\n (D) He still wears glasses and value objects like the gold watch given to Si.\\n\\n\\nSPACEMAN ON A SPREE\\n\\n\\n\\n\\n   BY MACK REYNOLDS\\n\\n\\n\\n\\n   Illustrated by Nodel\\n\\n\\n\\n\\n[GEN]He still wears glasses and value objects like the gold watch given to Si.']"
      ]
     },
     "execution_count": 113,
     "metadata": {},
     "output_type": "execute_result"
    }
   ],
   "source": [
    "tokenizer.batch_decode(batch['input_ids'])"
   ]
  },
  {
   "cell_type": "code",
   "execution_count": null,
   "metadata": {},
   "outputs": [
    {
     "data": {
      "text/plain": [
       "['[GEN]Training new spacemen is costly and time consuming. They won’t have anyone else ready after him.',\n",
       " '[GEN]He still wears glasses and value objects like the gold watch given to Si.']"
      ]
     },
     "execution_count": 114,
     "metadata": {},
     "output_type": "execute_result"
    }
   ],
   "source": [
    "tokenizer.batch_decode([c[i] for c, i in zip(batch['input_ids'], batch['labels_mask'])])"
   ]
  },
  {
   "cell_type": "code",
   "execution_count": null,
   "metadata": {},
   "outputs": [
    {
     "data": {
      "text/plain": [
       "['Why is Si retirement so significant to the Space Exploration Team? \\n\\n (A) There aren’t enough working people in the world. They won’t be able to find a replacement.\\n (B) As one of two remaining spacemen, it would likely mean the defunding and shut down of the Space Exploration Team.\\n (C) Training new spacemen is costly and time consuming. They won’t have anyone else ready after him.\\n (D) His retirement may inspire others toTraining new spacemen is costly and time consuming. They won’t have anyone else ready after him.',\n",
       " 'What makes Gubelin an outlier in the present day?\\n\\n (A) He is much older than the rest of the population.\\n (B) He refuses new operations that could improve his health.\\n (C) His mind is still active, and he values hard work.\\n (D) He still wears glasses and value objects like the gold watch given to Si.\\n\\n\\nSPACEMAN ON A SPREE\\n\\n\\n\\n\\n   BY MACK REYNOLDS\\n\\n\\n\\n\\n   Illustrated by Nodel\\n\\n\\n\\n\\nHe still wears glasses and value objects like the gold watch given to Si.']"
      ]
     },
     "execution_count": 99,
     "metadata": {},
     "output_type": "execute_result"
    }
   ],
   "source": [
    "tokenizer.batch_decode([c[i] for c, i in zip(batch['input_ids'], batch['attention_mask'])])"
   ]
  },
  {
   "cell_type": "code",
   "execution_count": null,
   "metadata": {},
   "outputs": [],
   "source": [
    "out = rmt(**batch)"
   ]
  },
  {
   "cell_type": "code",
   "execution_count": null,
   "metadata": {},
   "outputs": [
    {
     "data": {
      "text/plain": [
       "tensor(60.2067, grad_fn=<NllLossBackward>)"
      ]
     },
     "execution_count": 101,
     "metadata": {},
     "output_type": "execute_result"
    }
   ],
   "source": [
    "out.loss"
   ]
  },
  {
   "cell_type": "code",
   "execution_count": null,
   "metadata": {},
   "outputs": [
    {
     "data": {
      "text/plain": [
       "tensor(61.4377, grad_fn=<NllLossBackward>)"
      ]
     },
     "execution_count": 105,
     "metadata": {},
     "output_type": "execute_result"
    }
   ],
   "source": [
    "out.loss"
   ]
  }
 ],
 "metadata": {
  "kernelspec": {
   "display_name": "hvdenv",
   "language": "python",
   "name": "python3"
  },
  "language_info": {
   "codemirror_mode": {
    "name": "ipython",
    "version": 3
   },
   "file_extension": ".py",
   "mimetype": "text/x-python",
   "name": "python",
   "nbconvert_exporter": "python",
   "pygments_lexer": "ipython3",
   "version": "3.9.17"
  }
 },
 "nbformat": 4,
 "nbformat_minor": 4
}
