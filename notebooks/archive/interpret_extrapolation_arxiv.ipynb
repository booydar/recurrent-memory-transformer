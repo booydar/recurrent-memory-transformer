{
 "cells": [
  {
   "cell_type": "code",
   "execution_count": 1,
   "metadata": {},
   "outputs": [],
   "source": [
    "import numpy as np\n",
    "import os\n",
    "import torch\n",
    "import torch.nn.functional as F\n",
    "from typing import List, Optional, Tuple, Union\n",
    "from transformers import PreTrainedModel, AutoModelForSequenceClassification, T5ForConditionalGeneration\n",
    "from transformers import AutoTokenizer\n",
    "import datasets\n",
    "\n",
    "import math\n",
    "from matplotlib import pyplot as plt\n",
    "\n",
    "\n",
    "from typing import List, Optional, Tuple, Union\n",
    "from transformers import BertForSequenceClassification\n",
    "import transformers\n",
    "from transformers.modeling_outputs import SequenceClassifierOutput"
   ]
  },
  {
   "attachments": {},
   "cell_type": "markdown",
   "metadata": {},
   "source": [
    "### Finetune"
   ]
  },
  {
   "cell_type": "code",
   "execution_count": 2,
   "metadata": {},
   "outputs": [],
   "source": [
    "import sys\n",
    "sys.path.append('..')\n",
    "from transformers import AutoModelForSequenceClassification, AutoModelForCausalLM\n",
    "# from modeling_rmt\n",
    "from torch.utils.data import DataLoader, Dataset, RandomSampler, SequentialSampler\n",
    "from modeling_rmt.language_modeling import *\n",
    "# from modeling_rmt_enc_dec import RMTEncoderDecoderForConditionalGeneration"
   ]
  },
  {
   "cell_type": "code",
   "execution_count": 142,
   "metadata": {},
   "outputs": [],
   "source": [
    "num_segments = 16\n",
    "num_mem_tokens = 2\n",
    "# device = torch.device(3)\n",
    "device = 'cpu'"
   ]
  },
  {
   "cell_type": "code",
   "execution_count": 143,
   "metadata": {},
   "outputs": [
    {
     "name": "stderr",
     "output_type": "stream",
     "text": [
      "/home/bulatov/bulatov/hvdenv/lib/python3.8/site-packages/cryptography/hazmat/backends/openssl/x509.py:14: CryptographyDeprecationWarning: This version of cryptography contains a temporary pyOpenSSL fallback path. Upgrade pyOpenSSL now.\n",
      "  warnings.warn(\n"
     ]
    }
   ],
   "source": [
    "model_name = 'gpt2'\n",
    "\n",
    "tokenizer = AutoTokenizer.from_pretrained(model_name)\n",
    "\n",
    "rmt_config = {'num_mem_tokens': num_mem_tokens, \n",
    "                'max_n_segments': num_segments,\n",
    "                'tokenizer': tokenizer,\n",
    "                'segment_ordering': 'regular',\n",
    "                'input_size': 128, \n",
    "                'bptt_depth': -1, \n",
    "                'sum_loss': False,\n",
    "             }\n",
    "\n",
    "base_model = AutoModelForCausalLM.from_pretrained(model_name)\n",
    "rmt = RMTDecoderLMHeadMultiSeg(base_model, **rmt_config)\n",
    "\n",
    "rmt.to(device)\n",
    "pass"
   ]
  },
  {
   "cell_type": "code",
   "execution_count": 144,
   "metadata": {},
   "outputs": [],
   "source": [
    "cpt = torch.load('../../runs/arxiv/gpt2/linear_adamw_wd1e-03_620-128-5x128_mem2_bs32_regular_bptt-5_from_cpt_4-5/run_4/model_best.pth', map_location='cpu')"
   ]
  },
  {
   "cell_type": "code",
   "execution_count": 145,
   "metadata": {},
   "outputs": [
    {
     "data": {
      "text/plain": [
       "<All keys matched successfully>"
      ]
     },
     "execution_count": 145,
     "metadata": {},
     "output_type": "execute_result"
    }
   ],
   "source": [
    "rmt.load_state_dict(cpt['model_state_dict'])"
   ]
  },
  {
   "attachments": {},
   "cell_type": "markdown",
   "metadata": {},
   "source": [
    "### load dataset "
   ]
  },
  {
   "cell_type": "code",
   "execution_count": 146,
   "metadata": {},
   "outputs": [],
   "source": [
    "class Holder:\n",
    "    def __init__(self):\n",
    "        pass"
   ]
  },
  {
   "cell_type": "code",
   "execution_count": 147,
   "metadata": {},
   "outputs": [],
   "source": [
    "input_seq_len = 128\n",
    "target_seq_len = 128\n",
    "batch_size = 1\n",
    "\n",
    "args = Holder\n",
    "args.batch_size = batch_size\n",
    "args.num_mem_tokens = 2\n",
    "args.max_n_segments = 16\n",
    "args.input_size = 128\n",
    "args.input_seq_len = (args.input_size - 2*args.num_mem_tokens) * args.max_n_segments\n",
    "args.target_seq_len = args.input_seq_len\n",
    "args.input_prefix = ''\n",
    "device = 'cpu'"
   ]
  },
  {
   "cell_type": "code",
   "execution_count": 148,
   "metadata": {},
   "outputs": [],
   "source": [
    "import random\n",
    "from datasets import Dataset, load_dataset, load_from_disk"
   ]
  },
  {
   "cell_type": "code",
   "execution_count": 149,
   "metadata": {},
   "outputs": [],
   "source": [
    "block_size = args.input_size \n",
    "if args.num_mem_tokens is not None:\n",
    "    block_size -= 2 * args.num_mem_tokens\n",
    "# if args.xl_cache_size is not None:\n",
    "#     block_size -= args.xl_cache_size\n",
    "history_size = args.input_seq_len - block_size\n",
    "\n",
    "class segmentDataLoaderOTF(DataLoader):\n",
    "    def __init__(self, dataset, block_size, history_size, max_samples=None, shuffle=False, *args, **kwargs):\n",
    "        super().__init__(dataset, *args, **kwargs)\n",
    "        self.block_size = block_size\n",
    "        self.history_size = history_size\n",
    "        self.max_samples = max_samples\n",
    "        self.shuffle = shuffle\n",
    "            \n",
    "    def get_samples(self, document):\n",
    "        input_ids, attention_mask = document['input_ids'], document['attention_mask']\n",
    "        samples = [input_ids[max({0, start - self.history_size}): start + self.block_size] for start in range(0, len(input_ids), self.block_size)]\n",
    "        return samples\n",
    "    \n",
    "    def __iter__(self):\n",
    "        inds = list(range(len(self.dataset)))\n",
    "\n",
    "        if self.max_samples is not None:\n",
    "            inds = inds[:self.max_samples]\n",
    "\n",
    "        if self.shuffle: \n",
    "            random.shuffle(inds)\n",
    "\n",
    "        doc_ind = 0\n",
    "        samples = []\n",
    "\n",
    "        while True:\n",
    "            if doc_ind >= len(inds):\n",
    "                break\n",
    "            try: \n",
    "                while len(samples) < self.batch_size:\n",
    "                    document = self.dataset[inds[doc_ind]]\n",
    "                    doc_ind += 1\n",
    "                    samples += self.get_samples(document)\n",
    "                    if doc_ind >= len(inds):\n",
    "                        raise(StopIteration)\n",
    "            except(StopIteration):\n",
    "                pass\n",
    "\n",
    "            batch, samples = samples[:self.batch_size], samples[self.batch_size:]\n",
    "            yield self.collate_fn(batch)\n",
    "        \n",
    "\n",
    "from torch.nn.utils.rnn import pad_sequence\n",
    "id_pad_value = tokenizer.pad_token_id if tokenizer.pad_token_id is not None else tokenizer.eos_token_id\n",
    "def collate_fn(batch):\n",
    "    input_ids = labels = [torch.tensor(b[::-1]) for b in batch]\n",
    "    attention_mask = [torch.ones_like(b, dtype=int) for b in input_ids]\n",
    "    input_ids = pad_sequence(input_ids, padding_value=id_pad_value).T.flip(1)\n",
    "    labels = pad_sequence(labels, padding_value=-100).T.flip(1)\n",
    "    attention_mask = pad_sequence(attention_mask, padding_value=0).T.flip(1)\n",
    "\n",
    "    collated = {'input_ids': input_ids,\n",
    "                'labels': labels, \n",
    "                'attention_mask': attention_mask}\n",
    "    \n",
    "    if input_ids.shape[1] != block_size:\n",
    "        labels_mask = torch.ones_like(input_ids, dtype=bool)\n",
    "        labels_mask[:, :-block_size] = False\n",
    "        collated['labels_mask'] = labels_mask\n",
    "    \n",
    "    return collated\n",
    "\n",
    "# valid_dataset = load_from_disk('/home/bulatov/bulatov/datasets/arxiv_pile/tokenized/valid')\n",
    "train_dataset = load_from_disk('/home/bulatov/bulatov/datasets/arxiv_pile/tokenized/train')\n",
    "kwargs = {'pin_memory': True}#, 'num_workers': args.data_n_workers}\n",
    "dataloader = segmentDataLoaderOTF(valid_dataset, batch_size=3, \n",
    "                                #   sampler=train_sampler,\n",
    "                                block_size=block_size, \n",
    "                                history_size=history_size, \n",
    "                                shuffle=True,\n",
    "                                collate_fn=collate_fn, **kwargs)"
   ]
  },
  {
   "cell_type": "code",
   "execution_count": 150,
   "metadata": {},
   "outputs": [],
   "source": [
    "gen = iter(dataloader)\n",
    "for _ in range(16):\n",
    "    batch = next(gen)"
   ]
  },
  {
   "cell_type": "code",
   "execution_count": 151,
   "metadata": {},
   "outputs": [
    {
     "data": {
      "text/plain": [
       "torch.Size([3, 1984])"
      ]
     },
     "execution_count": 151,
     "metadata": {},
     "output_type": "execute_result"
    }
   ],
   "source": [
    "batch['input_ids'].shape"
   ]
  },
  {
   "cell_type": "code",
   "execution_count": 155,
   "metadata": {},
   "outputs": [],
   "source": [
    "out = rmt(**batch, output_hidden_states=True)"
   ]
  },
  {
   "cell_type": "code",
   "execution_count": 156,
   "metadata": {},
   "outputs": [
    {
     "data": {
      "text/plain": [
       "13"
      ]
     },
     "execution_count": 156,
     "metadata": {},
     "output_type": "execute_result"
    }
   ],
   "source": [
    "len(out.hidden_states)"
   ]
  },
  {
   "cell_type": "code",
   "execution_count": 168,
   "metadata": {},
   "outputs": [],
   "source": [
    "for _ in range(16):\n",
    "    batch = next(gen)\n",
    "\n",
    "out = rmt(**batch, output_hidden_states=True)"
   ]
  },
  {
   "cell_type": "code",
   "execution_count": 169,
   "metadata": {},
   "outputs": [],
   "source": [
    "data = {}\n",
    "\n",
    "for i in range(16):\n",
    "    data[f'read_memory_{i}'] = out[f'hidden_states_{i}'][-1][:, :2].detach().numpy().tolist()\n",
    "    data[f'write_memory_{i}'] = out[f'hidden_states_{i}'][-1][:, -2:].detach().numpy().tolist()"
   ]
  },
  {
   "cell_type": "code",
   "execution_count": 170,
   "metadata": {},
   "outputs": [],
   "source": [
    "for k in out:\n",
    "    if 'loss' in k:\n",
    "        data[k] = out[k].item()"
   ]
  },
  {
   "cell_type": "code",
   "execution_count": 171,
   "metadata": {},
   "outputs": [],
   "source": [
    "data['input_text'] = tokenizer.batch_decode(batch['input_ids'])\n",
    "data['input_ids'] = batch['input_ids'].numpy().tolist()"
   ]
  },
  {
   "cell_type": "code",
   "execution_count": 172,
   "metadata": {},
   "outputs": [
    {
     "data": {
      "text/plain": [
       "dict_keys(['read_memory_0', 'write_memory_0', 'read_memory_1', 'write_memory_1', 'read_memory_2', 'write_memory_2', 'read_memory_3', 'write_memory_3', 'read_memory_4', 'write_memory_4', 'read_memory_5', 'write_memory_5', 'read_memory_6', 'write_memory_6', 'read_memory_7', 'write_memory_7', 'read_memory_8', 'write_memory_8', 'read_memory_9', 'write_memory_9', 'read_memory_10', 'write_memory_10', 'read_memory_11', 'write_memory_11', 'read_memory_12', 'write_memory_12', 'read_memory_13', 'write_memory_13', 'read_memory_14', 'write_memory_14', 'read_memory_15', 'write_memory_15', 'loss', 'loss_0', 'loss_1', 'loss_2', 'loss_3', 'loss_4', 'loss_5', 'loss_6', 'loss_7', 'loss_8', 'loss_9', 'loss_10', 'loss_11', 'loss_12', 'loss_13', 'loss_14', 'loss_15', 'input_text', 'input_ids'])"
      ]
     },
     "execution_count": 172,
     "metadata": {},
     "output_type": "execute_result"
    }
   ],
   "source": [
    "data.keys()"
   ]
  },
  {
   "cell_type": "code",
   "execution_count": 165,
   "metadata": {},
   "outputs": [
    {
     "data": {
      "text/plain": [
       "tensor([[39280,  4663,    61,  ...,    13,  2102,    11],\n",
       "        [17641,   326,   612,  ..., 21054,    92, 38016],\n",
       "        [21017,   317,   309,  ...,    92, 38016,  1797]])"
      ]
     },
     "execution_count": 165,
     "metadata": {},
     "output_type": "execute_result"
    }
   ],
   "source": [
    "batch['input_ids']"
   ]
  },
  {
   "cell_type": "code",
   "execution_count": 173,
   "metadata": {},
   "outputs": [
    {
     "data": {
      "text/plain": [
       "tensor([[ 262, 4006,  287,  ...,   13, 1849,   56],\n",
       "        [  12, 1671, 7305,  ...,   11,  564,  246],\n",
       "        [ 360,   12, 1671,  ..., 1849,   50, 2788]])"
      ]
     },
     "execution_count": 173,
     "metadata": {},
     "output_type": "execute_result"
    }
   ],
   "source": [
    "batch['input_ids']"
   ]
  },
  {
   "cell_type": "code",
   "execution_count": 174,
   "metadata": {},
   "outputs": [],
   "source": [
    "import json\n",
    "with open('data/memories_16seg_s2.json', 'w') as f:\n",
    "    json.dump(data, f)"
   ]
  },
  {
   "cell_type": "code",
   "execution_count": 178,
   "metadata": {},
   "outputs": [
    {
     "name": "stdout",
     "output_type": "stream",
     "text": [
      "data/memories_16seg_s2.json\n"
     ]
    }
   ],
   "source": [
    "ls data/memories_16seg_s2.json"
   ]
  },
  {
   "cell_type": "code",
   "execution_count": 177,
   "metadata": {},
   "outputs": [
    {
     "data": {
      "text/plain": [
       "'/cephfs/home/bulatov/bulatov/RMT_light/framework/notebooks'"
      ]
     },
     "execution_count": 177,
     "metadata": {},
     "output_type": "execute_result"
    }
   ],
   "source": [
    "pwd"
   ]
  },
  {
   "cell_type": "code",
   "execution_count": 180,
   "metadata": {},
   "outputs": [
    {
     "name": "stdout",
     "output_type": "stream",
     "text": [
      "/cephfs/home/bulatov/bulatov/RMT_light/framework/notebooks/data/memories_16seg_s2.json\n"
     ]
    }
   ],
   "source": [
    "ls /cephfs/home/bulatov/bulatov/RMT_light/framework/notebooks/data/memories_16seg_s2.json"
   ]
  },
  {
   "cell_type": "code",
   "execution_count": 57,
   "metadata": {},
   "outputs": [
    {
     "name": "stdout",
     "output_type": "stream",
     "text": [
      "loss 2.6600282192230225\n",
      "loss_0 2.9729745388031006\n",
      "loss_1 2.677720069885254\n",
      "loss_2 2.739013910293579\n",
      "loss_3 2.523183822631836\n",
      "loss_4 2.5851669311523438\n",
      "loss_5 2.6139843463897705\n",
      "loss_6 3.1057839393615723\n",
      "loss_7 2.6600282192230225\n"
     ]
    }
   ],
   "source": [
    "for k in out:\n",
    "    if 'loss' in k:\n",
    "        print(k, out[k].item())"
   ]
  },
  {
   "cell_type": "code",
   "execution_count": 118,
   "metadata": {},
   "outputs": [],
   "source": [
    "b1 = dict(**batch)\n",
    "b2 = dict(**batch)"
   ]
  },
  {
   "cell_type": "code",
   "execution_count": 119,
   "metadata": {},
   "outputs": [],
   "source": [
    "for k in b1:\n",
    "    b1[k] = b1[k][:1]\n",
    "\n",
    "for k in b2:\n",
    "    b2[k] = b2[k][:1]"
   ]
  },
  {
   "cell_type": "code",
   "execution_count": 128,
   "metadata": {},
   "outputs": [],
   "source": [
    "# def forward(self, input_ids, attention_mask=None, token_type_ids=None, position_ids=None, head_mask=None,\n",
    "#                 inputs_embeds=None, labels=None, labels_mask=None, output_attentions=None, output_hidden_states=None, return_dict=None):\n",
    "#         kwargs = {'attention_mask': attention_mask, 'token_type_ids': token_type_ids,\n",
    "#                   'position_ids': position_ids, 'inputs_embeds': inputs_embeds,\n",
    "#                   'labels_mask': labels_mask, #'pos_weight': pos_weight,\n",
    "#                   'labels': labels, 'output_attentions': output_attentions,\n",
    "#                   'output_hidden_states': output_hidden_states, 'return_dict': return_dict,\n",
    "#                   }\n",
    "\n",
    "\n",
    "self = rmt\n",
    "kwargs = dict(**b1)\n",
    "input_ids = kwargs.pop('input_ids')\n",
    "labels = kwargs['labels']\n",
    "\n",
    "memory = self.set_memory(input_ids.shape)\n",
    "segmented = self.pad_and_segment(input_ids, labels)\n",
    "\n",
    "inp_memories = []\n",
    "base_model_outputs = []\n",
    "for seg_num, segment in enumerate(zip(*segmented)):\n",
    "    \n",
    "\n",
    "    seg_kwargs, non_empty_mask = self.prepare_kwargs(segment, memory, kwargs)\n",
    "    if sum(non_empty_mask) == 0:\n",
    "        continue\n",
    "    \n",
    "    if self.detach_memory(seg_num):\n",
    "        memory = memory.detach()\n",
    "\n",
    "    inp_memories.append(memory)\n",
    "\n",
    "    seg_kwargs['inputs_embeds'][:, self.read_memory_position] = memory[non_empty_mask]\n",
    "    seg_kwargs['inputs_embeds'][:, self.write_memory_position] = memory[non_empty_mask]\n",
    "    out = self.model(**seg_kwargs)\n",
    "    base_model_outputs.append(out)\n",
    "    \n",
    "    memory[non_empty_mask] = out.hidden_states[-1][:, self.write_memory_position]\n",
    "\n",
    "self.memory_state = memory\n",
    "\n",
    "out1 = self.process_outputs(base_model_outputs, kwargs)\n",
    "# return out"
   ]
  },
  {
   "cell_type": "code",
   "execution_count": 129,
   "metadata": {},
   "outputs": [
    {
     "name": "stdout",
     "output_type": "stream",
     "text": [
      "loss 2.3547987937927246\n",
      "loss_0 3.582904100418091\n",
      "loss_1 2.427748203277588\n",
      "loss_2 2.5168142318725586\n",
      "loss_3 2.9418818950653076\n",
      "loss_4 2.3158202171325684\n",
      "loss_5 1.8513410091400146\n",
      "loss_6 3.7193567752838135\n",
      "loss_7 2.3547987937927246\n"
     ]
    }
   ],
   "source": [
    "for k in out1:\n",
    "    if 'loss' in k:\n",
    "        print(k, out1[k].item())"
   ]
  },
  {
   "cell_type": "code",
   "execution_count": null,
   "metadata": {},
   "outputs": [
    {
     "data": {
      "text/plain": [
       "8"
      ]
     },
     "metadata": {},
     "output_type": "display_data"
    }
   ],
   "source": [
    "len(inp_memories)"
   ]
  },
  {
   "cell_type": "code",
   "execution_count": 130,
   "metadata": {},
   "outputs": [
    {
     "name": "stdout",
     "output_type": "stream",
     "text": [
      "loss 2.3547987937927246\n",
      "loss_0 3.582904100418091\n",
      "loss_1 2.427748203277588\n",
      "loss_2 2.5168142318725586\n",
      "loss_3 2.9418818950653076\n",
      "loss_4 2.3158202171325684\n",
      "loss_5 1.8513410091400146\n",
      "loss_6 3.7193567752838135\n",
      "loss_7 2.3547987937927246\n"
     ]
    }
   ],
   "source": [
    "# with true memories \n",
    "\n",
    "self = rmt\n",
    "kwargs = dict(**b2)\n",
    "input_ids = kwargs.pop('input_ids')\n",
    "labels = kwargs['labels']\n",
    "\n",
    "memory = self.set_memory(input_ids.shape)\n",
    "segmented = self.pad_and_segment(input_ids, labels)\n",
    "\n",
    "# inp_memories = []\n",
    "base_model_outputs = []\n",
    "for seg_num, segment in enumerate(zip(*segmented)):\n",
    "    \n",
    "\n",
    "    seg_kwargs, non_empty_mask = self.prepare_kwargs(segment, memory, kwargs)\n",
    "    if sum(non_empty_mask) == 0:\n",
    "        continue\n",
    "    \n",
    "    if self.detach_memory(seg_num):\n",
    "        memory = memory.detach()\n",
    "\n",
    "    # inp_memories.append(memory)\n",
    "    # memory = inp_memories[seg_num]\n",
    "\n",
    "    seg_kwargs['inputs_embeds'][:, self.read_memory_position] = memory[non_empty_mask]\n",
    "    seg_kwargs['inputs_embeds'][:, self.write_memory_position] = memory[non_empty_mask]\n",
    "    out = self.model(**seg_kwargs)\n",
    "    base_model_outputs.append(out)\n",
    "    \n",
    "    memory[non_empty_mask] = out.hidden_states[-1][:, self.write_memory_position]\n",
    "\n",
    "self.memory_state = memory\n",
    "\n",
    "out2 = self.process_outputs(base_model_outputs, kwargs)\n",
    "for k in out2:\n",
    "    if 'loss' in k:\n",
    "        print(k, out2[k].item())"
   ]
  },
  {
   "cell_type": "code",
   "execution_count": 131,
   "metadata": {},
   "outputs": [
    {
     "name": "stdout",
     "output_type": "stream",
     "text": [
      "loss 2.3726823329925537\n",
      "loss_0 3.3955602645874023\n",
      "loss_1 2.281308889389038\n",
      "loss_2 2.4400248527526855\n",
      "loss_3 2.8076670169830322\n",
      "loss_4 2.3518617153167725\n",
      "loss_5 1.9259015321731567\n",
      "loss_6 3.7944767475128174\n",
      "loss_7 2.3726823329925537\n"
     ]
    }
   ],
   "source": [
    "# with fake memories \n",
    "\n",
    "self = rmt\n",
    "kwargs = dict(**b2)\n",
    "input_ids = kwargs.pop('input_ids')\n",
    "labels = kwargs['labels']\n",
    "\n",
    "memory = self.set_memory(input_ids.shape)\n",
    "segmented = self.pad_and_segment(input_ids, labels)\n",
    "\n",
    "# inp_memories = []\n",
    "base_model_outputs = []\n",
    "for seg_num, segment in enumerate(zip(*segmented)):\n",
    "    \n",
    "\n",
    "    seg_kwargs, non_empty_mask = self.prepare_kwargs(segment, memory, kwargs)\n",
    "    if sum(non_empty_mask) == 0:\n",
    "        continue\n",
    "    \n",
    "    if self.detach_memory(seg_num):\n",
    "        memory = memory.detach()\n",
    "\n",
    "    # inp_memories.append(memory)\n",
    "    memory = inp_memories[seg_num]\n",
    "\n",
    "    seg_kwargs['inputs_embeds'][:, self.read_memory_position] = memory[non_empty_mask]\n",
    "    seg_kwargs['inputs_embeds'][:, self.write_memory_position] = memory[non_empty_mask]\n",
    "    out = self.model(**seg_kwargs)\n",
    "    base_model_outputs.append(out)\n",
    "    \n",
    "    memory[non_empty_mask] = out.hidden_states[-1][:, self.write_memory_position]\n",
    "\n",
    "self.memory_state = memory\n",
    "\n",
    "out2f = self.process_outputs(base_model_outputs, kwargs)\n",
    "for k in out2f:\n",
    "    if 'loss' in k:\n",
    "        print(k, out2f[k].item())"
   ]
  },
  {
   "cell_type": "code",
   "execution_count": null,
   "metadata": {},
   "outputs": [],
   "source": []
  },
  {
   "cell_type": "code",
   "execution_count": 135,
   "metadata": {},
   "outputs": [
    {
     "name": "stdout",
     "output_type": "stream",
     "text": [
      "key - loss - fake memory loss\n",
      "loss 2.35 2.37\n",
      "loss_0 3.58 3.4\n",
      "loss_1 2.43 2.28\n",
      "loss_2 2.52 2.44\n",
      "loss_3 2.94 2.81\n",
      "loss_4 2.32 2.35\n",
      "loss_5 1.85 1.93\n",
      "loss_6 3.72 3.79\n",
      "loss_7 2.35 2.37\n"
     ]
    }
   ],
   "source": [
    "print('key - loss - fake memory loss')\n",
    "for k in out2f:\n",
    "    if 'loss' in k:\n",
    "        print(k, round(out2[k].item(), 2), round(out2f[k].item(), 2))"
   ]
  }
 ],
 "metadata": {
  "kernelspec": {
   "display_name": "hvdenv",
   "language": "python",
   "name": "python3"
  },
  "language_info": {
   "codemirror_mode": {
    "name": "ipython",
    "version": 3
   },
   "file_extension": ".py",
   "mimetype": "text/x-python",
   "name": "python",
   "nbconvert_exporter": "python",
   "pygments_lexer": "ipython3",
   "version": "3.8.10"
  }
 },
 "nbformat": 4,
 "nbformat_minor": 4
}
