{
 "cells": [
  {
   "cell_type": "code",
   "execution_count": 3,
   "metadata": {},
   "outputs": [
    {
     "name": "stderr",
     "output_type": "stream",
     "text": [
      "\n",
      "libgomp: Invalid value for environment variable OMP_NUM_THREADS\n",
      "/home/jovyan/envs/accel_rmt/lib/python3.9/site-packages/tqdm/auto.py:21: TqdmWarning: IProgress not found. Please update jupyter and ipywidgets. See https://ipywidgets.readthedocs.io/en/stable/user_install.html\n",
      "  from .autonotebook import tqdm as notebook_tqdm\n"
     ]
    },
    {
     "name": "stdout",
     "output_type": "stream",
     "text": [
      "[2023-10-13 01:20:47,456] [INFO] [real_accelerator.py:133:get_accelerator] Setting ds_accelerator to cuda (auto detect)\n"
     ]
    }
   ],
   "source": [
    "import sys\n",
    "sys.path.append('../')\n",
    "\n",
    "import json\n",
    "import logging\n",
    "import os\n",
    "import math\n",
    "import random\n",
    "import shutil\n",
    "from pathlib import Path\n",
    "from itertools import chain\n",
    "\n",
    "# from dotenv import load_dotenv\n",
    "import torch\n",
    "import numpy as np\n",
    "import accelerate\n",
    "from torch.utils.data import DataLoader\n",
    "from datasets import Dataset, load_dataset, load_from_disk\n",
    "\n",
    "# from lm_experiments_tools import Trainer, TrainerArgs\n",
    "from lm_experiments_tools.trainer_accelerate import TrainerAccelerateArgs\n",
    "from lm_experiments_tools.trainer_accelerate import TrainerAccelerate as Trainer\n",
    "\n",
    "from torch.nn.utils.rnn import pad_sequence\n",
    "from torch.utils.data.distributed import DistributedSampler\n",
    "\n",
    "from peft import get_peft_model, LoraConfig, TaskType\n",
    "\n",
    "# from lm_experiments_tools import TrainerArgs\n",
    "from lm_experiments_tools.trainer import Trainer\n",
    "\n",
    "from torch.nn.utils.rnn import pad_sequence\n",
    "# from lm_experiments_tools.lm_datasets import get_lm_datasets\n",
    "from task_utils.contract_nli import process_file\n",
    "import transformers  # noqa: E402\n",
    "from transformers import AutoConfig, AutoTokenizer, HfArgumentParser  # noqa: E402\n",
    "\n",
    "from lm_experiments_tools.utils import collect_run_configuration, get_cls_by_name, get_optimizer  # noqa: E402\n",
    "import lm_experiments_tools.optimizers as optimizers  # noqa: E402\n",
    "\n",
    "from matplotlib import pyplot as plt"
   ]
  },
  {
   "cell_type": "code",
   "execution_count": 4,
   "metadata": {},
   "outputs": [],
   "source": [
    "\n",
    "# load_dotenv()\n",
    "\n",
    "# logging.basicConfig(format='%(asctime)s - %(name)s - %(levelname)s - %(message)s',\n",
    "#                     level=logging.INFO)\n",
    "# logger = logging.getLogger(__name__)\n",
    "\n",
    "# os.environ[\"CUDA_LAUNCH_BLOCKING\"] = \"1\"\n",
    "# # if CUDA_VISIBLE_DEVICES is not set make all gpus visible\n",
    "# if os.environ.get('CUDA_VISIBLE_DEVICES', None) is None:\n",
    "#     os.environ['CUDA_VISIBLE_DEVICES'] = ','.join([str(i) for i in range(torch.cuda.device_count())])\n",
    "\n",
    "# logger.info(f\"CUDA_VISIBLE_DEVICES: {os.environ['CUDA_VISIBLE_DEVICES']}\")\n",
    "# # first call to torch.cuda.device_count() sets visible gpus, following calls will not change the result\n",
    "# logger.info(f\"CUDA DEVICE COUNT: {torch.cuda.device_count()}\")\n",
    "\n",
    "# hvd.init()\n",
    "\n",
    "\n",
    "# # limit # of CPU threads to be used per pytorch worker, otherwise it might use all cpus and throttle gpus\n",
    "# # > 2 fails cause of https://github.com/pytorch/pytorch/issues/56615\n",
    "# # need to upgrade to torch>1.8.1\n",
    "# torch.set_num_threads(4)\n",
    "# # all gpus set with CUDA_VISIBLE_DEVICES are visible to process, indexing from 0 to ...\n",
    "# torch.cuda.set_device(hvd.local_rank())\n",
    "\n",
    "# parser = HfArgumentParser(TrainerArgs)\n",
    "# parser.add_argument('--task_name', type=str, help=\"Task name, wikitext, ...\")\n",
    "# parser.add_argument('--validate_only', action='store_true', default=False,\n",
    "#                     help='Skip training and run only validation. (default: False)')\n",
    "# parser.add_argument('--working_dir', type=str, default='.',\n",
    "#                     help='working dir, should be a dir with t5-experiments repo (default: .)')\n",
    "# parser.add_argument('--seed', type=int, default=42, help='random seed')\n",
    "# parser.add_argument('--show_valid_examples', type=int, default=0,\n",
    "#                     help='how many valid examples to show during training (default: 0)')\n",
    "# parser.add_argument('--input_seq_len', type=int, default=128, help='input sequnce length (default: 128).')\n",
    "# parser.add_argument('--target_seq_len', type=int, default=16, help='target sequnce length, should be set to '\n",
    "#                                                                    'max(len(target))+1 for EOS (default: 16).')\n",
    "# parser.add_argument('--data_n_workers', type=int, default=2, help='number of dataloader workers (default: 2)')\n",
    "\n",
    "# parser.add_argument('--input_prefix', type=str, default='', help='add task prefix to an input string (default: \"\")')\n",
    "# parser.add_argument('--sliding_window', action='store_true', help='use slinding window attentinon mask, '\n",
    "#                     'eval on last segment only', default=False)\n",
    "\n",
    "# # model args\n",
    "# parser.add_argument('--from_pretrained', type=str, help='model name in HF Model Hub (default: \"\")')\n",
    "# parser.add_argument('--model_cfg', type=str, help='path to model configuration file (default: \"\")')\n",
    "# parser.add_argument('--model_cls', type=str, default='transformers:BertForPreTraining',\n",
    "#                     help='model class name to use (default: transformers:BertForPreTraining)')\n",
    "# parser.add_argument('--memory_cell_cls', type=str, default=None, help='cell class for RMT')\n",
    "# parser.add_argument('--recurrent_wrapper_cls', type=str, default=None, help='recurrent wrapper class for RMT')\n",
    "# parser.add_argument('--model_cpt', type=str, default=None, help='pretrained model checkpoint path')\n",
    "# parser.add_argument('--backbone_cls', type=str, default=None,\n",
    "#                     help='backbone class name to use for RMT')\n",
    "# parser.add_argument('--model_type', type=str, default='encoder-decoder',\n",
    "#                     help='model type, encoder, encoder-decoder, decoder, affects preprocessing '\n",
    "#                          '(default: encoder-decoder)')\n",
    "\n",
    "\n",
    "# # Aydar # RMT args \n",
    "# parser.add_argument('--input_size', type=int, default=None, help='maximal input size of the backbone model')\n",
    "# parser.add_argument('--num_mem_tokens', type=int, default=None, help='number of memory tokens.')\n",
    "# parser.add_argument('--max_n_segments', type=int, default=1, help='maximal segment number')\n",
    "# # parser.add_argument('--sum_loss', action='store_true', default=False,\n",
    "# #                     help='with this flag task loss from all segments is summed')\n",
    "# # parser.add_argument('--bptt_depth', type=int, default=-1, help='max number of previous segments in gradient computation.')\n",
    "# # parser.add_argument('--segment_ordering', type=str, help='segment order', default='regular',\n",
    "# #                     choices=['regular', 'reversed', 'bidirectional', 'repeat_first', 'last_memory_only'])\n",
    "# # parser.add_argument('--memory_forward_func', type=str, help='path to memory forward funсtion script', default=None)\n",
    "# # parser.add_argument('--memory_layers', type=str, help='memory-augmented layer inds or \"all\" for all layers', default=None)\n",
    "# # parser.add_argument('--share_memory_layers', action='store_true', help='share weights of memory layers', default=False)\n",
    "# # parser.add_argument('--reconstruction_loss_coef', type=float, default=None,\n",
    "# #                     help='reconstuction loss ratio in total loss')\n",
    "# # # parser.add_argument('--segment_ordering', type=str,help='????', default='regular',\n",
    "# # #                     choices=['regular', 'reversed', 'bidirectional', 'repeat_first', 'last_memory_only'])\n",
    "# # parser.add_argument('--retain_graph', action='store_true', help='Retain computation graph during backward pass', default=False)\n",
    "# # parser.add_argument('--use_truncated_backward', action='store_true', default=False,\n",
    "# #                     help='whether to use RMT truncated bptt method in backward')\n",
    "# # parser.add_argument('--k1', type=int, default=-1, help='(not implemented) If not -1, gradient update is done each k1 segments')\n",
    "# parser.add_argument('--k2', type=int, default=-1, help='number of last segments used by backward')\n",
    "# parser.add_argument('--freeze_model_weights', action='store_true', default=False,\n",
    "#                     help='Stop training all model weights except memory layers')\n",
    "# parser.add_argument('--backbone_cpt', type=str, default=None, help='backbone model checkpoint path')\n",
    "\n",
    "\n",
    "# # tokenizer\n",
    "# # todo: add wordpiece tokenizers support?\n",
    "# parser.add_argument('--tokenizer', type=str, default=None, help='path or name of pre-trained HF Tokenizer')\n",
    "\n",
    "# # optimizer args\n",
    "# parser.add_argument('--optimizer', type=str, default='AdamW', help='optimizer name: AdamW, Adafactor. (default: AdamW)')\n",
    "# parser.add_argument('--weight_decay', type=float, default=0.0, help='optimizer weight decay (default: 0.0)')\n",
    "# parser.add_argument('--scale_parameter', action='store_true', default=False,\n",
    "#                     help='Adafactor scale_parameter (default: False)')\n",
    "# parser.add_argument('--relative_step', action='store_true', default=False,\n",
    "#                     help='Adafactor relative_step (default: False)')\n",
    "# parser.add_argument('--warmup_init', action='store_true', default=False,\n",
    "#                     help='Adafactor warmup_init (default: False)')"
   ]
  },
  {
   "cell_type": "code",
   "execution_count": 5,
   "metadata": {},
   "outputs": [],
   "source": [
    "class Holder:\n",
    "    def __init__(self):\n",
    "        pass\n",
    "    def __getattr__(self, name):\n",
    "        try:\n",
    "            return super().__getattr__(name)\n",
    "        except AttributeError:\n",
    "            return None\n",
    "\n",
    "args = Holder()"
   ]
  },
  {
   "cell_type": "code",
   "execution_count": 6,
   "metadata": {},
   "outputs": [],
   "source": [
    "# model_cpt = '/cephfs/home/bulatov/bulatov/RMT_light/runs/contract_nli/gpt2/linear_adamw_wd1e-03_124-128-1x128_mem2_bs128_regular_bptt-1_from_cpt_0-1/run_1/'\n",
    "# model_cpt = \"/cephfs/home/bulatov/bulatov/RMT_light/runs/contract_nli/gpt2/linear_adamw_wd1e-03_118-128-1x128_mem5_bs128_regular_bptt-1_from_cpt_0-1/run_1\"\n",
    "# model_cpt = '/cephfs/home/bulatov/bulatov/RMT_light/runs/contract_nli/gpt2/lr5e-05_linear_adamw_wd1e-03_236-128-2x128_mem5_bs128_iters1500_regular_bptt-2/run_1'"
   ]
  },
  {
   "cell_type": "code",
   "execution_count": 7,
   "metadata": {},
   "outputs": [],
   "source": [
    "# import json\n",
    "# with open(model_cpt + '/config.json', 'r') as f:\n",
    "#     config = json.load(f)\n",
    "\n",
    "# config"
   ]
  },
  {
   "cell_type": "code",
   "execution_count": 8,
   "metadata": {},
   "outputs": [],
   "source": [
    "attrs = (\"--model_path\", \"/home/jovyan/rmt/runs/test/pile\",\n",
    "\"--from_pretrained\", \"EleutherAI/pythia-70m-deduped\",\n",
    "\"--task_name\", \"qasper\",\n",
    "\"--model_type\", \"decoder\",\n",
    "\"--memory_cell_cls\", \"modeling_rmt.language_modeling:MemoryCell\",\n",
    "\"--recurrent_wrapper_cls\", \"modeling_rmt.language_modeling:RecurrentWrapper\",\n",
    "\"--model_cls\",  \"base_models.modeling_gpt_neox:GPTNeoXForCausalLM\",\n",
    "\"--segment_alignment\", \"right\",\n",
    "# \"--model_cpt\", model_cpt,\n",
    "\"--optimizer\", \"AdamW\",\n",
    "\"--weight_decay\", \"0.001\",\n",
    "\"--lr\", \"1e-03\", \n",
    "\"--lr_scheduler\", \"constant_with_warmup\",\n",
    "\"--clip_grad_value\", \"5.0\")\n",
    "\n",
    "int_attrs = (\n",
    "    \n",
    "# \"--input_seq_len\", \"118\",\n",
    "\"--block_size\", \"124\",\n",
    "\"--input_size\", \"128\",\n",
    "\"--history_size\", \"372\",\n",
    "\"--num_mem_tokens\", \"2\",\n",
    "\"--max_n_segments\" ,\"4\", \n",
    "\"--batch_size\", \"2\", \n",
    "\"--gradient_accumulation_steps\", \"1\",\n",
    "\"--iters\", \"100\",\n",
    "\"--num_warmup_steps\", \"100\",\n",
    "\"--data_n_workers\", \"2\",\n",
    "\"--log_interval\", \"10\",\n",
    "\"--show_valid_examples\", \"5\",\n",
    "\"--early_stopping_patience\", \"15\",\n",
    "\"--seed\", \"42\",\n",
    "\"--k2\", \"-1\",)"
   ]
  },
  {
   "cell_type": "code",
   "execution_count": 9,
   "metadata": {},
   "outputs": [],
   "source": [
    "for a, v in zip(int_attrs[::2], int_attrs[1::2]):\n",
    "    setattr(args, a.split('--')[1], int(v))\n",
    "\n",
    "for a, v in zip(attrs[::2], attrs[1::2]):\n",
    "    try:\n",
    "        setattr(args, a.split('--')[1], float(v))\n",
    "    except ValueError:\n",
    "        setattr(args, a.split('--')[1], v)"
   ]
  },
  {
   "cell_type": "code",
   "execution_count": 10,
   "metadata": {},
   "outputs": [],
   "source": [
    "\n",
    "# args = parser.parse_args()\n",
    "# set current working dir\n",
    "# args.working_dir = str(Path(args.working_dir).expanduser().absolute())\n",
    "# os.chdir(args.working_dir)\n",
    "# if hvd.rank() == 0:\n",
    "#     logger.info(f'hvd size: {hvd.size()}')\n",
    "#     logger.info(f'FP16: {args.fp16}')\n",
    "\n",
    "# if hvd.rank() == 0 and args.model_path is None:\n",
    "#     logger.warning('model_path is not set: config, logs and checkpoints will not be saved.')\n",
    "\n",
    "# # create model path and save configuration\n",
    "# if hvd.rank() == 0 and args.model_path is not None:\n",
    "#     model_path = Path(args.model_path)\n",
    "#     if not model_path.exists():\n",
    "#         Path(model_path).mkdir(parents=True)\n",
    "#     args_dict = collect_run_configuration(args)\n",
    "#     # todo: if model path exists and there is config file, write new config file aside\n",
    "#     json.dump(args_dict, open(model_path/'config.json', 'w'), indent=4)\n",
    "\n",
    "if not args.from_pretrained:\n",
    "    tokenizer = AutoTokenizer.from_pretrained(args.tokenizer)\n",
    "else:\n",
    "    tokenizer = AutoTokenizer.from_pretrained(args.from_pretrained)\n"
   ]
  },
  {
   "cell_type": "code",
   "execution_count": 11,
   "metadata": {},
   "outputs": [],
   "source": [
    "def tokenization(sample):\n",
    "    return tokenizer.encode(sample[\"text\"])\n",
    "\n",
    "class BlockDataLoader(DataLoader):\n",
    "    def __init__(self, dataset, block_size, history_size, max_samples=None, shuffle=False, *args, **kwargs):\n",
    "        super().__init__(dataset, *args, **kwargs)\n",
    "        self.block_size = block_size\n",
    "        self.history_size = history_size\n",
    "        self.max_samples = max_samples\n",
    "        self.shuffle = shuffle\n",
    "            \n",
    "    def get_samples(self, document):\n",
    "        input_ids = tokenizer.encode(document['text'])\n",
    "        # do not load short documents\n",
    "        if len(input_ids) < self.block_size:\n",
    "            return []\n",
    "        if args.min_tokens_in_document is not None and len(input_ids) < args.min_tokens_in_document:\n",
    "            return []\n",
    "        # samples = [input_ids[max({0, start - self.history_size - self.block_size}): start] for start in range(self.block_size + self.history_size, len(input_ids), self.block_size)]\n",
    "        samples = [input_ids[max({0, start - self.history_size - self.block_size}): start] for start in range(self.block_size, len(input_ids), self.block_size)]\n",
    "        \n",
    "        \n",
    "        # samples = [input_ids[start: start + self.block_size] for start in range(self.history_size, len(input_ids), self.block_size)]\n",
    "        # print('samples', [len(s) for s in samples])\n",
    "        # print('input_ids', len(input_ids))\n",
    "        return samples\n",
    "    \n",
    "    def __iter__(self):\n",
    "        inds = list(range(len(self.dataset)))\n",
    "\n",
    "        if self.max_samples is not None:\n",
    "            inds = inds[:self.max_samples]\n",
    "\n",
    "        if self.shuffle: \n",
    "            np.random.shuffle(inds)\n",
    "\n",
    "        doc_ind = 0\n",
    "        samples = []\n",
    "\n",
    "        while True:\n",
    "            if doc_ind >= len(inds):\n",
    "                break\n",
    "            try: \n",
    "                while len(samples) < self.batch_size:\n",
    "                    document = self.dataset[inds[doc_ind]]\n",
    "                    doc_ind += 1\n",
    "                    samples += self.get_samples(document)\n",
    "                    if doc_ind >= len(inds):\n",
    "                        raise(StopIteration)\n",
    "            except(StopIteration):\n",
    "                pass\n",
    "\n",
    "            batch, samples = samples[:self.batch_size], samples[self.batch_size:]\n",
    "            # print('batch', [len(b) for b in batch])\n",
    "            # print('samples', [len(b) for b in samples])\n",
    "            yield self.collate_fn(batch)"
   ]
  },
  {
   "cell_type": "code",
   "execution_count": 12,
   "metadata": {},
   "outputs": [],
   "source": [
    "block_size = args.block_size if args.block_size is not None else args.input_size\n",
    "history_size = args.history_size\n",
    "\n",
    "\n",
    "id_pad_value = tokenizer.pad_token_id if tokenizer.pad_token_id is not None else tokenizer.eos_token_id\n",
    "def collate_fn(batch):\n",
    "    input_ids = labels = [torch.tensor(b) for b in batch]\n",
    "    attention_mask = [torch.ones_like(b, dtype=int) for b in input_ids]\n",
    "    labels_mask = [torch.ones_like(b, dtype=int) for b in input_ids]\n",
    "    for m in labels_mask:\n",
    "        m[:-block_size] = False\n",
    "    \n",
    "    input_ids = pad_sequence(input_ids, padding_value=id_pad_value, batch_first=True)\n",
    "    labels = pad_sequence(labels, padding_value=-100, batch_first=True)\n",
    "    attention_mask = pad_sequence(attention_mask, padding_value=0, batch_first=True)\n",
    "    labels_mask = pad_sequence(labels_mask, padding_value=0, batch_first=True)\n",
    "\n",
    "    collated = {'input_ids': input_ids,\n",
    "                'labels': labels, \n",
    "                'attention_mask': attention_mask}\n",
    "    \n",
    "    if input_ids.shape[1] != block_size:\n",
    "        collated['labels_mask'] = labels_mask.bool()\n",
    "\n",
    "    if getattr(args, 'vary_n_segments', False):\n",
    "        if getattr(args, 'sampling_prob', False):\n",
    "            random_value = torch.rand((1)).item()\n",
    "            if random_value > args.sampling_prob:\n",
    "                return collated\n",
    "            \n",
    "        n_segments = random.randint(0, args.max_n_segments)\n",
    "        n_tokens = n_segments * block_size\n",
    "        for k in collated:\n",
    "            collated[k] = collated[k][:, -n_tokens:]\n",
    "    \n",
    "    # print('\\n\\n\\ninput_ids', input_ids.shape)\n",
    "    # print('collated', collated)\n",
    "    return collated"
   ]
  },
  {
   "cell_type": "code",
   "execution_count": 13,
   "metadata": {},
   "outputs": [
    {
     "data": {
      "text/plain": [
       "50277"
      ]
     },
     "execution_count": 13,
     "metadata": {},
     "output_type": "execute_result"
    }
   ],
   "source": [
    "len(tokenizer.vocab)"
   ]
  },
  {
   "cell_type": "code",
   "execution_count": 14,
   "metadata": {},
   "outputs": [
    {
     "name": "stderr",
     "output_type": "stream",
     "text": [
      "Resolving data files: 100%|██████████| 30/30 [00:00<00:00, 179755.89it/s]"
     ]
    },
    {
     "name": "stderr",
     "output_type": "stream",
     "text": [
      "\n"
     ]
    }
   ],
   "source": [
    "\n",
    "dataset = load_dataset('/home/jovyan/rmt/datasets/pile/data')"
   ]
  },
  {
   "cell_type": "code",
   "execution_count": 15,
   "metadata": {},
   "outputs": [],
   "source": [
    "train_dataset, valid_dataset, test_dataset = dataset[\"train\"], dataset[\"validation\"], dataset[\"test\"]\n",
    "\n",
    "\n",
    "# shuffle train data each epoch (one loop over train_dataset)\n",
    "train_rnd_generator = torch.Generator()\n",
    "train_rnd_generator.manual_seed(args.seed)\n",
    "per_worker_batch_size = args.batch_size * args.gradient_accumulation_steps\n",
    "kwargs = {'pin_memory': True, 'num_workers': args.data_n_workers}\n",
    "    \n",
    "# train_sampler = DistributedSampler(train_dataset, shuffle=True)\n",
    "train_dataloader = BlockDataLoader(train_dataset, batch_size=per_worker_batch_size,  #generator=train_rnd_generator,\n",
    "                                # sampler=train_sampler,\n",
    "                                block_size=block_size, \n",
    "                                history_size=history_size, \n",
    "                                shuffle=True,\n",
    "                                collate_fn=collate_fn, **kwargs)\n",
    "\n",
    "# get validation dataset\n",
    "max_samples = 5000 if args.validate_only else 100\n",
    "# max_samples = 100\n",
    "valid_dataloader = None\n",
    "# logger.info(f'preparing validation data')\n",
    "# valid_sampler = DistributedSampler(valid_dataset, shuffle=True)\n",
    "valid_dataloader = BlockDataLoader(valid_dataset, batch_size=per_worker_batch_size,\n",
    "                                # sampler=valid_sampler,\n",
    "                                block_size=block_size, \n",
    "                                history_size=history_size, \n",
    "                                shuffle=False,\n",
    "                                max_samples=max_samples,\n",
    "                                collate_fn=collate_fn, drop_last=True, **kwargs)"
   ]
  },
  {
   "cell_type": "code",
   "execution_count": 16,
   "metadata": {},
   "outputs": [],
   "source": [
    "model_cls = get_cls_by_name(args.model_cls)\n",
    "\n",
    "# logger.info(f'Using model class: {model_cls}')\n",
    "\n",
    "if args.use_adapter:\n",
    "    model_cfg = AutoConfig.from_pretrained(args.from_pretrained)\n",
    "\n",
    "    model_cfg.use_parallel_adapter = args.use_adapter\n",
    "    model_cfg.parallel_adapter_mode = 'ffn'\n",
    "    model_cfg.adapter_bottleneck_dim = args.adapter_bottleneck_dim\n",
    "    model_cfg.adapter_dropout = args.adapter_dropout\n",
    "    model_cfg.adapter_scale = args.adapter_scale\n",
    "\n",
    "    model = model_cls(config=model_cfg)\n",
    "\n",
    "    # logger.info(f'Loading pretrained model: {args.from_pretrained}')\n",
    "    base_model = model_cls.from_pretrained(args.from_pretrained, use_safetensors=False)\n",
    "\n",
    "    model.load_state_dict(base_model.state_dict(), strict=False)\n",
    "    del base_model\n",
    "    # logger.info(f'Added adapters')\n",
    "\n",
    "else:\n",
    "    if not args.from_pretrained:\n",
    "        model_cfg = AutoConfig.from_pretrained(args.model_cfg)\n",
    "        model = model_cls(config=model_cfg)\n",
    "    else:\n",
    "        # logger.info(f'Loading pretrained model: {args.from_pretrained}')\n",
    "        model = model_cls.from_pretrained(args.from_pretrained, use_safetensors=False)\n",
    "\n",
    "if args.use_lora:\n",
    "    peft_config = LoraConfig(\n",
    "        task_type=TaskType.CAUSAL_LM, \n",
    "        inference_mode=False, \n",
    "        r=args.lora_attn_dim, \n",
    "        lora_alpha=args.lora_attn_alpha, \n",
    "        lora_dropout=args.lora_dropout\n",
    "        )\n",
    "    model = get_peft_model(model, peft_config)\n",
    "    # logger.info(f'Added LoRA, trainable parameters with LoRA only:')\n",
    "    model.print_trainable_parameters()\n",
    "\n",
    "\n",
    "## load cpt of backbone model\n",
    "if args.backbone_cpt:\n",
    "    backbone_cpt = os.path.join(args.backbone_cpt, \"model_best/pytorch_model.bin\")\n",
    "    # model = torch.load(backbone_cpt, map_location='cpu')\n",
    "    cpt = torch.load(backbone_cpt, map_location='cpu')\n",
    "    model.load_state_dict(cpt, strict=False)\n",
    "    # logger.info(f'Loaded baseline state dict from: {args.backbone_cpt}')\n",
    "\n",
    "# Pass memory settings to pretrained model\n",
    "if args.num_mem_tokens is not None:\n",
    "    memory_cell_cls = get_cls_by_name(args.memory_cell_cls)\n",
    "    recurrent_wrapper_cls = get_cls_by_name(args.recurrent_wrapper_cls)\n",
    "    # logger.info(f'Wrapping in: {memory_cell_cls} and {recurrent_wrapper_cls}')\n",
    "    \n",
    "    base_model_forward = args.base_model_forward\n",
    "    if base_model_forward is not None:\n",
    "        base_model_forward = get_cls_by_name(base_model_forward)\n",
    "        # logger.info(f\"Using custom forward function: {base_model_forward}\")\n",
    "    cell = memory_cell_cls(model, args.num_mem_tokens)\n",
    "    # if args.segment_alignment not in {None, 'left'}:\n",
    "        # logger.info(f\"Using custom segment alignment: {args.segment_alignment}\")\n",
    "    model = recurrent_wrapper_cls(cell, \n",
    "                                    segment_size=block_size,\n",
    "                                    max_n_segments=args.max_n_segments, \n",
    "                                    vary_n_segments=args.vary_n_segments,\n",
    "                                    segment_alignment=args.segment_alignment,\n",
    "                                    k2=args.k2,\n",
    "                                    base_model_forward_func=base_model_forward\n",
    "    )\n",
    "                                \n",
    "\n",
    "    ## load cpt of rmt\n",
    "    if args.model_cpt:\n",
    "        model_cpt = os.path.join(args.model_cpt, \"model_best/pytorch_model.bin\")\n",
    "        # model = torch.load(model_cpt, map_location='cpu')\n",
    "        cpt = torch.load(model_cpt, map_location='cpu')\n",
    "        # print(cpt.keys())\n",
    "        model.load_state_dict(cpt, strict=False)\n",
    "        # logger.info(f'Loaded RMT state dict from: {args.model_cpt}')"
   ]
  },
  {
   "cell_type": "code",
   "execution_count": 17,
   "metadata": {},
   "outputs": [],
   "source": [
    "\n",
    "# define optimizer\n",
    "optimizer_cls = get_optimizer(args.optimizer)\n",
    "if optimizer_cls is None:\n",
    "    raise RuntimeError(f'{args.optimizer} was not found in optimizers, torch.optim, transformers.optimization')\n",
    "\n",
    "# if hvd.rank() == 0:\n",
    "#     logger.info(f'Using optimizer class: {optimizer_cls}')\n",
    "\n",
    "# todo: group optimizer params\n",
    "if optimizer_cls in [transformers.optimization.Adafactor, optimizers.Adafactor]:\n",
    "    # https://github.com/huggingface/transformers/pull/9751/files -> transformers 4.3.0\n",
    "    optimizer = optimizer_cls(model.parameters(), lr=args.lr,\n",
    "                                scale_parameter=args.scale_parameter,\n",
    "                                relative_step=args.relative_step,\n",
    "                                warmup_init=args.warmup_init,\n",
    "                                weight_decay=args.weight_decay)\n",
    "else:\n",
    "    optimizer = optimizer_cls(model.parameters(), lr=args.lr, weight_decay=args.weight_decay)\n",
    "\n",
    "def keep_for_metrics_fn(batch, output):\n",
    "        # select data from batch and model output that would be used to compute metrics\n",
    "        data = {}\n",
    "        data['labels'] = batch['labels']\n",
    "        data['loss'] = output['loss']\n",
    "        if 'logits' in output:\n",
    "            data['predictions'] = torch.argmax(output['logits'].detach(), dim=-1)\n",
    "        return data\n"
   ]
  },
  {
   "cell_type": "code",
   "execution_count": 18,
   "metadata": {},
   "outputs": [
    {
     "data": {
      "text/plain": [
       "GPTNeoXForCausalLM(\n",
       "  (gpt_neox): GPTNeoXModel(\n",
       "    (embed_in): Embedding(50304, 512)\n",
       "    (emb_dropout): Dropout(p=0.0, inplace=False)\n",
       "    (layers): ModuleList(\n",
       "      (0-5): 6 x GPTNeoXLayer(\n",
       "        (input_layernorm): LayerNorm((512,), eps=1e-05, elementwise_affine=True)\n",
       "        (post_attention_layernorm): LayerNorm((512,), eps=1e-05, elementwise_affine=True)\n",
       "        (post_attention_dropout): Dropout(p=0.0, inplace=False)\n",
       "        (post_mlp_dropout): Dropout(p=0.0, inplace=False)\n",
       "        (attention): GPTNeoXAttention(\n",
       "          (rotary_emb): GPTNeoXRotaryEmbedding()\n",
       "          (query_key_value): Linear(in_features=512, out_features=1536, bias=True)\n",
       "          (dense): Linear(in_features=512, out_features=512, bias=True)\n",
       "          (attention_dropout): Dropout(p=0.0, inplace=False)\n",
       "        )\n",
       "        (mlp): GPTNeoXMLP(\n",
       "          (dense_h_to_4h): Linear(in_features=512, out_features=2048, bias=True)\n",
       "          (dense_4h_to_h): Linear(in_features=2048, out_features=512, bias=True)\n",
       "          (act): GELUActivation()\n",
       "        )\n",
       "      )\n",
       "    )\n",
       "    (final_layer_norm): LayerNorm((512,), eps=1e-05, elementwise_affine=True)\n",
       "  )\n",
       "  (embed_out): Linear(in_features=512, out_features=50304, bias=False)\n",
       ")"
      ]
     },
     "execution_count": 18,
     "metadata": {},
     "output_type": "execute_result"
    }
   ],
   "source": [
    "model.memory_cell.model"
   ]
  },
  {
   "cell_type": "code",
   "execution_count": 19,
   "metadata": {},
   "outputs": [
    {
     "data": {
      "text/plain": [
       "['',\n",
       " 'memory_cell',\n",
       " 'memory_cell.model',\n",
       " 'memory_cell.model.gpt_neox',\n",
       " 'memory_cell.model.gpt_neox.embed_in',\n",
       " 'memory_cell.model.gpt_neox.emb_dropout',\n",
       " 'memory_cell.model.gpt_neox.layers',\n",
       " 'memory_cell.model.gpt_neox.layers.0',\n",
       " 'memory_cell.model.gpt_neox.layers.0.input_layernorm',\n",
       " 'memory_cell.model.gpt_neox.layers.0.post_attention_layernorm',\n",
       " 'memory_cell.model.gpt_neox.layers.0.post_attention_dropout',\n",
       " 'memory_cell.model.gpt_neox.layers.0.post_mlp_dropout',\n",
       " 'memory_cell.model.gpt_neox.layers.0.attention',\n",
       " 'memory_cell.model.gpt_neox.layers.0.attention.rotary_emb',\n",
       " 'memory_cell.model.gpt_neox.layers.0.attention.query_key_value',\n",
       " 'memory_cell.model.gpt_neox.layers.0.attention.dense',\n",
       " 'memory_cell.model.gpt_neox.layers.0.attention.attention_dropout',\n",
       " 'memory_cell.model.gpt_neox.layers.0.mlp',\n",
       " 'memory_cell.model.gpt_neox.layers.0.mlp.dense_h_to_4h',\n",
       " 'memory_cell.model.gpt_neox.layers.0.mlp.dense_4h_to_h',\n",
       " 'memory_cell.model.gpt_neox.layers.0.mlp.act',\n",
       " 'memory_cell.model.gpt_neox.layers.1',\n",
       " 'memory_cell.model.gpt_neox.layers.1.input_layernorm',\n",
       " 'memory_cell.model.gpt_neox.layers.1.post_attention_layernorm',\n",
       " 'memory_cell.model.gpt_neox.layers.1.post_attention_dropout',\n",
       " 'memory_cell.model.gpt_neox.layers.1.post_mlp_dropout',\n",
       " 'memory_cell.model.gpt_neox.layers.1.attention',\n",
       " 'memory_cell.model.gpt_neox.layers.1.attention.rotary_emb',\n",
       " 'memory_cell.model.gpt_neox.layers.1.attention.query_key_value',\n",
       " 'memory_cell.model.gpt_neox.layers.1.attention.dense',\n",
       " 'memory_cell.model.gpt_neox.layers.1.attention.attention_dropout',\n",
       " 'memory_cell.model.gpt_neox.layers.1.mlp',\n",
       " 'memory_cell.model.gpt_neox.layers.1.mlp.dense_h_to_4h',\n",
       " 'memory_cell.model.gpt_neox.layers.1.mlp.dense_4h_to_h',\n",
       " 'memory_cell.model.gpt_neox.layers.1.mlp.act',\n",
       " 'memory_cell.model.gpt_neox.layers.2',\n",
       " 'memory_cell.model.gpt_neox.layers.2.input_layernorm',\n",
       " 'memory_cell.model.gpt_neox.layers.2.post_attention_layernorm',\n",
       " 'memory_cell.model.gpt_neox.layers.2.post_attention_dropout',\n",
       " 'memory_cell.model.gpt_neox.layers.2.post_mlp_dropout',\n",
       " 'memory_cell.model.gpt_neox.layers.2.attention',\n",
       " 'memory_cell.model.gpt_neox.layers.2.attention.rotary_emb',\n",
       " 'memory_cell.model.gpt_neox.layers.2.attention.query_key_value',\n",
       " 'memory_cell.model.gpt_neox.layers.2.attention.dense',\n",
       " 'memory_cell.model.gpt_neox.layers.2.attention.attention_dropout',\n",
       " 'memory_cell.model.gpt_neox.layers.2.mlp',\n",
       " 'memory_cell.model.gpt_neox.layers.2.mlp.dense_h_to_4h',\n",
       " 'memory_cell.model.gpt_neox.layers.2.mlp.dense_4h_to_h',\n",
       " 'memory_cell.model.gpt_neox.layers.2.mlp.act',\n",
       " 'memory_cell.model.gpt_neox.layers.3',\n",
       " 'memory_cell.model.gpt_neox.layers.3.input_layernorm',\n",
       " 'memory_cell.model.gpt_neox.layers.3.post_attention_layernorm',\n",
       " 'memory_cell.model.gpt_neox.layers.3.post_attention_dropout',\n",
       " 'memory_cell.model.gpt_neox.layers.3.post_mlp_dropout',\n",
       " 'memory_cell.model.gpt_neox.layers.3.attention',\n",
       " 'memory_cell.model.gpt_neox.layers.3.attention.rotary_emb',\n",
       " 'memory_cell.model.gpt_neox.layers.3.attention.query_key_value',\n",
       " 'memory_cell.model.gpt_neox.layers.3.attention.dense',\n",
       " 'memory_cell.model.gpt_neox.layers.3.attention.attention_dropout',\n",
       " 'memory_cell.model.gpt_neox.layers.3.mlp',\n",
       " 'memory_cell.model.gpt_neox.layers.3.mlp.dense_h_to_4h',\n",
       " 'memory_cell.model.gpt_neox.layers.3.mlp.dense_4h_to_h',\n",
       " 'memory_cell.model.gpt_neox.layers.3.mlp.act',\n",
       " 'memory_cell.model.gpt_neox.layers.4',\n",
       " 'memory_cell.model.gpt_neox.layers.4.input_layernorm',\n",
       " 'memory_cell.model.gpt_neox.layers.4.post_attention_layernorm',\n",
       " 'memory_cell.model.gpt_neox.layers.4.post_attention_dropout',\n",
       " 'memory_cell.model.gpt_neox.layers.4.post_mlp_dropout',\n",
       " 'memory_cell.model.gpt_neox.layers.4.attention',\n",
       " 'memory_cell.model.gpt_neox.layers.4.attention.rotary_emb',\n",
       " 'memory_cell.model.gpt_neox.layers.4.attention.query_key_value',\n",
       " 'memory_cell.model.gpt_neox.layers.4.attention.dense',\n",
       " 'memory_cell.model.gpt_neox.layers.4.attention.attention_dropout',\n",
       " 'memory_cell.model.gpt_neox.layers.4.mlp',\n",
       " 'memory_cell.model.gpt_neox.layers.4.mlp.dense_h_to_4h',\n",
       " 'memory_cell.model.gpt_neox.layers.4.mlp.dense_4h_to_h',\n",
       " 'memory_cell.model.gpt_neox.layers.4.mlp.act',\n",
       " 'memory_cell.model.gpt_neox.layers.5',\n",
       " 'memory_cell.model.gpt_neox.layers.5.input_layernorm',\n",
       " 'memory_cell.model.gpt_neox.layers.5.post_attention_layernorm',\n",
       " 'memory_cell.model.gpt_neox.layers.5.post_attention_dropout',\n",
       " 'memory_cell.model.gpt_neox.layers.5.post_mlp_dropout',\n",
       " 'memory_cell.model.gpt_neox.layers.5.attention',\n",
       " 'memory_cell.model.gpt_neox.layers.5.attention.rotary_emb',\n",
       " 'memory_cell.model.gpt_neox.layers.5.attention.query_key_value',\n",
       " 'memory_cell.model.gpt_neox.layers.5.attention.dense',\n",
       " 'memory_cell.model.gpt_neox.layers.5.attention.attention_dropout',\n",
       " 'memory_cell.model.gpt_neox.layers.5.mlp',\n",
       " 'memory_cell.model.gpt_neox.layers.5.mlp.dense_h_to_4h',\n",
       " 'memory_cell.model.gpt_neox.layers.5.mlp.dense_4h_to_h',\n",
       " 'memory_cell.model.gpt_neox.layers.5.mlp.act',\n",
       " 'memory_cell.model.gpt_neox.final_layer_norm',\n",
       " 'memory_cell.model.embed_out']"
      ]
     },
     "execution_count": 19,
     "metadata": {},
     "output_type": "execute_result"
    }
   ],
   "source": [
    "[key for key, _ in model.named_modules()]"
   ]
  },
  {
   "cell_type": "code",
   "execution_count": 15,
   "metadata": {},
   "outputs": [],
   "source": [
    "def metrics_fn(data):\n",
    "    # compute metrics based on stored labels, predictions, ...\n",
    "    metrics = {}\n",
    "    if 'predictions' in data:\n",
    "        y, p = data['labels'], data['predictions']\n",
    "        if args.show_valid_examples > 0:\n",
    "            for i in range(min(args.show_valid_examples, len(y))):\n",
    "                # logger.info(f'y: {y[i][:100]}')\n",
    "                # logger.info(f'p: {p[i][:100]}')\n",
    "                # pred = p[i][p[i] != -100]\n",
    "                # lab = y[i][y[i] != -100]\n",
    "                # logger.info(f'pred: {pred}')\n",
    "                # logger.info(f'lab: {lab}')\n",
    "                pred = p[i]\n",
    "                lab = y[i]\n",
    "                # try:\n",
    "                #     logger.info(f'y: {tokenizer.decode(lab)[:100]}')\n",
    "                # except OverflowError as e:\n",
    "                #     logger.info(f\"Error in decoding labels: {e}, {lab[:100]}\")\n",
    "                # try:\n",
    "                #     logger.info(f'y: {tokenizer.decode(pred)[:100]}')\n",
    "                # except OverflowError as e:\n",
    "                #     logger.info(f\"Error in decoding predictions: {e}, {pred[:100]}\")\n",
    "                \n",
    "                # logger.info('-' * 50)\n",
    "    try:\n",
    "        perplexity = math.exp(data[\"loss\"].mean())\n",
    "    except OverflowError:\n",
    "        perplexity = float(\"inf\")\n",
    "    metrics[\"perplexity\"] = perplexity\n",
    "\n",
    "    return metrics"
   ]
  },
  {
   "cell_type": "code",
   "execution_count": 18,
   "metadata": {},
   "outputs": [],
   "source": [
    "eval_sample = valid_dataset[:5000]\n",
    "eval_tokenized = list(map(tokenizer.encode, eval_sample['text']))\n",
    "eval_lens = [len(l) for l in eval_tokenized]"
   ]
  },
  {
   "cell_type": "code",
   "execution_count": 24,
   "metadata": {},
   "outputs": [],
   "source": []
  },
  {
   "cell_type": "code",
   "execution_count": 37,
   "metadata": {},
   "outputs": [
    {
     "data": {
      "text/plain": [
       "641"
      ]
     },
     "execution_count": 37,
     "metadata": {},
     "output_type": "execute_result"
    }
   ],
   "source": [
    "len([len(l) for l in eval_tokenized if len(l) > 2044 ])"
   ]
  },
  {
   "cell_type": "code",
   "execution_count": 36,
   "metadata": {},
   "outputs": [
    {
     "data": {
      "image/png": "[encoded data removed]",
      "text/plain": [
       "<Figure size 640x480 with 1 Axes>"
      ]
     },
     "metadata": {},
     "output_type": "display_data"
    }
   ],
   "source": [
    "plt.hist([len(l) for l in eval_tokenized if len(l) > 2044 ], bins=20)\n",
    "plt.xlabel('doc length')\n",
    "plt.ylabel('num documents')\n",
    "plt.title('Distribution of doc lengths in validation (2k < x)')\n",
    "plt.show()"
   ]
  },
  {
   "cell_type": "code",
   "execution_count": 38,
   "metadata": {},
   "outputs": [
    {
     "data": {
      "image/png": "[encoded data removed]",
      "text/plain": [
       "<Figure size 640x480 with 1 Axes>"
      ]
     },
     "metadata": {},
     "output_type": "display_data"
    }
   ],
   "source": [
    "plt.hist([len(l) for l in eval_tokenized if len(l) > 2044 and len(l) < 20000], bins=20)\n",
    "plt.xlabel('doc length')\n",
    "plt.ylabel('num documents')\n",
    "plt.title('Distribution of doc lengths in validation (2k < x < 10k)')\n",
    "plt.show()"
   ]
  },
  {
   "cell_type": "code",
   "execution_count": 29,
   "metadata": {},
   "outputs": [
    {
     "data": {
      "text/plain": [
       "dict_keys(['input_ids', 'labels', 'attention_mask', 'labels_mask'])"
      ]
     },
     "execution_count": 29,
     "metadata": {},
     "output_type": "execute_result"
    }
   ],
   "source": [
    "train_gen=iter(train_dataloader)\n",
    "train_batch = next(train_gen)\n",
    "train_batch.keys(), train_batch['input_ids'].shape"
   ]
  },
  {
   "cell_type": "code",
   "execution_count": 37,
   "metadata": {},
   "outputs": [
    {
     "data": {
      "text/plain": [
       "torch.Size([2, 496])"
      ]
     },
     "execution_count": 37,
     "metadata": {},
     "output_type": "execute_result"
    }
   ],
   "source": [
    "train_batch = next(train_gen)\n",
    "train_batch['input_ids'].shape"
   ]
  },
  {
   "cell_type": "code",
   "execution_count": 38,
   "metadata": {},
   "outputs": [
    {
     "data": {
      "text/plain": [
       "tensor([[False, False, False, False, False, False, False, False, False, False,\n",
       "         False, False, False, False, False, False, False, False, False, False,\n",
       "         False, False, False, False, False, False, False, False, False, False,\n",
       "         False, False, False, False, False, False, False, False, False, False,\n",
       "         False, False, False, False, False, False, False, False, False, False,\n",
       "         False, False, False, False, False, False, False, False, False, False,\n",
       "         False, False, False, False, False, False, False, False, False, False,\n",
       "         False, False, False, False, False, False, False, False, False, False,\n",
       "         False, False, False, False, False, False, False, False, False, False,\n",
       "         False, False, False, False, False, False, False, False, False, False,\n",
       "         False, False, False, False, False, False, False, False, False, False,\n",
       "         False, False, False, False, False, False, False, False, False, False,\n",
       "         False, False, False, False, False, False, False, False, False, False,\n",
       "         False, False, False, False, False, False, False, False, False, False,\n",
       "         False, False, False, False, False, False, False, False, False, False,\n",
       "         False, False, False, False, False, False, False, False, False, False,\n",
       "         False, False, False, False, False, False, False, False, False, False,\n",
       "         False, False, False, False, False, False, False, False, False, False,\n",
       "         False, False, False, False, False, False, False, False, False, False,\n",
       "         False, False, False, False, False, False, False, False, False, False,\n",
       "         False, False, False, False, False, False, False, False, False, False,\n",
       "         False, False, False, False, False, False, False, False, False, False,\n",
       "         False, False, False, False, False, False, False, False, False, False,\n",
       "         False, False, False, False, False, False, False, False, False, False,\n",
       "         False, False, False, False, False, False, False, False, False, False,\n",
       "         False, False, False, False, False, False, False, False, False, False,\n",
       "         False, False, False, False, False, False, False, False, False, False,\n",
       "         False, False, False, False, False, False, False, False, False, False,\n",
       "         False, False, False, False, False, False, False, False, False, False,\n",
       "         False, False, False, False, False, False, False, False, False, False,\n",
       "         False, False, False, False, False, False, False, False, False, False,\n",
       "         False, False, False, False, False, False, False, False, False, False,\n",
       "         False, False, False, False, False, False, False, False, False, False,\n",
       "         False, False, False, False, False, False, False, False, False, False,\n",
       "         False, False, False, False, False, False, False, False, False, False,\n",
       "         False, False, False, False, False, False, False, False, False, False,\n",
       "         False, False, False, False, False, False, False, False, False, False,\n",
       "         False, False,  True,  True,  True,  True,  True,  True,  True,  True,\n",
       "          True,  True,  True,  True,  True,  True,  True,  True,  True,  True,\n",
       "          True,  True,  True,  True,  True,  True,  True,  True,  True,  True,\n",
       "          True,  True,  True,  True,  True,  True,  True,  True,  True,  True,\n",
       "          True,  True,  True,  True,  True,  True,  True,  True,  True,  True,\n",
       "          True,  True,  True,  True,  True,  True,  True,  True,  True,  True,\n",
       "          True,  True,  True,  True,  True,  True,  True,  True,  True,  True,\n",
       "          True,  True,  True,  True,  True,  True,  True,  True,  True,  True,\n",
       "          True,  True,  True,  True,  True,  True,  True,  True,  True,  True,\n",
       "          True,  True,  True,  True,  True,  True,  True,  True,  True,  True,\n",
       "          True,  True,  True,  True,  True,  True,  True,  True,  True,  True,\n",
       "          True,  True,  True,  True,  True,  True,  True,  True,  True,  True,\n",
       "          True,  True,  True,  True,  True,  True],\n",
       "        [False, False, False, False, False, False, False, False, False, False,\n",
       "         False, False, False, False, False, False, False, False, False, False,\n",
       "         False, False, False, False, False, False, False, False, False, False,\n",
       "         False, False, False, False, False, False, False, False, False, False,\n",
       "         False, False, False, False, False, False, False, False, False, False,\n",
       "         False, False, False, False, False, False, False, False, False, False,\n",
       "         False, False, False, False, False, False, False, False, False, False,\n",
       "         False, False, False, False, False, False, False, False, False, False,\n",
       "         False, False, False, False, False, False, False, False, False, False,\n",
       "         False, False, False, False, False, False, False, False, False, False,\n",
       "         False, False, False, False, False, False, False, False, False, False,\n",
       "         False, False, False, False, False, False, False, False, False, False,\n",
       "         False, False, False, False, False, False, False, False, False, False,\n",
       "         False, False, False, False, False, False, False, False, False, False,\n",
       "         False, False, False, False, False, False, False, False, False, False,\n",
       "         False, False, False, False, False, False, False, False, False, False,\n",
       "         False, False, False, False, False, False, False, False, False, False,\n",
       "         False, False, False, False, False, False, False, False, False, False,\n",
       "         False, False, False, False, False, False, False, False, False, False,\n",
       "         False, False, False, False, False, False, False, False, False, False,\n",
       "         False, False, False, False, False, False, False, False, False, False,\n",
       "         False, False, False, False, False, False, False, False, False, False,\n",
       "         False, False, False, False, False, False, False, False, False, False,\n",
       "         False, False, False, False, False, False, False, False, False, False,\n",
       "         False, False, False, False, False, False, False, False, False, False,\n",
       "         False, False, False, False, False, False, False, False, False, False,\n",
       "         False, False, False, False, False, False, False, False, False, False,\n",
       "         False, False, False, False, False, False, False, False, False, False,\n",
       "         False, False, False, False, False, False, False, False, False, False,\n",
       "         False, False, False, False, False, False, False, False, False, False,\n",
       "         False, False, False, False, False, False, False, False, False, False,\n",
       "         False, False, False, False, False, False, False, False, False, False,\n",
       "         False, False, False, False, False, False, False, False, False, False,\n",
       "         False, False, False, False, False, False, False, False, False, False,\n",
       "         False, False, False, False, False, False, False, False, False, False,\n",
       "         False, False, False, False, False, False, False, False, False, False,\n",
       "         False, False, False, False, False, False, False, False, False, False,\n",
       "         False, False,  True,  True,  True,  True,  True,  True,  True,  True,\n",
       "          True,  True,  True,  True,  True,  True,  True,  True,  True,  True,\n",
       "          True,  True,  True,  True,  True,  True,  True,  True,  True,  True,\n",
       "          True,  True,  True,  True,  True,  True,  True,  True,  True,  True,\n",
       "          True,  True,  True,  True,  True,  True,  True,  True,  True,  True,\n",
       "          True,  True,  True,  True,  True,  True,  True,  True,  True,  True,\n",
       "          True,  True,  True,  True,  True,  True,  True,  True,  True,  True,\n",
       "          True,  True,  True,  True,  True,  True,  True,  True,  True,  True,\n",
       "          True,  True,  True,  True,  True,  True,  True,  True,  True,  True,\n",
       "          True,  True,  True,  True,  True,  True,  True,  True,  True,  True,\n",
       "          True,  True,  True,  True,  True,  True,  True,  True,  True,  True,\n",
       "          True,  True,  True,  True,  True,  True,  True,  True,  True,  True,\n",
       "          True,  True,  True,  True,  True,  True]])"
      ]
     },
     "execution_count": 38,
     "metadata": {},
     "output_type": "execute_result"
    }
   ],
   "source": [
    "train_batch['labels_mask']"
   ]
  },
  {
   "cell_type": "code",
   "execution_count": 35,
   "metadata": {},
   "outputs": [
    {
     "data": {
      "text/plain": [
       "tensor(4.3937, grad_fn=<NllLossBackward0>)"
      ]
     },
     "execution_count": 35,
     "metadata": {},
     "output_type": "execute_result"
    }
   ],
   "source": [
    "# idx = train_batch.pop('id')\n",
    "# target_text = train_batch.pop('target_text')\n",
    "# input_ids_generate = train_batch.pop('input_ids_generate')\n",
    "# attention_mask_generate = train_batch.pop('attention_mask_generate')\n",
    "\n",
    "out = model(**train_batch)\n",
    "out.loss"
   ]
  },
  {
   "cell_type": "code",
   "execution_count": 36,
   "metadata": {},
   "outputs": [
    {
     "data": {
      "text/plain": [
       "'Our mission with Ubuntu is to deliver, in the cleanest, most economical and most reliable form, all the goodness that engineers love about free software to the widest possible audience (including engineers :)). We’ve known for a long time that free software is beautiful on the inside – efficient, accurate, flexible, modifiable. For the past three years, we’ve been leading the push to make free software beautiful on the outside too – easy to use, visually pleasing and exciting. That started with the Ubuntu Netbook Remix, and is coming to fruition in 12.04 LTS, now in beta.\\n\\nFor the first time with Ubuntu 12.04 LTS, real desktop user experience innovation is available on a full production-ready enterprise-certified free software platform, free of charge, well before it shows up in Windows or MacOS. It’s not ‘job done’ by any means, but it’s a milestone. Achieving that milestone has tested the courage and commitment of the Ubuntu community – we had to move from being followers and integrators, to being designers and shapers of the platform, together with upstreams who are excited to be part of that shift and passionate about bringing goodness to a wide audience. It’s right for us to design experiences and help upstreams get those experiences to be amazing, because we are closest to the user; we are the last mile, the last to touch the code, and the first to get the bug report or feedback from most users.\\n\\nThank you, to those who stood by Ubuntu, Canonical and me as we set out on this adventure. This was a big change, and in the face of change, many wilt, many panic, and some simply find that their interests lie elsewhere. That’s OK, but it brings<|endoftext|><|endoftext|><|endoftext|><|endoftext|><|endoftext|><|endoftext|><|endoftext|><|endoftext|><|endoftext|><|endoftext|><|endoftext|><|endoftext|><|endoftext|><|endoftext|><|endoftext|><|endoftext|><|endoftext|><|endoftext|><|endoftext|><|endoftext|><|endoftext|><|endoftext|><|endoftext|><|endoftext|><|endoftext|><|endoftext|><|endoftext|><|endoftext|><|endoftext|><|endoftext|><|endoftext|><|endoftext|><|endoftext|><|endoftext|><|endoftext|><|endoftext|><|endoftext|><|endoftext|><|endoftext|><|endoftext|><|endoftext|><|endoftext|><|endoftext|><|endoftext|><|endoftext|><|endoftext|><|endoftext|><|endoftext|><|endoftext|><|endoftext|><|endoftext|><|endoftext|><|endoftext|><|endoftext|><|endoftext|><|endoftext|><|endoftext|><|endoftext|><|endoftext|><|endoftext|><|endoftext|><|endoftext|><|endoftext|><|endoftext|><|endoftext|><|endoftext|><|endoftext|><|endoftext|><|endoftext|><|endoftext|><|endoftext|><|endoftext|><|endoftext|><|endoftext|><|endoftext|><|endoftext|><|endoftext|><|endoftext|><|endoftext|><|endoftext|><|endoftext|><|endoftext|><|endoftext|><|endoftext|><|endoftext|><|endoftext|><|endoftext|><|endoftext|><|endoftext|><|endoftext|><|endoftext|><|endoftext|><|endoftext|><|endoftext|><|endoftext|><|endoftext|><|endoftext|><|endoftext|><|endoftext|><|endoftext|><|endoftext|><|endoftext|><|endoftext|><|endoftext|><|endoftext|><|endoftext|><|endoftext|><|endoftext|><|endoftext|><|endoftext|><|endoftext|><|endoftext|><|endoftext|><|endoftext|><|endoftext|><|endoftext|><|endoftext|><|endoftext|><|endoftext|><|endoftext|><|endoftext|><|endoftext|><|endoftext|><|endoftext|>'"
      ]
     },
     "execution_count": 36,
     "metadata": {},
     "output_type": "execute_result"
    }
   ],
   "source": [
    "tokenizer.decode(train_batch['input_ids'][0])"
   ]
  },
  {
   "cell_type": "code",
   "execution_count": 24,
   "metadata": {},
   "outputs": [
    {
     "data": {
      "text/plain": [
       "{'id': '753990d0b621d390ed58f20c4d9e4f065f0dc672',\n",
       " 'pid': '753990d0b621d390ed58f20c4d9e4f065f0dc672_0',\n",
       " 'input': 'What is the seed lexicon?\\n\\nIntroduction\\nAffective events BIBREF0 are events that typically affect people in positive or negative ways. For example, getting money and playing sports are usually positive to the experiencers; catching cold and losing one\\'s wallet are negative. Understanding affective events is important to various natural language processing (NLP) applications such as dialogue systems BIBREF1, question-answering systems BIBREF2, and humor recognition BIBREF3. In this paper, we work on recognizing the polarity of an affective event that is represented by a score ranging from $-1$ (negative) to 1 (positive).\\nLearning affective events is challenging because, as the examples above suggest, the polarity of an event is not necessarily predictable from its constituent words. Combined with the unbounded combinatorial nature of language, the non-compositionality of affective polarity entails the need for large amounts of world knowledge, which can hardly be learned from small annotated data.\\nIn this paper, we propose a simple and effective method for learning affective events that only requires a very small seed lexicon and a large raw corpus. As illustrated in Figure FIGREF1, our key idea is that we can exploit discourse relations BIBREF4 to efficiently propagate polarity from seed predicates that directly report one\\'s emotions (e.g., “to be glad” is positive). Suppose that events $x_1$ are $x_2$ are in the discourse relation of Cause (i.e., $x_1$ causes $x_2$). If the seed lexicon suggests $x_2$ is positive, $x_1$ is also likely to be positive because it triggers the positive emotion. The fact that $x_2$ is known to be negative indicates the negative polarity of $x_1$. Similarly, if $x_1$ and $x_2$ are in the discourse relation of Concession (i.e., $x_2$ in spite of $x_1$), the reverse of $x_2$\\'s polarity can be propagated to $x_1$. Even if $x_2$\\'s polarity is not known in advance, we can exploit the tendency of $x_1$ and $x_2$ to be of the same polarity (for Cause) or of the reverse polarity (for Concession) although the heuristic is not exempt from counterexamples. We transform this idea into objective functions and train neural network models that predict the polarity of a given event.\\nWe trained the models using a Japanese web corpus. Given the minimum amount of supervision, they performed well. In addition, the combination of annotated and unannotated data yielded a gain over a purely supervised baseline when labeled data were small.\\nRelated Work\\nLearning affective events is closely related to sentiment analysis. Whereas sentiment analysis usually focuses on the polarity of what are described (e.g., movies), we work on how people are typically affected by events. In sentiment analysis, much attention has been paid to compositionality. Word-level polarity BIBREF5, BIBREF6, BIBREF7 and the roles of negation and intensification BIBREF8, BIBREF6, BIBREF9 are among the most important topics. In contrast, we are more interested in recognizing the sentiment polarity of an event that pertains to commonsense knowledge (e.g., getting money and catching cold).\\nLabel propagation from seed instances is a common approach to inducing sentiment polarities. While BIBREF5 and BIBREF10 worked on word- and phrase-level polarities, BIBREF0 dealt with event-level polarities. BIBREF5 and BIBREF10 linked instances using co-occurrence information and/or phrase-level coordinations (e.g., “$A$ and $B$” and “$A$ but $B$”). We shift our scope to event pairs that are more complex than phrase pairs, and consequently exploit discourse connectives as event-level counterparts of phrase-level conjunctions.\\nBIBREF0 constructed a network of events using word embedding-derived similarities. Compared with this method, our discourse relation-based linking of events is much simpler and more intuitive.\\nSome previous studies made use of document structure to understand the sentiment. BIBREF11 proposed a sentiment-specific pre-training strategy using unlabeled dialog data (tweet-reply pairs). BIBREF12 proposed a method of building a polarity-tagged corpus (ACP Corpus). They automatically gathered sentences that had positive or negative opinions utilizing HTML layout structures in addition to linguistic patterns. Our method depends only on raw texts and thus has wider applicability.\\nProposed Method\\nProposed Method ::: Polarity Function\\nOur goal is to learn the polarity function $p(x)$, which predicts the sentiment polarity score of an event $x$. We approximate $p(x)$ by a neural network with the following form:\\n${\\\\rm Encoder}$ outputs a vector representation of the event $x$. ${\\\\rm Linear}$ is a fully-connected layer and transforms the representation into a scalar. ${\\\\rm tanh}$ is the hyperbolic tangent and transforms the scalar into a score ranging from $-1$ to 1. In Section SECREF21, we consider two specific implementations of ${\\\\rm Encoder}$.\\nProposed Method ::: Discourse Relation-Based Event Pairs\\nOur method requires a very small seed lexicon and a large raw corpus. We assume that we can automatically extract discourse-tagged event pairs, $(x_{i1}, x_{i2})$ ($i=1, \\\\cdots $) from the raw corpus. We refer to $x_{i1}$ and $x_{i2}$ as former and latter events, respectively. As shown in Figure FIGREF1, we limit our scope to two discourse relations: Cause and Concession.\\nThe seed lexicon consists of positive and negative predicates. If the predicate of an extracted event is in the seed lexicon and does not involve complex phenomena like negation, we assign the corresponding polarity score ($+1$ for positive events and $-1$ for negative events) to the event. We expect the model to automatically learn complex phenomena through label propagation. Based on the availability of scores and the types of discourse relations, we classify the extracted event pairs into the following three types.\\nProposed Method ::: Discourse Relation-Based Event Pairs ::: AL (Automatically Labeled Pairs)\\nThe seed lexicon matches (1) the latter event but (2) not the former event, and (3) their discourse relation type is Cause or Concession. If the discourse relation type is Cause, the former event is given the same score as the latter. Likewise, if the discourse relation type is Concession, the former event is given the opposite of the latter\\'s score. They are used as reference scores during training.\\nProposed Method ::: Discourse Relation-Based Event Pairs ::: CA (Cause Pairs)\\nThe seed lexicon matches neither the former nor the latter event, and their discourse relation type is Cause. We assume the two events have the same polarities.\\nProposed Method ::: Discourse Relation-Based Event Pairs ::: CO (Concession Pairs)\\nThe seed lexicon matches neither the former nor the latter event, and their discourse relation type is Concession. We assume the two events have the reversed polarities.\\nProposed Method ::: Loss Functions\\nUsing AL, CA, and CO data, we optimize the parameters of the polarity function $p(x)$. We define a loss function for each of the three types of event pairs and sum up the multiple loss functions.\\nWe use mean squared error to construct loss functions. For the AL data, the loss function is defined as:\\nwhere $x_{i1}$ and $x_{i2}$ are the $i$-th pair of the AL data. $r_{i1}$ and $r_{i2}$ are the automatically-assigned scores of $x_{i1}$ and $x_{i2}$, respectively. $N_{\\\\rm AL}$ is the total number of AL pairs, and $\\\\lambda _{\\\\rm AL}$ is a hyperparameter.\\nFor the CA data, the loss function is defined as:\\n$y_{i1}$ and $y_{i2}$ are the $i$-th pair of the CA pairs. $N_{\\\\rm CA}$ is the total number of CA pairs. $\\\\lambda _{\\\\rm CA}$ and $\\\\mu $ are hyperparameters. The first term makes the scores of the two events closer while the second term prevents the scores from shrinking to zero.\\nThe loss function for the CO data is defined analogously:\\nThe difference is that the first term makes the scores of the two events distant from each other.\\nExperiments\\nExperiments ::: Dataset\\nExperiments ::: Dataset ::: AL, CA, and CO\\nAs a raw corpus, we used a Japanese web corpus that was compiled through the procedures proposed by BIBREF13. To extract event pairs tagged with discourse relations, we used the Japanese dependency parser KNP and in-house postprocessing scripts BIBREF14. KNP used hand-written rules to segment each sentence into what we conventionally called clauses (mostly consecutive text chunks), each of which contained one main predicate. KNP also identified the discourse relations of event pairs if explicit discourse connectives BIBREF4 such as “ので” (because) and “のに” (in spite of) were present. We treated Cause/Reason (原因・理由) and Condition (条件) in the original tagset BIBREF15 as Cause and Concession (逆接) as Concession, respectively. Here is an example of event pair extraction.\\n. 重大な失敗を犯したので、仕事をクビになった。\\nBecause [I] made a serious mistake, [I] got fired.\\nFrom this sentence, we extracted the event pair of “重大な失敗を犯す” ([I] make a serious mistake) and “仕事をクビになる” ([I] get fired), and tagged it with Cause.\\nWe constructed our seed lexicon consisting of 15 positive words and 15 negative words, as shown in Section SECREF27. From the corpus of about 100 million sentences, we obtained 1.4 millions event pairs for AL, 41 millions for CA, and 6 millions for CO. We randomly selected subsets of AL event pairs such that positive and negative latter events were equal in size. We also sampled event pairs for each of CA and CO such that it was five times larger than AL. The results are shown in Table TABREF16.\\nExperiments ::: Dataset ::: ACP (ACP Corpus)\\nWe used the latest version of the ACP Corpus BIBREF12 for evaluation. It was used for (semi-)supervised training as well. Extracted from Japanese websites using HTML layouts and linguistic patterns, the dataset covered various genres. For example, the following two sentences were labeled positive and negative, respectively:\\n. 作業が楽だ。\\nThe work is easy.\\n. 駐車場がない。\\nThere is no parking lot.\\nAlthough the ACP corpus was originally constructed in the context of sentiment analysis, we found that it could roughly be regarded as a collection of affective events. We parsed each sentence and extracted the last clause in it. The train/dev/test split of the data is shown in Table TABREF19.\\nThe objective function for supervised training is:\\nwhere $v_i$ is the $i$-th event, $R_i$ is the reference score of $v_i$, and $N_{\\\\rm ACP}$ is the number of the events of the ACP Corpus.\\nTo optimize the hyperparameters, we used the dev set of the ACP Corpus. For the evaluation, we used the test set of the ACP Corpus. The model output was classified as positive if $p(x) > 0$ and negative if $p(x) \\\\le 0$.\\nExperiments ::: Model Configurations\\nAs for ${\\\\rm Encoder}$, we compared two types of neural networks: BiGRU and BERT. GRU BIBREF16 is a recurrent neural network sequence encoder. BiGRU reads an input sequence forward and backward and the output is the concatenation of the final forward and backward hidden states.\\nBERT BIBREF17 is a pre-trained multi-layer bidirectional Transformer BIBREF18 encoder. Its output is the final hidden state corresponding to the special classification tag ([CLS]). For the details of ${\\\\rm Encoder}$, see Sections SECREF30.\\nWe trained the model with the following four combinations of the datasets: AL, AL+CA+CO (two proposed models), ACP (supervised), and ACP+AL+CA+CO (semi-supervised). The corresponding objective functions were: $\\\\mathcal {L}_{\\\\rm AL}$, $\\\\mathcal {L}_{\\\\rm AL} + \\\\mathcal {L}_{\\\\rm CA} + \\\\mathcal {L}_{\\\\rm CO}$, $\\\\mathcal {L}_{\\\\rm ACP}$, and $\\\\mathcal {L}_{\\\\rm ACP} + \\\\mathcal {L}_{\\\\rm AL} + \\\\mathcal {L}_{\\\\rm CA} + \\\\mathcal {L}_{\\\\rm CO}$.\\nExperiments ::: Results and Discussion\\nTable TABREF23 shows accuracy. As the Random baseline suggests, positive and negative labels were distributed evenly. The Random+Seed baseline made use of the seed lexicon and output the corresponding label (or the reverse of it for negation) if the event\\'s predicate is in the seed lexicon. We can see that the seed lexicon itself had practically no impact on prediction.\\nThe models in the top block performed considerably better than the random baselines. The performance gaps with their (semi-)supervised counterparts, shown in the middle block, were less than 7%. This demonstrates the effectiveness of discourse relation-based label propagation.\\nComparing the model variants, we obtained the highest score with the BiGRU encoder trained with the AL+CA+CO dataset. BERT was competitive but its performance went down if CA and CO were used in addition to AL. We conjecture that BERT was more sensitive to noises found more frequently in CA and CO.\\nContrary to our expectations, supervised models (ACP) outperformed semi-supervised models (ACP+AL+CA+CO). This suggests that the training set of 0.6 million events is sufficiently large for training the models. For comparison, we trained the models with a subset (6,000 events) of the ACP dataset. As the results shown in Table TABREF24 demonstrate, our method is effective when labeled data are small.\\nThe result of hyperparameter optimization for the BiGRU encoder was as follows:\\nAs the CA and CO pairs were equal in size (Table TABREF16), $\\\\lambda _{\\\\rm CA}$ and $\\\\lambda _{\\\\rm CO}$ were comparable values. $\\\\lambda _{\\\\rm CA}$ was about one-third of $\\\\lambda _{\\\\rm CO}$, and this indicated that the CA pairs were noisier than the CO pairs. A major type of CA pairs that violates our assumption was in the form of “$\\\\textit {problem}_{\\\\text{negative}}$ causes $\\\\textit {solution}_{\\\\text{positive}}$”:\\n. (悪いところがある, よくなるように努力する)\\n(there is a bad point, [I] try to improve [it])\\nThe polarities of the two events were reversed in spite of the Cause relation, and this lowered the value of $\\\\lambda _{\\\\rm CA}$.\\nSome examples of model outputs are shown in Table TABREF26. The first two examples suggest that our model successfully learned negation without explicit supervision. Similarly, the next two examples differ only in voice but the model correctly recognized that they had opposite polarities. The last two examples share the predicate “落とす\" (drop) and only the objects are different. The second event “肩を落とす\" (lit. drop one\\'s shoulders) is an idiom that expresses a disappointed feeling. The examples demonstrate that our model correctly learned non-compositional expressions.\\nConclusion\\nIn this paper, we proposed to use discourse relations to effectively propagate polarities of affective events from seeds. Experiments show that, even with a minimal amount of supervision, the proposed method performed well.\\nAlthough event pairs linked by discourse analysis are shown to be useful, they nevertheless contain noises. Adding linguistically-motivated filtering rules would help improve the performance.\\nAcknowledgments\\nWe thank Nobuhiro Kaji for providing the ACP Corpus and Hirokazu Kiyomaru and Yudai Kishimoto for their help in extracting event pairs. This work was partially supported by Yahoo! Japan Corporation.\\nAppendices ::: Seed Lexicon ::: Positive Words\\n喜ぶ (rejoice), 嬉しい (be glad), 楽しい (be pleasant), 幸せ (be happy), 感動 (be impressed), 興奮 (be excited), 懐かしい (feel nostalgic), 好き (like), 尊敬 (respect), 安心 (be relieved), 感心 (admire), 落ち着く (be calm), 満足 (be satisfied), 癒される (be healed), and スッキリ (be refreshed).\\nAppendices ::: Seed Lexicon ::: Negative Words\\n怒る (get angry), 悲しい (be sad), 寂しい (be lonely), 怖い (be scared), 不安 (feel anxious), 恥ずかしい (be embarrassed), 嫌 (hate), 落ち込む (feel down), 退屈 (be bored), 絶望 (feel hopeless), 辛い (have a hard time), 困る (have trouble), 憂鬱 (be depressed), 心配 (be worried), and 情けない (be sorry).\\nAppendices ::: Settings of Encoder ::: BiGRU\\nThe dimension of the embedding layer was 256. The embedding layer was initialized with the word embeddings pretrained using the Web corpus. The input sentences were segmented into words by the morphological analyzer Juman++. The vocabulary size was 100,000. The number of hidden layers was 2. The dimension of hidden units was 256. The optimizer was Momentum SGD BIBREF21. The mini-batch size was 1024. We ran 100 epochs and selected the snapshot that achieved the highest score for the dev set.\\nAppendices ::: Settings of Encoder ::: BERT\\nWe used a Japanese BERT model pretrained with Japanese Wikipedia. The input sentences were segmented into words by Juman++, and words were broken into subwords by applying BPE BIBREF20. The vocabulary size was 32,000. The maximum length of an input sequence was 128. The number of hidden layers was 12. The dimension of hidden units was 768. The number of self-attention heads was 12. The optimizer was Adam BIBREF19. The mini-batch size was 32. We ran 1 epoch.',\n",
       " 'output': 'a vocabulary of positive and negative predicates that helps determine the polarity score of an event'}"
      ]
     },
     "execution_count": 24,
     "metadata": {},
     "output_type": "execute_result"
    }
   ],
   "source": [
    "train_dataset[0]"
   ]
  },
  {
   "cell_type": "code",
   "execution_count": 36,
   "metadata": {},
   "outputs": [
    {
     "data": {
      "text/plain": [
       "{}"
      ]
     },
     "execution_count": 36,
     "metadata": {},
     "output_type": "execute_result"
    }
   ],
   "source": [
    "keep_for_metrics_fn(train_batch, out)"
   ]
  },
  {
   "cell_type": "code",
   "execution_count": 25,
   "metadata": {},
   "outputs": [
    {
     "data": {
      "text/plain": [
       "dict_keys(['input_ids', 'labels', 'input_ids_generate', 'labels_mask', 'attention_mask', 'id', 'target_text'])"
      ]
     },
     "execution_count": 25,
     "metadata": {},
     "output_type": "execute_result"
    }
   ],
   "source": [
    "valid_gen=iter(train_dataloader)\n",
    "valid_batch = next(valid_gen)\n",
    "valid_batch.keys()"
   ]
  },
  {
   "cell_type": "code",
   "execution_count": 26,
   "metadata": {},
   "outputs": [],
   "source": [
    "input_ids = valid_batch['input_ids']"
   ]
  },
  {
   "cell_type": "code",
   "execution_count": 28,
   "metadata": {},
   "outputs": [
    {
     "name": "stderr",
     "output_type": "stream",
     "text": [
      "Setting `pad_token_id` to `eos_token_id`:50256 for open-end generation.\n",
      "/home/jovyan/envs/accel_rmt/lib/python3.9/site-packages/transformers/generation/utils.py:1369: UserWarning: Using `max_length`'s default (20) to control the generation length. This behaviour is deprecated and will be removed from the config in v5 of Transformers -- we recommend using `max_new_tokens` to control the maximum length of the generation.\n",
      "  warnings.warn(\n"
     ]
    }
   ],
   "source": [
    "gen_out = model.generate(input_ids, attention_mask=valid_batch['attention_mask'])"
   ]
  },
  {
   "cell_type": "code",
   "execution_count": 30,
   "metadata": {},
   "outputs": [
    {
     "data": {
      "text/plain": [
       "['<|endoftext|>[GEN][GEN][GEN][GEN][GEN][GEN][GEN][GEN][GEN][GEN][GEN][GEN][GEN][GEN][GEN][GEN][GEN][GEN][GEN]',\n",
       " '<|endoftext|>[GEN][GEN][GEN][GEN][GEN][GEN][GEN][GEN][GEN][GEN][GEN][GEN][GEN][GEN][GEN][GEN][GEN][GEN][GEN]']"
      ]
     },
     "execution_count": 30,
     "metadata": {},
     "output_type": "execute_result"
    }
   ],
   "source": [
    "gen_text = tokenizer.batch_decode(gen_out)\n",
    "gen_text"
   ]
  },
  {
   "cell_type": "code",
   "execution_count": 34,
   "metadata": {},
   "outputs": [
    {
     "data": {
      "text/plain": [
       "\"What is the seed lexicon?\\n\\nIntroduction\\nAffective events BIBREF0 are events that typically affect people in positive or negative ways. For example, getting money and playing sports are usually positive to the experiencers; catching cold and losing one's wallet are negative. Understanding affective events is important to various natural language processing (NLP) applications such as dialogue systems BIBREF1, question-answering systems BIBREF2, and humor recognition BIBREF3. In this paper, we work on recognizing[GEN]a vocabulary of positive and negative predicates that helps determine the polarity score of an event\""
      ]
     },
     "execution_count": 34,
     "metadata": {},
     "output_type": "execute_result"
    }
   ],
   "source": [
    "tokenizer.decode(train_batch['input_ids'][0])"
   ]
  },
  {
   "cell_type": "code",
   "execution_count": 40,
   "metadata": {},
   "outputs": [],
   "source": [
    "data = dict(**valid_batch)\n",
    "data['generation_outputs'] = gen_out"
   ]
  },
  {
   "cell_type": "code",
   "execution_count": 42,
   "metadata": {},
   "outputs": [
    {
     "data": {
      "text/plain": [
       "{'exact_match': 0.0, 'f1': 0.0}"
      ]
     },
     "execution_count": 42,
     "metadata": {},
     "output_type": "execute_result"
    }
   ],
   "source": [
    "metrics_fn(data)"
   ]
  },
  {
   "cell_type": "code",
   "execution_count": 41,
   "metadata": {},
   "outputs": [
    {
     "ename": "RuntimeError",
     "evalue": "Tensor.__contains__ only supports Tensor or scalar, but you passed in a <class 'str'>.",
     "output_type": "error",
     "traceback": [
      "\u001b[0;31m---------------------------------------------------------------------------\u001b[0m",
      "\u001b[0;31mRuntimeError\u001b[0m                              Traceback (most recent call last)",
      "\u001b[1;32m/home/jovyan/rmt/wip/notebooks/debug_rmt_scrolls_run.ipynb Cell 25\u001b[0m line \u001b[0;36m1\n\u001b[0;32m----> <a href='vscode-notebook-cell://ssh-remote%2Brmt-8a100-3/home/jovyan/rmt/wip/notebooks/debug_rmt_scrolls_run.ipynb#Y404sdnNjb2RlLXJlbW90ZQ%3D%3D?line=0'>1</a>\u001b[0m keep_for_metrics_fn(valid_batch, gen_out)\n",
      "\u001b[1;32m/home/jovyan/rmt/wip/notebooks/debug_rmt_scrolls_run.ipynb Cell 25\u001b[0m line \u001b[0;36m2\n\u001b[1;32m     <a href='vscode-notebook-cell://ssh-remote%2Brmt-8a100-3/home/jovyan/rmt/wip/notebooks/debug_rmt_scrolls_run.ipynb#Y404sdnNjb2RlLXJlbW90ZQ%3D%3D?line=19'>20</a>\u001b[0m \u001b[39mdef\u001b[39;00m \u001b[39mkeep_for_metrics_fn\u001b[39m(batch, output):\n\u001b[1;32m     <a href='vscode-notebook-cell://ssh-remote%2Brmt-8a100-3/home/jovyan/rmt/wip/notebooks/debug_rmt_scrolls_run.ipynb#Y404sdnNjb2RlLXJlbW90ZQ%3D%3D?line=20'>21</a>\u001b[0m     \u001b[39m# select data from batch and model output that would be used to compute metrics\u001b[39;00m\n\u001b[1;32m     <a href='vscode-notebook-cell://ssh-remote%2Brmt-8a100-3/home/jovyan/rmt/wip/notebooks/debug_rmt_scrolls_run.ipynb#Y404sdnNjb2RlLXJlbW90ZQ%3D%3D?line=21'>22</a>\u001b[0m     data \u001b[39m=\u001b[39m {}\n\u001b[0;32m---> <a href='vscode-notebook-cell://ssh-remote%2Brmt-8a100-3/home/jovyan/rmt/wip/notebooks/debug_rmt_scrolls_run.ipynb#Y404sdnNjb2RlLXJlbW90ZQ%3D%3D?line=22'>23</a>\u001b[0m     \u001b[39mif\u001b[39;00m \u001b[39m'\u001b[39;49m\u001b[39mgeneration_outputs\u001b[39;49m\u001b[39m'\u001b[39;49m \u001b[39min\u001b[39;49;00m output:\n\u001b[1;32m     <a href='vscode-notebook-cell://ssh-remote%2Brmt-8a100-3/home/jovyan/rmt/wip/notebooks/debug_rmt_scrolls_run.ipynb#Y404sdnNjb2RlLXJlbW90ZQ%3D%3D?line=23'>24</a>\u001b[0m         data[\u001b[39m'\u001b[39m\u001b[39mlabels\u001b[39m\u001b[39m'\u001b[39m] \u001b[39m=\u001b[39m batch[\u001b[39m'\u001b[39m\u001b[39mtarget_text\u001b[39m\u001b[39m'\u001b[39m]\n\u001b[1;32m     <a href='vscode-notebook-cell://ssh-remote%2Brmt-8a100-3/home/jovyan/rmt/wip/notebooks/debug_rmt_scrolls_run.ipynb#Y404sdnNjb2RlLXJlbW90ZQ%3D%3D?line=25'>26</a>\u001b[0m         data[\u001b[39m'\u001b[39m\u001b[39mgeneration_outputs\u001b[39m\u001b[39m'\u001b[39m] \u001b[39m=\u001b[39m output[\u001b[39m'\u001b[39m\u001b[39mgeneration_outputs\u001b[39m\u001b[39m'\u001b[39m]\n",
      "File \u001b[0;32m~/envs/accel_rmt/lib/python3.9/site-packages/torch/_tensor.py:999\u001b[0m, in \u001b[0;36mTensor.__contains__\u001b[0;34m(self, element)\u001b[0m\n\u001b[1;32m    995\u001b[0m \u001b[39mif\u001b[39;00m \u001b[39misinstance\u001b[39m(element, (torch\u001b[39m.\u001b[39mTensor, Number)):\n\u001b[1;32m    996\u001b[0m     \u001b[39m# type hint doesn't understand the __contains__ result array\u001b[39;00m\n\u001b[1;32m    997\u001b[0m     \u001b[39mreturn\u001b[39;00m (element \u001b[39m==\u001b[39m \u001b[39mself\u001b[39m)\u001b[39m.\u001b[39many()\u001b[39m.\u001b[39mitem()  \u001b[39m# type: ignore[union-attr]\u001b[39;00m\n\u001b[0;32m--> 999\u001b[0m \u001b[39mraise\u001b[39;00m \u001b[39mRuntimeError\u001b[39;00m(\n\u001b[1;32m   1000\u001b[0m     \u001b[39m\"\u001b[39m\u001b[39mTensor.__contains__ only supports Tensor or scalar, but you passed in a \u001b[39m\u001b[39m%s\u001b[39;00m\u001b[39m.\u001b[39m\u001b[39m\"\u001b[39m\n\u001b[1;32m   1001\u001b[0m     \u001b[39m%\u001b[39m \u001b[39mtype\u001b[39m(element)\n\u001b[1;32m   1002\u001b[0m )\n",
      "\u001b[0;31mRuntimeError\u001b[0m: Tensor.__contains__ only supports Tensor or scalar, but you passed in a <class 'str'>."
     ]
    }
   ],
   "source": [
    "keep_for_metrics_fn(valid_batch, gen_out)"
   ]
  }
 ],
 "metadata": {
  "kernelspec": {
   "display_name": "hvdenv",
   "language": "python",
   "name": "python3"
  },
  "language_info": {
   "codemirror_mode": {
    "name": "ipython",
    "version": 3
   },
   "file_extension": ".py",
   "mimetype": "text/x-python",
   "name": "python",
   "nbconvert_exporter": "python",
   "pygments_lexer": "ipython3",
   "version": "3.9.17"
  }
 },
 "nbformat": 4,
 "nbformat_minor": 4
}
