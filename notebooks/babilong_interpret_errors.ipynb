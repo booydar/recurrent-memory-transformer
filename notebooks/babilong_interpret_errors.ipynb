{
 "cells": [
  {
   "cell_type": "code",
   "execution_count": 1,
   "metadata": {},
   "outputs": [
    {
     "name": "stderr",
     "output_type": "stream",
     "text": [
      "/home/jovyan/envs/3accel_rmt/lib/python3.10/site-packages/tqdm/auto.py:21: TqdmWarning: IProgress not found. Please update jupyter and ipywidgets. See https://ipywidgets.readthedocs.io/en/stable/user_install.html\n",
      "  from .autonotebook import tqdm as notebook_tqdm\n"
     ]
    }
   ],
   "source": [
    "import numpy as np\n",
    "import sys\n",
    "import datasets\n",
    "from transformers import AutoTokenizer\n",
    "sys.path.append(\"..\")\n",
    "from babilong_utils import TaskDataset, SentenceSampler, NoiseInjectionDataset"
   ]
  },
  {
   "cell_type": "code",
   "execution_count": 2,
   "metadata": {},
   "outputs": [],
   "source": [
    "# ### extract dataset archive\n",
    "# !unzip ../data/tasks_1-20_v1-2.zip -d ../data/"
   ]
  },
  {
   "cell_type": "code",
   "execution_count": 3,
   "metadata": {},
   "outputs": [
    {
     "name": "stderr",
     "output_type": "stream",
     "text": [
      "/home/jovyan/envs/3accel_rmt/lib/python3.10/site-packages/datasets/load.py:1429: FutureWarning: The repository for pg19 contains custom code which must be executed to correctly load the dataset. You can inspect the repository content at https://hf.co/datasets/pg19\n",
      "You can avoid this message in future by passing the argument `trust_remote_code=True`.\n",
      "Passing `trust_remote_code=True` will be mandatory to load this dataset from the next major release of `datasets`.\n",
      "  warnings.warn(\n"
     ]
    }
   ],
   "source": [
    "# train_path = \"../data/tasks_1-20_v1-2/en-10k/qa4_two-arg-relations_train.txt\"\n",
    "# test_path = \"../data/tasks_1-20_v1-2/en-10k/qa4_two-arg-relations_test.txt\"\n",
    "\n",
    "# train_path = \"../data/tasks_1-20_v1-2/en-10k/qa1_single-supporting-fact_train.txt\"\n",
    "# test_path = \"../data/tasks_1-20_v1-2/en-10k/qa1_single-supporting-fact_test.txt\"\n",
    "\n",
    "# train_path = \"../data/tasks_1-20_v1-2/en-10k/qa2_two-supporting-facts_train.txt\"\n",
    "# test_path = \"../data/tasks_1-20_v1-2/en-10k/qa2_two-supporting-facts_test.txt\"\n",
    "\n",
    "train_path = \"../data/tasks_1-20_v1-2/en-10k/qa3_three-supporting-facts_train.txt\"\n",
    "test_path = \"../data/tasks_1-20_v1-2/en-10k/qa3_three-supporting-facts_test.txt\"\n",
    "\n",
    "# train_path = \"../data/tasks_1-20_v1-2/en-10k/qa5_three-arg-relations_train.txt\"\n",
    "# test_path = \"../data/tasks_1-20_v1-2/en-10k/qa5_three-arg-relations_test.txt\"\n",
    "\n",
    "noise_dataset = datasets.load_dataset(\"pg19\")"
   ]
  },
  {
   "cell_type": "markdown",
   "metadata": {},
   "source": [
    "### Load task datasets"
   ]
  },
  {
   "cell_type": "code",
   "execution_count": 60,
   "metadata": {},
   "outputs": [],
   "source": [
    "# task \n",
    "# max_n_facts = 512 // 10\n",
    "max_n_facts = 16\n",
    "task_dataset_train = TaskDataset(train_path, max_n_facts=max_n_facts)\n",
    "task_dataset_test = TaskDataset(test_path, max_n_facts=max_n_facts)"
   ]
  },
  {
   "cell_type": "code",
   "execution_count": 83,
   "metadata": {},
   "outputs": [],
   "source": [
    "# background text\n",
    "tokenizer = AutoTokenizer.from_pretrained('gpt2')\n",
    "\n",
    "noise_sampler_train = SentenceSampler(noise_dataset['train'], tokenizer=tokenizer)\n",
    "noise_sampler_test = SentenceSampler(noise_dataset['test'], tokenizer=tokenizer)"
   ]
  },
  {
   "cell_type": "code",
   "execution_count": 93,
   "metadata": {},
   "outputs": [],
   "source": [
    "max_n_segments = 2\n",
    "segment_size = 512               # max number of tokens in sample\n",
    "qa_margin = 20\n",
    "sample_size = max_n_segments * segment_size - qa_margin\n",
    "# sample_size = 0\n",
    "dataset_train = NoiseInjectionDataset(task_dataset=task_dataset_train,\n",
    "                                        noise_sampler=noise_sampler_train,\n",
    "                                        tokenizer=tokenizer,\n",
    "                                        sample_size=sample_size,\n",
    "                                        task_start_pct=0.5,\n",
    "                                        task_end_pct=1\n",
    "                                        )\n",
    "\n",
    "dataset_test = NoiseInjectionDataset(task_dataset=task_dataset_test,\n",
    "                                        noise_sampler=noise_sampler_test,\n",
    "                                        tokenizer=tokenizer,\n",
    "                                        sample_size=sample_size,\n",
    "                                        task_start_pct=0,\n",
    "                                        task_end_pct=0.5\n",
    "                                        )"
   ]
  },
  {
   "cell_type": "code",
   "execution_count": 94,
   "metadata": {},
   "outputs": [],
   "source": [
    "def get_reference_positions(sample):\n",
    "    input_text = tokenizer.decode(sample['input_tokens'])\n",
    "    reference_positions = []\n",
    "    for f in sample['references']:\n",
    "        ind = input_text.index(f) \n",
    "        text = input_text\n",
    "        rel_ind = ind\n",
    "        while True:\n",
    "            text = text[rel_ind + 1:]\n",
    "            if f not in text:\n",
    "                break\n",
    "            rel_ind = text.index(f)\n",
    "            ind += rel_ind\n",
    "\n",
    "        reference_positions.append((ind, ind + len(f)))\n",
    "    \n",
    "    return reference_positions"
   ]
  },
  {
   "cell_type": "code",
   "execution_count": 95,
   "metadata": {},
   "outputs": [],
   "source": [
    "sample = dataset_test[0]"
   ]
  },
  {
   "cell_type": "markdown",
   "metadata": {},
   "source": [
    "### collate function"
   ]
  },
  {
   "cell_type": "code",
   "execution_count": 96,
   "metadata": {},
   "outputs": [],
   "source": [
    "import torch\n",
    "from torch.nn.utils.rnn import pad_sequence"
   ]
  },
  {
   "cell_type": "code",
   "execution_count": 97,
   "metadata": {},
   "outputs": [],
   "source": [
    "id_pad_value = tokenizer.pad_token_id if tokenizer.pad_token_id is not None else tokenizer.eos_token_id\n",
    "gen_token = tokenizer.encode('GEN')[0]\n",
    "eos_token = tokenizer.eos_token_id\n",
    "\n",
    "def collate_fn(batch):\n",
    "    targets = [torch.tensor(b['target_tokens']) for b in batch]\n",
    "    input_ids = [torch.tensor(b['input_tokens'] + b['question_tokens'] + [gen_token] + b['target_tokens'] + [eos_token]) for b in batch]\n",
    "    gen_inputs = [torch.tensor(b['input_tokens'] + b['question_tokens'] + [gen_token]) for b in batch]\n",
    "\n",
    "    attention_mask = [torch.ones_like(b, dtype=int) for b in input_ids]\n",
    "    labels_mask = [torch.zeros_like(b, dtype=bool) for b in input_ids]\n",
    "    for m, t in zip(labels_mask, targets):\n",
    "        m[-len(t) - 2:] = True\n",
    "\n",
    "    input_ids = pad_sequence(input_ids, padding_value=id_pad_value, batch_first=True)\n",
    "    gen_inputs = pad_sequence(gen_inputs, padding_value=id_pad_value, batch_first=True)\n",
    "    attention_mask = pad_sequence(attention_mask, padding_value=0, batch_first=True)\n",
    "    labels_mask = pad_sequence(labels_mask, padding_value=0, batch_first=True)\n",
    "\n",
    "    collated = {}\n",
    "    collated['input_ids'] = collated['labels'] = input_ids\n",
    "    collated['input_ids_generate'] = gen_inputs\n",
    "    collated['labels_mask'] = labels_mask\n",
    "    collated['attention_mask'] = attention_mask.bool()\n",
    "    collated['attention_mask_generate'] = (gen_inputs != id_pad_value).bool()\n",
    "    collated['target_text'] = [b['answer'] for b in batch]\n",
    "    return collated"
   ]
  },
  {
   "cell_type": "code",
   "execution_count": 98,
   "metadata": {},
   "outputs": [],
   "source": [
    "batch = [dataset_train[i] for i in range(10)]"
   ]
  },
  {
   "cell_type": "code",
   "execution_count": 99,
   "metadata": {},
   "outputs": [],
   "source": [
    "collated = collate_fn(batch)"
   ]
  },
  {
   "cell_type": "markdown",
   "metadata": {},
   "source": [
    "### test a model"
   ]
  },
  {
   "cell_type": "code",
   "execution_count": 53,
   "metadata": {},
   "outputs": [],
   "source": [
    "from transformers import AutoModelForCausalLM\n",
    "from modeling_rmt.language_modeling import MemoryCell, RecurrentWrapper\n",
    "from modeling_rmt.experimental import MemoryCellGenerate"
   ]
  },
  {
   "cell_type": "code",
   "execution_count": 54,
   "metadata": {},
   "outputs": [],
   "source": [
    "model = AutoModelForCausalLM.from_pretrained('gpt2')\n",
    "cell = MemoryCellGenerate(model, num_mem_tokens=16)\n",
    "model = RecurrentWrapper(cell, \n",
    "                        segment_size=512,\n",
    "                        max_n_segments=2, \n",
    "                        segment_alignment=None,\n",
    "                        k2=-1,\n",
    ")\n",
    "                            \n",
    "\n",
    "base_model = AutoModelForCausalLM.from_pretrained('gpt2')\n",
    "base_cell = MemoryCellGenerate(base_model, num_mem_tokens=0)\n",
    "baseline = RecurrentWrapper(base_cell, \n",
    "                        segment_size=1024,\n",
    "                        max_n_segments=1, \n",
    "                        segment_alignment=None,\n",
    "                        k2=-1,\n",
    ")\n",
    "                            "
   ]
  },
  {
   "cell_type": "code",
   "execution_count": 35,
   "metadata": {},
   "outputs": [],
   "source": [
    "# !ls /home/jovyan/rmt/runs/babilong/qa3_three-supporting-facts/gpt2/linear_adamw_wd1e-03_1x1024_mem0_bs64_bptt--1_from_cpt_0-1"
   ]
  },
  {
   "cell_type": "code",
   "execution_count": 55,
   "metadata": {},
   "outputs": [],
   "source": [
    "baseline.memory_cell.memory = torch.nn.Parameter(torch.zeros(0))"
   ]
  },
  {
   "cell_type": "code",
   "execution_count": 56,
   "metadata": {},
   "outputs": [
    {
     "data": {
      "text/plain": [
       "<All keys matched successfully>"
      ]
     },
     "execution_count": 56,
     "metadata": {},
     "output_type": "execute_result"
    }
   ],
   "source": [
    "# load cpt of rmt\n",
    "cpt_path = \"/home/jovyan/rmt/runs/babilong/qa3_three-supporting-facts/gpt2/linear_adamw_wd1e-03_2x512_mem16_bs64_bptt--1_from_cpt_1-2/run_5/model_best/pytorch_model.bin\"\n",
    "cpt = torch.load(cpt_path, map_location='cpu')\n",
    "model.load_state_dict(cpt, strict=False)\n",
    "\n",
    "## load cpt of base\n",
    "cpt_path = \"/home/jovyan/rmt/runs/babilong/qa3_three-supporting-facts/gpt2/linear_adamw_wd1e-03_1x1024_mem0_bs64_bptt--1_from_cpt_0-1/run_2/model_best/pytorch_model.bin\"\n",
    "cpt = torch.load(cpt_path, map_location='cpu')\n",
    "baseline.load_state_dict(cpt, strict=False)"
   ]
  },
  {
   "cell_type": "code",
   "execution_count": 57,
   "metadata": {},
   "outputs": [],
   "source": [
    "# input_ids_generate = collated.pop('input_ids_generate')\n",
    "# attention_mask_generate = collated.pop('attention_mask_generate')\n",
    "# target_text = collated.pop('target_text')"
   ]
  },
  {
   "cell_type": "code",
   "execution_count": 39,
   "metadata": {},
   "outputs": [],
   "source": [
    "# !nvidia-smi"
   ]
  },
  {
   "cell_type": "code",
   "execution_count": 58,
   "metadata": {},
   "outputs": [
    {
     "data": {
      "text/plain": [
       "1"
      ]
     },
     "execution_count": 58,
     "metadata": {},
     "output_type": "execute_result"
    }
   ],
   "source": [
    "device = 'cuda:3'\n",
    "baseline.to(device=device)\n",
    "model.to(device=device)\n",
    "1"
   ]
  },
  {
   "cell_type": "markdown",
   "metadata": {},
   "source": [
    "### Run evaluation"
   ]
  },
  {
   "cell_type": "code",
   "execution_count": 100,
   "metadata": {},
   "outputs": [
    {
     "name": "stderr",
     "output_type": "stream",
     "text": [
      "/home/jovyan/envs/3accel_rmt/lib/python3.10/site-packages/transformers/generation/utils.py:1133: UserWarning: Using the model-agnostic default `max_length` (=20) to control the generation length. We recommend setting `max_new_tokens` to control the maximum length of the generation.\n",
      "  warnings.warn(\n"
     ]
    }
   ],
   "source": [
    "bs = 16\n",
    "inputs = []\n",
    "predictions = []\n",
    "base_predictions = []\n",
    "targets = []\n",
    "all_reference_positions = []\n",
    "all_input_lens = []\n",
    "# for _ in range(3):\n",
    "for bi in range(0, len(dataset_test) - bs, bs):\n",
    "    batch = [dataset_test[i] for i in range(bi, bi+bs)]\n",
    "\n",
    "    all_input_lens += [len(tokenizer.decode(s['input_tokens'])) for s in batch]\n",
    "    all_reference_positions += [get_reference_positions(s) for s in batch]\n",
    "\n",
    "    collated = collate_fn(batch)\n",
    "    input_ids_generate = collated.pop('input_ids_generate').to(device)\n",
    "    inputs.append(input_ids_generate)\n",
    "    attention_mask_generate = collated.pop('attention_mask_generate').to(device)\n",
    "    target_text = collated.pop('target_text')\n",
    "\n",
    "    baseline_preds = baseline.generate(input_ids_generate, attention_mask=attention_mask_generate, pad_token_id=tokenizer.eos_token_id)\n",
    "    preds = model.generate(input_ids_generate, attention_mask=attention_mask_generate, pad_token_id=tokenizer.eos_token_id)\n",
    "    labels = [c[m] for c, m in zip(collated['input_ids'], collated['labels_mask'])]\n",
    "\n",
    "    predictions.append(preds.cpu().detach())\n",
    "    base_predictions.append(baseline_preds.cpu().detach())\n",
    "    targets = targets + labels"
   ]
  },
  {
   "cell_type": "code",
   "execution_count": 101,
   "metadata": {},
   "outputs": [],
   "source": [
    "predictions = torch.cat(predictions, dim=0)\n",
    "base_predictions = torch.cat(base_predictions, dim=0)"
   ]
  },
  {
   "cell_type": "code",
   "execution_count": 102,
   "metadata": {},
   "outputs": [],
   "source": [
    "inputs = torch.cat(inputs, dim=0)\n",
    "target_texts = np.array(tokenizer.batch_decode([t[1:-1] for t in targets]))\n",
    "\n",
    "\n",
    "pred_texts = tokenizer.batch_decode(predictions[:, 1:-1], add_special_tokens=False)\n",
    "pred_texts = np.array([t[:t.index(\"<|endoftext|>\")] if \"<|endoftext|>\" in t else t for t in pred_texts])\n",
    "\n",
    "pred_texts_base = tokenizer.batch_decode(base_predictions[:, 1:-1], add_special_tokens=False)\n",
    "pred_texts_base = np.array([t[:t.index(\"<|endoftext|>\")] if \"<|endoftext|>\" in t else t for t in pred_texts_base])"
   ]
  },
  {
   "cell_type": "code",
   "execution_count": 103,
   "metadata": {},
   "outputs": [
    {
     "name": "stdout",
     "output_type": "stream",
     "text": [
      "RMT acc: 0.9375\n",
      "Baseline acc: 1.0\n"
     ]
    }
   ],
   "source": [
    "# facts in first half, max 16 facts\n",
    "print(f\"RMT acc: {(pred_texts == target_texts).mean()}\\nBaseline acc: {(pred_texts_base == target_texts).mean()}\")"
   ]
  },
  {
   "cell_type": "code",
   "execution_count": null,
   "metadata": {},
   "outputs": [
    {
     "name": "stdout",
     "output_type": "stream",
     "text": [
      "RMT acc: 1.0\n",
      "Baseline acc: 1.0\n"
     ]
    }
   ],
   "source": [
    "# facts in second half, max 16 facts\n",
    "print(f\"RMT acc: {(pred_texts == target_texts).mean()}\\nBaseline acc: {(pred_texts_base == target_texts).mean()}\")"
   ]
  },
  {
   "cell_type": "code",
   "execution_count": null,
   "metadata": {},
   "outputs": [
    {
     "name": "stdout",
     "output_type": "stream",
     "text": [
      "RMT acc: 0.9875\n",
      "Baseline acc: 1.0\n"
     ]
    }
   ],
   "source": [
    "# facts in 4th quarter, max 16 facts\n",
    "print(f\"RMT acc: {(pred_texts == target_texts).mean()}\\nBaseline acc: {(pred_texts_base == target_texts).mean()}\")"
   ]
  },
  {
   "cell_type": "code",
   "execution_count": null,
   "metadata": {},
   "outputs": [
    {
     "name": "stdout",
     "output_type": "stream",
     "text": [
      "RMT acc: 0.9875\n",
      "Baseline acc: 1.0\n"
     ]
    }
   ],
   "source": [
    "# facts in third quarter, max 16 facts\n",
    "print(f\"RMT acc: {(pred_texts == target_texts).mean()}\\nBaseline acc: {(pred_texts_base == target_texts).mean()}\")"
   ]
  },
  {
   "cell_type": "code",
   "execution_count": null,
   "metadata": {},
   "outputs": [
    {
     "name": "stdout",
     "output_type": "stream",
     "text": [
      "RMT acc: 0.9791666666666666\n",
      "Baseline acc: 0.9826388888888888\n"
     ]
    }
   ],
   "source": [
    "# facts in second half, max 32 facts\n",
    "print(f\"RMT acc: {(pred_texts == target_texts).mean()}\\nBaseline acc: {(pred_texts_base == target_texts).mean()}\")"
   ]
  },
  {
   "cell_type": "code",
   "execution_count": null,
   "metadata": {},
   "outputs": [
    {
     "name": "stdout",
     "output_type": "stream",
     "text": [
      "RMT acc: 0.9131944444444444\n",
      "Baseline acc: 0.9826388888888888\n"
     ]
    }
   ],
   "source": [
    "# facts in 0-1024, max 32 facts\n",
    "print(f\"RMT acc: {(pred_texts == target_texts).mean()}\\nBaseline acc: {(pred_texts_base == target_texts).mean()}\")"
   ]
  },
  {
   "cell_type": "code",
   "execution_count": null,
   "metadata": {},
   "outputs": [
    {
     "name": "stdout",
     "output_type": "stream",
     "text": [
      "RMT acc: 0.9465277777777777\n",
      "Baseline acc: 0.9704861111111112\n"
     ]
    }
   ],
   "source": [
    "# max 128 facts other noise 2\n",
    "print(f\"RMT acc: {(pred_texts == target_texts).mean()}\\nBaseline acc: {(pred_texts_base == target_texts).mean()}\")"
   ]
  },
  {
   "cell_type": "code",
   "execution_count": null,
   "metadata": {},
   "outputs": [
    {
     "name": "stdout",
     "output_type": "stream",
     "text": [
      "RMT acc: 0.9479166666666666\n",
      "Baseline acc: 0.965625\n"
     ]
    }
   ],
   "source": [
    "# max 128 facts other noise 2\n",
    "print(f\"RMT acc: {(pred_texts == target_texts).mean()}\\nBaseline acc: {(pred_texts_base == target_texts).mean()}\")"
   ]
  },
  {
   "cell_type": "code",
   "execution_count": null,
   "metadata": {},
   "outputs": [
    {
     "name": "stdout",
     "output_type": "stream",
     "text": [
      "RMT acc: 0.9375\n",
      "Baseline acc: 0.9677083333333333\n"
     ]
    }
   ],
   "source": [
    "# max 128 facts other noise\n",
    "print(f\"RMT acc: {(pred_texts == target_texts).mean()}\\nBaseline acc: {(pred_texts_base == target_texts).mean()}\")"
   ]
  },
  {
   "cell_type": "code",
   "execution_count": null,
   "metadata": {},
   "outputs": [
    {
     "name": "stdout",
     "output_type": "stream",
     "text": [
      "RMT acc: 0.9412371134020618\n",
      "Baseline acc: 0.9690721649484536\n"
     ]
    }
   ],
   "source": [
    "# max 128 facts\n",
    "print(f\"RMT acc: {(pred_texts == target_texts).mean()}\\nBaseline acc: {(pred_texts_base == target_texts).mean()}\")"
   ]
  },
  {
   "cell_type": "code",
   "execution_count": null,
   "metadata": {},
   "outputs": [
    {
     "name": "stdout",
     "output_type": "stream",
     "text": [
      "RMT acc: 0.9153846153846154\n",
      "Baseline acc: 0.9923076923076923\n"
     ]
    }
   ],
   "source": [
    "# max 20 facts\n",
    "print(f\"RMT acc: {(pred_texts == target_texts).mean()}\\nBaseline acc: {(pred_texts_base == target_texts).mean()}\")"
   ]
  },
  {
   "cell_type": "code",
   "execution_count": 46,
   "metadata": {},
   "outputs": [
    {
     "data": {
      "text/plain": [
       "array([  0,  10,  22,  68,  97, 109, 110, 125, 184, 245, 273, 275, 388,\n",
       "       493, 536, 562, 563, 566, 580, 581, 587, 592, 642, 659, 685, 702,\n",
       "       708, 712, 774, 780, 782, 791, 793, 794, 797, 820, 821, 822, 839,\n",
       "       844, 846, 850, 856, 861, 895, 904, 917, 938, 940, 951])"
      ]
     },
     "execution_count": 46,
     "metadata": {},
     "output_type": "execute_result"
    }
   ],
   "source": [
    "error_inds = np.where(pred_texts != target_texts)[0]\n",
    "error_inds_base = np.where(pred_texts_base != target_texts)[0]\n",
    "error_inds"
   ]
  },
  {
   "cell_type": "code",
   "execution_count": null,
   "metadata": {},
   "outputs": [],
   "source": []
  },
  {
   "cell_type": "code",
   "execution_count": 94,
   "metadata": {},
   "outputs": [],
   "source": [
    "rmt_wins = [i for i in error_inds_base if i not in error_inds]\n",
    "rmt_loses = [i for i in error_inds if i not in error_inds_base]\n",
    "both_lose = [i for i in error_inds_base if i in error_inds]\n",
    "both_win = [i for i in range(len(pred_texts_base)) if i not in error_inds_base if i not in error_inds]"
   ]
  },
  {
   "cell_type": "code",
   "execution_count": 95,
   "metadata": {},
   "outputs": [
    {
     "data": {
      "text/plain": [
       "(14, 31, 2816, 19)"
      ]
     },
     "execution_count": 95,
     "metadata": {},
     "output_type": "execute_result"
    }
   ],
   "source": [
    "len(rmt_wins), len(rmt_loses), len(both_win), len(both_lose)"
   ]
  },
  {
   "cell_type": "code",
   "execution_count": 96,
   "metadata": {},
   "outputs": [
    {
     "data": {
      "text/plain": [
       "3777"
      ]
     },
     "execution_count": 96,
     "metadata": {},
     "output_type": "execute_result"
    }
   ],
   "source": [
    "all_input_lens[0]"
   ]
  },
  {
   "cell_type": "markdown",
   "metadata": {},
   "source": [
    "### Analyze fact positions"
   ]
  },
  {
   "cell_type": "code",
   "execution_count": 97,
   "metadata": {},
   "outputs": [],
   "source": [
    "from matplotlib import pyplot as plt"
   ]
  },
  {
   "cell_type": "code",
   "execution_count": 98,
   "metadata": {},
   "outputs": [],
   "source": [
    "rmt_wins_fact_positions = [[t[0] / all_input_lens[i] for t in all_reference_positions[i]] for i in rmt_wins]\n",
    "rmt_loses_fact_positions = [[t[0] / all_input_lens[i] for t in all_reference_positions[i]] for i in rmt_loses]\n",
    "both_win_fact_positions = [[t[0] / all_input_lens[i] for t in all_reference_positions[i]] for i in both_win]\n",
    "both_lose_fact_positions = [[t[0] / all_input_lens[i] for t in all_reference_positions[i]] for i in both_lose]\n",
    "all_fact_positions = [[t[0] / all_input_lens[i] for t in all_reference_positions[i]] for i in range(len(all_input_lens))]"
   ]
  },
  {
   "cell_type": "code",
   "execution_count": 99,
   "metadata": {},
   "outputs": [],
   "source": [
    "# plt.hist([round(p, 5) for i in all_fact_positions for p in i], bins=15)\n"
   ]
  },
  {
   "cell_type": "code",
   "execution_count": 100,
   "metadata": {},
   "outputs": [
    {
     "data": {
      "image/png": "[encoded data removed]",
      "text/plain": [
       "<Figure size 640x480 with 1 Axes>"
      ]
     },
     "metadata": {},
     "output_type": "display_data"
    }
   ],
   "source": [
    "\n",
    "plt.hist([round(p, 5) for i in all_fact_positions for p in i], bins=20, density=False)\n",
    "plt.hist([round(p, 5) for i in both_win_fact_positions for p in i], bins=15, density=False)\n",
    "plt.hist([round(p, 5) for i in both_lose_fact_positions for p in i], bins=15, density=False)\n",
    "plt.legend(['all', 'both win', 'both lose'])\n",
    "plt.xlabel('relative position of reference fact')\n",
    "plt.ylabel('num samples')\n",
    "plt.yscale('log')\n",
    "plt.show()"
   ]
  },
  {
   "cell_type": "code",
   "execution_count": null,
   "metadata": {},
   "outputs": [
    {
     "data": {
      "image/png": "[encoded data removed]",
      "text/plain": [
       "<Figure size 640x480 with 1 Axes>"
      ]
     },
     "metadata": {},
     "output_type": "display_data"
    }
   ],
   "source": [
    "\n",
    "plt.hist([round(p, 5) for i in all_fact_positions for p in i], bins=20, density=False)\n",
    "plt.hist([round(p, 5) for i in both_win_fact_positions for p in i], bins=15, density=False)\n",
    "plt.hist([round(p, 5) for i in both_lose_fact_positions for p in i], bins=15, density=False)\n",
    "plt.legend(['all', 'both win', 'both lose'])\n",
    "plt.xlabel('relative position of reference fact')\n",
    "plt.ylabel('num samples')\n",
    "plt.yscale('log')\n",
    "plt.show()"
   ]
  },
  {
   "cell_type": "code",
   "execution_count": 101,
   "metadata": {},
   "outputs": [
    {
     "data": {
      "image/png": "[encoded data removed]",
      "text/plain": [
       "<Figure size 640x480 with 1 Axes>"
      ]
     },
     "metadata": {},
     "output_type": "display_data"
    }
   ],
   "source": [
    "\n",
    "plt.hist([round(p, 5) for i in all_fact_positions for p in i], bins=20, density=False)\n",
    "plt.hist([round(p, 5) for i in rmt_loses_fact_positions for p in i], bins=15, density=False)\n",
    "plt.hist([round(p, 5) for i in rmt_wins_fact_positions for p in i], bins=15, density=False)\n",
    "plt.legend(['all', 'rmt loses', 'rmt_wins'])\n",
    "plt.xlabel('relative position of reference fact')\n",
    "plt.ylabel('num samples')\n",
    "plt.yscale('log')\n",
    "plt.show()"
   ]
  },
  {
   "cell_type": "code",
   "execution_count": null,
   "metadata": {},
   "outputs": [
    {
     "data": {
      "image/png": "[encoded data removed]",
      "text/plain": [
       "<Figure size 640x480 with 1 Axes>"
      ]
     },
     "metadata": {},
     "output_type": "display_data"
    }
   ],
   "source": [
    "\n",
    "plt.hist([round(p, 5) for i in all_fact_positions for p in i], bins=20, density=False)\n",
    "plt.hist([round(p, 5) for i in rmt_loses_fact_positions for p in i], bins=15, density=False)\n",
    "plt.hist([round(p, 5) for i in rmt_wins_fact_positions for p in i], bins=15, density=False)\n",
    "plt.legend(['all', 'rmt loses', 'rmt_wins'])\n",
    "plt.xlabel('relative position of reference fact')\n",
    "plt.ylabel('num samples')\n",
    "plt.yscale('log')\n",
    "plt.show()"
   ]
  },
  {
   "cell_type": "code",
   "execution_count": 103,
   "metadata": {},
   "outputs": [
    {
     "data": {
      "image/png": "[encoded data removed]",
      "text/plain": [
       "<Figure size 640x480 with 1 Axes>"
      ]
     },
     "metadata": {},
     "output_type": "display_data"
    }
   ],
   "source": [
    "\n",
    "plt.hist([round(p, 5) for i in rmt_loses_fact_positions for p in i], bins=15)\n",
    "plt.hist([round(p, 5) for i in rmt_wins_fact_positions for p in i], bins=15)\n",
    "plt.legend(['rmt loses', 'rmt_wins'])\n",
    "plt.xlabel('relative position of reference fact')\n",
    "plt.ylabel('num samples')\n",
    "plt.show()"
   ]
  },
  {
   "cell_type": "code",
   "execution_count": null,
   "metadata": {},
   "outputs": [
    {
     "data": {
      "image/png": "[encoded data removed]",
      "text/plain": [
       "<Figure size 640x480 with 1 Axes>"
      ]
     },
     "metadata": {},
     "output_type": "display_data"
    }
   ],
   "source": [
    "\n",
    "plt.hist([round(p, 5) for i in rmt_loses_fact_positions for p in i], bins=15)\n",
    "plt.hist([round(p, 5) for i in rmt_wins_fact_positions for p in i], bins=15)\n",
    "plt.legend(['rmt loses', 'rmt_wins'])\n",
    "plt.xlabel('relative position of reference fact')\n",
    "plt.ylabel('num samples')\n",
    "plt.show()"
   ]
  },
  {
   "cell_type": "markdown",
   "metadata": {},
   "source": [
    "### why incline?\n"
   ]
  },
  {
   "cell_type": "code",
   "execution_count": null,
   "metadata": {},
   "outputs": [],
   "source": [
    "samples = [dataset_test[i] for i in range(len(dataset_test))]\n",
    "ref_pos_and_fact_nums = [(np.where([f in sample['references'] for f in sample['facts']])[0], len(sample['facts'])) for sample in samples]"
   ]
  },
  {
   "cell_type": "code",
   "execution_count": 127,
   "metadata": {},
   "outputs": [
    {
     "data": {
      "text/plain": [
       "Text(0.5, 0, 'relative reference fact number')"
      ]
     },
     "execution_count": 127,
     "metadata": {},
     "output_type": "execute_result"
    },
    {
     "data": {
      "image/png": "[encoded data removed]",
      "text/plain": [
       "<Figure size 640x480 with 1 Axes>"
      ]
     },
     "metadata": {},
     "output_type": "display_data"
    }
   ],
   "source": [
    "\n",
    "ref_pos = [x[0][-3:] for x in ref_pos_and_fact_nums]\n",
    "fact_nums = [x[1] for x in ref_pos_and_fact_nums]\n",
    "\n",
    "rel_ref_pos = [fp / x[1] for x in ref_pos_and_fact_nums for fp in x[0][-3:]]\n",
    "plt.hist(rel_ref_pos)\n",
    "plt.xlabel('relative reference fact number')"
   ]
  },
  {
   "cell_type": "code",
   "execution_count": 49,
   "metadata": {},
   "outputs": [
    {
     "data": {
      "text/plain": [
       "'kitchen'"
      ]
     },
     "execution_count": 49,
     "metadata": {},
     "output_type": "execute_result"
    }
   ],
   "source": [
    "pred_texts[40]"
   ]
  },
  {
   "cell_type": "code",
   "execution_count": 50,
   "metadata": {},
   "outputs": [
    {
     "data": {
      "text/plain": [
       "'kitchen'"
      ]
     },
     "execution_count": 50,
     "metadata": {},
     "output_type": "execute_result"
    }
   ],
   "source": [
    "target_texts[40]"
   ]
  },
  {
   "cell_type": "code",
   "execution_count": 45,
   "metadata": {},
   "outputs": [
    {
     "name": "stdout",
     "output_type": "stream",
     "text": [
      "----------------------------------------------------------------------------------------------------\n",
      "### Segment:  There were Robert, and Amy, and Louise, and Midgely--all making\n",
      "for the Pullman cars in the rear.Mary got the milk.John moved to the bedroom.They had said their farewells to\n",
      "their friends.Daniel journeyed to the office.John grabbed the apple there.A trio of assistants \"gave a\n",
      "hand\" at getting the great wooden case into the car.John got the football.John journeyed to the garden.Jennie saw it\n",
      "disappear with an acute physical wrench at her heart.There were many trunks to be put aboard, and then the door of the\n",
      "baggage car half closed, but not before the warning bell of the engine\n",
      "sounded.Mary left the milk.John left the football.Daniel moved to the garden.There was the insistent calling of \"all aboard\" from this\n",
      "quarter and that; then slowly the great locomotive began to move.Daniel grabbed the football.Mary moved to the hallway.Its\n",
      "bell was ringing, its steam hissing, its smoke-stack throwing aloft a\n",
      "great black plume of smoke that fell back over the cars like a pall.Mary went to the kitchen.John put down the apple there.John picked up the apple.The fireman, conscious of the heavy load behind, flung open a flaming\n",
      "furnace door to throw in coal.Sandra moved to the hallway.Daniel left the football there.Daniel took the football.John travelled to the kitchen.Jennie stood rigid, staring into the wonder of this picture, her\n",
      "face white, her eyes wide, her hands unconsciously clasped, but one\n",
      "thought in her mind--they were taking his body away.Daniel dropped the football.John dropped the apple.A leaden\n",
      "November sky was ahead, almost dark.John grabbed the apple.She looked, and looked until the\n",
      "last glimmer of the red lamp on the receding sleeper disappeared in\n",
      "the maze of smoke and haze overhanging the tracks of the\n",
      "far-stretching yard.\"Yes,\" said the voice of a passing stranger, gay with the\n",
      "anticipation of coming pleasures.John went to the office.Sandra went back to the bedroom.Sandra took the milk.\"We're going to have a great time\n",
      "down there.John journeyed to the bathroom.John travelled to the office.Uncle Jim is coming and Aunt Ella.\"Sandra left the milk.Mary went to the bedroom.Jennie did not hear that or anything else of the chatter and bustle\n",
      "around her.Mary moved to the office.John travelled to the hallway.Sandra moved to the garden.Before her was stretching a vista of lonely years down\n",
      "which she was steadily gazing.Mary moved to the kitchen.There\n",
      "were those two orphan children to raise.They would marry and leave\n",
      "after a while, and then what?Daniel took the football.Days and days in endless reiteration,\n",
      "and then--?Mary journeyed to the bedroom.Mary grabbed the milk there.Mary discarded the milk.THE END\n",
      "\n",
      "\n",
      "\n",
      "\n",
      "\n",
      "\n",
      "\n",
      "\n",
      "\n",
      "End of the Project Gutenberg EBook of Jennie Gerhardt, by Theodore Dreiser\n",
      "\n",
      "***John went to the garden.John discarded the apple there.\n",
      "\n",
      "\n",
      "\n",
      "Produced by David Edwards, Emmy and the Online Distributed\n",
      "Proofreading Team at http://www.pgdp.net (This file was\n",
      "produced from images generously made available by The\n",
      "Internet Archive)\n",
      "\n",
      "\n",
      "\n",
      "\n",
      "\n",
      "\n",
      "\n",
      "\n",
      "[Illustration: BULL RUN.]Sandra travelled to the bedroom.THE SOCK STORIES,\n",
      "\n",
      "BY \"AUNT FANNY'S\" DAUGHTER.Daniel moved to the bathroom.Sandra got the milk.RED, WHITE, AND BLUE SOCKS.Daniel travelled to the garden.Sandra went back to the bathroom.BEING\n",
      "\n",
      "THE SECOND BOOK OF THE SERIES.Daniel took the apple there.Mary went back to the hallway.BY\n",
      "\n",
      "\"AUNT FANNY'S\" DAUGHTER,\n",
      "\n",
      "THE AUTHOR OF \"THE LITTLE WHITE ANGEL.\"Daniel went to the hallway.Sandra went to the kitchen.NEW YORK:\n",
      "          LEAVITT & ALLEN, 21 & 23 MERCER ST.Mary journeyed to the bedroom.ENTERED, according to Act of Congress, in the year 1862, by\n",
      "  S. L. BARROW,\n",
      "  In the Clerk's Office of the District Court of the United States\n",
      "    for the\n",
      "  Southern District of New York.Sandra journeyed to the hallway.Daniel put down the apple.Daniel put down the football there.Sandra journeyed to the garden.JOHN F. TROWMary travelled to the office.Sandra dropped the milk.Where was the football before the garden? GEN\n",
      "RMT pred: bathroom\n",
      "GPT pred: hallway gt: bathroom\n",
      "----------------------------------------------------------------------------------------------------\n",
      "### Segment:  Sandra went back to the hallway.John travelled to the kitchen.John grabbed the apple.At a tavern where he stopped to get a stiff draught\n",
      "of spirits he announced that the rebels had been victorious and that he\n",
      "was seeking reinforcements with which to crush the troops completely.Daniel travelled to the hallway.John dropped the apple.Then, finding that the cordon was\n",
      "tightening around him, he blew out his brains with a revolver.Daniel went to the kitchen.Thus\n",
      "ended a life which was not without its share of romance and mystery.On the night of the 14th the troops encamped near the desolate village\n",
      "of St Eustache, a large part of which had unfortunately been given over\n",
      "to the flames during the engagement.John travelled to the office.Mary took the milk.Sandra journeyed to the kitchen.Mary discarded the milk.In the morning the column set out\n",
      "for St Benoit.Daniel grabbed the apple.Sir John Colborne had threatened that if a single shot\n",
      "were fired from St Benoit the village would be given over to fire and\n",
      "pillage.Daniel dropped the apple there.Daniel moved to the garden.But when the troops arrived there they found awaiting them\n",
      "about two hundred and fifty men bearing white flags.Sandra went back to the bathroom.All the villagers\n",
      "laid down their arms and made an unqualified submission.Daniel picked up the football.And it is a\n",
      "matter for profound regret that, notwithstanding this, the greater part\n",
      "of the village {101} was burned to the ground.Mary travelled to the office.Sandra went to the garden.Sir John Colborne has\n",
      "been severely censured for this occurrence, and not without reason.John went back to the garden.John travelled to the kitchen.Nothing is more certain, of course, than that he did not order it.Sandra went to the bathroom.Mary travelled to the bathroom.Daniel dropped the football there.Daniel picked up the football.Sandra got the milk.John got the apple.It\n",
      "seems to have been the work of the loyalist volunteers, who had without\n",
      "doubt suffered much at the hands of the rebels.John moved to the hallway.Daniel discarded the football.Daniel grabbed the football.Daniel discarded the football.Daniel took the football.Mary moved to the hallway.Daniel moved to the office.Sandra travelled to the office.'The irregular troops\n",
      "employed,' wrote one of the British officers, 'were not to be\n",
      "controlled, and were in every case, I believe, the instrument of the\n",
      "infliction.'Sandra left the milk.John went back to the kitchen.Mary went back to the bedroom.Mary went back to the kitchen.Far too much burning and pillaging went on, indeed, in\n",
      "the wake of the rebellion.Daniel travelled to the hallway.Sandra got the milk.Daniel discarded the football.'You know,' wrote an inhabitant of St\n",
      "Benoit to a friend in Montreal, 'where the younger Arnoldi got his\n",
      "supply of butter, or where another got the guitar he carried back with\n",
      "him from the expedition about the neck.'Daniel picked up the football.Sandra moved to the bathroom.John dropped the apple.John got the apple.And it is probable that the\n",
      "British officers, and perhaps Sir John Colborne himself, winked at some\n",
      "things which they could not officially recognize.John journeyed to the hallway.Mary went back to the hallway.Sandra journeyed to the kitchen.John travelled to the garden.At any rate, it is\n",
      "impossible to acquit Colborne of all responsibility for the unsoldierly\n",
      "conduct of the men under his command.Sandra left the milk.Daniel travelled to the office.John went to the bathroom.Sandra picked up the milk.John moved to the bedroom.Sandra journeyed to the bedroom.It is usual to regard the rebellion of 1837 in Lower Canada as no less\n",
      "a fiasco than its counterpart in Upper Canada.John journeyed to the kitchen.Daniel discarded the football.There is no doubt that\n",
      "it was hopeless from the outset.{102} It was an impromptu movement,\n",
      "based upon a sudden resolution rather than on a well-reasoned plan of\n",
      "action.Daniel went to the hallway.John moved to the bathroom.Mary travelled to the bathroom.Sandra discarded the milk there.Most of the leaders--Wolfred Nelson, Thomas Storrow Brown,\n",
      "Robert Bouchette, and Amury Girod--were strangers to the men under\n",
      "their command; and none of them, save Chenier, seemed disposed to fight\n",
      "to the last ditch.The movement at its inception fell under the\n",
      "official ban of the Church; and only two priests,Mary went to the hallway.Sandra went to the bathroom.Daniel travelled to the bathroom.John left the apple.Where was the apple before the bathroom? GEN\n",
      "RMT pred: kitchen\n",
      "GPT pred: garden gt: kitchen\n",
      "----------------------------------------------------------------------------------------------------\n",
      "### Segment:  Seen thus, great\n",
      "moss-grown structures rise from within the lofty encircling walls,\n",
      "with many a tower and gilded dome glittering in the clear sunlight and\n",
      "standing out in sharp relief against the green background of\n",
      "forest-plumed hills and towering mountains.John picked up the milk.Mary got the football.Mary put down the football.The abysmal blue of the\n",
      "untainted tropical sky overhead contrasts sharply with the red-tiled\n",
      "roofs and dazzling white exteriors of the buildings beneath; and the\n",
      "vivid tints, mingling with the iridescence of the scarcely rippling\n",
      "waters of the harbor, blend into a color scheme of rarest loveliness\n",
      "in the clear atmosphere which seems to magnify all distant objects and\n",
      "intensify every hue.A closer approach to the citadel which lies within the landlocked\n",
      "harbor reveals in detail the features of the stupendous walls which\n",
      "guard this key to Spain's former treasure house.Mary went back to the hallway.Mary went to the kitchen.Their immensity and\n",
      "their marvelous construction bear witness to the genius of her famous\n",
      "military engineers, and evoke the same admiration as do the great\n",
      "temples and monuments of ancient Egypt.John moved to the garden.John left the milk there.These grim walls, in places\n",
      "sixty feet through, and pierced by numerous gates, are frequently\n",
      "widened into broad esplanades, and set here and there with bastions\n",
      "and watch towers to command strategic points.At the north end of the\n",
      "city they expand into an elaborately fortified citadel, within which\n",
      "are enormous fresh water tanks, formerly supplied by the rains, and\n",
      "made necessary by the absence of springs so near the coast.Daniel moved to the office.John took the milk.John picked up the apple there.Within the\n",
      "walls at various points one finds the now abandoned barracks,\n",
      "storerooms, and echoing dungeons, the latter in the days of the\n",
      "stirring past too often pressed into service by the Holy Inquisition.John went back to the office.Sandra went back to the bathroom.Daniel went back to the kitchen.Underground tunnels, still intact, lead from the walls to the\n",
      "Cathedral, the crumbling fortress of San Felipe de Barajas, and the\n",
      "deserted convent on the summit of La Popa.Sandra picked up the football.John travelled to the bedroom.Sandra went back to the office.Time-defying, grim,\n",
      "dramatic reliques of an age forever past, breathing poetry and romance\n",
      "from every crevice--still in fancy echoing from moldering tower and\n",
      "scarred bulwark the clank of sabre, the tread of armored steed, and\n",
      "the shouts of exulting _Conquistadores_--aye, their ghostly echoes\n",
      "sinking in the fragrant air of night into soft whispers, which bear to\n",
      "the tropical moon dark hints of ancient tragedies enacted within these\n",
      "dim keeps and gloom-shrouded tunnels!John put down the apple.Sandra went to the kitchen.John moved to the garden.Daniel travelled to the bathroom.The pass of Boca Grande--\"large mouth\"--through which Drake's band of\n",
      "marauders sailed triumphantly in the latter part of the sixteenth\n",
      "century, was formerly the usual entrance to the city's magnificent\n",
      "harbor.Daniel went back to the office.But its wide, deep channel, only two miles from the city\n",
      "walls, afforded too easy access to undesirable visitors in the heyday\n",
      "of freebooters; and the harassed Cartagenians, wearied of the\n",
      "innumerable piratical attacks which this broad entrance constantly\n",
      "invited, undertook to fill it up.Sandra moved to the garden.John went to the office.This they accomplished after years\n",
      "of heroic effort and an enormous expenditure of money, leaving the\n",
      "harbor only the slender, tortuous entrance of Boca Chica--\"little\n",
      "mouth\"--dangerous to incoming vessels because of the almost torrential\n",
      "flow of the tide through it, but much more readily defended.John went back to the bathroom.The two\n",
      "castles of San Fernando and San Jose, frowning structures of stone\n",
      "dominating this entrance, have long since fallen into disuse, but are\n",
      "still admirably preserved.Sandra discarded the football.Mary went back to the office.Beneath the former, and extending far below\n",
      "the surface of the water, is the old Bastile of the Inquisition,\n",
      "occasionally pressed into requisition now to house recalcitrant\n",
      "politicians, and where no great effort of the imagination is required\n",
      "still to hear the groans of the tortured and the sighs of the\n",
      "condJohn went to the bedroom.John put down the milk there.Where was the milk before the office? GEN\n",
      "RMT pred: garden\n",
      "GPT pred: bathroom gt: garden\n",
      "----------------------------------------------------------------------------------------------------\n",
      "### Segment:  \"Rosendo,\" Jose spoke low and reverently, \"I believe now that you and\n",
      "I have both been guided by that great mind which I am calling God.I\n",
      "believe we are being used for some beneficent purpose, and that it has\n",
      "to do with Carmen.Sandra went back to the hallway.That purpose will be unfolded to us as we bow to\n",
      "His will.Mary picked up the apple.Every way closed against me, excepting the one that led to\n",
      "Simiti.And now there seems to be but one way open\n",
      "to you--to go back to Guamoco.Daniel got the milk.Mary travelled to the hallway.Daniel journeyed to the bathroom.And you go, forgetful of self, thinking\n",
      "only that you serve her.Mary journeyed to the bathroom.Ah, friend, you are serving Him whom you\n",
      "reflect in love to His beautiful child.\"\"But, while we accept our tasks gratefully, I feel that we shall be\n",
      "tried--and we may not live to see the results of our labors.There are\n",
      "influences abroad which threaten danger to Carmen and to us.But we have given ourselves to her, and\n",
      "through her to the great purpose with which I feel she is concerned.\"Sandra went back to the bathroom.Sandra journeyed to the garden.Daniel moved to the office.Rosendo slowly rose, and his great height and magnificent physique\n",
      "cast the shadow of a Brobdignan in the light as he stood in the\n",
      "doorway.\"Padre,\" he replied, \"I am an old man, and I have but few years left.But however many they be, they are hers.And had I a thousand, I would\n",
      "drag them all through the fires of hell for the child!I cannot follow\n",
      "you when you talk about God.But this I know, the\n",
      "One who brought me here and then went away will some day call for\n",
      "me--and I am always ready.\"He turned into the house and sought his hard bed.Daniel journeyed to the garden.The great soul knew\n",
      "not that he reflected the light of divine Love with a radiance unknown\n",
      "to many a boasting \"vicar of Christ.\"CHAPTER 9\n",
      "\n",
      "\n",
      "At the first faint flush of morn Rosendo departed for the hills.The\n",
      "emerald coronels of the giant _ceibas_ on the far lake verge burned\n",
      "softly with a ruddy glow.From the water's dimpling surface downy\n",
      "vapors rose languidly in delicate tints and drew slowly out in\n",
      "nebulous bands across the dawn sky.Sandra went back to the hallway.The smiling softness of the\n",
      "velvety hills beckoned him, and the pungent odor of moist earth\n",
      "dilated his nostrils.He laughed aloud as the joyousness of youth\n",
      "surged again through his veins.The village still slumbered, and no\n",
      "one saw him as he smote his great chest and strode to the boat, where\n",
      "Juan had disposed his outfit and was waiting to pole him across.Only\n",
      "the faithful Dona Maria had softly called a final \"_adioscito_\" to him\n",
      "when he left his house.A half hour later, when the dugout poked its\n",
      "blunt nose into the ooze of the opposite shore, he leaped out and\n",
      "hurriedly divested himself of his clothing.Daniel left the milk.Mary discarded the apple.Then he lifted his chair\n",
      "with its supplies to his shoulders, and Juan strapped it securely to\n",
      "his back, drawing the heavy band tightly across his forehead.John got the apple.With a\n",
      "farewell wave of his hand to the lad, the man turned and plunged into\n",
      "the Guamoco trail, and was quickly lost in the dense thicket.Six days\n",
      "later, if no accident befell, he would reach his destination, the\n",
      "singing waters of the crystal Tigui.John dropped the apple.His heart leaped as he strode, though none knew better than he what\n",
      "hardships those six days held for him--days of plunging through\n",
      "fever-laden bogs; staggering in withering heat across open savannas;\n",
      "now scaling the slippery <DW72>s of great mountains; now swimming the\n",
      "chill waters of rushing streams; making his bed where night overtook\n",
      "him, among the softly pattering forest denizens and the swarming\n",
      "insect life of the dripping woods.His black skin glistened with\n",
      "perspiration and the heavy dew wiped from the close-growing bush.With\n",
      "one hand he leaned upon a young sapling cut for a staff.Mary went back to the office.With the\n",
      "other he incessantly swung his _machete_ to clear the dim trail.His\n",
      "eyesWhere was the milk before the office? GEN\n",
      "RMT pred: bathroom\n",
      "GPT pred: garden gt: bathroom\n",
      "----------------------------------------------------------------------------------------------------\n",
      "### Segment:  John grabbed the football.John dropped the football there.John moved to the hallway.Mary journeyed to the bedroom.Mary got the football.Mary went back to the garden.Daniel went back to the garden.Daniel journeyed to the bedroom.John moved to the kitchen.She came with a song\n",
      "on her lips.Mary discarded the football.Mary got the apple there.Mary left the apple.Mary took the milk there.Mary moved to the kitchen.Daniel went back to the hallway.Mary discarded the milk.Sandra moved to the garden.Mary went back to the garden.Mary went back to the bathroom.Sandra went to the kitchen.Sandra grabbed the milk.\"Don't stop, _chiquita_!Mary moved to the bedroom.Sandra moved to the bedroom.Sandra travelled to the hallway.Sandra discarded the milk.Sandra took the milk.John moved to the office.John travelled to the bathroom.Daniel went to the office.Sandra dropped the milk.Daniel travelled to the hallway.Sandra got the milk.John went to the kitchen.Sing it again--it is beautiful; and my soul\n",
      "drinks it in like heavenly dew!\"Mary moved to the kitchen.Sandra went to the bathroom.Daniel journeyed to the kitchen.John went back to the bedroom.John went to the office.Sandra went to the hallway.John journeyed to the kitchen.Sandra left the milk there.he cried, as the child danced up to\n",
      "him and threw her plump arms about his neck.Sandra moved to the bedroom.John moved to the office.Mary went back to the bedroom.Mary journeyed to the hallway.Mary journeyed to the bedroom.Daniel moved to the bedroom.John travelled to the bedroom.Sandra journeyed to the garden.Sandra picked up the apple there.She turned about and sat down on the dusty threshold and repeated the\n",
      "little song.Sandra put down the apple.John journeyed to the kitchen.Sandra went to the bedroom.John went back to the garden.Sandra journeyed to the hallway.John got the football.The glittering sunlight streamed through her rich curls\n",
      "like stringers of wire gold.John left the football.Mary went to the bathroom.Sandra grabbed the milk there.John got the football there.John went back to the bathroom.John dropped the football there.John went back to the kitchen.Mary journeyed to the office.Mary moved to the garden.Sandra left the milk.Mary grabbed the apple.Mary went to the bathroom.Cucumbra came fawning to her and nestled\n",
      "at her little bare feet, caressing them at frequent intervals with his\n",
      "rough tongue.Sandra moved to the office.Mary picked up the football.Sandra went back to the garden.Mary moved to the hallway.John moved to the hallway.Sandra travelled to the bathroom.Mary travelled to the bathroom.John travelled to the garden.Cantar-las-horas approached with dignified tread, and,\n",
      "stopping before his adored little mistress, cocked his head to one\n",
      "side and listened attentively, his beady eyes blinking in the dazzling\n",
      "light.Mary dropped the apple.Sandra picked up the apple there.Sandra journeyed to the kitchen.Sandra discarded the apple.Daniel went to the bathroom.Mary discarded the football.Sandra travelled to the bedroom.Daniel got the football.Mary journeyed to the bedroom.John went to the bathroom.Mary travelled to the hallway.Sandra travelled to the kitchen.Daniel left the football.Sandra moved to the office.John picked up the football there.John dropped the football.Had\n",
      "either of her parents been so gifted?Daniel journeyed to the hallway.Mary moved to the garden.Daniel grabbed the milk.And yet, it was\n",
      "only the voicing of a soul of stainless purity--a conscience clear as\n",
      "the light that gilded her curls--a trust, a faith, a knowledge of\n",
      "immanent good, that manifested daily, hourly, in a tide of happiness\n",
      "whose far verge melted into the shore of eternity.John went back to the bedroom.Sandra went back to the kitchen.John journeyed to the garden.John moved to the kitchen.John travelled to the hallway.Daniel discarded the milk.Mary travelled to the bedroom.John took the milk.As he sat with\n",
      "closed eyes the adobe hut, with its dirt floor and shabby furnishings,\n",
      "expandedDaniel went to the office.Mary travelled to the office.John journeyed to the office.John travelled to the bathroom.Sandra moved to the hallway.John moved to the kitchen.John picked up the apple there.Daniel moved to the bathroom.Mary journeyed to the bedroom.John went back to the garden.John dropped the milk.Where was the milk before the bathroom? GEN\n",
      "RMT pred: office\n",
      "GPT pred: garden gt: office\n",
      "----------------------------------------------------------------------------------------------------\n",
      "### Segment:  Daniel moved to the kitchen.Mary went to the office.John went to the office.Daniel picked up the milk there.Daniel left the milk.Sandra went back to the kitchen.He aspired to the hand of a\n",
      "sister of a railway president, and won it.Mary travelled to the hallway.Mary went back to the bedroom.Daniel moved to the office.John moved to the kitchen.John took the milk.John went back to the office.Daniel moved to the kitchen.He educated his sons in the\n",
      "best colleges of the East, and then sent them to Europe on their\n",
      "honeymoons.Sandra moved to the bedroom.John went back to the bathroom.Mary picked up the apple.And finally, when the burden of years began to press\n",
      "noticeably, and the game became less attractive, he retired from\n",
      "the field of business, cleared off his indebtedness, organized the\n",
      "Ketchim Realty Company, put its affairs on the best possible basis,\n",
      "and then committed the unpardonable folly of turning it over to the\n",
      "unrestricted management of his two sons.Mary went back to the office.John went to the office.Mary discarded the apple.John got the apple.At the expiration of a year the old gentleman\n",
      "hurried back into the harness to save the remnant of his fortune, only\n",
      "to find it inextricably tied up in lands of dubious value and\n",
      "questionable promotional schemes.Daniel went back to the bedroom.John discarded the milk.Sandra moved to the office.Sandra took the milk.The untangling of the real estate he\n",
      "immediately took into his own hands.John discarded the apple.Mary grabbed the apple.Mary put down the apple.John picked up the apple.Daniel went to the bathroom.Daniel journeyed to the kitchen.John put down the apple.Mary moved to the hallway.John moved to the bathroom.Daniel journeyed to the hallway.Sandra travelled to the garden.Mary travelled to the garden.Daniel moved to the bathroom.Mary picked up the football there.John went to the office.A word in passing regarding these sons, for they typify a form of\n",
      "parasitical growth, of the fungus variety, which in these days has\n",
      "battened and waxed noxious on the great stalk of legitimate commercial\n",
      "enterprise.Mary put down the football.Sandra got the football.Daniel travelled to the office.John went to the kitchen.Sandra put down the milk.John travelled to the bathroom.They were as dissimilar, and each as unlike his father, as\n",
      "is possible among members of the same family.Mary took the milk.John journeyed to the office.Both sought, with\n",
      "diligent consecration, the same goal, money; but employed wholly\n",
      "different means to gain that end.John went back to the hallway.Daniel took the apple there.Mary discarded the milk there.John journeyed to the garden.James, the elder, was a man of ready\n",
      "wit, a nimble tongue, and a manner which, on occasions when he could\n",
      "think of any one but himself, was affable and gracious.Daniel travelled to the bedroom.Sandra journeyed to the bathroom.John journeyed to the hallway.John went back to the bedroom.Sandra went back to the garden.He was a\n",
      "scoffer of religion, an open foe of business scruple, and the avowed\n",
      "champion of every sort of artifice and device employed in ancient,\n",
      "mediaeval, or modern finance to further his own selfish desires, in\n",
      "the minimum of time, and at whatever cost to his fellow-man.Sandra left the football there.Sandra moved to the office.Mary got the football.Mary put down the football.John journeyed to the kitchen.Daniel dropped the apple there.Daniel got the apple.In his\n",
      "cups he was a witty, though arrogant, braggart.Sandra went to the garden.Mary got the football.Daniel moved to the kitchen.In his home he was\n",
      "petulant and childish.Sandra went back to the office.Sandra travelled to the bathroom.Mary got the milk.Mary journeyed to the bedroom.Daniel left the apple.Daniel grabbed the apple.Sandra moved to the hallway.Of real business acumen and constructive\n",
      "wisdom, he had none.Daniel dropped the apple.Mary went to the office.Daniel took the apple there.Mary left the football.He would hew his way to wealth, if need be,\n",
      "openly defiant of GodMary moved to the bathroom.Daniel went to the bedroom.John journeyed to the garden.Daniel travelled to the kitchen.Mary moved to the kitchen.John went to the kitchen.Sandra journeyed to the office.Daniel put down the apple.Mary discarded the milk.Where was the milk before the office? GEN\n",
      "RMT pred: bedroom\n",
      "GPT pred: kitchen gt: bedroom\n",
      "----------------------------------------------------------------------------------------------------\n",
      "### Segment:  Mary moved to the garden.Daniel grabbed the football there.Mary journeyed to the kitchen.At length the strain between Ames and Hawley-Crowles reached the\n",
      "breaking point; and then the former decided that the woman's\n",
      "bewitching smiles should thenceforth be his alone.Mary went to the hallway.Mary journeyed to the garden.He forthwith drew\n",
      "the seldom sober Hawley-Crowles into certain business deals, with the\n",
      "gentle connivance of the suave Beaubien herself, and at length sold\n",
      "the man out short and presented a claim on every dollar he possessed.John travelled to the office.Daniel journeyed to the garden.Hawley-Crowles awoke from his blissful dream sober and trimmed.But\n",
      "then the Beaubien experienced one of her rare and inexplicable\n",
      "revulsions of the ethical sense, and a compromise had to be effected,\n",
      "whereby the Hawley-Crowles fortune was saved, though the man should\n",
      "see the Beaubien no more.Mary got the milk there.Daniel discarded the football.By this time her beauty was blooming in its utmost profusion, and her\n",
      "prowess had been fairly tried.Daniel went back to the office.She took a large house, furnished it\n",
      "like unto a palace, and proceeded to throw her gauntlet in the face of\n",
      "the impregnable social caste.Daniel grabbed the apple.There she drew about her a circle of\n",
      "bon-vivants, artists, litterateurs, politicians, and men of\n",
      "finance--with never a woman in the group.Mary took the football there.Daniel left the apple.John took the apple.Yet in her new home she\n",
      "established a social code as rigid as the Median law, and woe to him\n",
      "within her gates who thereafter, with or without intent, passed the\n",
      "bounds of respectful decorum.John went to the bathroom.Daniel travelled to the bathroom.Mary travelled to the hallway.His name was heard no more on her rosy\n",
      "lips.Sandra travelled to the hallway.John discarded the apple.Her dinners were Lucullan in their magnificence; and over the rare\n",
      "wines and imperial cigars which she furnished, her guests passed many\n",
      "a tip and prognostication anent the market, which she in turn quietly\n",
      "transmitted to her brokers.John went back to the garden.Mary moved to the bedroom.She came to understand the game\n",
      "thoroughly, and, while it was her heyday of glorious splendor, she\n",
      "played hard.Sandra travelled to the office.John went to the hallway.Mary travelled to the kitchen.She had bartered every priceless gift of nature for\n",
      "gold--and she made sure that the measure she received in return was\n",
      "full.Sandra went back to the garden.Sandra journeyed to the bedroom.Mary went back to the hallway.Mary travelled to the kitchen.Her gaze was ever upon the approaching day when those charms\n",
      "would be but bitter memories; and it was her grim intention that when\n",
      "it came silken ease should compensate for their loss.John went back to the bathroom.Ten years passed, and the Beaubien's reign continued with undimmed\n",
      "splendor.John grabbed the apple.Daniel moved to the hallway.Mary discarded the football there.In the meantime, the wife of J. Wilton Ames had reached the\n",
      "zenith of her ambitions and was the acknowledged leader in New York's\n",
      "most fashionable social circle.Daniel journeyed to the bedroom.Mary journeyed to the office.But, though\n",
      "the Beaubien had never sought the entree to formal society, preferring\n",
      "to hold her own court, at which no women attended, she exercised a\n",
      "certain control over it through her influence upon the man Ames.Ames knew of the long-continued relations between her husband and\n",
      "this woman was never divulged.And doubtless she was wholly satisfied\n",
      "that his wealth and power afforded her the position which her heart\n",
      "had craved; and, that secure, she was willing to leave him to his own\n",
      "methods of obtaining diversion.John went to the office.But rumor was persistent, maliciously\n",
      "so; and rumor declared that the list of this envied society dame was\n",
      "not drawn up without the approval of her husband and the woman with\n",
      "whom his leisure hours were invariably spent.Mary journeyed to the bedroom.Sandra travelled to the hallway.Hawley-Crowles, whose doting mate had once fawned in the perfumed wake\n",
      "of the luxurious Beaubien.Mary moved to the office.Carmen, whose wishes had not been consulted, had voiced no objection\n",
      "whatever to returning to the Hawley-CrowJohn discarded the apple there.Mary put down the milk.Where was the milk before the kitchen? GEN\n",
      "RMT pred: hallway\n",
      "GPT pred: bedroom gt: hallway\n",
      "----------------------------------------------------------------------------------------------------\n",
      "### Segment:  Daniel travelled to the hallway.How could this girl, who, in her\n",
      "few brief years, had passed through fire and flood, still love the\n",
      "hand that guided her!Daniel grabbed the apple there.Mary journeyed to the garden.CHAPTER 19\n",
      "\n",
      "\n",
      "To the great horde of starving European nobility the daughters of\n",
      "American millionaires have dropped as heavenly manna.Mary grabbed the football.It was but dire\n",
      "necessity that forced low the bars of social caste to the transoceanic\n",
      "traffic between fortune and title.Mary dropped the football there.Daniel dropped the apple there.Daniel moved to the kitchen.Mary took the football.Hawley-Crowles might ever aspire to the purchase of a\n",
      "decrepit dukedom had never entered her thought.Mary put down the football.A tottering earldom\n",
      "was likewise beyond her purchasing power.Mary travelled to the bathroom.She had contented herself\n",
      "that Carmen should some day barter her rare culture, her charm, and\n",
      "her unrivaled beauty, for the more lowly title of an impecunious count\n",
      "or baron.Daniel went back to the hallway.Daniel got the apple.But to what heights of ecstasy did her little soul rise when\n",
      "the young Duke of Altern made it known to her that he would honor her\n",
      "beautiful ward with his own glorious name--in exchange for La Libertad\n",
      "and other good and valuable considerations, receipt of which would be\n",
      "duly acknowledged.Daniel put down the apple.\"I--aw--have spoken to her, ye know, Mrs.Daniel travelled to the bathroom.John went back to the bedroom.Hawley-Crowles,\" that worthy\n",
      "young cad announced one afternoon, as he sat alone with the successful\n",
      "society leader in the warm glow of her living room.John travelled to the hallway.she said we were engaged, ye know--really!Said we were awfully good\n",
      "friends, ye know, and all that.John got the apple there.For Reginald had done much thinking of late--and his creditors were\n",
      "restless.Hawley-Crowles,\n",
      "beaming like a full-blown sunflower.Only--ye know, she'll have to be--coached a bit, ye\n",
      "know--told who we are--our ancestral history, and all that.Mary travelled to the hallway.Why, she just couldn't help loving you!\"John travelled to the garden.\"No--aw--no, of course--that is--aw--she has excellent\n",
      "prospects--financial, I mean, eh?John got the football.Mines, and all that, ye know--eh?\"Daniel journeyed to the hallway.\"Why, she owns the grandest gold mine in all South America!Mary moved to the office.Mary moved to the bedroom.I--aw--I never was so attracted to a girl in all me\n",
      "blooming life!John put down the football.John grabbed the football.You will--a--speak to her, eh?Daniel journeyed to the bedroom.\"Never fear, Reginald\" she's yours.John moved to the hallway.Sandra went back to the bathroom.John left the football.Certainly not--not when she knows about our family.John grabbed the football there.John went back to the kitchen.John went back to the hallway.And--aw--mother will talk with you--that is, about the details.Mary went back to the office.She'll\n",
      "arrange them, ye know.And the haughty mother of the young Duke did call shortly thereafter\n",
      "to consult in regard to her son's matrimonial desires.Mary moved to the hallway.Sandra moved to the bedroom.Sandra went to the bathroom.John went back to the kitchen.The nerve-racking\n",
      "round of balls, receptions, and other society functions was quite\n",
      "forgotten by the elated Mrs.Hawley-Crowles, whose ears tingled\n",
      "deliciously under the pompous boastings of the Dowager Lady Altern.John went back to the garden.John grabbed the milk there.Hawley-Crowles was convinced, after a\n",
      "half hour's conversation with this proud mother, that the royal house\n",
      "of Brunswick was but an impudent counterfeit!John put down the milk.Daniel went back to the garden.Mary went back to the garden.Reed, who had\n",
      "hastily appraised it, had said that there was a mountain of gold there,\n",
      "only awaiting Yankee enterprise.There was proof positive\n",
      "that she was an Inca princess.John picked up the milk.John travelled to the office.John discarded the football.John travelled to the kitchen.Daniel went back to the office.Hawley-Crowles was so honored\n",
      "by the deep interest which the youngJohn dropped the milk.Where was the football before the hallway? GEN\n",
      "RMT pred: kitchen\n",
      "GPT pred: garden gt: kitchen\n",
      "----------------------------------------------------------------------------------------------------\n",
      "### Segment:  Daniel moved to the kitchen.Sandra went back to the office.Sandra went back to the kitchen.Sandra went to the bedroom.Why, we couldn't begin to supply the demand!\"Daniel moved to the office.\"Billboards in every field and along all railroads and highways;\n",
      "boards in every vacant lot in every town and city in the country;\n",
      "electric signs everywhere; handbills; lectures--never thought of that,\n",
      "did you?John moved to the garden.John took the apple.And samples--why, I'd put samples into every house in the\n",
      "Union!Mary went to the kitchen.Sandra went to the bathroom.I'd give away a million barrels of beer--and sell a hundred\n",
      "million as a result!John dropped the apple.Sandra picked up the football.John journeyed to the hallway.But I'd work particularly with the young people.Daniel moved to the bedroom.Work on them with literature and suggestion; they're more receptive\n",
      "than adults.The hypnotism that works through suggestive advertising,\n",
      "Claus, is simply omnipotent!Sandra discarded the football.John journeyed to the kitchen.Daniel moved to the bathroom.Mary went back to the hallway.\"We have all the papers, excepting the Express, Mr.John went back to the hallway.Daniel went back to the kitchen.Daniel went to the bathroom.You can\n",
      "afford to pass it up.Sandra picked up the football.It's run by a college professor and a doll-faced\n",
      "girl.\"Sandra left the football there.Mary went to the kitchen.Daniel picked up the football.Sandra went to the garden.Ames, our advertising manager tells me that the publishers\n",
      "of the Express called a meeting of the managers of all the other city\n",
      "papers, to discuss cutting out liquor advertising, and that since then\n",
      "the rates have gone up, way up!You see, the example set by the\n",
      "Express may--\"\n",
      "\n",
      "\"Humph!\"Sandra took the apple.Sandra picked up the milk.Sandra travelled to the hallway.An example, backed by\n",
      "absolute fearlessness--and he knew from experience that the publishers\n",
      "of the Express were without fear--well, it could not be wholly\n",
      "ignored, even if the new paper had no circulation worth the name.Sandra left the apple.Daniel travelled to the kitchen.Sandra grabbed the apple.Mary went back to the office.Ames,\" resumed the brewer, \"the Express is in every newsstand in\n",
      "the city.Daniel left the football.Daniel picked up the football.John travelled to the bedroom.Mary travelled to the hallway.John moved to the garden.Mary journeyed to the bedroom.John went back to the hallway.John journeyed to the bathroom.It's in every hotel, in every\n",
      "saloon, in every store and business house here.Sandra travelled to the kitchen.It\n",
      "isn't sold, it's given away!Daniel dropped the football.\"Leave it to me, Claus,\" he said at length, dismissing the brewer.Mary went to the garden.Daniel moved to the hallway.Sandra went to the hallway.John journeyed to the garden.\"I'll send for you in a day or so.\"Daniel moved to the garden.Daniel went back to the bedroom.Sandra journeyed to the bathroom.Mary moved to the hallway.*       *       *       *       *\n",
      "\n",
      "It was well after midnight when the little group assembled in the\n",
      "dining room of the Beaubien cottage to resume their interrupted\n",
      "discussions.Sandra travelled to the kitchen.Sandra put down the apple.Hitt and Haynerd were the last to arrive.Sandra went to the hallway.With him had come, not without\n",
      "some reluctance, his prickly disputant, Reverend Patterson Moore, and\n",
      "another friend and colleague, Doctor Siler, whose interest in these\n",
      "unique gatherings had been aroused by Morton.Mary went to the garden.Daniel moved to the bathroom.Sandra dropped the milk.Sandra grabbed the milk.Sandra moved to the bathroom.\"I've tried to give him a resume of our previous deductions,\" the\n",
      "latter explained, as Hitt prepared to open the discussion.Sandra went to the bedroom.Sandra went to the garden.Daniel travelled to the office.Mary moved to the hallway.John went to the hallway.John went back to the garden.\"And he\n",
      "says he has conscientious scruples--if you know what that means.\"John went back to the bathroom.\"He's a Philistine, that's all, eh?\"Sandra journeyed to the bedroom.John went to the garden.Sandra put down the milk.\"Where was the milk before the bedroom? GEN\n",
      "RMT pred: garden\n",
      "GPT pred: bathroom gt: garden\n",
      "----------------------------------------------------------------------------------------------------\n",
      "### Segment:  Sandra travelled to the office.Sandra travelled to the bathroom.The world still awaits the one who will show\n",
      "it things as they _really_ are.John journeyed to the kitchen.John got the apple.Sandra grabbed the football there.Sandra dropped the football.Sandra took the football.Mary travelled to the kitchen.Daniel journeyed to the office.John moved to the hallway.Sandra journeyed to the kitchen.John travelled to the office.John put down the apple there.Human realities, so-called, are the\n",
      "horrible, ghastly unrealities of carnal thought, without any basis of\n",
      "the divine Christ-principle.John grabbed the apple.Sandra journeyed to the hallway.Sandra put down the football.Sandra got the football.Sandra left the football.Daniel went back to the hallway.John went back to the kitchen.I know, we are told that the great books\n",
      "of the world are those which preserve and interpret its life.Sandra took the football.Sandra travelled to the kitchen.John discarded the apple there.is\n",
      "it true greatness to detail, over and over again in endless recital,\n",
      "the carnal motives of the human mind, its passions and errors, its\n",
      "awful mesmerism, its final doom?Mary took the apple there.Mary went back to the bathroom.Mary dropped the apple.John went back to the garden.Sandra dropped the football.John journeyed to the office.Yes, perhaps, on one condition: that,\n",
      "like a true critic, you picture human concepts only to show their\n",
      "unreality, their nothingness, and to show how they may be overcome.\"Daniel moved to the garden.Daniel went back to the office.Mary picked up the apple.Sandra went back to the hallway.Mary moved to the hallway.\"But most books--\"\n",
      "\n",
      "\"Ah, yes, most books are written only to amuse the dispirited human\n",
      "mind for a brief hour, to make it forget for a moment its troubles.Mary dropped the apple.Mary went back to the bathroom.John journeyed to the bedroom.John went to the garden.Daniel moved to the garden.John journeyed to the hallway.John picked up the apple.Sandra went to the bedroom.They are literary narcotics; they are sops to jaded appetites, that's\n",
      "all.Mary moved to the hallway.Daniel grabbed the milk.Daniel discarded the milk.Daniel went back to the office.Sandra went to the hallway.A book, for example, that pictures an injured man discovering a\n",
      "great treasure, and then using it to carry out his schemes of\n",
      "revenge--well, what influence for good has such a work?John went back to the bathroom.John journeyed to the kitchen.Mary went back to the bathroom.Daniel travelled to the bathroom.John went to the bathroom.John dropped the apple.It is only a\n",
      "stimulus to evil, Sidney.Mary got the apple there.Mary went to the bedroom.John went to the office.Daniel went back to the kitchen.Mary put down the apple.Mary took the apple there.John moved to the bedroom.Mary put down the apple.But had it shown him using that great wealth\n",
      "to bless his persecutors and turn them from their mesmerism to real\n",
      "life and good--\"\n",
      "\n",
      "\"Such things don't happen in this world, Carmen.\"John went back to the kitchen.John got the football.John journeyed to the garden.\"But they could, and should, Sidney dear.Sandra moved to the bathroom.Mary got the apple.John went back to the office.John put down the football there.Daniel travelled to the hallway.John took the football.John put down the football.Sandra went back to the hallway.John took the football there.Then will come the new literature, the literature of _good_!Mary travelled to the bathroom.John discarded the football.Mary went to the garden.John went back to the hallway.John went back to the kitchen.Mary took the milk.Daniel journeyed to the bathroom.Sandra travelled to the office.And it\n",
      "will make people think, rather than relieve them from the ennui of\n",
      "solid thought, as our present novels do.Daniel moved to the garden.Sandra picked up the football.Sandra put down the football.Daniel went back to the bedroom.Mary went back to the office.The intellectual palate then\n",
      "will find only insipidity in such books as pour from our presses now.Sandra went to the hallway.Mary dropped the milk.John moved to the bedroom.The ability to converse glibly about authorsMary dropped the apple.Mary went back to the garden.Sandra moved to the kitchen.John travelled to the bathroom.Daniel journeyed to the bathroom.Where was the apple before the garden? GEN\n",
      "RMT pred: bathroom\n",
      "GPT pred: office gt: bathroom\n",
      "----------------------------------------------------------------------------------------------------\n",
      "### Segment:  John went back to the bathroom.John went back to the bedroom.\"It is admittedly necessary in\n",
      "the present stage of the world's thought; but it is likewise admitted\n",
      "to be 'the very uncertain art of performing operations,' at least\n",
      "ninety per cent of which are wholly unnecessary.Daniel went to the office.\"You see,\" she went on, \"the effect upon the _moral_ nature of the\n",
      "sick man is never considered as rightfully having any influence upon\n",
      "the choice of the system to be employed.Mary took the milk.If Beelzebub can cast out\n",
      "demons, why not employ him?Mary left the milk.For, after all, the end to be attained is\n",
      "the ejection of the demon.And if God had not intended minerals and\n",
      "plants to be used as both food and medicine, why did He make them?John went to the hallway.Mary took the milk.Besides, man must earn his bread in some way under our present crude\n",
      "and inhuman social system, and if the demand for drugs exists we may\n",
      "be very sure it will be supplied by others, if not by ourselves.Again, the influence of commercialism as a determining factor in the\n",
      "choice of a profession, is an influence that works to keep many in the\n",
      "practice of a profession that they know to be both unscientific and\n",
      "harmful.Mary left the milk.Sandra travelled to the bedroom.Mary went to the bathroom.Sandra went to the garden.The result is an inevitable lowering of ideals to the lust of\n",
      "material accumulation.\"\"You certainly are hard on us poor doctors!And\n",
      "we have done so much for you, too, despite your accusations.Mary moved to the kitchen.Think of\n",
      "the babies that are now saved from diphtheria alone!\"Daniel moved to the bedroom.\"And think of the children who are the victims of the medical mania!\"\"Think how they are brought up under the tyranny of\n",
      "fear!Sandra moved to the kitchen.Sandra got the milk.Daniel grabbed the football.Fear of this and of that; fear that if they scratch a finger\n",
      "blood poisoning will deprive them of life; fear that eating a bit of\n",
      "this will cause death; or sitting in a breeze will result in wasting\n",
      "sickness!John journeyed to the kitchen.Sandra moved to the office.As for diphtheria antitoxin, it is in the\n",
      "same class as the white of an egg.Daniel took the apple there.Daniel put down the apple.John went back to the bedroom.It is the\n",
      "result of human belief, the belief that a horse that has recovered\n",
      "from diphtheria can never again be poisoned by the microbe of that\n",
      "disease.John travelled to the office.Daniel discarded the football.The microbe, Doctor, is the externalization in the human\n",
      "mentality of the mortal beliefs of fear, of life and power in matter,\n",
      "and of disease and death.Sandra dropped the milk.The microbe will be subject, therefore, to\n",
      "the human mind's changing thought regarding it, always.\"Sandra got the milk.Daniel picked up the football.\"Well then,\" said the doctor, \"if people are spiritual, and if they\n",
      "really are a consciousness, as you say, why do we seem to be carrying\n",
      "about a body with us all the time--a body from which we are utterly\n",
      "unable to get away?\"Daniel got the apple.\"It is because the mortal mind and body are one, Doctor.Daniel dropped the football.The body is\n",
      "a lower stratum of the human mind.Daniel moved to the office.Sandra put down the milk.Hence, the so-called mind is\n",
      "never distinct from its body to the extent of complete separation,\n",
      "but always has its substratum with it.Daniel journeyed to the garden.And, Doctor, the mind can not\n",
      "hold a single thought without that thought tending to become\n",
      "externalized--as Professor James tells us--and the externalization\n",
      "generally has to do with the body, for the mind has come to center\n",
      "all its hopes of happiness and pleasure in the body, and to base its\n",
      "sense of life upon it.Daniel went to the hallway.Sandra grabbed the milk.The body, being a mental concept formed of\n",
      "false thought, passes away, from sheer lack of a definite principle\n",
      "upon which to rest.Mary went to the bedroom.Daniel left the apple.Therefore the sense of life embodied in it passes\n",
      "away with it.Daniel moved to the office.You know, the ancients had some idea of the cause of\n",
      "disease when they attributed it to demons, for demons at least are\n",
      "mental influences.Daniel travelled to the bedroom.Daniel journeyed to the garden.But then, after that,Where was the apple before the garden? GEN\n",
      "RMT pred: office\n",
      "GPT pred: bedroom gt: office\n",
      "----------------------------------------------------------------------------------------------------\n",
      "### Segment:  Mary went to the office.Mary went to the kitchen.Sandra travelled to the hallway.John took the football.Mary grabbed the milk there.Mary left the milk.John grabbed the milk.Daniel went to the bedroom.Accept, then, my personal thanks, with the dedication of this small\n",
      "Essay.Daniel went back to the kitchen.Sandra travelled to the bedroom.It forms part of the result of many years' study and hardships\n",
      "among the ruined cities of the Incas, in Peru, and of the Mayas in\n",
      "Yucatan.John dropped the football.Mary went to the hallway.John discarded the milk.Daniel went back to the bathroom.Sandra moved to the kitchen.Sandra took the football.John picked up the milk.John put down the milk.Mary moved to the office.Daniel travelled to the bedroom.John picked up the milk.John dropped the milk there.Yours very respectfully,\n",
      "\n",
      "      AUGUSTUS LE PLONGEON, M. D.\n",
      "\n",
      "NEW YORK, _December 15, 1881_.Sandra put down the football.Daniel moved to the bathroom.John grabbed the football.Mary travelled to the bathroom.John went to the bathroom.Daniel travelled to the bedroom.Daniel took the apple there.Entered according to an Act of Congress, in December, 1881,\n",
      "\n",
      "  BY AUGUSTUS LE PLONGEON,\n",
      "\n",
      "  In the Office of the LIBRARIAN OF CONGRESS in Washington, D.C.Sandra travelled to the hallway.John moved to the hallway.Mary journeyed to the bedroom.Daniel dropped the apple.Daniel travelled to the garden.Yucatan is the peninsula which divides the Gulf of Mexico from the\n",
      "Caribbean Sea.Mary got the apple.John put down the football.John took the football.John moved to the bathroom.Mary left the apple.50',\n",
      "of latitude north, and the 88 deg.John left the football.Sandra went back to the bedroom.Mary took the apple there.of longitude west from\n",
      "the Greenwich meridian.John got the football.Sandra travelled to the hallway.John journeyed to the garden.Sandra went back to the kitchen.The whole peninsula is of fossiferous limestone formation.Daniel journeyed to the kitchen.John dropped the football.Elevated a\n",
      "few feet only above the sea, on the coasts, it gradually raises toward\n",
      "the interior, to a maximum height of above 70 feet.Mary travelled to the garden.Daniel got the milk.Mary took the football.Mary left the football.John grabbed the football.Daniel went to the bedroom.Daniel dropped the milk there.Daniel went to the office.Mary dropped the apple.John travelled to the bathroom.A bird's-eye view,\n",
      "from a lofty building, impresses the beholder with the idea that he is\n",
      "looking on an immense sea of verdure, having the horizon for boundary;\n",
      "without a hill, not even a hillock, to break the monotony of the\n",
      "landscape.John moved to the garden.John took the apple.Daniel moved to the hallway.John left the apple.Sandra moved to the office.Mary travelled to the bathroom.John grabbed the apple.Mary journeyed to the hallway.Here and there clusters of palm trees, or artificial mounds,\n",
      "covered with shrubs, loom above the green dead-level as islets, over\n",
      "that expanse of green foliage, affording a momentary relief to the eyes\n",
      "growing tired of so much sameness.Daniel went back to the garden.Daniel moved to the kitchen.Sandra went to the kitchen.John went back to the bedroom.John got the milk.Sandra moved to the bedroom.Daniel went to the bedroom.About fifty miles from the northwestern coast begins a low, narrow range\n",
      "of hills, whose highest point is not much above 500 feet.Daniel went back to the kitchen.Sandra went to the garden.Daniel went to the garden.Sandra went to the bathroom.It traverses\n",
      "the peninsula in a direction a little south from east, commencing a few\n",
      "miles north from the ruined city of Uxmal, and terminating some distance\n",
      "from the eastern coast, opposite to the magnificent bay of Ascension.Sandra moved to the office.John dropped the apple.Daniel journeyed to the kitchen.Mary went back to the office.John left the football there.John went to the garden.Daniel went to the office.John discarded the milk.John journeyed to the bathroom.Lately I have noticed that some veins of red oxide of iron exist among\n",
      "these hills--quarries of marble must also be found there; since the\n",
      "sculptured ornaments that adorn the facade of all the monuments at Uxmal\n",
      "are of thatWhere was the football before the garden? GEN\n",
      "RMT pred: bathroom\n",
      "GPT pred: bedroom gt: bathroom\n",
      "----------------------------------------------------------------------------------------------------\n",
      "### Segment:  Daniel went to the hallway.Daniel got the football there.John went back to the garden.Mary went back to the office.John went to the bathroom.Daniel went back to the bathroom.John travelled to the office.Mary went to the bathroom.Daniel travelled to the office.Sandra went back to the bedroom.DuChaillu[TN-29] in the relation of his voyage to the \"Land of Ashango,\"\n",
      "so closely resemble those of the aborigines of Yucatan as to suggest\n",
      "that intimate relations must have existed, in very remote ages, between\n",
      "their ancestors; if the admixture of African blood, clearly discernible\n",
      "still, among the natives of certain districts of the peninsula, did not\n",
      "place that _fact_ without the peradventure of a doubt.Mary travelled to the kitchen.Mary travelled to the hallway.Sandra travelled to the garden.Sandra travelled to the bedroom.Sandra journeyed to the bathroom.Sandra moved to the office.Mary moved to the bathroom.Mary travelled to the hallway.We also see\n",
      "figures in the mural paintings, at Chichen, with strongly marked African\n",
      "features.Daniel left the football.Daniel took the football.Daniel put down the football.Daniel journeyed to the hallway.John went back to the bedroom.We learned by the discovery of the statue of Chaacmol, and that of the\n",
      "priestess found by me at the foot of the altar in front of the shrine\n",
      "of _Ix-cuina_, the Maya Venus, situated at the south end of _Isla\n",
      "Mugeres_, it was customary with persons of high rank to file their teeth\n",
      "in sharp points like a saw.Mary travelled to the bedroom.Mary picked up the apple.Mary travelled to the garden.Mary went back to the hallway.Mary moved to the bedroom.Sandra took the football there.Mary dropped the apple.We read in the chronicles that this fashion\n",
      "still prevailed after the Spanish conquest; and then by little and\n",
      "little fell into disuse.Mary took the apple.John went back to the bathroom.Sandra left the football.Mary put down the apple there.John went back to the kitchen.Sandra travelled to the hallway.John moved to the office.John grabbed the football.Travelers tells us that it is yet in vogue\n",
      "among many of the tribes in the interior of South America; particularly\n",
      "those whose names seem to connect with the ancient Caribs or Carians.Mary travelled to the bathroom.John left the football.Daniel travelled to the kitchen.John went to the bathroom.Sandra moved to the bedroom.Sandra picked up the apple.Du Chaillu asserts that the Ashangos, those of Otamo, the Apossos, the\n",
      "Fans, and many other tribes of equatorial Africa, consider it a mark of\n",
      "beauty to file their front teeth in a sharp point.Sandra discarded the apple.Daniel journeyed to the bathroom.Sandra picked up the apple.Sandra discarded the apple.Sandra grabbed the apple there.Sandra travelled to the garden.Sandra dropped the apple there.Daniel travelled to the bedroom.John went back to the garden.Sandra travelled to the office.He presents the Fans\n",
      "as confirmed cannibals.John got the apple.Daniel journeyed to the hallway.Sandra moved to the bedroom.John put down the apple.John went back to the bathroom.Sandra journeyed to the bathroom.Sandra journeyed to the garden.Sandra picked up the apple.Mary journeyed to the bedroom.Sandra travelled to the office.Sandra discarded the apple.We are told, and the bas-reliefs on Chaacmol's\n",
      "mausoleum prove it, that the Mayas devoured the hearts of their fallen\n",
      "enemies.Sandra moved to the kitchen.Daniel journeyed to the bathroom.Sandra went back to the bedroom.Mary moved to the garden.John moved to the kitchen.John journeyed to the garden.Daniel travelled to the hallway.Sandra moved to the kitchen.It is said that, on certain grand occasions, after offering the\n",
      "hearts of their victims to the idols, they abandoned the bodies to the\n",
      "people, who feasted upon them.John travelled to the bedroom.Sandra grabbed the milk.Mary journeyed to the hallway.Sandra travelled to the garden.Mary went back to the bathroom.But it must be noticed that these\n",
      "last-mentioned customs seemed to have been introduced in the country by\n",
      "the Nahualts and Aztecs; since, as yet, we haveSandra went to the office.John moved to the garden.Sandra went back to the bathroom.Sandra journeyed to the bedroom.Sandra left the milk there.John journeyed to the office.Where was the milk before the office? GEN\n",
      "RMT pred: garden\n",
      "GPT pred: bathroom gt: garden\n",
      "----------------------------------------------------------------------------------------------------\n",
      "### Segment:  Sandra went to the bedroom.John went back to the hallway.Mary went to the hallway.I found the\n",
      "work simpler than I had hoped; the reasonable things ranged themselves\n",
      "in the order I required, and the foolish things fell aside, and took\n",
      "themselves away so soon as they were looked in the face.Daniel journeyed to the kitchen.I had then,\n",
      "with respect to Venetian architecture, the choice, either to establish\n",
      "each division of law in a separate form, as I came to the features with\n",
      "which it was concerned, or else to ask the reader's patience, while I\n",
      "followed out the general inquiry first, and determined with him a code\n",
      "of right and wrong, to which we might together make retrospective\n",
      "appeal.Mary went to the kitchen.Sandra got the apple.John grabbed the milk.Sandra discarded the apple.Mary went to the bedroom.Daniel travelled to the bathroom.Daniel grabbed the football.Mary went to the kitchen.John put down the milk.I thought this the best, though perhaps the dullest way; and in\n",
      "these first following pages I have therefore endeavored to arrange those\n",
      "foundations of criticism, on which I shall rest in my account of\n",
      "Venetian architecture, in a form clear and simple enough to be\n",
      "intelligible even to those who never thought of architecture before.John went to the bedroom.John went back to the kitchen.Mary moved to the garden.Sandra went to the garden.John went back to the hallway.To\n",
      "those who have, much of what is stated in them will be well known or\n",
      "self-evident; but they must not be indignant at a simplicity on which\n",
      "the whole argument depends for its usefulness.John travelled to the office.Mary journeyed to the office.Mary travelled to the bedroom.Mary travelled to the bathroom.Mary moved to the office.Sandra moved to the kitchen.From that which appears a\n",
      "mere truism when first stated, they will find very singular consequences\n",
      "sometimes following,--consequences altogether unexpected, and of\n",
      "considerable importance; I will not pause here to dwell on their\n",
      "importance, nor on that of the thing itself to be done; for I believe\n",
      "most readers will at once admit the value of a criterion of right and\n",
      "wrong in so practical and costly an art as architecture, and will be apt\n",
      "rather to doubt the possibility of its attainment than dispute its\n",
      "usefulness if attained.Daniel went to the garden.John travelled to the hallway.Daniel put down the football.Daniel took the football.I invite them, therefore, to a fair trial, being\n",
      "certain that even if I should fail in my main purpose, and be unable to\n",
      "induce in my reader the confidence of judgment I desire, I shall at\n",
      "least receive his thanks for the suggestion of consistent reasons, which\n",
      "may determine hesitating choice, or justify involuntary preference.Mary went back to the kitchen.And\n",
      "if I should succeed, as I hope, in making the Stones of Venice\n",
      "touchstones, and detecting, by the mouldering of her marble, poison more\n",
      "subtle than ever was betrayed by the rending of her crystal; and if thus\n",
      "I am enabled to show the baseness of the schools of architecture and\n",
      "nearly every other art, which have for three centuries been predominant\n",
      "in Europe, I believe the result of the inquiry may be serviceable for\n",
      "proof of a more vital truth than any at which I have hitherto hinted.Daniel discarded the football.Mary went back to the bedroom.Daniel got the football.John picked up the milk there.Mary grabbed the apple.Mary moved to the office.Daniel discarded the football.Mary dropped the apple.Sandra went back to the garden.John travelled to the office.For observe: I said the Protestant had despised the arts, and the\n",
      "Rationalist corrupted them.John grabbed the apple there.John left the milk.Daniel journeyed to the bathroom.He\n",
      "boasts that it was the papacy which raised the arts; why could it not\n",
      "support them when it was left to its own strength?Sandra grabbed the football.John got the milk.Mary moved to the garden.How came it to yield\n",
      "to Classicalism which was based on infidelity, and to oppose no barrier\n",
      "to innovations, which have reduced the once faithfully conceived imagery\n",
      "of its worship to stage decoration?John moved to the hallway.John journeyed to the bedroom.Sandra moved to the kitchen.Sandra left the football.Mary went to the office.John put down the milk.Shall we not rather find that\n",
      "Sandra moved to the bathroom.John went back to the office.Mary journeyed to the kitchen.Mary journeyed to the bedroom.Daniel travelled to the hallway.John discarded the apple.Daniel journeyed to the bathroom.Where was the apple before the office? GEN\n",
      "RMT pred: bedroom\n",
      "GPT pred: hallway gt: bedroom\n"
     ]
    }
   ],
   "source": [
    "\n",
    "for ind in rmt_wins:\n",
    "    print('-' * 100)\n",
    "    input_ids = torch.stack([inputs[ind]])\n",
    "    segments = baseline.segment(input_ids=input_ids)\n",
    "\n",
    "    for s in segments:\n",
    "        text = tokenizer.batch_decode(s['input_ids'])[0]\n",
    "        print(\"### Segment: \", text)\n",
    "    print(f\"RMT pred: {pred_texts[ind]}\\nGPT pred: {pred_texts_base[ind]} gt: {target_texts[ind]}\")\n"
   ]
  }
 ],
 "metadata": {
  "kernelspec": {
   "display_name": "Python 3",
   "language": "python",
   "name": "python3"
  },
  "language_info": {
   "codemirror_mode": {
    "name": "ipython",
    "version": 3
   },
   "file_extension": ".py",
   "mimetype": "text/x-python",
   "name": "python",
   "nbconvert_exporter": "python",
   "pygments_lexer": "ipython3",
   "version": "3.10.13"
  }
 },
 "nbformat": 4,
 "nbformat_minor": 2
}
